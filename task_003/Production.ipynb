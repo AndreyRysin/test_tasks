{
 "cells": [
  {
   "cell_type": "markdown",
   "id": "251b5a4f",
   "metadata": {},
   "source": [
    "# Imports and environment"
   ]
  },
  {
   "cell_type": "code",
   "execution_count": 1,
   "id": "214d8d07",
   "metadata": {},
   "outputs": [],
   "source": [
    "import sys\n",
    "sys.path.append('.')\n",
    "from src import *"
   ]
  },
  {
   "cell_type": "code",
   "execution_count": 2,
   "id": "e2e181a7",
   "metadata": {},
   "outputs": [],
   "source": [
    "path_root = '.'\n",
    "path_court = os.path.join(path_root, 'court_cases_sample', 'success')"
   ]
  },
  {
   "cell_type": "markdown",
   "id": "7cf3bf10",
   "metadata": {},
   "source": [
    "# Reading the filenames"
   ]
  },
  {
   "cell_type": "code",
   "execution_count": 3,
   "id": "b1cff1d3",
   "metadata": {},
   "outputs": [
    {
     "data": {
      "text/plain": [
       "['1001003743.pkl',\n",
       " '1001227084.pkl',\n",
       " '1020010136_b.pkl',\n",
       " '1203000142_b.pkl',\n",
       " '1214002504.pkl']"
      ]
     },
     "execution_count": 3,
     "metadata": {},
     "output_type": "execute_result"
    }
   ],
   "source": [
    "filenames = listdir_without_ipynb_checkpoints(path_court)\n",
    "i = 0\n",
    "while i < len(filenames):\n",
    "    if '.pkl' not in filenames[i]:\n",
    "        del filenames[i]\n",
    "    else:\n",
    "        i += 1\n",
    "filenames[:5]"
   ]
  },
  {
   "cell_type": "markdown",
   "id": "2e25eb7a",
   "metadata": {},
   "source": [
    "# Automatic testing"
   ]
  },
  {
   "cell_type": "code",
   "execution_count": 4,
   "id": "8029d547",
   "metadata": {},
   "outputs": [],
   "source": [
    "bp = Bankruptcy_prediction(path_root)\n",
    "bp.load_models()\n",
    "bp.load_tables('df_accounts_sample.csv', 'df_bankruptcies_sample.csv')"
   ]
  },
  {
   "cell_type": "code",
   "execution_count": 5,
   "id": "052a40ad",
   "metadata": {},
   "outputs": [
    {
     "name": "stdout",
     "output_type": "stream",
     "text": [
      "Bankruptcy probability: 0.14442\n",
      "There is no such INN in the account table.\n",
      "Bankruptcy probability: 0.91514\n",
      "Bankruptcy probability: 0.86198\n",
      "There is no such INN in the account table.\n",
      "Bankruptcy probability: 0.91045\n",
      "Bankruptcy probability: 0.90783\n",
      "Bankruptcy probability: 0.86964\n",
      "Bankruptcy probability: 0.45736\n",
      "There is no such INN in the account table.\n",
      "Bankruptcy probability: 0.90122\n",
      "There is no such INN in the account table.\n",
      "Bankruptcy probability: 0.83282\n",
      "Bankruptcy probability: 0.59641\n",
      "Bankruptcy probability: 0.87879\n",
      "Bankruptcy probability: 0.40589\n",
      "Bankruptcy probability: 0.39711\n",
      "Bankruptcy probability: 0.85346\n",
      "Bankruptcy probability: 0.85961\n",
      "Bankruptcy probability: 0.15878\n",
      "Bankruptcy probability: 0.82078\n",
      "Bankruptcy probability: 0.87190\n",
      "Bankruptcy probability: 0.87452\n",
      "Bankruptcy probability: 0.68864\n",
      "Bankruptcy probability: 0.78650\n",
      "Bankruptcy probability: 0.20264\n",
      "There is no such INN in the account table.\n",
      "The year of bankruptcy is wrong.\n",
      "There is no such INN in the account table.\n",
      "Bankruptcy probability: 0.83022\n",
      "Bankruptcy probability: 0.92518\n",
      "Bankruptcy probability: 0.92475\n",
      "Bankruptcy probability: 0.85235\n",
      "Bankruptcy probability: 0.75952\n",
      "Bankruptcy probability: 0.38617\n",
      "Bankruptcy probability: 0.20524\n",
      "Bankruptcy probability: 0.82139\n",
      "The year of bankruptcy is wrong.\n",
      "Bankruptcy probability: 0.90582\n",
      "Bankruptcy probability: 0.15641\n",
      "Bankruptcy probability: 0.50077\n",
      "Bankruptcy probability: 0.22372\n",
      "Bankruptcy probability: 0.24211\n",
      "Bankruptcy probability: 0.90832\n",
      "Bankruptcy probability: 0.87462\n",
      "Bankruptcy probability: 0.85679\n",
      "The year of bankruptcy is wrong.\n",
      "There is no such INN in the account table.\n",
      "Bankruptcy probability: 0.87717\n",
      "Bankruptcy probability: 0.78413\n",
      "Bankruptcy probability: 0.40518\n",
      "Bankruptcy probability: 0.85154\n",
      "Bankruptcy probability: 0.75492\n",
      "The year of bankruptcy is wrong.\n",
      "Bankruptcy probability: 0.91837\n",
      "Bankruptcy probability: 0.73891\n",
      "Bankruptcy probability: 0.55293\n",
      "Bankruptcy probability: 0.15969\n",
      "Bankruptcy probability: 0.17365\n",
      "There is no such INN in the account table.\n",
      "Bankruptcy probability: 0.39044\n",
      "Bankruptcy probability: 0.79571\n",
      "There is no such INN in the account table.\n",
      "Bankruptcy probability: 0.11133\n",
      "Bankruptcy probability: 0.90552\n",
      "Bankruptcy probability: 0.17070\n",
      "Bankruptcy probability: 0.37229\n",
      "Bankruptcy probability: 0.18812\n",
      "Bankruptcy probability: 0.89657\n",
      "Bankruptcy probability: 0.52332\n",
      "The year of bankruptcy is wrong.\n",
      "Bankruptcy probability: 0.89330\n",
      "Bankruptcy probability: 0.82555\n",
      "Bankruptcy probability: 0.41468\n",
      "Bankruptcy probability: 0.83987\n",
      "Bankruptcy probability: 0.14760\n",
      "Bankruptcy probability: 0.18873\n",
      "The year of bankruptcy is wrong.\n",
      "Bankruptcy probability: 0.92547\n",
      "Bankruptcy probability: 0.61834\n",
      "Bankruptcy probability: 0.14399\n",
      "Bankruptcy probability: 0.87256\n",
      "Bankruptcy probability: 0.82815\n",
      "Bankruptcy probability: 0.87959\n",
      "The year of bankruptcy is wrong.\n",
      "Bankruptcy probability: 0.88808\n",
      "There is no such INN in the account table.\n",
      "Bankruptcy probability: 0.22939\n",
      "There is no such INN in the account table.\n",
      "Bankruptcy probability: 0.85965\n",
      "There is no such INN in the account table.\n",
      "Bankruptcy probability: 0.62416\n",
      "There is no such INN in the account table.\n",
      "The year of bankruptcy is wrong.\n",
      "Bankruptcy probability: 0.87187\n",
      "Bankruptcy probability: 0.92702\n",
      "Bankruptcy probability: 0.83705\n",
      "There is no such INN in the account table.\n",
      "There is no such INN in the account table.\n",
      "Bankruptcy probability: 0.87618\n",
      "Bankruptcy probability: 0.17785\n",
      "Bankruptcy probability: 0.85008\n",
      "Bankruptcy probability: 0.90766\n",
      "Bankruptcy probability: 0.90346\n",
      "Bankruptcy probability: 0.80485\n",
      "There is no such INN in the account table.\n",
      "Bankruptcy probability: 0.67333\n",
      "Bankruptcy probability: 0.49315\n",
      "Bankruptcy probability: 0.89444\n",
      "Bankruptcy probability: 0.86847\n",
      "Bankruptcy probability: 0.80277\n",
      "Bankruptcy probability: 0.90111\n",
      "The year of bankruptcy is wrong.\n",
      "The year of bankruptcy is wrong.\n",
      "Bankruptcy probability: 0.79474\n",
      "Bankruptcy probability: 0.89969\n",
      "Bankruptcy probability: 0.86560\n",
      "Bankruptcy probability: 0.13787\n",
      "There is no such INN in the account table.\n",
      "Bankruptcy probability: 0.20253\n",
      "Bankruptcy probability: 0.89145\n",
      "Bankruptcy probability: 0.18288\n",
      "Bankruptcy probability: 0.17878\n",
      "There is no such INN in the account table.\n",
      "Bankruptcy probability: 0.66688\n",
      "There is no such INN in the account table.\n",
      "Bankruptcy probability: 0.86155\n",
      "Bankruptcy probability: 0.86054\n",
      "Bankruptcy probability: 0.37087\n",
      "Bankruptcy probability: 0.83438\n",
      "Bankruptcy probability: 0.86295\n",
      "The year of bankruptcy is wrong.\n",
      "Bankruptcy probability: 0.87770\n",
      "Bankruptcy probability: 0.15280\n",
      "Bankruptcy probability: 0.28173\n",
      "Bankruptcy probability: 0.80313\n",
      "Bankruptcy probability: 0.87611\n",
      "Bankruptcy probability: 0.89622\n",
      "Bankruptcy probability: 0.35605\n",
      "Bankruptcy probability: 0.67454\n",
      "There is no such INN in the account table.\n",
      "Bankruptcy probability: 0.74452\n",
      "Bankruptcy probability: 0.87975\n",
      "Bankruptcy probability: 0.92267\n",
      "Bankruptcy probability: 0.39933\n",
      "Bankruptcy probability: 0.89030\n",
      "Bankruptcy probability: 0.86948\n",
      "Bankruptcy probability: 0.88892\n",
      "Bankruptcy probability: 0.40434\n",
      "Bankruptcy probability: 0.18297\n",
      "Bankruptcy probability: 0.78138\n",
      "Bankruptcy probability: 0.86268\n",
      "Bankruptcy probability: 0.85296\n",
      "Bankruptcy probability: 0.91531\n",
      "There is no such INN in the account table.\n",
      "Bankruptcy probability: 0.23238\n",
      "Bankruptcy probability: 0.26080\n",
      "Bankruptcy probability: 0.85401\n",
      "Bankruptcy probability: 0.89303\n",
      "Bankruptcy probability: 0.43217\n",
      "Bankruptcy probability: 0.79785\n",
      "There is no such INN in the account table.\n",
      "Bankruptcy probability: 0.68278\n",
      "Bankruptcy probability: 0.41006\n",
      "There is no such INN in the account table.\n",
      "Bankruptcy probability: 0.19421\n",
      "Bankruptcy probability: 0.88541\n",
      "Bankruptcy probability: 0.78486\n",
      "There is no such INN in the account table.\n",
      "There is no such INN in the account table.\n",
      "Bankruptcy probability: 0.75548\n",
      "Bankruptcy probability: 0.87840\n",
      "Bankruptcy probability: 0.90856\n",
      "Bankruptcy probability: 0.72752\n",
      "Bankruptcy probability: 0.76881\n",
      "Bankruptcy probability: 0.84577\n",
      "Bankruptcy probability: 0.82537\n",
      "Bankruptcy probability: 0.42997\n",
      "Bankruptcy probability: 0.89293\n",
      "Bankruptcy probability: 0.29368\n",
      "There is no such INN in the account table.\n",
      "Bankruptcy probability: 0.48615\n",
      "Bankruptcy probability: 0.90246\n",
      "Bankruptcy probability: 0.21117\n",
      "Bankruptcy probability: 0.63724\n",
      "There is no such INN in the account table.\n",
      "Bankruptcy probability: 0.25253\n",
      "Bankruptcy probability: 0.62250\n",
      "Bankruptcy probability: 0.88928\n",
      "Bankruptcy probability: 0.19639\n",
      "The year of bankruptcy is wrong.\n",
      "Bankruptcy probability: 0.91347\n",
      "Bankruptcy probability: 0.72556\n"
     ]
    }
   ],
   "source": [
    "for filename in filenames:\n",
    "    bp.load_court_file(path_court, filename)\n",
    "    bp.predict()\n",
    "    bp.get_prediction(return_proba=False)"
   ]
  },
  {
   "cell_type": "markdown",
   "id": "61730838",
   "metadata": {},
   "source": [
    "# Manual testing"
   ]
  },
  {
   "cell_type": "markdown",
   "id": "a1783fd8",
   "metadata": {},
   "source": [
    "Here you are welcome to test the program on your own.\n",
    "\n",
    "The documentation is available with .\\__doc__ method, or you can read it in the code source."
   ]
  },
  {
   "cell_type": "code",
   "execution_count": 6,
   "id": "10cd5d38",
   "metadata": {},
   "outputs": [],
   "source": [
    "bp = Bankruptcy_prediction(path_root)\n",
    "bp.load_models()\n",
    "bp.load_tables('df_accounts_sample.csv', 'df_bankruptcies_sample.csv')"
   ]
  },
  {
   "cell_type": "code",
   "execution_count": 7,
   "id": "bcb5df02",
   "metadata": {},
   "outputs": [
    {
     "name": "stdout",
     "output_type": "stream",
     "text": [
      "Bankruptcy probability: 0.14442\n"
     ]
    }
   ],
   "source": [
    "file_number = 0\n",
    "\n",
    "bp.load_court_file(path_court, filenames[file_number])\n",
    "bp.predict()\n",
    "proba = bp.get_prediction()"
   ]
  },
  {
   "cell_type": "code",
   "execution_count": 8,
   "id": "4bb96f04",
   "metadata": {},
   "outputs": [
    {
     "data": {
      "text/plain": [
       "0.14441799660028468"
      ]
     },
     "execution_count": 8,
     "metadata": {},
     "output_type": "execute_result"
    }
   ],
   "source": [
    "proba"
   ]
  },
  {
   "cell_type": "code",
   "execution_count": 9,
   "id": "1cf0dd8b",
   "metadata": {},
   "outputs": [
    {
     "name": "stdout",
     "output_type": "stream",
     "text": [
      "\n",
      "        Displays the prediction properly.\n",
      "        Optionally, returns the probability of the positive class (the\n",
      "        probabilily of bankruptcy).\n",
      "\n",
      "        return_proba : bool, default = True\n",
      "            If True, returns the probability; if False, nothing is returned.\n",
      "\n",
      "        return : float\n",
      "            The probability of the positive class (bankruptcy).\n",
      "        \n"
     ]
    }
   ],
   "source": [
    "print(bp.get_prediction.__doc__)"
   ]
  }
 ],
 "metadata": {
  "kernelspec": {
   "display_name": "Python 3",
   "language": "python",
   "name": "python3"
  },
  "language_info": {
   "codemirror_mode": {
    "name": "ipython",
    "version": 3
   },
   "file_extension": ".py",
   "mimetype": "text/x-python",
   "name": "python",
   "nbconvert_exporter": "python",
   "pygments_lexer": "ipython3",
   "version": "3.8.5"
  }
 },
 "nbformat": 4,
 "nbformat_minor": 5
}
