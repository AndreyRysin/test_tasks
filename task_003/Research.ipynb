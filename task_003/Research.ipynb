{
 "cells": [
  {
   "cell_type": "markdown",
   "id": "3732057a",
   "metadata": {},
   "source": [
    "# Imports and environment"
   ]
  },
  {
   "cell_type": "code",
   "execution_count": 1,
   "id": "577715dc",
   "metadata": {},
   "outputs": [],
   "source": [
    "import pandas as pd\n",
    "import numpy as np\n",
    "from matplotlib import pyplot as plt\n",
    "import seaborn as sns\n",
    "import pickle\n",
    "import os\n",
    "from datetime import datetime\n",
    "from sklearn.model_selection import train_test_split, ParameterGrid\n",
    "from tqdm import tqdm\n",
    "import warnings\n",
    "from IPython.display import display as disp"
   ]
  },
  {
   "cell_type": "code",
   "execution_count": 2,
   "id": "f8558f39",
   "metadata": {},
   "outputs": [],
   "source": [
    "import sys\n",
    "sys.path.append('.')\n",
    "from src import *"
   ]
  },
  {
   "cell_type": "code",
   "execution_count": 3,
   "id": "d420596f",
   "metadata": {},
   "outputs": [],
   "source": [
    "pd.set_option('display.max_columns', 1000)\n",
    "pd.set_option('display.max_rows', 200)\n",
    "\n",
    "sns.set()\n",
    "warnings.filterwarnings('ignore')"
   ]
  },
  {
   "cell_type": "markdown",
   "id": "b8f51fd7",
   "metadata": {},
   "source": [
    "# Загрузка данных"
   ]
  },
  {
   "cell_type": "code",
   "execution_count": 4,
   "id": "f0895a55",
   "metadata": {},
   "outputs": [],
   "source": [
    "path_root = '.'\n",
    "path_court = os.path.join(path_root, 'court_cases_sample', 'success')"
   ]
  },
  {
   "cell_type": "code",
   "execution_count": 5,
   "id": "fd55624d",
   "metadata": {},
   "outputs": [],
   "source": [
    "df_acc = pd.read_csv(os.path.join(path_root, 'df_accounts_sample.csv'))\n",
    "df_bank = pd.read_csv(os.path.join(path_root, 'df_bankruptcies_sample.csv'))"
   ]
  },
  {
   "cell_type": "markdown",
   "id": "2c56660e",
   "metadata": {},
   "source": [
    "# Обзор и предобработка"
   ]
  },
  {
   "cell_type": "markdown",
   "id": "bee13690",
   "metadata": {},
   "source": [
    "## Таблица accounts"
   ]
  },
  {
   "cell_type": "markdown",
   "id": "c9fdf690",
   "metadata": {},
   "source": [
    "### Обзор"
   ]
  },
  {
   "cell_type": "code",
   "execution_count": 6,
   "id": "3fbc4d14",
   "metadata": {},
   "outputs": [
    {
     "data": {
      "text/html": [
       "<div>\n",
       "<style scoped>\n",
       "    .dataframe tbody tr th:only-of-type {\n",
       "        vertical-align: middle;\n",
       "    }\n",
       "\n",
       "    .dataframe tbody tr th {\n",
       "        vertical-align: top;\n",
       "    }\n",
       "\n",
       "    .dataframe thead th {\n",
       "        text-align: right;\n",
       "    }\n",
       "</style>\n",
       "<table border=\"1\" class=\"dataframe\">\n",
       "  <thead>\n",
       "    <tr style=\"text-align: right;\">\n",
       "      <th></th>\n",
       "      <th>Unnamed: 0</th>\n",
       "      <th>inn</th>\n",
       "      <th>year</th>\n",
       "      <th>long_term_liabilities_fiscal_year</th>\n",
       "      <th>short_term_liabilities_fiscal_year</th>\n",
       "      <th>balance_assets_fiscal_year</th>\n",
       "      <th>okei</th>\n",
       "    </tr>\n",
       "  </thead>\n",
       "  <tbody>\n",
       "    <tr>\n",
       "      <th>0</th>\n",
       "      <td>0</td>\n",
       "      <td>2465002653</td>\n",
       "      <td>2012</td>\n",
       "      <td>0.0</td>\n",
       "      <td>113756</td>\n",
       "      <td>122240</td>\n",
       "      <td>384</td>\n",
       "    </tr>\n",
       "    <tr>\n",
       "      <th>1</th>\n",
       "      <td>1</td>\n",
       "      <td>3505003270</td>\n",
       "      <td>2012</td>\n",
       "      <td>21461.0</td>\n",
       "      <td>20211</td>\n",
       "      <td>81132</td>\n",
       "      <td>384</td>\n",
       "    </tr>\n",
       "    <tr>\n",
       "      <th>2</th>\n",
       "      <td>2</td>\n",
       "      <td>3517003250</td>\n",
       "      <td>2012</td>\n",
       "      <td>0.0</td>\n",
       "      <td>0</td>\n",
       "      <td>48063</td>\n",
       "      <td>384</td>\n",
       "    </tr>\n",
       "    <tr>\n",
       "      <th>3</th>\n",
       "      <td>3</td>\n",
       "      <td>5501078737</td>\n",
       "      <td>2012</td>\n",
       "      <td>0.0</td>\n",
       "      <td>288763</td>\n",
       "      <td>419522</td>\n",
       "      <td>384</td>\n",
       "    </tr>\n",
       "    <tr>\n",
       "      <th>4</th>\n",
       "      <td>4</td>\n",
       "      <td>6140019517</td>\n",
       "      <td>2012</td>\n",
       "      <td>0.0</td>\n",
       "      <td>0</td>\n",
       "      <td>11089</td>\n",
       "      <td>384</td>\n",
       "    </tr>\n",
       "  </tbody>\n",
       "</table>\n",
       "</div>"
      ],
      "text/plain": [
       "   Unnamed: 0         inn  year  long_term_liabilities_fiscal_year  \\\n",
       "0           0  2465002653  2012                                0.0   \n",
       "1           1  3505003270  2012                            21461.0   \n",
       "2           2  3517003250  2012                                0.0   \n",
       "3           3  5501078737  2012                                0.0   \n",
       "4           4  6140019517  2012                                0.0   \n",
       "\n",
       "   short_term_liabilities_fiscal_year  balance_assets_fiscal_year  okei  \n",
       "0                              113756                      122240   384  \n",
       "1                               20211                       81132   384  \n",
       "2                                   0                       48063   384  \n",
       "3                              288763                      419522   384  \n",
       "4                                   0                       11089   384  "
      ]
     },
     "execution_count": 6,
     "metadata": {},
     "output_type": "execute_result"
    }
   ],
   "source": [
    "df_acc.head()"
   ]
  },
  {
   "cell_type": "code",
   "execution_count": 7,
   "id": "2829de92",
   "metadata": {},
   "outputs": [
    {
     "name": "stdout",
     "output_type": "stream",
     "text": [
      "<class 'pandas.core.frame.DataFrame'>\n",
      "RangeIndex: 1035 entries, 0 to 1034\n",
      "Data columns (total 7 columns):\n",
      " #   Column                              Non-Null Count  Dtype  \n",
      "---  ------                              --------------  -----  \n",
      " 0   Unnamed: 0                          1035 non-null   int64  \n",
      " 1   inn                                 1035 non-null   int64  \n",
      " 2   year                                1035 non-null   int64  \n",
      " 3   long_term_liabilities_fiscal_year   960 non-null    float64\n",
      " 4   short_term_liabilities_fiscal_year  1035 non-null   int64  \n",
      " 5   balance_assets_fiscal_year          1035 non-null   int64  \n",
      " 6   okei                                1035 non-null   int64  \n",
      "dtypes: float64(1), int64(6)\n",
      "memory usage: 56.7 KB\n"
     ]
    }
   ],
   "source": [
    "df_acc.info()"
   ]
  },
  {
   "cell_type": "code",
   "execution_count": 8,
   "id": "51e00b3c",
   "metadata": {},
   "outputs": [],
   "source": [
    "df_acc = df_acc.drop(columns='Unnamed: 0')"
   ]
  },
  {
   "cell_type": "markdown",
   "id": "270ed08c",
   "metadata": {},
   "source": [
    "В столбце long_term_liabilities_fiscal_year имеются пропуски."
   ]
  },
  {
   "cell_type": "code",
   "execution_count": 9,
   "id": "6e30f9d8",
   "metadata": {},
   "outputs": [
    {
     "data": {
      "text/html": [
       "<div>\n",
       "<style scoped>\n",
       "    .dataframe tbody tr th:only-of-type {\n",
       "        vertical-align: middle;\n",
       "    }\n",
       "\n",
       "    .dataframe tbody tr th {\n",
       "        vertical-align: top;\n",
       "    }\n",
       "\n",
       "    .dataframe thead th {\n",
       "        text-align: right;\n",
       "    }\n",
       "</style>\n",
       "<table border=\"1\" class=\"dataframe\">\n",
       "  <thead>\n",
       "    <tr style=\"text-align: right;\">\n",
       "      <th></th>\n",
       "      <th>inn</th>\n",
       "      <th>year</th>\n",
       "      <th>long_term_liabilities_fiscal_year</th>\n",
       "      <th>short_term_liabilities_fiscal_year</th>\n",
       "      <th>balance_assets_fiscal_year</th>\n",
       "      <th>okei</th>\n",
       "    </tr>\n",
       "  </thead>\n",
       "  <tbody>\n",
       "    <tr>\n",
       "      <th>894</th>\n",
       "      <td>1001003743</td>\n",
       "      <td>2019</td>\n",
       "      <td>NaN</td>\n",
       "      <td>4330</td>\n",
       "      <td>3930</td>\n",
       "      <td>384</td>\n",
       "    </tr>\n",
       "    <tr>\n",
       "      <th>898</th>\n",
       "      <td>1508000122</td>\n",
       "      <td>2020</td>\n",
       "      <td>NaN</td>\n",
       "      <td>9232</td>\n",
       "      <td>44018</td>\n",
       "      <td>384</td>\n",
       "    </tr>\n",
       "    <tr>\n",
       "      <th>899</th>\n",
       "      <td>1514013426</td>\n",
       "      <td>2019</td>\n",
       "      <td>NaN</td>\n",
       "      <td>96561</td>\n",
       "      <td>34354</td>\n",
       "      <td>384</td>\n",
       "    </tr>\n",
       "    <tr>\n",
       "      <th>900</th>\n",
       "      <td>1514013426</td>\n",
       "      <td>2020</td>\n",
       "      <td>NaN</td>\n",
       "      <td>124886</td>\n",
       "      <td>42322</td>\n",
       "      <td>384</td>\n",
       "    </tr>\n",
       "    <tr>\n",
       "      <th>902</th>\n",
       "      <td>1822000100</td>\n",
       "      <td>2019</td>\n",
       "      <td>NaN</td>\n",
       "      <td>6436</td>\n",
       "      <td>756</td>\n",
       "      <td>384</td>\n",
       "    </tr>\n",
       "  </tbody>\n",
       "</table>\n",
       "</div>"
      ],
      "text/plain": [
       "            inn  year  long_term_liabilities_fiscal_year  \\\n",
       "894  1001003743  2019                                NaN   \n",
       "898  1508000122  2020                                NaN   \n",
       "899  1514013426  2019                                NaN   \n",
       "900  1514013426  2020                                NaN   \n",
       "902  1822000100  2019                                NaN   \n",
       "\n",
       "     short_term_liabilities_fiscal_year  balance_assets_fiscal_year  okei  \n",
       "894                                4330                        3930   384  \n",
       "898                                9232                       44018   384  \n",
       "899                               96561                       34354   384  \n",
       "900                              124886                       42322   384  \n",
       "902                                6436                         756   384  "
      ]
     },
     "execution_count": 9,
     "metadata": {},
     "output_type": "execute_result"
    }
   ],
   "source": [
    "df_acc[df_acc['long_term_liabilities_fiscal_year'].isna()].head()"
   ]
  },
  {
   "cell_type": "code",
   "execution_count": 10,
   "id": "e9996c5c",
   "metadata": {},
   "outputs": [
    {
     "data": {
      "text/plain": [
       "75"
      ]
     },
     "execution_count": 10,
     "metadata": {},
     "output_type": "execute_result"
    }
   ],
   "source": [
    "df_acc[df_acc['long_term_liabilities_fiscal_year'].isna()].shape[0]"
   ]
  },
  {
   "cell_type": "markdown",
   "id": "ab7c3352",
   "metadata": {},
   "source": [
    "### Обработка столбцов, приведение типов"
   ]
  },
  {
   "cell_type": "markdown",
   "id": "ddc68c5e",
   "metadata": {},
   "source": [
    "Для удобства переименуем столбцы."
   ]
  },
  {
   "cell_type": "code",
   "execution_count": 11,
   "id": "ad7f5bf6",
   "metadata": {},
   "outputs": [],
   "source": [
    "df_acc = column_renaming(\n",
    "    df_acc,\n",
    "    {\n",
    "        'long_term_liabilities_fiscal_year': 'long',\n",
    "        'short_term_liabilities_fiscal_year': 'short',\n",
    "        'balance_assets_fiscal_year': 'balance',\n",
    "    }\n",
    ")"
   ]
  },
  {
   "cell_type": "markdown",
   "id": "67d158e5",
   "metadata": {},
   "source": [
    "Выполним приведение типов.\n",
    "\n",
    "Категориальные переменные пока будем приводить к типу int (для удобства манипулирования таблицами), а к типу category приведём их позже - на этапе формирования выборок для обучения."
   ]
  },
  {
   "cell_type": "code",
   "execution_count": 12,
   "id": "b4360ec3",
   "metadata": {},
   "outputs": [],
   "source": [
    "df_acc[['long', 'short', 'balance']] = df_acc[['long', 'short', 'balance']].astype('float')\n",
    "df_acc['inn'] = df_acc['inn'].astype('int')"
   ]
  },
  {
   "cell_type": "code",
   "execution_count": 13,
   "id": "a01b8436",
   "metadata": {},
   "outputs": [
    {
     "name": "stdout",
     "output_type": "stream",
     "text": [
      "<class 'pandas.core.frame.DataFrame'>\n",
      "RangeIndex: 1035 entries, 0 to 1034\n",
      "Data columns (total 6 columns):\n",
      " #   Column   Non-Null Count  Dtype  \n",
      "---  ------   --------------  -----  \n",
      " 0   inn      1035 non-null   int64  \n",
      " 1   year     1035 non-null   int64  \n",
      " 2   long     960 non-null    float64\n",
      " 3   short    1035 non-null   float64\n",
      " 4   balance  1035 non-null   float64\n",
      " 5   okei     1035 non-null   int64  \n",
      "dtypes: float64(3), int64(3)\n",
      "memory usage: 48.6 KB\n"
     ]
    }
   ],
   "source": [
    "df_acc.info()"
   ]
  },
  {
   "cell_type": "markdown",
   "id": "d139b401",
   "metadata": {},
   "source": [
    "Применим и удалим столбец okei."
   ]
  },
  {
   "cell_type": "code",
   "execution_count": 14,
   "id": "d21d32c4",
   "metadata": {},
   "outputs": [
    {
     "data": {
      "text/plain": [
       "384    1031\n",
       "383       4\n",
       "Name: okei, dtype: int64"
      ]
     },
     "execution_count": 14,
     "metadata": {},
     "output_type": "execute_result"
    }
   ],
   "source": [
    "df_acc['okei'].value_counts()"
   ]
  },
  {
   "cell_type": "code",
   "execution_count": 15,
   "id": "acd5de26",
   "metadata": {},
   "outputs": [],
   "source": [
    "df_acc['okei'] = (\n",
    "    df_acc['okei']\n",
    "    .where(df_acc['okei'] != 383, 1)\n",
    "    .where(df_acc['okei'] != 384, 1000)\n",
    "    .where(df_acc['okei'] != 385, 1000000)\n",
    ")\n",
    "df_acc[['long', 'short', 'balance']] = df_acc[['long', 'short', 'balance']].apply(\n",
    "    lambda x: x * df_acc['okei']\n",
    ")\n",
    "df_acc = df_acc.drop(columns='okei')"
   ]
  },
  {
   "cell_type": "markdown",
   "id": "273b253d",
   "metadata": {},
   "source": [
    "### Пропуски"
   ]
  },
  {
   "cell_type": "markdown",
   "id": "c187627d",
   "metadata": {},
   "source": [
    "Проанализируем пропуски."
   ]
  },
  {
   "cell_type": "code",
   "execution_count": 16,
   "id": "3696df88",
   "metadata": {},
   "outputs": [
    {
     "data": {
      "text/plain": [
       "0.26506024096385544"
      ]
     },
     "metadata": {},
     "output_type": "display_data"
    },
    {
     "data": {
      "text/html": [
       "<div>\n",
       "<style scoped>\n",
       "    .dataframe tbody tr th:only-of-type {\n",
       "        vertical-align: middle;\n",
       "    }\n",
       "\n",
       "    .dataframe tbody tr th {\n",
       "        vertical-align: top;\n",
       "    }\n",
       "\n",
       "    .dataframe thead th {\n",
       "        text-align: right;\n",
       "    }\n",
       "</style>\n",
       "<table border=\"1\" class=\"dataframe\">\n",
       "  <thead>\n",
       "    <tr style=\"text-align: right;\">\n",
       "      <th></th>\n",
       "      <th>inn</th>\n",
       "      <th>year</th>\n",
       "      <th>long</th>\n",
       "      <th>short</th>\n",
       "      <th>balance</th>\n",
       "    </tr>\n",
       "  </thead>\n",
       "  <tbody>\n",
       "    <tr>\n",
       "      <th>894</th>\n",
       "      <td>1001003743</td>\n",
       "      <td>2019</td>\n",
       "      <td>NaN</td>\n",
       "      <td>4330000.0</td>\n",
       "      <td>3930000.0</td>\n",
       "    </tr>\n",
       "    <tr>\n",
       "      <th>898</th>\n",
       "      <td>1508000122</td>\n",
       "      <td>2020</td>\n",
       "      <td>NaN</td>\n",
       "      <td>9232000.0</td>\n",
       "      <td>44018000.0</td>\n",
       "    </tr>\n",
       "    <tr>\n",
       "      <th>899</th>\n",
       "      <td>1514013426</td>\n",
       "      <td>2019</td>\n",
       "      <td>NaN</td>\n",
       "      <td>96561000.0</td>\n",
       "      <td>34354000.0</td>\n",
       "    </tr>\n",
       "    <tr>\n",
       "      <th>900</th>\n",
       "      <td>1514013426</td>\n",
       "      <td>2020</td>\n",
       "      <td>NaN</td>\n",
       "      <td>124886000.0</td>\n",
       "      <td>42322000.0</td>\n",
       "    </tr>\n",
       "    <tr>\n",
       "      <th>902</th>\n",
       "      <td>1822000100</td>\n",
       "      <td>2019</td>\n",
       "      <td>NaN</td>\n",
       "      <td>6436000.0</td>\n",
       "      <td>756000.0</td>\n",
       "    </tr>\n",
       "    <tr>\n",
       "      <th>903</th>\n",
       "      <td>1822000100</td>\n",
       "      <td>2020</td>\n",
       "      <td>NaN</td>\n",
       "      <td>6436000.0</td>\n",
       "      <td>756000.0</td>\n",
       "    </tr>\n",
       "    <tr>\n",
       "      <th>904</th>\n",
       "      <td>1822000100</td>\n",
       "      <td>2020</td>\n",
       "      <td>NaN</td>\n",
       "      <td>6082000.0</td>\n",
       "      <td>747000.0</td>\n",
       "    </tr>\n",
       "    <tr>\n",
       "      <th>907</th>\n",
       "      <td>2107004611</td>\n",
       "      <td>2019</td>\n",
       "      <td>NaN</td>\n",
       "      <td>8802000.0</td>\n",
       "      <td>8967000.0</td>\n",
       "    </tr>\n",
       "    <tr>\n",
       "      <th>908</th>\n",
       "      <td>2107004611</td>\n",
       "      <td>2020</td>\n",
       "      <td>NaN</td>\n",
       "      <td>8802000.0</td>\n",
       "      <td>8967000.0</td>\n",
       "    </tr>\n",
       "    <tr>\n",
       "      <th>909</th>\n",
       "      <td>2111008200</td>\n",
       "      <td>2020</td>\n",
       "      <td>NaN</td>\n",
       "      <td>12704000.0</td>\n",
       "      <td>252000.0</td>\n",
       "    </tr>\n",
       "  </tbody>\n",
       "</table>\n",
       "</div>"
      ],
      "text/plain": [
       "            inn  year  long        short     balance\n",
       "894  1001003743  2019   NaN    4330000.0   3930000.0\n",
       "898  1508000122  2020   NaN    9232000.0  44018000.0\n",
       "899  1514013426  2019   NaN   96561000.0  34354000.0\n",
       "900  1514013426  2020   NaN  124886000.0  42322000.0\n",
       "902  1822000100  2019   NaN    6436000.0    756000.0\n",
       "903  1822000100  2020   NaN    6436000.0    756000.0\n",
       "904  1822000100  2020   NaN    6082000.0    747000.0\n",
       "907  2107004611  2019   NaN    8802000.0   8967000.0\n",
       "908  2107004611  2020   NaN    8802000.0   8967000.0\n",
       "909  2111008200  2020   NaN   12704000.0    252000.0"
      ]
     },
     "metadata": {},
     "output_type": "display_data"
    }
   ],
   "source": [
    "disp(df_acc[df_acc['long'].isna()]['inn'].unique().shape[0] / df_acc['inn'].unique().shape[0])\n",
    "disp(df_acc[df_acc['long'].isna()].head(10))"
   ]
  },
  {
   "cell_type": "markdown",
   "id": "8dcf6b70",
   "metadata": {},
   "source": [
    "По 26,5% компаниям имеются случаи отсутствия данных по долгосрочным обязательствам."
   ]
  },
  {
   "cell_type": "code",
   "execution_count": 17,
   "id": "9ee79b80",
   "metadata": {},
   "outputs": [
    {
     "data": {
      "text/plain": [
       "array([2019, 2020])"
      ]
     },
     "execution_count": 17,
     "metadata": {},
     "output_type": "execute_result"
    }
   ],
   "source": [
    "df_acc[df_acc['long'].isna()]['year'].unique()"
   ]
  },
  {
   "cell_type": "markdown",
   "id": "e202f176",
   "metadata": {},
   "source": [
    "Данные отсутствуют только за 2019 или за 2020 год.\n",
    "\n",
    "Посмотрим подробнее."
   ]
  },
  {
   "cell_type": "code",
   "execution_count": 18,
   "id": "392aaea0",
   "metadata": {},
   "outputs": [
    {
     "data": {
      "text/html": [
       "<div>\n",
       "<style scoped>\n",
       "    .dataframe tbody tr th:only-of-type {\n",
       "        vertical-align: middle;\n",
       "    }\n",
       "\n",
       "    .dataframe tbody tr th {\n",
       "        vertical-align: top;\n",
       "    }\n",
       "\n",
       "    .dataframe thead th {\n",
       "        text-align: right;\n",
       "    }\n",
       "</style>\n",
       "<table border=\"1\" class=\"dataframe\">\n",
       "  <thead>\n",
       "    <tr style=\"text-align: right;\">\n",
       "      <th></th>\n",
       "      <th>inn</th>\n",
       "      <th>year</th>\n",
       "      <th>long</th>\n",
       "      <th>short</th>\n",
       "      <th>balance</th>\n",
       "    </tr>\n",
       "  </thead>\n",
       "  <tbody>\n",
       "    <tr>\n",
       "      <th>772</th>\n",
       "      <td>1001003743</td>\n",
       "      <td>2012</td>\n",
       "      <td>0.0</td>\n",
       "      <td>1080000.0</td>\n",
       "      <td>4399000.0</td>\n",
       "    </tr>\n",
       "    <tr>\n",
       "      <th>187</th>\n",
       "      <td>1001003743</td>\n",
       "      <td>2013</td>\n",
       "      <td>0.0</td>\n",
       "      <td>1080000.0</td>\n",
       "      <td>4399000.0</td>\n",
       "    </tr>\n",
       "    <tr>\n",
       "      <th>357</th>\n",
       "      <td>1001003743</td>\n",
       "      <td>2014</td>\n",
       "      <td>0.0</td>\n",
       "      <td>296000.0</td>\n",
       "      <td>6295000.0</td>\n",
       "    </tr>\n",
       "    <tr>\n",
       "      <th>548</th>\n",
       "      <td>1001003743</td>\n",
       "      <td>2015</td>\n",
       "      <td>0.0</td>\n",
       "      <td>260000.0</td>\n",
       "      <td>6051000.0</td>\n",
       "    </tr>\n",
       "    <tr>\n",
       "      <th>623</th>\n",
       "      <td>1001003743</td>\n",
       "      <td>2016</td>\n",
       "      <td>0.0</td>\n",
       "      <td>861000.0</td>\n",
       "      <td>4735000.0</td>\n",
       "    </tr>\n",
       "    <tr>\n",
       "      <th>300</th>\n",
       "      <td>1001003743</td>\n",
       "      <td>2017</td>\n",
       "      <td>0.0</td>\n",
       "      <td>8379000.0</td>\n",
       "      <td>9481000.0</td>\n",
       "    </tr>\n",
       "    <tr>\n",
       "      <th>862</th>\n",
       "      <td>1001003743</td>\n",
       "      <td>2018</td>\n",
       "      <td>0.0</td>\n",
       "      <td>3881000.0</td>\n",
       "      <td>4003000.0</td>\n",
       "    </tr>\n",
       "    <tr>\n",
       "      <th>894</th>\n",
       "      <td>1001003743</td>\n",
       "      <td>2019</td>\n",
       "      <td>NaN</td>\n",
       "      <td>4330000.0</td>\n",
       "      <td>3930000.0</td>\n",
       "    </tr>\n",
       "    <tr>\n",
       "      <th>87</th>\n",
       "      <td>1508000122</td>\n",
       "      <td>2012</td>\n",
       "      <td>0.0</td>\n",
       "      <td>0.0</td>\n",
       "      <td>49822000.0</td>\n",
       "    </tr>\n",
       "    <tr>\n",
       "      <th>111</th>\n",
       "      <td>1508000122</td>\n",
       "      <td>2013</td>\n",
       "      <td>0.0</td>\n",
       "      <td>19481000.0</td>\n",
       "      <td>28904000.0</td>\n",
       "    </tr>\n",
       "    <tr>\n",
       "      <th>446</th>\n",
       "      <td>1508000122</td>\n",
       "      <td>2014</td>\n",
       "      <td>0.0</td>\n",
       "      <td>19541000.0</td>\n",
       "      <td>29321000.0</td>\n",
       "    </tr>\n",
       "    <tr>\n",
       "      <th>670</th>\n",
       "      <td>1508000122</td>\n",
       "      <td>2016</td>\n",
       "      <td>0.0</td>\n",
       "      <td>17383000.0</td>\n",
       "      <td>30293000.0</td>\n",
       "    </tr>\n",
       "    <tr>\n",
       "      <th>232</th>\n",
       "      <td>1508000122</td>\n",
       "      <td>2017</td>\n",
       "      <td>0.0</td>\n",
       "      <td>16790000.0</td>\n",
       "      <td>30290000.0</td>\n",
       "    </tr>\n",
       "    <tr>\n",
       "      <th>866</th>\n",
       "      <td>1508000122</td>\n",
       "      <td>2018</td>\n",
       "      <td>0.0</td>\n",
       "      <td>17812000.0</td>\n",
       "      <td>34039000.0</td>\n",
       "    </tr>\n",
       "    <tr>\n",
       "      <th>898</th>\n",
       "      <td>1508000122</td>\n",
       "      <td>2020</td>\n",
       "      <td>NaN</td>\n",
       "      <td>9232000.0</td>\n",
       "      <td>44018000.0</td>\n",
       "    </tr>\n",
       "    <tr>\n",
       "      <th>565</th>\n",
       "      <td>1514013426</td>\n",
       "      <td>2015</td>\n",
       "      <td>0.0</td>\n",
       "      <td>14792000.0</td>\n",
       "      <td>7791000.0</td>\n",
       "    </tr>\n",
       "    <tr>\n",
       "      <th>621</th>\n",
       "      <td>1514013426</td>\n",
       "      <td>2016</td>\n",
       "      <td>0.0</td>\n",
       "      <td>33853000.0</td>\n",
       "      <td>16004000.0</td>\n",
       "    </tr>\n",
       "    <tr>\n",
       "      <th>339</th>\n",
       "      <td>1514013426</td>\n",
       "      <td>2017</td>\n",
       "      <td>0.0</td>\n",
       "      <td>58334000.0</td>\n",
       "      <td>21388000.0</td>\n",
       "    </tr>\n",
       "    <tr>\n",
       "      <th>861</th>\n",
       "      <td>1514013426</td>\n",
       "      <td>2018</td>\n",
       "      <td>0.0</td>\n",
       "      <td>69901000.0</td>\n",
       "      <td>26970000.0</td>\n",
       "    </tr>\n",
       "    <tr>\n",
       "      <th>899</th>\n",
       "      <td>1514013426</td>\n",
       "      <td>2019</td>\n",
       "      <td>NaN</td>\n",
       "      <td>96561000.0</td>\n",
       "      <td>34354000.0</td>\n",
       "    </tr>\n",
       "  </tbody>\n",
       "</table>\n",
       "</div>"
      ],
      "text/plain": [
       "            inn  year  long       short     balance\n",
       "772  1001003743  2012   0.0   1080000.0   4399000.0\n",
       "187  1001003743  2013   0.0   1080000.0   4399000.0\n",
       "357  1001003743  2014   0.0    296000.0   6295000.0\n",
       "548  1001003743  2015   0.0    260000.0   6051000.0\n",
       "623  1001003743  2016   0.0    861000.0   4735000.0\n",
       "300  1001003743  2017   0.0   8379000.0   9481000.0\n",
       "862  1001003743  2018   0.0   3881000.0   4003000.0\n",
       "894  1001003743  2019   NaN   4330000.0   3930000.0\n",
       "87   1508000122  2012   0.0         0.0  49822000.0\n",
       "111  1508000122  2013   0.0  19481000.0  28904000.0\n",
       "446  1508000122  2014   0.0  19541000.0  29321000.0\n",
       "670  1508000122  2016   0.0  17383000.0  30293000.0\n",
       "232  1508000122  2017   0.0  16790000.0  30290000.0\n",
       "866  1508000122  2018   0.0  17812000.0  34039000.0\n",
       "898  1508000122  2020   NaN   9232000.0  44018000.0\n",
       "565  1514013426  2015   0.0  14792000.0   7791000.0\n",
       "621  1514013426  2016   0.0  33853000.0  16004000.0\n",
       "339  1514013426  2017   0.0  58334000.0  21388000.0\n",
       "861  1514013426  2018   0.0  69901000.0  26970000.0\n",
       "899  1514013426  2019   NaN  96561000.0  34354000.0"
      ]
     },
     "metadata": {},
     "output_type": "display_data"
    },
    {
     "data": {
      "text/plain": [
       "44"
      ]
     },
     "metadata": {},
     "output_type": "display_data"
    },
    {
     "data": {
      "text/plain": [
       "43"
      ]
     },
     "metadata": {},
     "output_type": "display_data"
    },
    {
     "data": {
      "text/html": [
       "<div>\n",
       "<style scoped>\n",
       "    .dataframe tbody tr th:only-of-type {\n",
       "        vertical-align: middle;\n",
       "    }\n",
       "\n",
       "    .dataframe tbody tr th {\n",
       "        vertical-align: top;\n",
       "    }\n",
       "\n",
       "    .dataframe thead th {\n",
       "        text-align: right;\n",
       "    }\n",
       "</style>\n",
       "<table border=\"1\" class=\"dataframe\">\n",
       "  <thead>\n",
       "    <tr style=\"text-align: right;\">\n",
       "      <th></th>\n",
       "      <th>inn</th>\n",
       "      <th>year</th>\n",
       "      <th>long</th>\n",
       "      <th>short</th>\n",
       "      <th>balance</th>\n",
       "    </tr>\n",
       "  </thead>\n",
       "  <tbody>\n",
       "    <tr>\n",
       "      <th>215</th>\n",
       "      <td>7455005950</td>\n",
       "      <td>2013</td>\n",
       "      <td>38411000.0</td>\n",
       "      <td>4198000.0</td>\n",
       "      <td>45890000.0</td>\n",
       "    </tr>\n",
       "    <tr>\n",
       "      <th>436</th>\n",
       "      <td>7455005950</td>\n",
       "      <td>2014</td>\n",
       "      <td>43478000.0</td>\n",
       "      <td>6209000.0</td>\n",
       "      <td>55777000.0</td>\n",
       "    </tr>\n",
       "    <tr>\n",
       "      <th>517</th>\n",
       "      <td>7455005950</td>\n",
       "      <td>2015</td>\n",
       "      <td>57827000.0</td>\n",
       "      <td>36051000.0</td>\n",
       "      <td>89383000.0</td>\n",
       "    </tr>\n",
       "    <tr>\n",
       "      <th>773</th>\n",
       "      <td>7455005950</td>\n",
       "      <td>2012</td>\n",
       "      <td>38411000.0</td>\n",
       "      <td>4198000.0</td>\n",
       "      <td>45890000.0</td>\n",
       "    </tr>\n",
       "    <tr>\n",
       "      <th>1002</th>\n",
       "      <td>7455005950</td>\n",
       "      <td>2019</td>\n",
       "      <td>NaN</td>\n",
       "      <td>0.0</td>\n",
       "      <td>4000.0</td>\n",
       "    </tr>\n",
       "    <tr>\n",
       "      <th>1003</th>\n",
       "      <td>7455005950</td>\n",
       "      <td>2020</td>\n",
       "      <td>NaN</td>\n",
       "      <td>0.0</td>\n",
       "      <td>1000.0</td>\n",
       "    </tr>\n",
       "  </tbody>\n",
       "</table>\n",
       "</div>"
      ],
      "text/plain": [
       "             inn  year        long       short     balance\n",
       "215   7455005950  2013  38411000.0   4198000.0  45890000.0\n",
       "436   7455005950  2014  43478000.0   6209000.0  55777000.0\n",
       "517   7455005950  2015  57827000.0  36051000.0  89383000.0\n",
       "773   7455005950  2012  38411000.0   4198000.0  45890000.0\n",
       "1002  7455005950  2019         NaN         0.0      4000.0\n",
       "1003  7455005950  2020         NaN         0.0      1000.0"
      ]
     },
     "metadata": {},
     "output_type": "display_data"
    }
   ],
   "source": [
    "nan_inn = df_acc[df_acc['long'].isna()]['inn'].unique()\n",
    "\n",
    "disp(\n",
    "    df_acc[df_acc['inn'].isin(nan_inn)].sort_values(by=['inn', 'year']).head(20)\n",
    ")\n",
    "disp(nan_inn.shape[0])\n",
    "\n",
    "nan_inn_zeropresence = df_acc[\n",
    "    (df_acc['inn'].isin(nan_inn))\n",
    "    & (df_acc['long'] == 0)\n",
    "]['inn'].unique()\n",
    "\n",
    "disp(nan_inn_zeropresence.shape[0])\n",
    "disp(\n",
    "    df_acc[\n",
    "        (df_acc['inn'].isin(nan_inn))\n",
    "        & (df_acc['inn'].isin(nan_inn_zeropresence) != True)\n",
    "    ]\n",
    ")"
   ]
  },
  {
   "cell_type": "markdown",
   "id": "bf20ed68",
   "metadata": {},
   "source": [
    "Компаний, по которым есть пропуски, - всего 44.\n",
    "\n",
    "В 43 из 44 характер пропусков - такой, как показан в первой таблице: данные пропущены только за последний год, а по всем предыдущим годам обязательства - нулевые.\n",
    "\n",
    "Единственный отличающийся случай отражён во второй таблице: обязательства и баланс сначала были ненулевые, а в последние два года - стали либо строго нулевые (краткосрочные обязательства), либо близки к нулю (баланс).\n",
    "\n",
    "Будет справедливо заполнить все пропуски нулями: в обоих случаях это наиболее логичный вариант. В первых 43 случаях нет оснований считать, что тенденция нарушится именно в последний год; в последнем, отдельном случае нулевые значения long будут соответствовать логике двух других столбцов.\n",
    "\n",
    "Заполним пропуски."
   ]
  },
  {
   "cell_type": "code",
   "execution_count": 19,
   "id": "7f9a72fb",
   "metadata": {},
   "outputs": [
    {
     "name": "stdout",
     "output_type": "stream",
     "text": [
      "<class 'pandas.core.frame.DataFrame'>\n",
      "RangeIndex: 1035 entries, 0 to 1034\n",
      "Data columns (total 5 columns):\n",
      " #   Column   Non-Null Count  Dtype  \n",
      "---  ------   --------------  -----  \n",
      " 0   inn      1035 non-null   int64  \n",
      " 1   year     1035 non-null   int64  \n",
      " 2   long     1035 non-null   float64\n",
      " 3   short    1035 non-null   float64\n",
      " 4   balance  1035 non-null   float64\n",
      "dtypes: float64(3), int64(2)\n",
      "memory usage: 40.6 KB\n"
     ]
    }
   ],
   "source": [
    "df_acc['long'] = df_acc['long'].fillna(0.0)\n",
    "df_acc.info()"
   ]
  },
  {
   "cell_type": "markdown",
   "id": "dbe66830",
   "metadata": {},
   "source": [
    "### Выбросы"
   ]
  },
  {
   "cell_type": "markdown",
   "id": "fd0ddb87",
   "metadata": {},
   "source": [
    "Проверим, есть ли выбросы."
   ]
  },
  {
   "cell_type": "code",
   "execution_count": 20,
   "id": "b6acfd17",
   "metadata": {},
   "outputs": [
    {
     "data": {
      "text/html": [
       "<div>\n",
       "<style scoped>\n",
       "    .dataframe tbody tr th:only-of-type {\n",
       "        vertical-align: middle;\n",
       "    }\n",
       "\n",
       "    .dataframe tbody tr th {\n",
       "        vertical-align: top;\n",
       "    }\n",
       "\n",
       "    .dataframe thead th {\n",
       "        text-align: right;\n",
       "    }\n",
       "</style>\n",
       "<table border=\"1\" class=\"dataframe\">\n",
       "  <thead>\n",
       "    <tr style=\"text-align: right;\">\n",
       "      <th></th>\n",
       "      <th>inn</th>\n",
       "      <th>year</th>\n",
       "      <th>long</th>\n",
       "      <th>short</th>\n",
       "      <th>balance</th>\n",
       "    </tr>\n",
       "  </thead>\n",
       "  <tbody>\n",
       "    <tr>\n",
       "      <th>count</th>\n",
       "      <td>1.035000e+03</td>\n",
       "      <td>1035.000000</td>\n",
       "      <td>1.035000e+03</td>\n",
       "      <td>1.035000e+03</td>\n",
       "      <td>1.035000e+03</td>\n",
       "    </tr>\n",
       "    <tr>\n",
       "      <th>mean</th>\n",
       "      <td>5.024548e+09</td>\n",
       "      <td>2015.515942</td>\n",
       "      <td>1.049745e+08</td>\n",
       "      <td>8.854885e+07</td>\n",
       "      <td>2.256735e+08</td>\n",
       "    </tr>\n",
       "    <tr>\n",
       "      <th>std</th>\n",
       "      <td>2.198715e+09</td>\n",
       "      <td>2.420593</td>\n",
       "      <td>8.387213e+08</td>\n",
       "      <td>3.022655e+08</td>\n",
       "      <td>9.777282e+08</td>\n",
       "    </tr>\n",
       "    <tr>\n",
       "      <th>min</th>\n",
       "      <td>1.001004e+09</td>\n",
       "      <td>2012.000000</td>\n",
       "      <td>0.000000e+00</td>\n",
       "      <td>0.000000e+00</td>\n",
       "      <td>0.000000e+00</td>\n",
       "    </tr>\n",
       "    <tr>\n",
       "      <th>25%</th>\n",
       "      <td>3.212001e+09</td>\n",
       "      <td>2013.000000</td>\n",
       "      <td>0.000000e+00</td>\n",
       "      <td>1.376000e+06</td>\n",
       "      <td>4.054000e+06</td>\n",
       "    </tr>\n",
       "    <tr>\n",
       "      <th>50%</th>\n",
       "      <td>5.404263e+09</td>\n",
       "      <td>2015.000000</td>\n",
       "      <td>0.000000e+00</td>\n",
       "      <td>7.850000e+06</td>\n",
       "      <td>1.693200e+07</td>\n",
       "    </tr>\n",
       "    <tr>\n",
       "      <th>75%</th>\n",
       "      <td>6.907010e+09</td>\n",
       "      <td>2017.000000</td>\n",
       "      <td>9.040000e+05</td>\n",
       "      <td>5.245000e+07</td>\n",
       "      <td>9.024400e+07</td>\n",
       "    </tr>\n",
       "    <tr>\n",
       "      <th>max</th>\n",
       "      <td>9.102060e+09</td>\n",
       "      <td>2020.000000</td>\n",
       "      <td>9.844742e+09</td>\n",
       "      <td>4.842980e+09</td>\n",
       "      <td>1.032725e+10</td>\n",
       "    </tr>\n",
       "  </tbody>\n",
       "</table>\n",
       "</div>"
      ],
      "text/plain": [
       "                inn         year          long         short       balance\n",
       "count  1.035000e+03  1035.000000  1.035000e+03  1.035000e+03  1.035000e+03\n",
       "mean   5.024548e+09  2015.515942  1.049745e+08  8.854885e+07  2.256735e+08\n",
       "std    2.198715e+09     2.420593  8.387213e+08  3.022655e+08  9.777282e+08\n",
       "min    1.001004e+09  2012.000000  0.000000e+00  0.000000e+00  0.000000e+00\n",
       "25%    3.212001e+09  2013.000000  0.000000e+00  1.376000e+06  4.054000e+06\n",
       "50%    5.404263e+09  2015.000000  0.000000e+00  7.850000e+06  1.693200e+07\n",
       "75%    6.907010e+09  2017.000000  9.040000e+05  5.245000e+07  9.024400e+07\n",
       "max    9.102060e+09  2020.000000  9.844742e+09  4.842980e+09  1.032725e+10"
      ]
     },
     "execution_count": 20,
     "metadata": {},
     "output_type": "execute_result"
    }
   ],
   "source": [
    "df_acc.describe()"
   ]
  },
  {
   "cell_type": "markdown",
   "id": "dda8926d",
   "metadata": {},
   "source": [
    "Выбросов нет."
   ]
  },
  {
   "cell_type": "markdown",
   "id": "dce17e03",
   "metadata": {},
   "source": [
    "### Дубликаты"
   ]
  },
  {
   "cell_type": "markdown",
   "id": "f6d13ca0",
   "metadata": {},
   "source": [
    "Проверим таблицу на наличие дубликатов."
   ]
  },
  {
   "cell_type": "code",
   "execution_count": 21,
   "id": "574c5b08",
   "metadata": {},
   "outputs": [
    {
     "data": {
      "text/html": [
       "<div>\n",
       "<style scoped>\n",
       "    .dataframe tbody tr th:only-of-type {\n",
       "        vertical-align: middle;\n",
       "    }\n",
       "\n",
       "    .dataframe tbody tr th {\n",
       "        vertical-align: top;\n",
       "    }\n",
       "\n",
       "    .dataframe thead th {\n",
       "        text-align: right;\n",
       "    }\n",
       "</style>\n",
       "<table border=\"1\" class=\"dataframe\">\n",
       "  <thead>\n",
       "    <tr style=\"text-align: right;\">\n",
       "      <th></th>\n",
       "      <th>inn</th>\n",
       "      <th>year</th>\n",
       "      <th>long</th>\n",
       "      <th>short</th>\n",
       "      <th>balance</th>\n",
       "    </tr>\n",
       "  </thead>\n",
       "  <tbody>\n",
       "    <tr>\n",
       "      <th>920</th>\n",
       "      <td>2465002653</td>\n",
       "      <td>2019</td>\n",
       "      <td>0.000000e+00</td>\n",
       "      <td>34938000.0</td>\n",
       "      <td>60193000.0</td>\n",
       "    </tr>\n",
       "    <tr>\n",
       "      <th>922</th>\n",
       "      <td>2508012923</td>\n",
       "      <td>2019</td>\n",
       "      <td>1.776100e+07</td>\n",
       "      <td>261371000.0</td>\n",
       "      <td>668960000.0</td>\n",
       "    </tr>\n",
       "    <tr>\n",
       "      <th>934</th>\n",
       "      <td>3212001450</td>\n",
       "      <td>2020</td>\n",
       "      <td>3.163600e+07</td>\n",
       "      <td>50415000.0</td>\n",
       "      <td>52494000.0</td>\n",
       "    </tr>\n",
       "    <tr>\n",
       "      <th>991</th>\n",
       "      <td>6725005494</td>\n",
       "      <td>2019</td>\n",
       "      <td>1.224496e+09</td>\n",
       "      <td>210799000.0</td>\n",
       "      <td>11000.0</td>\n",
       "    </tr>\n",
       "    <tr>\n",
       "      <th>1008</th>\n",
       "      <td>7703065332</td>\n",
       "      <td>2019</td>\n",
       "      <td>1.040130e+08</td>\n",
       "      <td>2354000.0</td>\n",
       "      <td>113846000.0</td>\n",
       "    </tr>\n",
       "  </tbody>\n",
       "</table>\n",
       "</div>"
      ],
      "text/plain": [
       "             inn  year          long        short      balance\n",
       "920   2465002653  2019  0.000000e+00   34938000.0   60193000.0\n",
       "922   2508012923  2019  1.776100e+07  261371000.0  668960000.0\n",
       "934   3212001450  2020  3.163600e+07   50415000.0   52494000.0\n",
       "991   6725005494  2019  1.224496e+09  210799000.0      11000.0\n",
       "1008  7703065332  2019  1.040130e+08    2354000.0  113846000.0"
      ]
     },
     "execution_count": 21,
     "metadata": {},
     "output_type": "execute_result"
    }
   ],
   "source": [
    "df_acc[df_acc.duplicated()]"
   ]
  },
  {
   "cell_type": "markdown",
   "id": "5df72243",
   "metadata": {},
   "source": [
    "Удалим дубликаты."
   ]
  },
  {
   "cell_type": "code",
   "execution_count": 22,
   "id": "f894e6a0",
   "metadata": {},
   "outputs": [],
   "source": [
    "df_acc = df_acc.drop_duplicates().reset_index(drop=True)"
   ]
  },
  {
   "cell_type": "markdown",
   "id": "54276c67",
   "metadata": {},
   "source": [
    "Проверим также таблицу на наличие дубликатов относительно столбцов inn и year. Такие дубликаты тоже необходимо удалить, так как нам требуется однозначное соответствие между ИНН и значениями за определённый год."
   ]
  },
  {
   "cell_type": "code",
   "execution_count": 23,
   "id": "a18aa591",
   "metadata": {},
   "outputs": [
    {
     "data": {
      "text/html": [
       "<div>\n",
       "<style scoped>\n",
       "    .dataframe tbody tr th:only-of-type {\n",
       "        vertical-align: middle;\n",
       "    }\n",
       "\n",
       "    .dataframe tbody tr th {\n",
       "        vertical-align: top;\n",
       "    }\n",
       "\n",
       "    .dataframe thead th {\n",
       "        text-align: right;\n",
       "    }\n",
       "</style>\n",
       "<table border=\"1\" class=\"dataframe\">\n",
       "  <thead>\n",
       "    <tr style=\"text-align: right;\">\n",
       "      <th></th>\n",
       "      <th>inn</th>\n",
       "      <th>year</th>\n",
       "      <th>long</th>\n",
       "      <th>short</th>\n",
       "      <th>balance</th>\n",
       "    </tr>\n",
       "  </thead>\n",
       "  <tbody>\n",
       "    <tr>\n",
       "      <th>903</th>\n",
       "      <td>1822000100</td>\n",
       "      <td>2020</td>\n",
       "      <td>0.0</td>\n",
       "      <td>6436000.0</td>\n",
       "      <td>756000.0</td>\n",
       "    </tr>\n",
       "    <tr>\n",
       "      <th>904</th>\n",
       "      <td>1822000100</td>\n",
       "      <td>2020</td>\n",
       "      <td>0.0</td>\n",
       "      <td>6082000.0</td>\n",
       "      <td>747000.0</td>\n",
       "    </tr>\n",
       "    <tr>\n",
       "      <th>1004</th>\n",
       "      <td>7703065332</td>\n",
       "      <td>2020</td>\n",
       "      <td>104013000.0</td>\n",
       "      <td>1482000.0</td>\n",
       "      <td>112154000.0</td>\n",
       "    </tr>\n",
       "    <tr>\n",
       "      <th>1005</th>\n",
       "      <td>7703065332</td>\n",
       "      <td>2020</td>\n",
       "      <td>104013000.0</td>\n",
       "      <td>1481000.0</td>\n",
       "      <td>112154000.0</td>\n",
       "    </tr>\n",
       "    <tr>\n",
       "      <th>1008</th>\n",
       "      <td>7717783534</td>\n",
       "      <td>2019</td>\n",
       "      <td>0.0</td>\n",
       "      <td>4252000.0</td>\n",
       "      <td>61298000.0</td>\n",
       "    </tr>\n",
       "    <tr>\n",
       "      <th>1009</th>\n",
       "      <td>7717783534</td>\n",
       "      <td>2019</td>\n",
       "      <td>0.0</td>\n",
       "      <td>4252000.0</td>\n",
       "      <td>55298000.0</td>\n",
       "    </tr>\n",
       "  </tbody>\n",
       "</table>\n",
       "</div>"
      ],
      "text/plain": [
       "             inn  year         long      short      balance\n",
       "903   1822000100  2020          0.0  6436000.0     756000.0\n",
       "904   1822000100  2020          0.0  6082000.0     747000.0\n",
       "1004  7703065332  2020  104013000.0  1482000.0  112154000.0\n",
       "1005  7703065332  2020  104013000.0  1481000.0  112154000.0\n",
       "1008  7717783534  2019          0.0  4252000.0   61298000.0\n",
       "1009  7717783534  2019          0.0  4252000.0   55298000.0"
      ]
     },
     "execution_count": 23,
     "metadata": {},
     "output_type": "execute_result"
    }
   ],
   "source": [
    "df_acc[df_acc.duplicated(keep=False, subset=['inn', 'year'])]"
   ]
  },
  {
   "cell_type": "markdown",
   "id": "52d0e273",
   "metadata": {},
   "source": [
    "Некоторые значения различаются (поэтому такие строки и не были выявлены на предыдущем шаге), но различия не критичны. Поэтому просто удалим эти дубликаты."
   ]
  },
  {
   "cell_type": "code",
   "execution_count": 24,
   "id": "b65c0db8",
   "metadata": {},
   "outputs": [],
   "source": [
    "df_acc = df_acc.drop_duplicates(subset=['inn', 'year']).reset_index(drop=True)"
   ]
  },
  {
   "cell_type": "markdown",
   "id": "38c87952",
   "metadata": {},
   "source": [
    "##  Таблица bankruptcies"
   ]
  },
  {
   "cell_type": "markdown",
   "id": "58f494c0",
   "metadata": {},
   "source": [
    "### Обзор"
   ]
  },
  {
   "cell_type": "code",
   "execution_count": 25,
   "id": "543c6d70",
   "metadata": {},
   "outputs": [
    {
     "data": {
      "text/html": [
       "<div>\n",
       "<style scoped>\n",
       "    .dataframe tbody tr th:only-of-type {\n",
       "        vertical-align: middle;\n",
       "    }\n",
       "\n",
       "    .dataframe tbody tr th {\n",
       "        vertical-align: top;\n",
       "    }\n",
       "\n",
       "    .dataframe thead th {\n",
       "        text-align: right;\n",
       "    }\n",
       "</style>\n",
       "<table border=\"1\" class=\"dataframe\">\n",
       "  <thead>\n",
       "    <tr style=\"text-align: right;\">\n",
       "      <th></th>\n",
       "      <th>Unnamed: 0</th>\n",
       "      <th>bankrupt_id</th>\n",
       "      <th>bancrupt_year</th>\n",
       "      <th>inn</th>\n",
       "    </tr>\n",
       "  </thead>\n",
       "  <tbody>\n",
       "    <tr>\n",
       "      <th>0</th>\n",
       "      <td>0</td>\n",
       "      <td>79546</td>\n",
       "      <td>2015</td>\n",
       "      <td>5620006322</td>\n",
       "    </tr>\n",
       "    <tr>\n",
       "      <th>1</th>\n",
       "      <td>1</td>\n",
       "      <td>76594</td>\n",
       "      <td>2015</td>\n",
       "      <td>2111008200</td>\n",
       "    </tr>\n",
       "    <tr>\n",
       "      <th>2</th>\n",
       "      <td>2</td>\n",
       "      <td>94301</td>\n",
       "      <td>2016</td>\n",
       "      <td>5414100369</td>\n",
       "    </tr>\n",
       "    <tr>\n",
       "      <th>3</th>\n",
       "      <td>3</td>\n",
       "      <td>93799</td>\n",
       "      <td>2019</td>\n",
       "      <td>2347009476</td>\n",
       "    </tr>\n",
       "    <tr>\n",
       "      <th>4</th>\n",
       "      <td>4</td>\n",
       "      <td>199671</td>\n",
       "      <td>2018</td>\n",
       "      <td>7224008489</td>\n",
       "    </tr>\n",
       "  </tbody>\n",
       "</table>\n",
       "</div>"
      ],
      "text/plain": [
       "   Unnamed: 0  bankrupt_id  bancrupt_year         inn\n",
       "0           0        79546           2015  5620006322\n",
       "1           1        76594           2015  2111008200\n",
       "2           2        94301           2016  5414100369\n",
       "3           3        93799           2019  2347009476\n",
       "4           4       199671           2018  7224008489"
      ]
     },
     "execution_count": 25,
     "metadata": {},
     "output_type": "execute_result"
    }
   ],
   "source": [
    "df_bank.head()"
   ]
  },
  {
   "cell_type": "code",
   "execution_count": 26,
   "id": "2b73cbe4",
   "metadata": {},
   "outputs": [
    {
     "name": "stdout",
     "output_type": "stream",
     "text": [
      "<class 'pandas.core.frame.DataFrame'>\n",
      "RangeIndex: 106 entries, 0 to 105\n",
      "Data columns (total 4 columns):\n",
      " #   Column         Non-Null Count  Dtype\n",
      "---  ------         --------------  -----\n",
      " 0   Unnamed: 0     106 non-null    int64\n",
      " 1   bankrupt_id    106 non-null    int64\n",
      " 2   bancrupt_year  106 non-null    int64\n",
      " 3   inn            106 non-null    int64\n",
      "dtypes: int64(4)\n",
      "memory usage: 3.4 KB\n"
     ]
    }
   ],
   "source": [
    "df_bank.info()"
   ]
  },
  {
   "cell_type": "code",
   "execution_count": 27,
   "id": "4bf32e42",
   "metadata": {},
   "outputs": [],
   "source": [
    "df_bank = df_bank.drop(columns='Unnamed: 0')"
   ]
  },
  {
   "cell_type": "markdown",
   "id": "5eecd5c7",
   "metadata": {},
   "source": [
    "### Обработка столбцов, приведение типов"
   ]
  },
  {
   "cell_type": "markdown",
   "id": "f6da4e30",
   "metadata": {},
   "source": [
    "Идентификатор банкротства нам не потребуется, так как интересует только год, а идентификация компании осуществляется по ИНН.\n",
    "\n",
    "Удалим столбец bancrupt_id."
   ]
  },
  {
   "cell_type": "code",
   "execution_count": 28,
   "id": "3f46d4e0",
   "metadata": {},
   "outputs": [],
   "source": [
    "df_bank = df_bank.drop(columns='bankrupt_id')"
   ]
  },
  {
   "cell_type": "markdown",
   "id": "1b61b85c",
   "metadata": {},
   "source": [
    "Для удобства переименуем столбец."
   ]
  },
  {
   "cell_type": "code",
   "execution_count": 29,
   "id": "27e3a5bb",
   "metadata": {},
   "outputs": [],
   "source": [
    "df_bank = column_renaming(\n",
    "    df_bank,\n",
    "    {\n",
    "        'bancrupt_year': 'yearb',\n",
    "    }\n",
    ")"
   ]
  },
  {
   "cell_type": "markdown",
   "id": "1f45d072",
   "metadata": {},
   "source": [
    "Выполним приведение типов."
   ]
  },
  {
   "cell_type": "code",
   "execution_count": 30,
   "id": "71c6bc41",
   "metadata": {},
   "outputs": [],
   "source": [
    "df_bank['yearb'] = df_bank['yearb'].fillna(0).astype('int')\n",
    "df_bank['inn'] = df_bank['inn'].astype('int')"
   ]
  },
  {
   "cell_type": "code",
   "execution_count": 31,
   "id": "86754afc",
   "metadata": {},
   "outputs": [
    {
     "name": "stdout",
     "output_type": "stream",
     "text": [
      "<class 'pandas.core.frame.DataFrame'>\n",
      "RangeIndex: 106 entries, 0 to 105\n",
      "Data columns (total 2 columns):\n",
      " #   Column  Non-Null Count  Dtype\n",
      "---  ------  --------------  -----\n",
      " 0   yearb   106 non-null    int64\n",
      " 1   inn     106 non-null    int64\n",
      "dtypes: int64(2)\n",
      "memory usage: 1.8 KB\n"
     ]
    }
   ],
   "source": [
    "df_bank.info()"
   ]
  },
  {
   "cell_type": "markdown",
   "id": "098763e7",
   "metadata": {},
   "source": [
    "### Выбросы"
   ]
  },
  {
   "cell_type": "markdown",
   "id": "35484d4d",
   "metadata": {},
   "source": [
    "Проверим, есть ли выбросы."
   ]
  },
  {
   "cell_type": "code",
   "execution_count": 32,
   "id": "97935b37",
   "metadata": {},
   "outputs": [
    {
     "data": {
      "text/html": [
       "<div>\n",
       "<style scoped>\n",
       "    .dataframe tbody tr th:only-of-type {\n",
       "        vertical-align: middle;\n",
       "    }\n",
       "\n",
       "    .dataframe tbody tr th {\n",
       "        vertical-align: top;\n",
       "    }\n",
       "\n",
       "    .dataframe thead th {\n",
       "        text-align: right;\n",
       "    }\n",
       "</style>\n",
       "<table border=\"1\" class=\"dataframe\">\n",
       "  <thead>\n",
       "    <tr style=\"text-align: right;\">\n",
       "      <th></th>\n",
       "      <th>yearb</th>\n",
       "      <th>inn</th>\n",
       "    </tr>\n",
       "  </thead>\n",
       "  <tbody>\n",
       "    <tr>\n",
       "      <th>count</th>\n",
       "      <td>106.000000</td>\n",
       "      <td>1.060000e+02</td>\n",
       "    </tr>\n",
       "    <tr>\n",
       "      <th>mean</th>\n",
       "      <td>2016.792453</td>\n",
       "      <td>5.088171e+09</td>\n",
       "    </tr>\n",
       "    <tr>\n",
       "      <th>std</th>\n",
       "      <td>2.984777</td>\n",
       "      <td>2.166806e+09</td>\n",
       "    </tr>\n",
       "    <tr>\n",
       "      <th>min</th>\n",
       "      <td>2011.000000</td>\n",
       "      <td>1.020010e+09</td>\n",
       "    </tr>\n",
       "    <tr>\n",
       "      <th>25%</th>\n",
       "      <td>2014.250000</td>\n",
       "      <td>3.268141e+09</td>\n",
       "    </tr>\n",
       "    <tr>\n",
       "      <th>50%</th>\n",
       "      <td>2017.000000</td>\n",
       "      <td>5.410220e+09</td>\n",
       "    </tr>\n",
       "    <tr>\n",
       "      <th>75%</th>\n",
       "      <td>2019.000000</td>\n",
       "      <td>6.858008e+09</td>\n",
       "    </tr>\n",
       "    <tr>\n",
       "      <th>max</th>\n",
       "      <td>2021.000000</td>\n",
       "      <td>8.909000e+09</td>\n",
       "    </tr>\n",
       "  </tbody>\n",
       "</table>\n",
       "</div>"
      ],
      "text/plain": [
       "             yearb           inn\n",
       "count   106.000000  1.060000e+02\n",
       "mean   2016.792453  5.088171e+09\n",
       "std       2.984777  2.166806e+09\n",
       "min    2011.000000  1.020010e+09\n",
       "25%    2014.250000  3.268141e+09\n",
       "50%    2017.000000  5.410220e+09\n",
       "75%    2019.000000  6.858008e+09\n",
       "max    2021.000000  8.909000e+09"
      ]
     },
     "execution_count": 32,
     "metadata": {},
     "output_type": "execute_result"
    }
   ],
   "source": [
    "df_bank.describe()"
   ]
  },
  {
   "cell_type": "markdown",
   "id": "2dd65367",
   "metadata": {},
   "source": [
    "Выбросов нет."
   ]
  },
  {
   "cell_type": "markdown",
   "id": "56e3cb39",
   "metadata": {},
   "source": [
    "### Дубликаты"
   ]
  },
  {
   "cell_type": "markdown",
   "id": "16769ee9",
   "metadata": {},
   "source": [
    "Проверим таблицу на наличие дубликатов."
   ]
  },
  {
   "cell_type": "code",
   "execution_count": 33,
   "id": "6d241355",
   "metadata": {},
   "outputs": [
    {
     "data": {
      "text/plain": [
       "Series([], Name: inn, dtype: int64)"
      ]
     },
     "execution_count": 33,
     "metadata": {},
     "output_type": "execute_result"
    }
   ],
   "source": [
    "df_bank['inn'][df_bank['inn'].duplicated()]"
   ]
  },
  {
   "cell_type": "markdown",
   "id": "bf6be3f7",
   "metadata": {},
   "source": [
    "Дубликатов нет."
   ]
  },
  {
   "cell_type": "markdown",
   "id": "b0857c29",
   "metadata": {},
   "source": [
    "## Файлы court cases"
   ]
  },
  {
   "cell_type": "markdown",
   "id": "de9644c6",
   "metadata": {},
   "source": [
    "### Формирование списка файлов"
   ]
  },
  {
   "cell_type": "markdown",
   "id": "b4e83bde",
   "metadata": {},
   "source": [
    "Сформируем список файлов."
   ]
  },
  {
   "cell_type": "code",
   "execution_count": 34,
   "id": "33f3ee8d",
   "metadata": {},
   "outputs": [
    {
     "data": {
      "text/plain": [
       "['.DS_Store',\n",
       " '1001003743.pkl',\n",
       " '1001227084.pkl',\n",
       " '1020010136_b.pkl',\n",
       " '1203000142_b.pkl']"
      ]
     },
     "execution_count": 34,
     "metadata": {},
     "output_type": "execute_result"
    }
   ],
   "source": [
    "filenames = listdir_without_ipynb_checkpoints(path_court)\n",
    "filenames[:5]"
   ]
  },
  {
   "cell_type": "code",
   "execution_count": 35,
   "id": "08f771ed",
   "metadata": {},
   "outputs": [
    {
     "data": {
      "text/plain": [
       "194"
      ]
     },
     "execution_count": 35,
     "metadata": {},
     "output_type": "execute_result"
    }
   ],
   "source": [
    "len(filenames)"
   ]
  },
  {
   "cell_type": "code",
   "execution_count": 36,
   "id": "93e39fa0",
   "metadata": {},
   "outputs": [
    {
     "data": {
      "text/plain": [
       "193"
      ]
     },
     "execution_count": 36,
     "metadata": {},
     "output_type": "execute_result"
    }
   ],
   "source": [
    "i = 0\n",
    "while i < len(filenames):\n",
    "    if '.pkl' not in filenames[i]:\n",
    "        del filenames[i]\n",
    "    else:\n",
    "        i += 1\n",
    "\n",
    "len(filenames)"
   ]
  },
  {
   "cell_type": "markdown",
   "id": "936743c5",
   "metadata": {},
   "source": [
    "### Изучение структуры файла"
   ]
  },
  {
   "cell_type": "markdown",
   "id": "cb1bb374",
   "metadata": {},
   "source": [
    "Откроем первый в списке файл и посмотрим его состав."
   ]
  },
  {
   "cell_type": "code",
   "execution_count": 37,
   "id": "6c6bd110",
   "metadata": {},
   "outputs": [],
   "source": [
    "with open(os.path.join(path_court, filenames[0]), 'rb') as f:\n",
    "    file = pickle.load(f)"
   ]
  },
  {
   "cell_type": "code",
   "execution_count": 38,
   "id": "f087720c",
   "metadata": {},
   "outputs": [
    {
     "name": "stdout",
     "output_type": "stream",
     "text": [
      "inn\n",
      "cases_list\n",
      "error\n",
      "n_requests\n"
     ]
    }
   ],
   "source": [
    "for key in file.keys():\n",
    "    print(key)"
   ]
  },
  {
   "cell_type": "code",
   "execution_count": 39,
   "id": "814877f7",
   "metadata": {},
   "outputs": [
    {
     "name": "stdout",
     "output_type": "stream",
     "text": [
      "1001003743\n"
     ]
    }
   ],
   "source": [
    "print(file['inn'])"
   ]
  },
  {
   "cell_type": "code",
   "execution_count": 40,
   "id": "73f6fced",
   "metadata": {},
   "outputs": [
    {
     "name": "stdout",
     "output_type": "stream",
     "text": [
      "None\n"
     ]
    }
   ],
   "source": [
    "print(file['error'])"
   ]
  },
  {
   "cell_type": "code",
   "execution_count": 41,
   "id": "881878d0",
   "metadata": {},
   "outputs": [
    {
     "name": "stdout",
     "output_type": "stream",
     "text": [
      "1\n"
     ]
    }
   ],
   "source": [
    "print(file['n_requests'])"
   ]
  },
  {
   "cell_type": "code",
   "execution_count": 42,
   "id": "9eec84d1",
   "metadata": {},
   "outputs": [
    {
     "data": {
      "text/plain": [
       "4"
      ]
     },
     "execution_count": 42,
     "metadata": {},
     "output_type": "execute_result"
    }
   ],
   "source": [
    "len(file['cases_list'])"
   ]
  },
  {
   "cell_type": "code",
   "execution_count": 43,
   "id": "1b8297a7",
   "metadata": {},
   "outputs": [
    {
     "name": "stdout",
     "output_type": "stream",
     "text": [
      "caseNo\n",
      "resultType\n",
      "caseDate\n",
      "caseType\n",
      "sum\n",
      "currency\n",
      "isActive\n",
      "currentInstance\n",
      "instanceDate\n",
      "documents\n",
      "case_sides\n"
     ]
    }
   ],
   "source": [
    "for key in file['cases_list'][0].keys():\n",
    "    print(key)"
   ]
  },
  {
   "cell_type": "markdown",
   "id": "792cdf71",
   "metadata": {},
   "source": [
    "Проверим, одинакова ли структура у всех файлов."
   ]
  },
  {
   "cell_type": "code",
   "execution_count": 44,
   "id": "e9e80727",
   "metadata": {},
   "outputs": [],
   "source": [
    "lengths = np.zeros((len(filenames), 3), dtype='int')\n",
    "root_values = np.zeros((len(filenames), 2), dtype='object')\n",
    "for i, filename in enumerate(filenames):\n",
    "    lengths_item = np.zeros(3, dtype='int')\n",
    "    with open(os.path.join(path_court, filename), 'rb') as f:\n",
    "        file = pickle.load(f)\n",
    "    lengths_item[0] = len(file.keys())\n",
    "    lengths_item[1] = len(file['cases_list'])\n",
    "    if len(file['cases_list']) > 1:\n",
    "        cases_list_lengths = np.array([])\n",
    "        for case in file['cases_list']:\n",
    "            cases_list_lengths = np.append(cases_list_lengths, len(case))\n",
    "        if np.unique(cases_list_lengths).shape[0] == 1:\n",
    "            lengths_item[2] = len(file['cases_list'][0])\n",
    "        else:\n",
    "            lengths_item[2] = -1\n",
    "    root_values[0] = file['error']\n",
    "    root_values[1] = file['n_requests']\n",
    "    lengths[i] = lengths_item"
   ]
  },
  {
   "cell_type": "code",
   "execution_count": 45,
   "id": "432918de",
   "metadata": {},
   "outputs": [
    {
     "data": {
      "text/plain": [
       "array([4])"
      ]
     },
     "execution_count": 45,
     "metadata": {},
     "output_type": "execute_result"
    }
   ],
   "source": [
    "np.unique(lengths[:, 0])"
   ]
  },
  {
   "cell_type": "code",
   "execution_count": 46,
   "id": "bcf57dbd",
   "metadata": {},
   "outputs": [
    {
     "data": {
      "text/plain": [
       "array([ 0, 11])"
      ]
     },
     "execution_count": 46,
     "metadata": {},
     "output_type": "execute_result"
    }
   ],
   "source": [
    "np.unique(lengths[:, 2])"
   ]
  },
  {
   "cell_type": "code",
   "execution_count": 47,
   "id": "36f8bd5f",
   "metadata": {},
   "outputs": [
    {
     "data": {
      "text/plain": [
       "array([  0,   1,   2,   3,   4,   5,   6,   8,   9,  10,  11,  12,  13,\n",
       "        14,  15,  16,  17,  18,  19,  20,  21,  22,  24,  25,  26,  27,\n",
       "        28,  29,  31,  32,  33,  35,  37,  38,  39,  40,  41,  42,  43,\n",
       "        45,  46,  47,  48,  50,  52,  56,  59,  64,  66,  69,  74,  79,\n",
       "        84,  85,  86,  88,  89,  95,  98, 115, 125, 134, 136, 140, 142,\n",
       "       148, 149, 155, 164, 173, 254, 262, 358, 408, 588, 619, 624])"
      ]
     },
     "execution_count": 47,
     "metadata": {},
     "output_type": "execute_result"
    }
   ],
   "source": [
    "np.unique(lengths[:, 1])"
   ]
  },
  {
   "cell_type": "code",
   "execution_count": 48,
   "id": "0700da62",
   "metadata": {},
   "outputs": [
    {
     "data": {
      "text/plain": [
       "array([None, 1, 0, 0, 0, 0, 0, 0, 0, 0, 0, 0, 0, 0, 0, 0, 0, 0, 0, 0, 0,\n",
       "       0, 0, 0, 0, 0, 0, 0, 0, 0, 0, 0, 0, 0, 0, 0, 0, 0, 0, 0, 0, 0, 0,\n",
       "       0, 0, 0, 0, 0, 0, 0, 0, 0, 0, 0, 0, 0, 0, 0, 0, 0, 0, 0, 0, 0, 0,\n",
       "       0, 0, 0, 0, 0, 0, 0, 0, 0, 0, 0, 0, 0, 0, 0, 0, 0, 0, 0, 0, 0, 0,\n",
       "       0, 0, 0, 0, 0, 0, 0, 0, 0, 0, 0, 0, 0, 0, 0, 0, 0, 0, 0, 0, 0, 0,\n",
       "       0, 0, 0, 0, 0, 0, 0, 0, 0, 0, 0, 0, 0, 0, 0, 0, 0, 0, 0, 0, 0, 0,\n",
       "       0, 0, 0, 0, 0, 0, 0, 0, 0, 0, 0, 0, 0, 0, 0, 0, 0, 0, 0, 0, 0, 0,\n",
       "       0, 0, 0, 0, 0, 0, 0, 0, 0, 0, 0, 0, 0, 0, 0, 0, 0, 0, 0, 0, 0, 0,\n",
       "       0, 0, 0, 0, 0, 0, 0, 0, 0, 0, 0, 0, 0, 0, 0, 0, 0, 0], dtype=object)"
      ]
     },
     "execution_count": 48,
     "metadata": {},
     "output_type": "execute_result"
    }
   ],
   "source": [
    "root_values[:, 0]"
   ]
  },
  {
   "cell_type": "code",
   "execution_count": 49,
   "id": "69d814d7",
   "metadata": {},
   "outputs": [
    {
     "data": {
      "text/plain": [
       "array([None, 1, 0, 0, 0, 0, 0, 0, 0, 0, 0, 0, 0, 0, 0, 0, 0, 0, 0, 0, 0,\n",
       "       0, 0, 0, 0, 0, 0, 0, 0, 0, 0, 0, 0, 0, 0, 0, 0, 0, 0, 0, 0, 0, 0,\n",
       "       0, 0, 0, 0, 0, 0, 0, 0, 0, 0, 0, 0, 0, 0, 0, 0, 0, 0, 0, 0, 0, 0,\n",
       "       0, 0, 0, 0, 0, 0, 0, 0, 0, 0, 0, 0, 0, 0, 0, 0, 0, 0, 0, 0, 0, 0,\n",
       "       0, 0, 0, 0, 0, 0, 0, 0, 0, 0, 0, 0, 0, 0, 0, 0, 0, 0, 0, 0, 0, 0,\n",
       "       0, 0, 0, 0, 0, 0, 0, 0, 0, 0, 0, 0, 0, 0, 0, 0, 0, 0, 0, 0, 0, 0,\n",
       "       0, 0, 0, 0, 0, 0, 0, 0, 0, 0, 0, 0, 0, 0, 0, 0, 0, 0, 0, 0, 0, 0,\n",
       "       0, 0, 0, 0, 0, 0, 0, 0, 0, 0, 0, 0, 0, 0, 0, 0, 0, 0, 0, 0, 0, 0,\n",
       "       0, 0, 0, 0, 0, 0, 0, 0, 0, 0, 0, 0, 0, 0, 0, 0, 0, 0], dtype=object)"
      ]
     },
     "execution_count": 49,
     "metadata": {},
     "output_type": "execute_result"
    }
   ],
   "source": [
    "root_values[:, 1]"
   ]
  },
  {
   "cell_type": "markdown",
   "id": "05afb459",
   "metadata": {},
   "source": [
    "Структура одинакова, за исключением длины списка cases_list.\n",
    "\n",
    "Рассмотрим один из элементов этого списка."
   ]
  },
  {
   "cell_type": "code",
   "execution_count": 50,
   "id": "9e7d7bb9",
   "metadata": {},
   "outputs": [
    {
     "data": {
      "text/plain": [
       "{'caseNo': 'А83-21847/2020',\n",
       " 'resultType': 'Проиграно',\n",
       " 'caseDate': '2020-12-22T00:00:00',\n",
       " 'caseType': {'code': '6',\n",
       "  'name': 'экономические споры по гражданским правоотношениям'},\n",
       " 'sum': 43200.0,\n",
       " 'currency': 643,\n",
       " 'isActive': False,\n",
       " 'currentInstance': 'АС Республики Крым',\n",
       " 'instanceDate': '2021-05-14T18:26:48',\n",
       " 'documents': [{'document_name': 'Решение суда первой инстанции',\n",
       "   'document_date': '2021-05-14T00:00:00',\n",
       "   'document': 'http://kad.arbitr.ru/kad/pdfdocument/b6877332-626a-4c87-95f3-6f0d1930de5a/A83-21847-2020_20210514_Reshenija_i_postanovlenija.pdf',\n",
       "   'judge_name': 'Радвановская Ю. А.',\n",
       "   'court_name': 'АС Республики Крым'},\n",
       "  {'document_name': 'Об отложении судебного разбирательства',\n",
       "   'document_date': '2021-04-09T00:00:00',\n",
       "   'document': 'http://kad.arbitr.ru/kad/pdfdocument/492591af-bcca-4c31-9dac-98e8585e17a4/A83-21847-2020_20210409_Opredelenie.pdf',\n",
       "   'judge_name': 'Радвановская Ю. А.',\n",
       "   'court_name': 'АС Республики Крым'},\n",
       "  {'document_name': 'О рассмотрении заявления по общим правилам искового производства или по правилам административного судопроизводства',\n",
       "   'document_date': '2021-03-04T00:00:00',\n",
       "   'document': 'http://kad.arbitr.ru/kad/pdfdocument/656e12af-3741-426d-83b9-4a5ae204b3b6/A83-21847-2020_20210304_Opredelenie.pdf',\n",
       "   'judge_name': 'Радвановская Ю. А.',\n",
       "   'court_name': 'АС Республики Крым'},\n",
       "  {'document_name': 'О принятии заявления к производству с рассмотрением в порядке упрощенного производства',\n",
       "   'document_date': '2020-12-28T00:00:00',\n",
       "   'document': 'http://kad.arbitr.ru/kad/pdfdocument/42eb3468-c723-4130-ad55-497ecf4bd1f0/A83-21847-2020_20201228_Opredelenie.pdf',\n",
       "   'judge_name': 'Радвановская Ю. А.',\n",
       "   'court_name': 'АС Республики Крым'}],\n",
       " 'case_sides': [{'name': 'ИП Сумароков Игорь Александрович',\n",
       "   'type': 0,\n",
       "   'OGRN': '317910200076162',\n",
       "   'INN': '911007130682'},\n",
       "  {'name': 'АО НПТИ \"КОМПАНИЯ ЭКОНОМИКС\"',\n",
       "   'type': 1,\n",
       "   'OGRN': '1149102129659',\n",
       "   'INN': '9102060446'}]}"
      ]
     },
     "metadata": {},
     "output_type": "display_data"
    }
   ],
   "source": [
    "disp(file['cases_list'][0])"
   ]
  },
  {
   "cell_type": "markdown",
   "id": "35a4b6b2",
   "metadata": {},
   "source": [
    "### Формирование таблицы"
   ]
  },
  {
   "cell_type": "markdown",
   "id": "cc76230d",
   "metadata": {},
   "source": [
    "Сформируем из файлов единую таблицу.\n",
    "\n",
    "В таблицу не будем включать список документов (documents), так как уже на данном этапе ясно, что эта информация не представляет ценности для решения задачи.\n",
    "\n",
    "Сначала формируем список столбцов."
   ]
  },
  {
   "cell_type": "code",
   "execution_count": 51,
   "id": "8c07ebd3",
   "metadata": {},
   "outputs": [
    {
     "data": {
      "text/plain": [
       "['inn',\n",
       " 'caseNo',\n",
       " 'resultType',\n",
       " 'caseDate',\n",
       " 'caseType',\n",
       " 'sum',\n",
       " 'currency',\n",
       " 'isActive',\n",
       " 'currentInstance',\n",
       " 'instanceDate',\n",
       " 'case_sides']"
      ]
     },
     "execution_count": 51,
     "metadata": {},
     "output_type": "execute_result"
    }
   ],
   "source": [
    "with open(os.path.join(path_court, filenames[0]), 'rb') as f:\n",
    "    file = pickle.load(f)\n",
    "df_court_dict_cols = []\n",
    "for key in file['cases_list'][0].keys():\n",
    "    df_court_dict_cols.append(key)\n",
    "del df_court_dict_cols[-2]\n",
    "df_court_dict_cols.insert(0, 'inn')\n",
    "df_court_dict_cols"
   ]
  },
  {
   "cell_type": "markdown",
   "id": "7a6e5cd4",
   "metadata": {},
   "source": [
    "Заполним таблицу.\n",
    "\n",
    "Если в файле нет информации ни об одном суде (компания не судилась), заполним поля максимально нейтральными данными.\n",
    "\n",
    "Для компактности поле case_type заполним только кодом, без расшифровки. Расшифровку сохраним отдельно.\n",
    "\n",
    "В поле case_sides укажем только сторону, которую занимает рассматриваемая компания (соотнесём по ИНН)."
   ]
  },
  {
   "cell_type": "code",
   "execution_count": 52,
   "id": "e58cabce",
   "metadata": {},
   "outputs": [],
   "source": [
    "df_court = pd.DataFrame(\n",
    "    np.empty((0, len(df_court_dict_cols)), dtype='object'),\n",
    "    columns=df_court_dict_cols\n",
    ")\n",
    "\n",
    "dummies_amount = 0\n",
    "for filename in filenames:\n",
    "    with open(os.path.join(path_court, filename), 'rb') as f:\n",
    "        file = pickle.load(f)\n",
    "    df_court_file = pd.DataFrame(\n",
    "        np.empty((np.clip(len(file['cases_list']), 1, None), len(df_court_dict_cols)), dtype='object'),\n",
    "        columns=df_court_dict_cols\n",
    "    )\n",
    "    if len(file['cases_list']) > 0:\n",
    "        for i in np.arange(len(file['cases_list'])):\n",
    "            df_court_file.loc[i, 'inn'] = file['inn']\n",
    "            df_court_file.loc[i, 'caseNo'] = file['cases_list'][i]['caseNo']\n",
    "            df_court_file.loc[i, 'resultType'] = file['cases_list'][i]['resultType']\n",
    "            df_court_file.loc[i, 'caseDate'] = file['cases_list'][i]['caseDate']\n",
    "            df_court_file.loc[i, 'caseType'] = file['cases_list'][i]['caseType']['code']\n",
    "            df_court_file.loc[i, 'caseType_name'] = file['cases_list'][i]['caseType']['name']\n",
    "            df_court_file.loc[i, 'sum'] = file['cases_list'][i]['sum']\n",
    "            df_court_file.loc[i, 'currency'] = file['cases_list'][i]['currency']\n",
    "            df_court_file.loc[i, 'isActive'] = file['cases_list'][i]['isActive']\n",
    "            df_court_file.loc[i, 'currentInstance'] = file['cases_list'][i]['currentInstance']\n",
    "            df_court_file.loc[i, 'instanceDate'] = file['cases_list'][i]['instanceDate']\n",
    "            side_type = 0\n",
    "            for side in file['cases_list'][i]['case_sides']:\n",
    "                try:\n",
    "                    if int(side['INN']) == int(file['inn']):\n",
    "                        side_type = side['type']\n",
    "                        break\n",
    "                except:\n",
    "                    None\n",
    "            df_court_file.loc[i, 'case_sides'] = side_type\n",
    "    else:\n",
    "        dummies_amount += 1\n",
    "        i = 0\n",
    "        df_court_file.loc[i, 'inn'] = file['inn']\n",
    "        df_court_file.loc[i, 'caseNo'] = str(np.random.randint(1e10))\n",
    "        df_court_file.loc[i, 'resultType'] = 'Не удалось определить'\n",
    "        df_court_file.loc[i, 'caseDate'] = '2021-08-09T10:00:00'\n",
    "        df_court_file.loc[i, 'caseType'] = '90'\n",
    "        df_court_file.loc[i, 'caseType_name'] = 'не определено'\n",
    "        df_court_file.loc[i, 'sum'] = 0.0\n",
    "        df_court_file.loc[i, 'currency'] = 643\n",
    "        df_court_file.loc[i, 'isActive'] = False\n",
    "        df_court_file.loc[i, 'currentInstance'] = 'none'\n",
    "        df_court_file.loc[i, 'instanceDate'] = '2021-08-09T10:00:00'\n",
    "        df_court_file.loc[i, 'case_sides'] = 2\n",
    "    df_court = pd.concat((df_court, df_court_file))"
   ]
  },
  {
   "cell_type": "markdown",
   "id": "3833cf7c",
   "metadata": {},
   "source": [
    "Посмотрим, сколько компаний из выборки никогда не судилось."
   ]
  },
  {
   "cell_type": "code",
   "execution_count": 53,
   "id": "2b1ed56c",
   "metadata": {},
   "outputs": [
    {
     "data": {
      "text/plain": [
       "26"
      ]
     },
     "execution_count": 53,
     "metadata": {},
     "output_type": "execute_result"
    }
   ],
   "source": [
    "dummies_amount"
   ]
  },
  {
   "cell_type": "markdown",
   "id": "5dc1eef9",
   "metadata": {},
   "source": [
    "Всего таких - 26. Информация о них (о судах) заменена заглушками."
   ]
  },
  {
   "cell_type": "code",
   "execution_count": 54,
   "id": "95f8479a",
   "metadata": {},
   "outputs": [
    {
     "data": {
      "text/plain": [
       "{'6': 'экономические споры по гражданским правоотношениям',\n",
       " '5': 'экономические споры по административным правоотношениям',\n",
       " '90': 'не определено',\n",
       " '1': 'о несостоятельности (банкротстве) организаций и граждан',\n",
       " '73': 'об административных правонарушениях',\n",
       " '3': 'об оспаривании решений трет. судов и о выдаче исп. листов на принудительное исполнение решений трет. судов',\n",
       " '4': 'об установлении фактов, имеющих юридическое значение'}"
      ]
     },
     "execution_count": 54,
     "metadata": {},
     "output_type": "execute_result"
    }
   ],
   "source": [
    "df_caseType_names = (\n",
    "    df_court[['caseType', 'caseType_name']]\n",
    "    .drop_duplicates()\n",
    "    .set_index('caseType')['caseType_name']\n",
    "    .to_dict()\n",
    ")\n",
    "df_court = df_court.drop(columns='caseType_name')\n",
    "df_caseType_names"
   ]
  },
  {
   "cell_type": "markdown",
   "id": "c6be88d5",
   "metadata": {},
   "source": [
    "Удалим дубликаты."
   ]
  },
  {
   "cell_type": "code",
   "execution_count": 55,
   "id": "bef9e4a8",
   "metadata": {},
   "outputs": [],
   "source": [
    "df_court = df_court.drop_duplicates().reset_index(drop=True)"
   ]
  },
  {
   "cell_type": "code",
   "execution_count": 56,
   "id": "505ea812",
   "metadata": {},
   "outputs": [
    {
     "data": {
      "text/html": [
       "<div>\n",
       "<style scoped>\n",
       "    .dataframe tbody tr th:only-of-type {\n",
       "        vertical-align: middle;\n",
       "    }\n",
       "\n",
       "    .dataframe tbody tr th {\n",
       "        vertical-align: top;\n",
       "    }\n",
       "\n",
       "    .dataframe thead th {\n",
       "        text-align: right;\n",
       "    }\n",
       "</style>\n",
       "<table border=\"1\" class=\"dataframe\">\n",
       "  <thead>\n",
       "    <tr style=\"text-align: right;\">\n",
       "      <th></th>\n",
       "      <th>inn</th>\n",
       "      <th>caseNo</th>\n",
       "      <th>resultType</th>\n",
       "      <th>caseDate</th>\n",
       "      <th>caseType</th>\n",
       "      <th>sum</th>\n",
       "      <th>currency</th>\n",
       "      <th>isActive</th>\n",
       "      <th>currentInstance</th>\n",
       "      <th>instanceDate</th>\n",
       "      <th>case_sides</th>\n",
       "    </tr>\n",
       "  </thead>\n",
       "  <tbody>\n",
       "    <tr>\n",
       "      <th>0</th>\n",
       "      <td>1001003743</td>\n",
       "      <td>А26-5468/2020</td>\n",
       "      <td>Частично выиграно</td>\n",
       "      <td>2020-06-26T00:00:00</td>\n",
       "      <td>6</td>\n",
       "      <td>1459183.0</td>\n",
       "      <td>643</td>\n",
       "      <td>False</td>\n",
       "      <td>АС Республики Карелия</td>\n",
       "      <td>2021-07-07T00:00:00</td>\n",
       "      <td>0</td>\n",
       "    </tr>\n",
       "    <tr>\n",
       "      <th>1</th>\n",
       "      <td>1001003743</td>\n",
       "      <td>А26-2373/2014</td>\n",
       "      <td>Не удалось определить</td>\n",
       "      <td>2014-03-31T00:00:00</td>\n",
       "      <td>6</td>\n",
       "      <td>79200.0</td>\n",
       "      <td>643</td>\n",
       "      <td>False</td>\n",
       "      <td>АС Республики Карелия</td>\n",
       "      <td>2014-07-10T00:00:00</td>\n",
       "      <td>0</td>\n",
       "    </tr>\n",
       "    <tr>\n",
       "      <th>2</th>\n",
       "      <td>1001003743</td>\n",
       "      <td>А26-10653/2010</td>\n",
       "      <td>Выиграно</td>\n",
       "      <td>2010-12-20T00:00:00</td>\n",
       "      <td>5</td>\n",
       "      <td>0.0</td>\n",
       "      <td>643</td>\n",
       "      <td>False</td>\n",
       "      <td>АС Республики Карелия</td>\n",
       "      <td>2012-02-02T00:00:00</td>\n",
       "      <td>0</td>\n",
       "    </tr>\n",
       "    <tr>\n",
       "      <th>3</th>\n",
       "      <td>1001003743</td>\n",
       "      <td>А26-9908/2010</td>\n",
       "      <td>Не удалось определить</td>\n",
       "      <td>2010-11-22T00:00:00</td>\n",
       "      <td>5</td>\n",
       "      <td>0.0</td>\n",
       "      <td>643</td>\n",
       "      <td>False</td>\n",
       "      <td>ФАС Северо-Западного округа</td>\n",
       "      <td>2011-08-10T00:00:00</td>\n",
       "      <td>0</td>\n",
       "    </tr>\n",
       "    <tr>\n",
       "      <th>4</th>\n",
       "      <td>1001227084</td>\n",
       "      <td>5703390920</td>\n",
       "      <td>Не удалось определить</td>\n",
       "      <td>2021-08-09T10:00:00</td>\n",
       "      <td>90</td>\n",
       "      <td>0.0</td>\n",
       "      <td>643</td>\n",
       "      <td>False</td>\n",
       "      <td>none</td>\n",
       "      <td>2021-08-09T10:00:00</td>\n",
       "      <td>2</td>\n",
       "    </tr>\n",
       "  </tbody>\n",
       "</table>\n",
       "</div>"
      ],
      "text/plain": [
       "          inn          caseNo             resultType             caseDate  \\\n",
       "0  1001003743   А26-5468/2020      Частично выиграно  2020-06-26T00:00:00   \n",
       "1  1001003743   А26-2373/2014  Не удалось определить  2014-03-31T00:00:00   \n",
       "2  1001003743  А26-10653/2010               Выиграно  2010-12-20T00:00:00   \n",
       "3  1001003743   А26-9908/2010  Не удалось определить  2010-11-22T00:00:00   \n",
       "4  1001227084      5703390920  Не удалось определить  2021-08-09T10:00:00   \n",
       "\n",
       "  caseType        sum currency isActive              currentInstance  \\\n",
       "0        6  1459183.0      643    False        АС Республики Карелия   \n",
       "1        6    79200.0      643    False        АС Республики Карелия   \n",
       "2        5        0.0      643    False        АС Республики Карелия   \n",
       "3        5        0.0      643    False  ФАС Северо-Западного округа   \n",
       "4       90        0.0      643    False                         none   \n",
       "\n",
       "          instanceDate case_sides  \n",
       "0  2021-07-07T00:00:00          0  \n",
       "1  2014-07-10T00:00:00          0  \n",
       "2  2012-02-02T00:00:00          0  \n",
       "3  2011-08-10T00:00:00          0  \n",
       "4  2021-08-09T10:00:00          2  "
      ]
     },
     "execution_count": 56,
     "metadata": {},
     "output_type": "execute_result"
    }
   ],
   "source": [
    "df_court.head()"
   ]
  },
  {
   "cell_type": "code",
   "execution_count": 57,
   "id": "0aa00dad",
   "metadata": {},
   "outputs": [
    {
     "data": {
      "text/plain": [
       "(7970, 11)"
      ]
     },
     "execution_count": 57,
     "metadata": {},
     "output_type": "execute_result"
    }
   ],
   "source": [
    "df_court.shape"
   ]
  },
  {
   "cell_type": "markdown",
   "id": "a1d04798",
   "metadata": {},
   "source": [
    "### Обработка столбцов"
   ]
  },
  {
   "cell_type": "markdown",
   "id": "736d5e4c",
   "metadata": {},
   "source": [
    "Проверим некоторые столбцы, различаются ли в них значения."
   ]
  },
  {
   "cell_type": "code",
   "execution_count": 58,
   "id": "32592b33",
   "metadata": {},
   "outputs": [
    {
     "data": {
      "text/plain": [
       "6     6238\n",
       "5      933\n",
       "1      557\n",
       "90     183\n",
       "3       39\n",
       "4       13\n",
       "73       7\n",
       "Name: caseType, dtype: int64"
      ]
     },
     "execution_count": 58,
     "metadata": {},
     "output_type": "execute_result"
    }
   ],
   "source": [
    "df_court['caseType'].value_counts()"
   ]
  },
  {
   "cell_type": "code",
   "execution_count": 59,
   "id": "f874ba58",
   "metadata": {},
   "outputs": [
    {
     "data": {
      "text/plain": [
       "643    7970\n",
       "Name: currency, dtype: int64"
      ]
     },
     "execution_count": 59,
     "metadata": {},
     "output_type": "execute_result"
    }
   ],
   "source": [
    "df_court['currency'].value_counts()"
   ]
  },
  {
   "cell_type": "code",
   "execution_count": 60,
   "id": "5444b3e5",
   "metadata": {},
   "outputs": [
    {
     "data": {
      "text/plain": [
       "False    7744\n",
       "True      226\n",
       "Name: isActive, dtype: int64"
      ]
     },
     "execution_count": 60,
     "metadata": {},
     "output_type": "execute_result"
    }
   ],
   "source": [
    "df_court['isActive'].value_counts()"
   ]
  },
  {
   "cell_type": "markdown",
   "id": "b50c12ea",
   "metadata": {},
   "source": [
    "Удалим столбец currency, так как он содержит одинаковое для всех строк значение."
   ]
  },
  {
   "cell_type": "code",
   "execution_count": 61,
   "id": "c765deb7",
   "metadata": {},
   "outputs": [],
   "source": [
    "df_court = df_court.drop(columns='currency')"
   ]
  },
  {
   "cell_type": "code",
   "execution_count": 62,
   "id": "1d98f73f",
   "metadata": {},
   "outputs": [
    {
     "name": "stdout",
     "output_type": "stream",
     "text": [
      "<class 'pandas.core.frame.DataFrame'>\n",
      "RangeIndex: 7970 entries, 0 to 7969\n",
      "Data columns (total 10 columns):\n",
      " #   Column           Non-Null Count  Dtype \n",
      "---  ------           --------------  ----- \n",
      " 0   inn              7970 non-null   object\n",
      " 1   caseNo           7970 non-null   object\n",
      " 2   resultType       7970 non-null   object\n",
      " 3   caseDate         7970 non-null   object\n",
      " 4   caseType         7970 non-null   object\n",
      " 5   sum              7970 non-null   object\n",
      " 6   isActive         7970 non-null   object\n",
      " 7   currentInstance  7970 non-null   object\n",
      " 8   instanceDate     7970 non-null   object\n",
      " 9   case_sides       7970 non-null   object\n",
      "dtypes: object(10)\n",
      "memory usage: 622.8+ KB\n"
     ]
    }
   ],
   "source": [
    "df_court.info()"
   ]
  },
  {
   "cell_type": "markdown",
   "id": "5a9d7be8",
   "metadata": {},
   "source": [
    "### Приведение типов"
   ]
  },
  {
   "cell_type": "markdown",
   "id": "5ee0b01e",
   "metadata": {},
   "source": [
    "Выполним приведение типов, а также кодировку значений некоторых столбцов."
   ]
  },
  {
   "cell_type": "code",
   "execution_count": 63,
   "id": "660a3269",
   "metadata": {},
   "outputs": [],
   "source": [
    "df_court[['caseType', 'case_sides']] = df_court[['caseType', 'case_sides']].astype('int')\n",
    "df_court['inn'] = df_court['inn'].astype('int')\n",
    "df_court['sum'] = df_court['sum'].astype('float')"
   ]
  },
  {
   "cell_type": "code",
   "execution_count": 64,
   "id": "c4bb07fa",
   "metadata": {},
   "outputs": [
    {
     "data": {
      "text/plain": [
       "0    7744\n",
       "1     226\n",
       "Name: isActive, dtype: int64"
      ]
     },
     "execution_count": 64,
     "metadata": {},
     "output_type": "execute_result"
    }
   ],
   "source": [
    "df_court['isActive'] = df_court['isActive'].apply(lambda x: 1 if x == True else 0).astype('int')\n",
    "df_court['isActive'].value_counts()"
   ]
  },
  {
   "cell_type": "code",
   "execution_count": 65,
   "id": "355dc76c",
   "metadata": {},
   "outputs": [
    {
     "name": "stdout",
     "output_type": "stream",
     "text": [
      "<class 'pandas.core.frame.DataFrame'>\n",
      "RangeIndex: 7970 entries, 0 to 7969\n",
      "Data columns (total 10 columns):\n",
      " #   Column           Non-Null Count  Dtype  \n",
      "---  ------           --------------  -----  \n",
      " 0   inn              7970 non-null   int64  \n",
      " 1   caseNo           7970 non-null   object \n",
      " 2   resultType       7970 non-null   object \n",
      " 3   caseDate         7970 non-null   object \n",
      " 4   caseType         7970 non-null   int64  \n",
      " 5   sum              7970 non-null   float64\n",
      " 6   isActive         7970 non-null   int64  \n",
      " 7   currentInstance  7970 non-null   object \n",
      " 8   instanceDate     7970 non-null   object \n",
      " 9   case_sides       7970 non-null   int64  \n",
      "dtypes: float64(1), int64(4), object(5)\n",
      "memory usage: 622.8+ KB\n"
     ]
    }
   ],
   "source": [
    "df_court.info()"
   ]
  },
  {
   "cell_type": "code",
   "execution_count": 66,
   "id": "bebf4d80",
   "metadata": {},
   "outputs": [],
   "source": [
    "df_court['caseDate'] = pd.to_datetime(\n",
    "    df_court['caseDate'], format='%Y-%m-%d'\n",
    ").dt.normalize()"
   ]
  },
  {
   "cell_type": "markdown",
   "id": "dce4c0ea",
   "metadata": {},
   "source": [
    "Столбец instanceDate тоже следует привести к типу datetime, однако в нём была выявлена аномалия - некорректное значение года, что вызвало исключение.\n",
    "\n",
    "Необходимо обработать все аномалии и затем выполнить приведение."
   ]
  },
  {
   "cell_type": "markdown",
   "id": "93a4ac46",
   "metadata": {},
   "source": [
    "### Аномалии"
   ]
  },
  {
   "cell_type": "markdown",
   "id": "47e763cd",
   "metadata": {},
   "source": [
    "Проверим весь столбец на наличие подобных аномалий."
   ]
  },
  {
   "cell_type": "code",
   "execution_count": 67,
   "id": "822c08a4",
   "metadata": {},
   "outputs": [
    {
     "data": {
      "text/html": [
       "<div>\n",
       "<style scoped>\n",
       "    .dataframe tbody tr th:only-of-type {\n",
       "        vertical-align: middle;\n",
       "    }\n",
       "\n",
       "    .dataframe tbody tr th {\n",
       "        vertical-align: top;\n",
       "    }\n",
       "\n",
       "    .dataframe thead th {\n",
       "        text-align: right;\n",
       "    }\n",
       "</style>\n",
       "<table border=\"1\" class=\"dataframe\">\n",
       "  <thead>\n",
       "    <tr style=\"text-align: right;\">\n",
       "      <th></th>\n",
       "      <th>inn</th>\n",
       "      <th>caseNo</th>\n",
       "      <th>resultType</th>\n",
       "      <th>caseDate</th>\n",
       "      <th>caseType</th>\n",
       "      <th>sum</th>\n",
       "      <th>isActive</th>\n",
       "      <th>currentInstance</th>\n",
       "      <th>instanceDate</th>\n",
       "      <th>case_sides</th>\n",
       "    </tr>\n",
       "  </thead>\n",
       "  <tbody>\n",
       "    <tr>\n",
       "      <th>3205</th>\n",
       "      <td>3501000166</td>\n",
       "      <td>А76-10413/2009</td>\n",
       "      <td>Не удалось определить</td>\n",
       "      <td>2009-05-25</td>\n",
       "      <td>6</td>\n",
       "      <td>1344085.25</td>\n",
       "      <td>0</td>\n",
       "      <td>АС Челябинской области</td>\n",
       "      <td>7457-10-04T00:00:00</td>\n",
       "      <td>0</td>\n",
       "    </tr>\n",
       "  </tbody>\n",
       "</table>\n",
       "</div>"
      ],
      "text/plain": [
       "             inn          caseNo             resultType   caseDate  caseType  \\\n",
       "3205  3501000166  А76-10413/2009  Не удалось определить 2009-05-25         6   \n",
       "\n",
       "             sum  isActive         currentInstance         instanceDate  \\\n",
       "3205  1344085.25         0  АС Челябинской области  7457-10-04T00:00:00   \n",
       "\n",
       "      case_sides  \n",
       "3205           0  "
      ]
     },
     "execution_count": 67,
     "metadata": {},
     "output_type": "execute_result"
    }
   ],
   "source": [
    "anomalies_index = df_court['instanceDate'][\n",
    "    (df_court['instanceDate'].str.slice(start=0, stop=4).astype('int') < 1990)\n",
    "    | (df_court['instanceDate'].str.slice(start=0, stop=4).astype('int') > datetime.now().year)\n",
    "].index\n",
    "df_court.loc[anomalies_index]"
   ]
  },
  {
   "cell_type": "markdown",
   "id": "1988377e",
   "metadata": {},
   "source": [
    "Аномалия - единственная. Заменим её на значение из столбца caseDate, поскольку они близки по смыслу (дата открытия дела и дата последнего рассмотрения)."
   ]
  },
  {
   "cell_type": "code",
   "execution_count": 68,
   "id": "3bfb5583",
   "metadata": {},
   "outputs": [],
   "source": [
    "df_court.loc[anomalies_index, 'instanceDate'] = df_court.loc[anomalies_index, 'caseDate']\n",
    "df_court['instanceDate'] = pd.to_datetime(\n",
    "    df_court['instanceDate'], format='%Y-%m-%d'\n",
    ").dt.normalize()"
   ]
  },
  {
   "cell_type": "code",
   "execution_count": 69,
   "id": "755cdf70",
   "metadata": {},
   "outputs": [
    {
     "data": {
      "text/html": [
       "<div>\n",
       "<style scoped>\n",
       "    .dataframe tbody tr th:only-of-type {\n",
       "        vertical-align: middle;\n",
       "    }\n",
       "\n",
       "    .dataframe tbody tr th {\n",
       "        vertical-align: top;\n",
       "    }\n",
       "\n",
       "    .dataframe thead th {\n",
       "        text-align: right;\n",
       "    }\n",
       "</style>\n",
       "<table border=\"1\" class=\"dataframe\">\n",
       "  <thead>\n",
       "    <tr style=\"text-align: right;\">\n",
       "      <th></th>\n",
       "      <th>inn</th>\n",
       "      <th>caseNo</th>\n",
       "      <th>resultType</th>\n",
       "      <th>caseDate</th>\n",
       "      <th>caseType</th>\n",
       "      <th>sum</th>\n",
       "      <th>isActive</th>\n",
       "      <th>currentInstance</th>\n",
       "      <th>instanceDate</th>\n",
       "      <th>case_sides</th>\n",
       "    </tr>\n",
       "  </thead>\n",
       "  <tbody>\n",
       "    <tr>\n",
       "      <th>0</th>\n",
       "      <td>1001003743</td>\n",
       "      <td>А26-5468/2020</td>\n",
       "      <td>Частично выиграно</td>\n",
       "      <td>2020-06-26</td>\n",
       "      <td>6</td>\n",
       "      <td>1459183.0</td>\n",
       "      <td>0</td>\n",
       "      <td>АС Республики Карелия</td>\n",
       "      <td>2021-07-07</td>\n",
       "      <td>0</td>\n",
       "    </tr>\n",
       "    <tr>\n",
       "      <th>1</th>\n",
       "      <td>1001003743</td>\n",
       "      <td>А26-2373/2014</td>\n",
       "      <td>Не удалось определить</td>\n",
       "      <td>2014-03-31</td>\n",
       "      <td>6</td>\n",
       "      <td>79200.0</td>\n",
       "      <td>0</td>\n",
       "      <td>АС Республики Карелия</td>\n",
       "      <td>2014-07-10</td>\n",
       "      <td>0</td>\n",
       "    </tr>\n",
       "    <tr>\n",
       "      <th>2</th>\n",
       "      <td>1001003743</td>\n",
       "      <td>А26-10653/2010</td>\n",
       "      <td>Выиграно</td>\n",
       "      <td>2010-12-20</td>\n",
       "      <td>5</td>\n",
       "      <td>0.0</td>\n",
       "      <td>0</td>\n",
       "      <td>АС Республики Карелия</td>\n",
       "      <td>2012-02-02</td>\n",
       "      <td>0</td>\n",
       "    </tr>\n",
       "    <tr>\n",
       "      <th>3</th>\n",
       "      <td>1001003743</td>\n",
       "      <td>А26-9908/2010</td>\n",
       "      <td>Не удалось определить</td>\n",
       "      <td>2010-11-22</td>\n",
       "      <td>5</td>\n",
       "      <td>0.0</td>\n",
       "      <td>0</td>\n",
       "      <td>ФАС Северо-Западного округа</td>\n",
       "      <td>2011-08-10</td>\n",
       "      <td>0</td>\n",
       "    </tr>\n",
       "    <tr>\n",
       "      <th>4</th>\n",
       "      <td>1001227084</td>\n",
       "      <td>5703390920</td>\n",
       "      <td>Не удалось определить</td>\n",
       "      <td>2021-08-09</td>\n",
       "      <td>90</td>\n",
       "      <td>0.0</td>\n",
       "      <td>0</td>\n",
       "      <td>none</td>\n",
       "      <td>2021-08-09</td>\n",
       "      <td>2</td>\n",
       "    </tr>\n",
       "  </tbody>\n",
       "</table>\n",
       "</div>"
      ],
      "text/plain": [
       "          inn          caseNo             resultType   caseDate  caseType  \\\n",
       "0  1001003743   А26-5468/2020      Частично выиграно 2020-06-26         6   \n",
       "1  1001003743   А26-2373/2014  Не удалось определить 2014-03-31         6   \n",
       "2  1001003743  А26-10653/2010               Выиграно 2010-12-20         5   \n",
       "3  1001003743   А26-9908/2010  Не удалось определить 2010-11-22         5   \n",
       "4  1001227084      5703390920  Не удалось определить 2021-08-09        90   \n",
       "\n",
       "         sum  isActive              currentInstance instanceDate  case_sides  \n",
       "0  1459183.0         0        АС Республики Карелия   2021-07-07           0  \n",
       "1    79200.0         0        АС Республики Карелия   2014-07-10           0  \n",
       "2        0.0         0        АС Республики Карелия   2012-02-02           0  \n",
       "3        0.0         0  ФАС Северо-Западного округа   2011-08-10           0  \n",
       "4        0.0         0                         none   2021-08-09           2  "
      ]
     },
     "execution_count": 69,
     "metadata": {},
     "output_type": "execute_result"
    }
   ],
   "source": [
    "df_court.head()"
   ]
  },
  {
   "cell_type": "markdown",
   "id": "45eb0246",
   "metadata": {},
   "source": [
    "### Дубликаты"
   ]
  },
  {
   "cell_type": "markdown",
   "id": "4cc8f680",
   "metadata": {},
   "source": [
    "Исследуем дубликаты."
   ]
  },
  {
   "cell_type": "code",
   "execution_count": 70,
   "id": "6e70d5fd",
   "metadata": {},
   "outputs": [
    {
     "data": {
      "text/plain": [
       "174"
      ]
     },
     "execution_count": 70,
     "metadata": {},
     "output_type": "execute_result"
    }
   ],
   "source": [
    "df_court[df_court['caseNo'].duplicated(keep=False)].shape[0]"
   ]
  },
  {
   "cell_type": "code",
   "execution_count": 71,
   "id": "7313db83",
   "metadata": {},
   "outputs": [
    {
     "data": {
      "text/html": [
       "<div>\n",
       "<style scoped>\n",
       "    .dataframe tbody tr th:only-of-type {\n",
       "        vertical-align: middle;\n",
       "    }\n",
       "\n",
       "    .dataframe tbody tr th {\n",
       "        vertical-align: top;\n",
       "    }\n",
       "\n",
       "    .dataframe thead th {\n",
       "        text-align: right;\n",
       "    }\n",
       "</style>\n",
       "<table border=\"1\" class=\"dataframe\">\n",
       "  <thead>\n",
       "    <tr style=\"text-align: right;\">\n",
       "      <th></th>\n",
       "      <th>inn</th>\n",
       "      <th>caseNo</th>\n",
       "      <th>resultType</th>\n",
       "      <th>caseDate</th>\n",
       "      <th>caseType</th>\n",
       "      <th>sum</th>\n",
       "      <th>isActive</th>\n",
       "      <th>currentInstance</th>\n",
       "      <th>instanceDate</th>\n",
       "      <th>case_sides</th>\n",
       "    </tr>\n",
       "  </thead>\n",
       "  <tbody>\n",
       "    <tr>\n",
       "      <th>24</th>\n",
       "      <td>1020010136</td>\n",
       "      <td>А26-5094/2018</td>\n",
       "      <td>Проиграно</td>\n",
       "      <td>2018-05-30</td>\n",
       "      <td>6</td>\n",
       "      <td>681100.24</td>\n",
       "      <td>0</td>\n",
       "      <td>АС Республики Карелия</td>\n",
       "      <td>2018-08-10</td>\n",
       "      <td>1</td>\n",
       "    </tr>\n",
       "    <tr>\n",
       "      <th>25</th>\n",
       "      <td>1020010136</td>\n",
       "      <td>А26-5094/2018</td>\n",
       "      <td>Иск полностью удовлетворен</td>\n",
       "      <td>2018-05-30</td>\n",
       "      <td>6</td>\n",
       "      <td>681100.24</td>\n",
       "      <td>0</td>\n",
       "      <td>АС Республики Карелия</td>\n",
       "      <td>2018-08-10</td>\n",
       "      <td>1</td>\n",
       "    </tr>\n",
       "    <tr>\n",
       "      <th>42</th>\n",
       "      <td>1020010136</td>\n",
       "      <td>А26-11429/2017</td>\n",
       "      <td>Выиграно</td>\n",
       "      <td>2017-11-08</td>\n",
       "      <td>1</td>\n",
       "      <td>32651260.11</td>\n",
       "      <td>0</td>\n",
       "      <td>АС Республики Карелия</td>\n",
       "      <td>2021-01-13</td>\n",
       "      <td>0</td>\n",
       "    </tr>\n",
       "    <tr>\n",
       "      <th>43</th>\n",
       "      <td>1020010136</td>\n",
       "      <td>А26-11429/2017</td>\n",
       "      <td>Проиграно</td>\n",
       "      <td>2017-11-08</td>\n",
       "      <td>1</td>\n",
       "      <td>32651260.11</td>\n",
       "      <td>0</td>\n",
       "      <td>АС Республики Карелия</td>\n",
       "      <td>2021-01-13</td>\n",
       "      <td>0</td>\n",
       "    </tr>\n",
       "    <tr>\n",
       "      <th>52</th>\n",
       "      <td>1020010136</td>\n",
       "      <td>А26-7261/2017</td>\n",
       "      <td>Проиграно</td>\n",
       "      <td>2017-07-25</td>\n",
       "      <td>6</td>\n",
       "      <td>835095.19</td>\n",
       "      <td>0</td>\n",
       "      <td>АС Республики Карелия</td>\n",
       "      <td>2017-11-01</td>\n",
       "      <td>1</td>\n",
       "    </tr>\n",
       "    <tr>\n",
       "      <th>53</th>\n",
       "      <td>1020010136</td>\n",
       "      <td>А26-7261/2017</td>\n",
       "      <td>Иск полностью удовлетворен</td>\n",
       "      <td>2017-07-25</td>\n",
       "      <td>6</td>\n",
       "      <td>835095.19</td>\n",
       "      <td>0</td>\n",
       "      <td>АС Республики Карелия</td>\n",
       "      <td>2017-11-01</td>\n",
       "      <td>1</td>\n",
       "    </tr>\n",
       "    <tr>\n",
       "      <th>331</th>\n",
       "      <td>1203000142</td>\n",
       "      <td>А65-19288/2013</td>\n",
       "      <td>Выиграно</td>\n",
       "      <td>2013-08-28</td>\n",
       "      <td>1</td>\n",
       "      <td>18305.41</td>\n",
       "      <td>0</td>\n",
       "      <td>АС Республики Татарстан</td>\n",
       "      <td>2015-05-14</td>\n",
       "      <td>0</td>\n",
       "    </tr>\n",
       "    <tr>\n",
       "      <th>332</th>\n",
       "      <td>1203000142</td>\n",
       "      <td>А65-19288/2013</td>\n",
       "      <td>Иск полностью удовлетворен</td>\n",
       "      <td>2013-08-28</td>\n",
       "      <td>1</td>\n",
       "      <td>18305.41</td>\n",
       "      <td>0</td>\n",
       "      <td>АС Республики Татарстан</td>\n",
       "      <td>2015-05-14</td>\n",
       "      <td>0</td>\n",
       "    </tr>\n",
       "    <tr>\n",
       "      <th>391</th>\n",
       "      <td>1203000142</td>\n",
       "      <td>А17-221/2010</td>\n",
       "      <td>Проиграно</td>\n",
       "      <td>2010-01-19</td>\n",
       "      <td>1</td>\n",
       "      <td>30463245.73</td>\n",
       "      <td>0</td>\n",
       "      <td>АС Волго-Вятского округа</td>\n",
       "      <td>2016-04-11</td>\n",
       "      <td>1</td>\n",
       "    </tr>\n",
       "    <tr>\n",
       "      <th>392</th>\n",
       "      <td>1203000142</td>\n",
       "      <td>А17-221/2010</td>\n",
       "      <td>Иск полностью удовлетворен</td>\n",
       "      <td>2010-01-19</td>\n",
       "      <td>1</td>\n",
       "      <td>30463245.73</td>\n",
       "      <td>0</td>\n",
       "      <td>АС Волго-Вятского округа</td>\n",
       "      <td>2016-04-11</td>\n",
       "      <td>1</td>\n",
       "    </tr>\n",
       "  </tbody>\n",
       "</table>\n",
       "</div>"
      ],
      "text/plain": [
       "            inn          caseNo                  resultType   caseDate  \\\n",
       "24   1020010136   А26-5094/2018                   Проиграно 2018-05-30   \n",
       "25   1020010136   А26-5094/2018  Иск полностью удовлетворен 2018-05-30   \n",
       "42   1020010136  А26-11429/2017                    Выиграно 2017-11-08   \n",
       "43   1020010136  А26-11429/2017                   Проиграно 2017-11-08   \n",
       "52   1020010136   А26-7261/2017                   Проиграно 2017-07-25   \n",
       "53   1020010136   А26-7261/2017  Иск полностью удовлетворен 2017-07-25   \n",
       "331  1203000142  А65-19288/2013                    Выиграно 2013-08-28   \n",
       "332  1203000142  А65-19288/2013  Иск полностью удовлетворен 2013-08-28   \n",
       "391  1203000142    А17-221/2010                   Проиграно 2010-01-19   \n",
       "392  1203000142    А17-221/2010  Иск полностью удовлетворен 2010-01-19   \n",
       "\n",
       "     caseType          sum  isActive           currentInstance instanceDate  \\\n",
       "24          6    681100.24         0     АС Республики Карелия   2018-08-10   \n",
       "25          6    681100.24         0     АС Республики Карелия   2018-08-10   \n",
       "42          1  32651260.11         0     АС Республики Карелия   2021-01-13   \n",
       "43          1  32651260.11         0     АС Республики Карелия   2021-01-13   \n",
       "52          6    835095.19         0     АС Республики Карелия   2017-11-01   \n",
       "53          6    835095.19         0     АС Республики Карелия   2017-11-01   \n",
       "331         1     18305.41         0   АС Республики Татарстан   2015-05-14   \n",
       "332         1     18305.41         0   АС Республики Татарстан   2015-05-14   \n",
       "391         1  30463245.73         0  АС Волго-Вятского округа   2016-04-11   \n",
       "392         1  30463245.73         0  АС Волго-Вятского округа   2016-04-11   \n",
       "\n",
       "     case_sides  \n",
       "24            1  \n",
       "25            1  \n",
       "42            0  \n",
       "43            0  \n",
       "52            1  \n",
       "53            1  \n",
       "331           0  \n",
       "332           0  \n",
       "391           1  \n",
       "392           1  "
      ]
     },
     "execution_count": 71,
     "metadata": {},
     "output_type": "execute_result"
    }
   ],
   "source": [
    "df_court[df_court['caseNo'].duplicated(keep=False)].head(10)"
   ]
  },
  {
   "cell_type": "markdown",
   "id": "fc1863fe",
   "metadata": {},
   "source": [
    "Дубликаты различаются по столбцу resultType. Причём в одних случаях значения resultType в пределах одного caseNo противоречат друг другу, а в других - совпадают по смыслу.\n",
    "\n",
    "Рассмотрим значения resultType."
   ]
  },
  {
   "cell_type": "code",
   "execution_count": 72,
   "id": "9619829d",
   "metadata": {},
   "outputs": [
    {
     "data": {
      "text/plain": [
       "Не удалось определить                                          4274\n",
       "Проиграно                                                      1417\n",
       "Выиграно                                                        911\n",
       "Частично проиграно                                              264\n",
       "Не выиграно                                                     244\n",
       "Частично выиграно                                               233\n",
       "Не проиграно                                                    229\n",
       "Иск полностью удовлетворен                                      193\n",
       "В иске отказано полностью                                       121\n",
       "Иск частично удовлетворен                                        40\n",
       "Утверждено мировое соглашение                                    24\n",
       "Иск не рассмотрен                                                14\n",
       "Прекращено производство по делу                                   3\n",
       "Иск полностью удовлетворен, встречный частично удовлетворен       1\n",
       "Иск частично удовлетворен, встречный не удовлетворен              1\n",
       "В иске отказано частично                                          1\n",
       "Name: resultType, dtype: int64"
      ]
     },
     "execution_count": 72,
     "metadata": {},
     "output_type": "execute_result"
    }
   ],
   "source": [
    "df_court['resultType'].value_counts()"
   ]
  },
  {
   "cell_type": "markdown",
   "id": "a384a5fd",
   "metadata": {},
   "source": [
    "Закодируем значения resultType следующим образом:\n",
    "* 0: положительный исход;\n",
    "* 1: отрицательный исход;\n",
    "* 2: исход не определён."
   ]
  },
  {
   "cell_type": "code",
   "execution_count": 73,
   "id": "839bace7",
   "metadata": {},
   "outputs": [],
   "source": [
    "resultType_encode_dict = {\n",
    "    'Не удалось определить': 2,\n",
    "    'Проиграно': 0,\n",
    "    'Выиграно': 1, \n",
    "    'Частично проиграно': 0,\n",
    "    'Не выиграно': 2,\n",
    "    'Частично выиграно': 1,\n",
    "    'Не проиграно': 2,\n",
    "    'Иск полностью удовлетворен': 1,\n",
    "    'В иске отказано полностью': 0,\n",
    "    'Иск частично удовлетворен': 1,\n",
    "    'Утверждено мировое соглашение': 1,\n",
    "    'Иск не рассмотрен': 2,\n",
    "    'Прекращено производство по делу': 2,\n",
    "    'Иск полностью удовлетворен, встречный частично удовлетворен': 1,\n",
    "    'Иск частично удовлетворен, встречный не удовлетворен': 1,\n",
    "    'В иске отказано частично': 0,\n",
    "}"
   ]
  },
  {
   "cell_type": "markdown",
   "id": "a7c160ee",
   "metadata": {},
   "source": [
    "Мировое соглашение можно интерпретировать и как положительный, и как отрицательный исход в зависимости от того, какую сторону представляет компания в суде, истца или ответчика. Стороны договорились в суде, но не понятно, кто кому уступил. Поскольку таких случаев в выборке немного, просто отнесём результат к неопределённому."
   ]
  },
  {
   "cell_type": "code",
   "execution_count": 74,
   "id": "51215fb2",
   "metadata": {},
   "outputs": [
    {
     "data": {
      "text/plain": [
       "2    4764\n",
       "0    1803\n",
       "1    1403\n",
       "Name: resultType, dtype: int64"
      ]
     },
     "execution_count": 74,
     "metadata": {},
     "output_type": "execute_result"
    }
   ],
   "source": [
    "df_court['resultType'] = df_court['resultType'].apply(\n",
    "    lambda x: resultType_encode_dict[x]\n",
    ").astype('int')\n",
    "df_court['resultType'].value_counts()"
   ]
  },
  {
   "cell_type": "markdown",
   "id": "46f0197f",
   "metadata": {},
   "source": [
    "Удалим полностью продублированные строки: будут удалены те, в которых совпадают закодированные исходы дела."
   ]
  },
  {
   "cell_type": "code",
   "execution_count": 75,
   "id": "c9f46a2b",
   "metadata": {},
   "outputs": [
    {
     "data": {
      "text/plain": [
       "27"
      ]
     },
     "execution_count": 75,
     "metadata": {},
     "output_type": "execute_result"
    }
   ],
   "source": [
    "df_court[df_court.duplicated()].shape[0]"
   ]
  },
  {
   "cell_type": "code",
   "execution_count": 76,
   "id": "0dde14ad",
   "metadata": {},
   "outputs": [],
   "source": [
    "df_court = df_court.drop_duplicates().reset_index(drop=True)"
   ]
  },
  {
   "cell_type": "markdown",
   "id": "f3c6d32e",
   "metadata": {},
   "source": [
    "Остались только противоречащие друг другу дубликаты."
   ]
  },
  {
   "cell_type": "code",
   "execution_count": 77,
   "id": "b3dd2a05",
   "metadata": {},
   "outputs": [
    {
     "data": {
      "text/html": [
       "<div>\n",
       "<style scoped>\n",
       "    .dataframe tbody tr th:only-of-type {\n",
       "        vertical-align: middle;\n",
       "    }\n",
       "\n",
       "    .dataframe tbody tr th {\n",
       "        vertical-align: top;\n",
       "    }\n",
       "\n",
       "    .dataframe thead th {\n",
       "        text-align: right;\n",
       "    }\n",
       "</style>\n",
       "<table border=\"1\" class=\"dataframe\">\n",
       "  <thead>\n",
       "    <tr style=\"text-align: right;\">\n",
       "      <th></th>\n",
       "      <th>inn</th>\n",
       "      <th>caseNo</th>\n",
       "      <th>resultType</th>\n",
       "      <th>caseDate</th>\n",
       "      <th>caseType</th>\n",
       "      <th>sum</th>\n",
       "      <th>isActive</th>\n",
       "      <th>currentInstance</th>\n",
       "      <th>instanceDate</th>\n",
       "      <th>case_sides</th>\n",
       "    </tr>\n",
       "  </thead>\n",
       "  <tbody>\n",
       "    <tr>\n",
       "      <th>24</th>\n",
       "      <td>1020010136</td>\n",
       "      <td>А26-5094/2018</td>\n",
       "      <td>0</td>\n",
       "      <td>2018-05-30</td>\n",
       "      <td>6</td>\n",
       "      <td>681100.24</td>\n",
       "      <td>0</td>\n",
       "      <td>АС Республики Карелия</td>\n",
       "      <td>2018-08-10</td>\n",
       "      <td>1</td>\n",
       "    </tr>\n",
       "    <tr>\n",
       "      <th>25</th>\n",
       "      <td>1020010136</td>\n",
       "      <td>А26-5094/2018</td>\n",
       "      <td>1</td>\n",
       "      <td>2018-05-30</td>\n",
       "      <td>6</td>\n",
       "      <td>681100.24</td>\n",
       "      <td>0</td>\n",
       "      <td>АС Республики Карелия</td>\n",
       "      <td>2018-08-10</td>\n",
       "      <td>1</td>\n",
       "    </tr>\n",
       "    <tr>\n",
       "      <th>42</th>\n",
       "      <td>1020010136</td>\n",
       "      <td>А26-11429/2017</td>\n",
       "      <td>1</td>\n",
       "      <td>2017-11-08</td>\n",
       "      <td>1</td>\n",
       "      <td>32651260.11</td>\n",
       "      <td>0</td>\n",
       "      <td>АС Республики Карелия</td>\n",
       "      <td>2021-01-13</td>\n",
       "      <td>0</td>\n",
       "    </tr>\n",
       "    <tr>\n",
       "      <th>43</th>\n",
       "      <td>1020010136</td>\n",
       "      <td>А26-11429/2017</td>\n",
       "      <td>0</td>\n",
       "      <td>2017-11-08</td>\n",
       "      <td>1</td>\n",
       "      <td>32651260.11</td>\n",
       "      <td>0</td>\n",
       "      <td>АС Республики Карелия</td>\n",
       "      <td>2021-01-13</td>\n",
       "      <td>0</td>\n",
       "    </tr>\n",
       "    <tr>\n",
       "      <th>52</th>\n",
       "      <td>1020010136</td>\n",
       "      <td>А26-7261/2017</td>\n",
       "      <td>0</td>\n",
       "      <td>2017-07-25</td>\n",
       "      <td>6</td>\n",
       "      <td>835095.19</td>\n",
       "      <td>0</td>\n",
       "      <td>АС Республики Карелия</td>\n",
       "      <td>2017-11-01</td>\n",
       "      <td>1</td>\n",
       "    </tr>\n",
       "    <tr>\n",
       "      <th>53</th>\n",
       "      <td>1020010136</td>\n",
       "      <td>А26-7261/2017</td>\n",
       "      <td>1</td>\n",
       "      <td>2017-07-25</td>\n",
       "      <td>6</td>\n",
       "      <td>835095.19</td>\n",
       "      <td>0</td>\n",
       "      <td>АС Республики Карелия</td>\n",
       "      <td>2017-11-01</td>\n",
       "      <td>1</td>\n",
       "    </tr>\n",
       "    <tr>\n",
       "      <th>390</th>\n",
       "      <td>1203000142</td>\n",
       "      <td>А17-221/2010</td>\n",
       "      <td>0</td>\n",
       "      <td>2010-01-19</td>\n",
       "      <td>1</td>\n",
       "      <td>30463245.73</td>\n",
       "      <td>0</td>\n",
       "      <td>АС Волго-Вятского округа</td>\n",
       "      <td>2016-04-11</td>\n",
       "      <td>1</td>\n",
       "    </tr>\n",
       "    <tr>\n",
       "      <th>391</th>\n",
       "      <td>1203000142</td>\n",
       "      <td>А17-221/2010</td>\n",
       "      <td>1</td>\n",
       "      <td>2010-01-19</td>\n",
       "      <td>1</td>\n",
       "      <td>30463245.73</td>\n",
       "      <td>0</td>\n",
       "      <td>АС Волго-Вятского округа</td>\n",
       "      <td>2016-04-11</td>\n",
       "      <td>1</td>\n",
       "    </tr>\n",
       "    <tr>\n",
       "      <th>603</th>\n",
       "      <td>1435087440</td>\n",
       "      <td>А58-9369/2009</td>\n",
       "      <td>1</td>\n",
       "      <td>2009-10-29</td>\n",
       "      <td>6</td>\n",
       "      <td>46622.00</td>\n",
       "      <td>0</td>\n",
       "      <td>АС Республики Саха</td>\n",
       "      <td>2009-12-09</td>\n",
       "      <td>0</td>\n",
       "    </tr>\n",
       "    <tr>\n",
       "      <th>604</th>\n",
       "      <td>1435087440</td>\n",
       "      <td>А58-9369/2009</td>\n",
       "      <td>2</td>\n",
       "      <td>2009-10-29</td>\n",
       "      <td>6</td>\n",
       "      <td>46622.00</td>\n",
       "      <td>0</td>\n",
       "      <td>АС Республики Саха</td>\n",
       "      <td>2009-12-09</td>\n",
       "      <td>0</td>\n",
       "    </tr>\n",
       "  </tbody>\n",
       "</table>\n",
       "</div>"
      ],
      "text/plain": [
       "            inn          caseNo  resultType   caseDate  caseType          sum  \\\n",
       "24   1020010136   А26-5094/2018           0 2018-05-30         6    681100.24   \n",
       "25   1020010136   А26-5094/2018           1 2018-05-30         6    681100.24   \n",
       "42   1020010136  А26-11429/2017           1 2017-11-08         1  32651260.11   \n",
       "43   1020010136  А26-11429/2017           0 2017-11-08         1  32651260.11   \n",
       "52   1020010136   А26-7261/2017           0 2017-07-25         6    835095.19   \n",
       "53   1020010136   А26-7261/2017           1 2017-07-25         6    835095.19   \n",
       "390  1203000142    А17-221/2010           0 2010-01-19         1  30463245.73   \n",
       "391  1203000142    А17-221/2010           1 2010-01-19         1  30463245.73   \n",
       "603  1435087440   А58-9369/2009           1 2009-10-29         6     46622.00   \n",
       "604  1435087440   А58-9369/2009           2 2009-10-29         6     46622.00   \n",
       "\n",
       "     isActive           currentInstance instanceDate  case_sides  \n",
       "24          0     АС Республики Карелия   2018-08-10           1  \n",
       "25          0     АС Республики Карелия   2018-08-10           1  \n",
       "42          0     АС Республики Карелия   2021-01-13           0  \n",
       "43          0     АС Республики Карелия   2021-01-13           0  \n",
       "52          0     АС Республики Карелия   2017-11-01           1  \n",
       "53          0     АС Республики Карелия   2017-11-01           1  \n",
       "390         0  АС Волго-Вятского округа   2016-04-11           1  \n",
       "391         0  АС Волго-Вятского округа   2016-04-11           1  \n",
       "603         0        АС Республики Саха   2009-12-09           0  \n",
       "604         0        АС Республики Саха   2009-12-09           0  "
      ]
     },
     "execution_count": 77,
     "metadata": {},
     "output_type": "execute_result"
    }
   ],
   "source": [
    "df_court[df_court['caseNo'].duplicated(keep=False)].head(10)"
   ]
  },
  {
   "cell_type": "code",
   "execution_count": 78,
   "id": "2c07cfe3",
   "metadata": {},
   "outputs": [
    {
     "data": {
      "text/plain": [
       "62"
      ]
     },
     "metadata": {},
     "output_type": "display_data"
    },
    {
     "data": {
      "text/plain": [
       "0.007805615006924336"
      ]
     },
     "metadata": {},
     "output_type": "display_data"
    }
   ],
   "source": [
    "disp(df_court[df_court['caseNo'].duplicated()].shape[0])\n",
    "disp(df_court[df_court['caseNo'].duplicated()].shape[0] / df_court.shape[0])"
   ]
  },
  {
   "cell_type": "markdown",
   "id": "6199834f",
   "metadata": {},
   "source": [
    "Таких дубликатов - менее 1%, что не много.\n",
    "\n",
    "Удалим дубликаты."
   ]
  },
  {
   "cell_type": "code",
   "execution_count": 79,
   "id": "2cd1b5e0",
   "metadata": {},
   "outputs": [],
   "source": [
    "df_court = df_court.drop_duplicates(subset='caseNo').reset_index(drop=True)"
   ]
  },
  {
   "cell_type": "markdown",
   "id": "5e0d24d8",
   "metadata": {},
   "source": [
    "Идентификатор дела (столбец caseNo) сам по себе полезной информации не несёт. После удаления дубликатов он больше не нужен. Удалим его."
   ]
  },
  {
   "cell_type": "code",
   "execution_count": 80,
   "id": "e1fd9d90",
   "metadata": {},
   "outputs": [],
   "source": [
    "df_court = df_court.drop(columns='caseNo')"
   ]
  },
  {
   "cell_type": "markdown",
   "id": "4bb237ba",
   "metadata": {},
   "source": [
    "### Столбец currentInstance"
   ]
  },
  {
   "cell_type": "markdown",
   "id": "dff602e0",
   "metadata": {},
   "source": [
    "Рассмотрим численность случаев в разрезе по регионам."
   ]
  },
  {
   "cell_type": "code",
   "execution_count": 81,
   "id": "80dc1992",
   "metadata": {},
   "outputs": [
    {
     "data": {
      "text/plain": [
       "АС Челябинской области     509\n",
       "АС Смоленской области      457\n",
       "АС Вологодской области     435\n",
       "АС города Москвы           427\n",
       "АС Тверской области        300\n",
       "АС Московской области      297\n",
       "АС Хабаровского края       279\n",
       "АС Ярославской области     268\n",
       "АС Республики Татарстан    252\n",
       "АС Приморского края        233\n",
       "Name: currentInstance, dtype: int64"
      ]
     },
     "metadata": {},
     "output_type": "display_data"
    },
    {
     "data": {
      "text/plain": [
       "АС Курганской области               70\n",
       "АС Тюменской области                70\n",
       "АС Воронежской области              69\n",
       "7 арбитражный апелляционный суд     67\n",
       "АС Саратовской области              65\n",
       "Верховный Суд РФ                    64\n",
       "АС Республики Карелия               64\n",
       "АС Волгоградской области            61\n",
       "АС Кировской области                57\n",
       "11 арбитражный апелляционный суд    56\n",
       "Name: currentInstance, dtype: int64"
      ]
     },
     "metadata": {},
     "output_type": "display_data"
    },
    {
     "data": {
      "text/plain": [
       "АС Республики Адыгея              2\n",
       "ФАС Восточно-Сибирского округа    2\n",
       "АС Республики Крым                2\n",
       "АС Тамбовской области             1\n",
       "АС Новгородской области           1\n",
       "АС Сахалинской области            1\n",
       "АС Республики Дагестан            1\n",
       "АС Магаданской области            1\n",
       "Президиум Верховного Суда РФ      1\n",
       "АС Астраханской области           1\n",
       "Name: currentInstance, dtype: int64"
      ]
     },
     "metadata": {},
     "output_type": "display_data"
    }
   ],
   "source": [
    "disp(df_court['currentInstance'].value_counts()[:10])\n",
    "disp(df_court['currentInstance'].value_counts()[30:40])\n",
    "disp(df_court['currentInstance'].value_counts()[-10:])"
   ]
  },
  {
   "cell_type": "markdown",
   "id": "f0e0a022",
   "metadata": {},
   "source": [
    "С одной стороны, место рассмотрения дела не должно влиять на вероятность банкротства. Но, с другой стороны, мы наблюдаем, что количество дел от региона к региону различается на 1-2 порядка. Маловероятно, что деловая активность, например, в Тверской области (300 дел), в 150 раз интенсивнее, чем в Орловской (2 дела). Причина таких различий не очевидна, но, возможно, причинно-следственная связь действительно имеется, и модель сможет её найти.\n",
    "\n",
    "Оставим пока столбец currentInstance без изменений."
   ]
  },
  {
   "cell_type": "markdown",
   "id": "2c9857b2",
   "metadata": {},
   "source": [
    "### Столбец isActive"
   ]
  },
  {
   "cell_type": "markdown",
   "id": "f8aa75b0",
   "metadata": {},
   "source": [
    "Посмотрим, какое количество компаний ещё не завершило судебный спор и сколько из таких компаний уже признаны банкротом (есть в списке bankruptcies)."
   ]
  },
  {
   "cell_type": "code",
   "execution_count": 82,
   "id": "a95d5908",
   "metadata": {},
   "outputs": [
    {
     "data": {
      "text/plain": [
       "62"
      ]
     },
     "metadata": {},
     "output_type": "display_data"
    },
    {
     "data": {
      "text/plain": [
       "51"
      ]
     },
     "metadata": {},
     "output_type": "display_data"
    }
   ],
   "source": [
    "disp(df_court['inn'][df_court['isActive'] == 1].unique().shape[0])\n",
    "disp(\n",
    "    df_court['inn'][df_court['isActive'] == 1][\n",
    "        df_court['inn'][df_court['isActive'] == 1].isin(df_bank['inn'])\n",
    "    ].unique().shape[0]\n",
    ")"
   ]
  },
  {
   "cell_type": "markdown",
   "id": "15da470d",
   "metadata": {},
   "source": [
    "Около половины компаний судятся в настоящий момент, большинство из них признаны банкротом."
   ]
  },
  {
   "cell_type": "markdown",
   "id": "585fa358",
   "metadata": {},
   "source": [
    "### Некорректные даты"
   ]
  },
  {
   "cell_type": "markdown",
   "id": "f58800ba",
   "metadata": {},
   "source": [
    "Проверим, есть ли такие некорректные строки, где дата последнего судебного решения - более ранняя, чем дата возникновения кейса."
   ]
  },
  {
   "cell_type": "code",
   "execution_count": 83,
   "id": "49de12a0",
   "metadata": {},
   "outputs": [
    {
     "data": {
      "text/plain": [
       "4"
      ]
     },
     "metadata": {},
     "output_type": "display_data"
    },
    {
     "data": {
      "text/plain": [
       "2"
      ]
     },
     "metadata": {},
     "output_type": "display_data"
    },
    {
     "data": {
      "text/plain": [
       "379"
      ]
     },
     "metadata": {},
     "output_type": "display_data"
    }
   ],
   "source": [
    "inn_instance_more = df_court[\n",
    "    df_court['instanceDate'] < df_court['caseDate']\n",
    "]['inn'].unique()\n",
    "\n",
    "disp(df_court[df_court['instanceDate'] < df_court['caseDate']].shape[0])\n",
    "disp(inn_instance_more.shape[0])\n",
    "disp(df_court[df_court['inn'].isin(inn_instance_more)].shape[0])"
   ]
  },
  {
   "cell_type": "markdown",
   "id": "9b6d1970",
   "metadata": {},
   "source": [
    "Компаний, к которым относятся такие записи, - всего две, самих записей - четыре.\n",
    "\n",
    "Всего записей по этим двум компаниям - 379, поэтому удалять эти компании целиком мы не будем.\n",
    "\n",
    "Удалим только ошибочные записи."
   ]
  },
  {
   "cell_type": "code",
   "execution_count": 84,
   "id": "1cda84e6",
   "metadata": {},
   "outputs": [],
   "source": [
    "df_court = df_court.drop(\n",
    "    index=df_court[df_court['instanceDate'] < df_court['caseDate']].index\n",
    ").reset_index(drop=True)"
   ]
  },
  {
   "cell_type": "markdown",
   "id": "6ccbbbad",
   "metadata": {},
   "source": [
    "## Сопоставление таблиц"
   ]
  },
  {
   "cell_type": "markdown",
   "id": "03182766",
   "metadata": {},
   "source": [
    "### Полнота информации"
   ]
  },
  {
   "cell_type": "markdown",
   "id": "7753a1c1",
   "metadata": {},
   "source": [
    "Проверим, соответствуют ли друг другу данные в разных таблицах."
   ]
  },
  {
   "cell_type": "code",
   "execution_count": 85,
   "id": "e47d1b35",
   "metadata": {},
   "outputs": [
    {
     "data": {
      "text/plain": [
       "193"
      ]
     },
     "execution_count": 85,
     "metadata": {},
     "output_type": "execute_result"
    }
   ],
   "source": [
    "df_court['inn'].unique().shape[0]"
   ]
  },
  {
   "cell_type": "code",
   "execution_count": 86,
   "id": "84bede1a",
   "metadata": {},
   "outputs": [
    {
     "data": {
      "text/plain": [
       "166"
      ]
     },
     "execution_count": 86,
     "metadata": {},
     "output_type": "execute_result"
    }
   ],
   "source": [
    "df_acc['inn'].unique().shape[0]"
   ]
  },
  {
   "cell_type": "code",
   "execution_count": 87,
   "id": "5b3ad96a",
   "metadata": {},
   "outputs": [
    {
     "data": {
      "text/plain": [
       "166"
      ]
     },
     "execution_count": 87,
     "metadata": {},
     "output_type": "execute_result"
    }
   ],
   "source": [
    "df_acc['inn'][df_acc['inn'].isin(df_court['inn'])].unique().shape[0]"
   ]
  },
  {
   "cell_type": "code",
   "execution_count": 88,
   "id": "b22eb228",
   "metadata": {},
   "outputs": [
    {
     "data": {
      "text/plain": [
       "166"
      ]
     },
     "execution_count": 88,
     "metadata": {},
     "output_type": "execute_result"
    }
   ],
   "source": [
    "df_court['inn'][df_court['inn'].isin(df_acc['inn'])].unique().shape[0]"
   ]
  },
  {
   "cell_type": "markdown",
   "id": "815373d6",
   "metadata": {},
   "source": [
    "По 27 компаням есть данные о судах, но нет данных о бухгалтерской отчётности."
   ]
  },
  {
   "cell_type": "code",
   "execution_count": 89,
   "id": "1ee43737",
   "metadata": {},
   "outputs": [
    {
     "data": {
      "text/plain": [
       "47"
      ]
     },
     "metadata": {},
     "output_type": "display_data"
    },
    {
     "data": {
      "text/html": [
       "<div>\n",
       "<style scoped>\n",
       "    .dataframe tbody tr th:only-of-type {\n",
       "        vertical-align: middle;\n",
       "    }\n",
       "\n",
       "    .dataframe tbody tr th {\n",
       "        vertical-align: top;\n",
       "    }\n",
       "\n",
       "    .dataframe thead th {\n",
       "        text-align: right;\n",
       "    }\n",
       "</style>\n",
       "<table border=\"1\" class=\"dataframe\">\n",
       "  <thead>\n",
       "    <tr style=\"text-align: right;\">\n",
       "      <th></th>\n",
       "      <th>inn</th>\n",
       "      <th>resultType</th>\n",
       "      <th>caseDate</th>\n",
       "      <th>caseType</th>\n",
       "      <th>sum</th>\n",
       "      <th>isActive</th>\n",
       "      <th>currentInstance</th>\n",
       "      <th>instanceDate</th>\n",
       "      <th>case_sides</th>\n",
       "    </tr>\n",
       "  </thead>\n",
       "  <tbody>\n",
       "    <tr>\n",
       "      <th>4</th>\n",
       "      <td>1001227084</td>\n",
       "      <td>2</td>\n",
       "      <td>2021-08-09</td>\n",
       "      <td>90</td>\n",
       "      <td>0.00</td>\n",
       "      <td>0</td>\n",
       "      <td>none</td>\n",
       "      <td>2021-08-09</td>\n",
       "      <td>2</td>\n",
       "    </tr>\n",
       "    <tr>\n",
       "      <th>479</th>\n",
       "      <td>1214002504</td>\n",
       "      <td>2</td>\n",
       "      <td>2021-08-09</td>\n",
       "      <td>90</td>\n",
       "      <td>0.00</td>\n",
       "      <td>0</td>\n",
       "      <td>none</td>\n",
       "      <td>2021-08-09</td>\n",
       "      <td>2</td>\n",
       "    </tr>\n",
       "    <tr>\n",
       "      <th>602</th>\n",
       "      <td>1502000912</td>\n",
       "      <td>2</td>\n",
       "      <td>2021-08-09</td>\n",
       "      <td>90</td>\n",
       "      <td>0.00</td>\n",
       "      <td>0</td>\n",
       "      <td>none</td>\n",
       "      <td>2021-08-09</td>\n",
       "      <td>2</td>\n",
       "    </tr>\n",
       "    <tr>\n",
       "      <th>645</th>\n",
       "      <td>1511010480</td>\n",
       "      <td>2</td>\n",
       "      <td>2021-08-09</td>\n",
       "      <td>90</td>\n",
       "      <td>0.00</td>\n",
       "      <td>0</td>\n",
       "      <td>none</td>\n",
       "      <td>2021-08-09</td>\n",
       "      <td>2</td>\n",
       "    </tr>\n",
       "    <tr>\n",
       "      <th>1382</th>\n",
       "      <td>2302030982</td>\n",
       "      <td>2</td>\n",
       "      <td>2021-08-09</td>\n",
       "      <td>90</td>\n",
       "      <td>0.00</td>\n",
       "      <td>0</td>\n",
       "      <td>none</td>\n",
       "      <td>2021-08-09</td>\n",
       "      <td>2</td>\n",
       "    </tr>\n",
       "    <tr>\n",
       "      <th>1422</th>\n",
       "      <td>2312229520</td>\n",
       "      <td>2</td>\n",
       "      <td>2021-08-09</td>\n",
       "      <td>90</td>\n",
       "      <td>0.00</td>\n",
       "      <td>0</td>\n",
       "      <td>none</td>\n",
       "      <td>2021-08-09</td>\n",
       "      <td>2</td>\n",
       "    </tr>\n",
       "    <tr>\n",
       "      <th>2592</th>\n",
       "      <td>3334020354</td>\n",
       "      <td>2</td>\n",
       "      <td>2021-08-09</td>\n",
       "      <td>90</td>\n",
       "      <td>0.00</td>\n",
       "      <td>0</td>\n",
       "      <td>none</td>\n",
       "      <td>2021-08-09</td>\n",
       "      <td>2</td>\n",
       "    </tr>\n",
       "    <tr>\n",
       "      <th>3813</th>\n",
       "      <td>3607001642</td>\n",
       "      <td>2</td>\n",
       "      <td>2021-08-09</td>\n",
       "      <td>90</td>\n",
       "      <td>0.00</td>\n",
       "      <td>0</td>\n",
       "      <td>none</td>\n",
       "      <td>2021-08-09</td>\n",
       "      <td>2</td>\n",
       "    </tr>\n",
       "    <tr>\n",
       "      <th>3858</th>\n",
       "      <td>3721002810</td>\n",
       "      <td>2</td>\n",
       "      <td>2021-08-09</td>\n",
       "      <td>90</td>\n",
       "      <td>0.00</td>\n",
       "      <td>0</td>\n",
       "      <td>none</td>\n",
       "      <td>2021-08-09</td>\n",
       "      <td>2</td>\n",
       "    </tr>\n",
       "    <tr>\n",
       "      <th>4627</th>\n",
       "      <td>5045012446</td>\n",
       "      <td>2</td>\n",
       "      <td>2021-08-09</td>\n",
       "      <td>90</td>\n",
       "      <td>0.00</td>\n",
       "      <td>0</td>\n",
       "      <td>none</td>\n",
       "      <td>2021-08-09</td>\n",
       "      <td>2</td>\n",
       "    </tr>\n",
       "    <tr>\n",
       "      <th>4634</th>\n",
       "      <td>5222071273</td>\n",
       "      <td>2</td>\n",
       "      <td>2021-08-09</td>\n",
       "      <td>90</td>\n",
       "      <td>0.00</td>\n",
       "      <td>0</td>\n",
       "      <td>none</td>\n",
       "      <td>2021-08-09</td>\n",
       "      <td>2</td>\n",
       "    </tr>\n",
       "    <tr>\n",
       "      <th>4653</th>\n",
       "      <td>5236003347</td>\n",
       "      <td>2</td>\n",
       "      <td>2021-08-09</td>\n",
       "      <td>90</td>\n",
       "      <td>0.00</td>\n",
       "      <td>0</td>\n",
       "      <td>none</td>\n",
       "      <td>2021-08-09</td>\n",
       "      <td>2</td>\n",
       "    </tr>\n",
       "    <tr>\n",
       "      <th>4655</th>\n",
       "      <td>5402548780</td>\n",
       "      <td>2</td>\n",
       "      <td>2021-08-09</td>\n",
       "      <td>90</td>\n",
       "      <td>0.00</td>\n",
       "      <td>0</td>\n",
       "      <td>none</td>\n",
       "      <td>2021-08-09</td>\n",
       "      <td>2</td>\n",
       "    </tr>\n",
       "    <tr>\n",
       "      <th>4756</th>\n",
       "      <td>5418101324</td>\n",
       "      <td>2</td>\n",
       "      <td>2021-08-09</td>\n",
       "      <td>90</td>\n",
       "      <td>0.00</td>\n",
       "      <td>0</td>\n",
       "      <td>none</td>\n",
       "      <td>2021-08-09</td>\n",
       "      <td>2</td>\n",
       "    </tr>\n",
       "    <tr>\n",
       "      <th>4757</th>\n",
       "      <td>5436110191</td>\n",
       "      <td>2</td>\n",
       "      <td>2021-08-09</td>\n",
       "      <td>90</td>\n",
       "      <td>0.00</td>\n",
       "      <td>0</td>\n",
       "      <td>none</td>\n",
       "      <td>2021-08-09</td>\n",
       "      <td>2</td>\n",
       "    </tr>\n",
       "    <tr>\n",
       "      <th>5087</th>\n",
       "      <td>5535007195</td>\n",
       "      <td>2</td>\n",
       "      <td>2021-08-09</td>\n",
       "      <td>90</td>\n",
       "      <td>0.00</td>\n",
       "      <td>0</td>\n",
       "      <td>none</td>\n",
       "      <td>2021-08-09</td>\n",
       "      <td>2</td>\n",
       "    </tr>\n",
       "    <tr>\n",
       "      <th>5352</th>\n",
       "      <td>6128002570</td>\n",
       "      <td>2</td>\n",
       "      <td>2021-08-09</td>\n",
       "      <td>90</td>\n",
       "      <td>0.00</td>\n",
       "      <td>0</td>\n",
       "      <td>none</td>\n",
       "      <td>2021-08-09</td>\n",
       "      <td>2</td>\n",
       "    </tr>\n",
       "    <tr>\n",
       "      <th>5378</th>\n",
       "      <td>6317141403</td>\n",
       "      <td>2</td>\n",
       "      <td>2021-08-09</td>\n",
       "      <td>90</td>\n",
       "      <td>0.00</td>\n",
       "      <td>0</td>\n",
       "      <td>none</td>\n",
       "      <td>2021-08-09</td>\n",
       "      <td>2</td>\n",
       "    </tr>\n",
       "    <tr>\n",
       "      <th>5391</th>\n",
       "      <td>6324040438</td>\n",
       "      <td>2</td>\n",
       "      <td>2021-08-09</td>\n",
       "      <td>90</td>\n",
       "      <td>0.00</td>\n",
       "      <td>0</td>\n",
       "      <td>none</td>\n",
       "      <td>2021-08-09</td>\n",
       "      <td>2</td>\n",
       "    </tr>\n",
       "    <tr>\n",
       "      <th>6229</th>\n",
       "      <td>6810000105</td>\n",
       "      <td>2</td>\n",
       "      <td>2021-08-09</td>\n",
       "      <td>90</td>\n",
       "      <td>0.00</td>\n",
       "      <td>0</td>\n",
       "      <td>none</td>\n",
       "      <td>2021-08-09</td>\n",
       "      <td>2</td>\n",
       "    </tr>\n",
       "    <tr>\n",
       "      <th>7033</th>\n",
       "      <td>7622005092</td>\n",
       "      <td>2</td>\n",
       "      <td>2021-08-09</td>\n",
       "      <td>90</td>\n",
       "      <td>0.00</td>\n",
       "      <td>0</td>\n",
       "      <td>none</td>\n",
       "      <td>2021-08-09</td>\n",
       "      <td>2</td>\n",
       "    </tr>\n",
       "    <tr>\n",
       "      <th>7176</th>\n",
       "      <td>7706237861</td>\n",
       "      <td>2</td>\n",
       "      <td>2021-08-09</td>\n",
       "      <td>90</td>\n",
       "      <td>0.00</td>\n",
       "      <td>0</td>\n",
       "      <td>none</td>\n",
       "      <td>2021-08-09</td>\n",
       "      <td>2</td>\n",
       "    </tr>\n",
       "    <tr>\n",
       "      <th>7194</th>\n",
       "      <td>7709880887</td>\n",
       "      <td>2</td>\n",
       "      <td>2021-08-09</td>\n",
       "      <td>90</td>\n",
       "      <td>0.00</td>\n",
       "      <td>0</td>\n",
       "      <td>none</td>\n",
       "      <td>2021-08-09</td>\n",
       "      <td>2</td>\n",
       "    </tr>\n",
       "    <tr>\n",
       "      <th>7230</th>\n",
       "      <td>7719807082</td>\n",
       "      <td>2</td>\n",
       "      <td>2021-08-09</td>\n",
       "      <td>90</td>\n",
       "      <td>0.00</td>\n",
       "      <td>0</td>\n",
       "      <td>none</td>\n",
       "      <td>2021-08-09</td>\n",
       "      <td>2</td>\n",
       "    </tr>\n",
       "    <tr>\n",
       "      <th>7231</th>\n",
       "      <td>7722308044</td>\n",
       "      <td>2</td>\n",
       "      <td>2021-08-09</td>\n",
       "      <td>90</td>\n",
       "      <td>0.00</td>\n",
       "      <td>0</td>\n",
       "      <td>none</td>\n",
       "      <td>2021-08-09</td>\n",
       "      <td>2</td>\n",
       "    </tr>\n",
       "    <tr>\n",
       "      <th>7640</th>\n",
       "      <td>7733535610</td>\n",
       "      <td>0</td>\n",
       "      <td>2020-06-30</td>\n",
       "      <td>5</td>\n",
       "      <td>3751.68</td>\n",
       "      <td>0</td>\n",
       "      <td>АС города Москвы</td>\n",
       "      <td>2020-08-26</td>\n",
       "      <td>1</td>\n",
       "    </tr>\n",
       "    <tr>\n",
       "      <th>7641</th>\n",
       "      <td>7733535610</td>\n",
       "      <td>0</td>\n",
       "      <td>2019-01-23</td>\n",
       "      <td>5</td>\n",
       "      <td>12639.73</td>\n",
       "      <td>0</td>\n",
       "      <td>АС города Москвы</td>\n",
       "      <td>2019-03-11</td>\n",
       "      <td>1</td>\n",
       "    </tr>\n",
       "    <tr>\n",
       "      <th>7642</th>\n",
       "      <td>7733535610</td>\n",
       "      <td>2</td>\n",
       "      <td>2018-08-14</td>\n",
       "      <td>1</td>\n",
       "      <td>0.00</td>\n",
       "      <td>0</td>\n",
       "      <td>АС города Москвы</td>\n",
       "      <td>2018-10-10</td>\n",
       "      <td>1</td>\n",
       "    </tr>\n",
       "    <tr>\n",
       "      <th>7643</th>\n",
       "      <td>7733535610</td>\n",
       "      <td>0</td>\n",
       "      <td>2017-12-27</td>\n",
       "      <td>5</td>\n",
       "      <td>4500.00</td>\n",
       "      <td>0</td>\n",
       "      <td>АС города Москвы</td>\n",
       "      <td>2018-03-24</td>\n",
       "      <td>1</td>\n",
       "    </tr>\n",
       "    <tr>\n",
       "      <th>7644</th>\n",
       "      <td>7733535610</td>\n",
       "      <td>1</td>\n",
       "      <td>2017-10-26</td>\n",
       "      <td>6</td>\n",
       "      <td>6325000.00</td>\n",
       "      <td>0</td>\n",
       "      <td>9 арбитражный апелляционный суд</td>\n",
       "      <td>2018-05-25</td>\n",
       "      <td>2</td>\n",
       "    </tr>\n",
       "    <tr>\n",
       "      <th>7645</th>\n",
       "      <td>7733535610</td>\n",
       "      <td>0</td>\n",
       "      <td>2017-03-23</td>\n",
       "      <td>5</td>\n",
       "      <td>3000.00</td>\n",
       "      <td>0</td>\n",
       "      <td>АС города Москвы</td>\n",
       "      <td>2017-04-28</td>\n",
       "      <td>1</td>\n",
       "    </tr>\n",
       "    <tr>\n",
       "      <th>7646</th>\n",
       "      <td>7733535610</td>\n",
       "      <td>0</td>\n",
       "      <td>2016-02-03</td>\n",
       "      <td>6</td>\n",
       "      <td>308000.00</td>\n",
       "      <td>0</td>\n",
       "      <td>9 арбитражный апелляционный суд</td>\n",
       "      <td>2016-09-06</td>\n",
       "      <td>1</td>\n",
       "    </tr>\n",
       "    <tr>\n",
       "      <th>7647</th>\n",
       "      <td>7733535610</td>\n",
       "      <td>2</td>\n",
       "      <td>2015-11-23</td>\n",
       "      <td>6</td>\n",
       "      <td>308000.00</td>\n",
       "      <td>0</td>\n",
       "      <td>АС Московской области</td>\n",
       "      <td>2016-01-21</td>\n",
       "      <td>1</td>\n",
       "    </tr>\n",
       "    <tr>\n",
       "      <th>7648</th>\n",
       "      <td>7733535610</td>\n",
       "      <td>2</td>\n",
       "      <td>2015-08-20</td>\n",
       "      <td>1</td>\n",
       "      <td>0.00</td>\n",
       "      <td>0</td>\n",
       "      <td>АС города Москвы</td>\n",
       "      <td>2016-11-16</td>\n",
       "      <td>1</td>\n",
       "    </tr>\n",
       "    <tr>\n",
       "      <th>7649</th>\n",
       "      <td>7733535610</td>\n",
       "      <td>0</td>\n",
       "      <td>2012-08-30</td>\n",
       "      <td>6</td>\n",
       "      <td>128232.93</td>\n",
       "      <td>0</td>\n",
       "      <td>9 арбитражный апелляционный суд</td>\n",
       "      <td>2013-01-28</td>\n",
       "      <td>1</td>\n",
       "    </tr>\n",
       "    <tr>\n",
       "      <th>7650</th>\n",
       "      <td>7733535610</td>\n",
       "      <td>2</td>\n",
       "      <td>2012-04-09</td>\n",
       "      <td>6</td>\n",
       "      <td>299200.00</td>\n",
       "      <td>0</td>\n",
       "      <td>АС города Москвы</td>\n",
       "      <td>2012-11-21</td>\n",
       "      <td>1</td>\n",
       "    </tr>\n",
       "    <tr>\n",
       "      <th>7651</th>\n",
       "      <td>7733535610</td>\n",
       "      <td>2</td>\n",
       "      <td>2012-04-04</td>\n",
       "      <td>6</td>\n",
       "      <td>368800.00</td>\n",
       "      <td>0</td>\n",
       "      <td>АС города Москвы</td>\n",
       "      <td>2012-11-21</td>\n",
       "      <td>1</td>\n",
       "    </tr>\n",
       "    <tr>\n",
       "      <th>7652</th>\n",
       "      <td>7733535610</td>\n",
       "      <td>1</td>\n",
       "      <td>2010-12-30</td>\n",
       "      <td>6</td>\n",
       "      <td>88541.27</td>\n",
       "      <td>0</td>\n",
       "      <td>АС города Москвы</td>\n",
       "      <td>2011-04-25</td>\n",
       "      <td>0</td>\n",
       "    </tr>\n",
       "    <tr>\n",
       "      <th>7653</th>\n",
       "      <td>7733535610</td>\n",
       "      <td>2</td>\n",
       "      <td>2010-09-16</td>\n",
       "      <td>6</td>\n",
       "      <td>184391.00</td>\n",
       "      <td>0</td>\n",
       "      <td>АС города Москвы</td>\n",
       "      <td>2011-02-10</td>\n",
       "      <td>1</td>\n",
       "    </tr>\n",
       "    <tr>\n",
       "      <th>7654</th>\n",
       "      <td>7733535610</td>\n",
       "      <td>0</td>\n",
       "      <td>2010-05-21</td>\n",
       "      <td>6</td>\n",
       "      <td>344516.13</td>\n",
       "      <td>0</td>\n",
       "      <td>9 арбитражный апелляционный суд</td>\n",
       "      <td>2010-10-07</td>\n",
       "      <td>1</td>\n",
       "    </tr>\n",
       "    <tr>\n",
       "      <th>7655</th>\n",
       "      <td>7733535610</td>\n",
       "      <td>0</td>\n",
       "      <td>2010-03-01</td>\n",
       "      <td>5</td>\n",
       "      <td>393266.00</td>\n",
       "      <td>0</td>\n",
       "      <td>9 арбитражный апелляционный суд</td>\n",
       "      <td>2010-10-13</td>\n",
       "      <td>1</td>\n",
       "    </tr>\n",
       "    <tr>\n",
       "      <th>7656</th>\n",
       "      <td>7733535610</td>\n",
       "      <td>0</td>\n",
       "      <td>2010-01-27</td>\n",
       "      <td>90</td>\n",
       "      <td>0.00</td>\n",
       "      <td>0</td>\n",
       "      <td>9 арбитражный апелляционный суд</td>\n",
       "      <td>2010-09-07</td>\n",
       "      <td>2</td>\n",
       "    </tr>\n",
       "    <tr>\n",
       "      <th>7657</th>\n",
       "      <td>7733535610</td>\n",
       "      <td>0</td>\n",
       "      <td>2009-07-21</td>\n",
       "      <td>5</td>\n",
       "      <td>29792.00</td>\n",
       "      <td>0</td>\n",
       "      <td>АС города Москвы</td>\n",
       "      <td>2009-09-01</td>\n",
       "      <td>1</td>\n",
       "    </tr>\n",
       "    <tr>\n",
       "      <th>7658</th>\n",
       "      <td>7733535610</td>\n",
       "      <td>2</td>\n",
       "      <td>2009-07-21</td>\n",
       "      <td>90</td>\n",
       "      <td>34920.00</td>\n",
       "      <td>0</td>\n",
       "      <td>АС города Москвы</td>\n",
       "      <td>2009-07-24</td>\n",
       "      <td>1</td>\n",
       "    </tr>\n",
       "    <tr>\n",
       "      <th>7659</th>\n",
       "      <td>7733535610</td>\n",
       "      <td>0</td>\n",
       "      <td>2009-05-04</td>\n",
       "      <td>90</td>\n",
       "      <td>0.00</td>\n",
       "      <td>0</td>\n",
       "      <td>ФАС Московского округа</td>\n",
       "      <td>2011-08-25</td>\n",
       "      <td>1</td>\n",
       "    </tr>\n",
       "    <tr>\n",
       "      <th>7660</th>\n",
       "      <td>7733535610</td>\n",
       "      <td>2</td>\n",
       "      <td>2006-11-23</td>\n",
       "      <td>6</td>\n",
       "      <td>106499.77</td>\n",
       "      <td>0</td>\n",
       "      <td>АС Московской области</td>\n",
       "      <td>2007-01-16</td>\n",
       "      <td>1</td>\n",
       "    </tr>\n",
       "    <tr>\n",
       "      <th>7744</th>\n",
       "      <td>7839032119</td>\n",
       "      <td>2</td>\n",
       "      <td>2021-08-09</td>\n",
       "      <td>90</td>\n",
       "      <td>0.00</td>\n",
       "      <td>0</td>\n",
       "      <td>none</td>\n",
       "      <td>2021-08-09</td>\n",
       "      <td>2</td>\n",
       "    </tr>\n",
       "  </tbody>\n",
       "</table>\n",
       "</div>"
      ],
      "text/plain": [
       "             inn  resultType   caseDate  caseType         sum  isActive  \\\n",
       "4     1001227084           2 2021-08-09        90        0.00         0   \n",
       "479   1214002504           2 2021-08-09        90        0.00         0   \n",
       "602   1502000912           2 2021-08-09        90        0.00         0   \n",
       "645   1511010480           2 2021-08-09        90        0.00         0   \n",
       "1382  2302030982           2 2021-08-09        90        0.00         0   \n",
       "1422  2312229520           2 2021-08-09        90        0.00         0   \n",
       "2592  3334020354           2 2021-08-09        90        0.00         0   \n",
       "3813  3607001642           2 2021-08-09        90        0.00         0   \n",
       "3858  3721002810           2 2021-08-09        90        0.00         0   \n",
       "4627  5045012446           2 2021-08-09        90        0.00         0   \n",
       "4634  5222071273           2 2021-08-09        90        0.00         0   \n",
       "4653  5236003347           2 2021-08-09        90        0.00         0   \n",
       "4655  5402548780           2 2021-08-09        90        0.00         0   \n",
       "4756  5418101324           2 2021-08-09        90        0.00         0   \n",
       "4757  5436110191           2 2021-08-09        90        0.00         0   \n",
       "5087  5535007195           2 2021-08-09        90        0.00         0   \n",
       "5352  6128002570           2 2021-08-09        90        0.00         0   \n",
       "5378  6317141403           2 2021-08-09        90        0.00         0   \n",
       "5391  6324040438           2 2021-08-09        90        0.00         0   \n",
       "6229  6810000105           2 2021-08-09        90        0.00         0   \n",
       "7033  7622005092           2 2021-08-09        90        0.00         0   \n",
       "7176  7706237861           2 2021-08-09        90        0.00         0   \n",
       "7194  7709880887           2 2021-08-09        90        0.00         0   \n",
       "7230  7719807082           2 2021-08-09        90        0.00         0   \n",
       "7231  7722308044           2 2021-08-09        90        0.00         0   \n",
       "7640  7733535610           0 2020-06-30         5     3751.68         0   \n",
       "7641  7733535610           0 2019-01-23         5    12639.73         0   \n",
       "7642  7733535610           2 2018-08-14         1        0.00         0   \n",
       "7643  7733535610           0 2017-12-27         5     4500.00         0   \n",
       "7644  7733535610           1 2017-10-26         6  6325000.00         0   \n",
       "7645  7733535610           0 2017-03-23         5     3000.00         0   \n",
       "7646  7733535610           0 2016-02-03         6   308000.00         0   \n",
       "7647  7733535610           2 2015-11-23         6   308000.00         0   \n",
       "7648  7733535610           2 2015-08-20         1        0.00         0   \n",
       "7649  7733535610           0 2012-08-30         6   128232.93         0   \n",
       "7650  7733535610           2 2012-04-09         6   299200.00         0   \n",
       "7651  7733535610           2 2012-04-04         6   368800.00         0   \n",
       "7652  7733535610           1 2010-12-30         6    88541.27         0   \n",
       "7653  7733535610           2 2010-09-16         6   184391.00         0   \n",
       "7654  7733535610           0 2010-05-21         6   344516.13         0   \n",
       "7655  7733535610           0 2010-03-01         5   393266.00         0   \n",
       "7656  7733535610           0 2010-01-27        90        0.00         0   \n",
       "7657  7733535610           0 2009-07-21         5    29792.00         0   \n",
       "7658  7733535610           2 2009-07-21        90    34920.00         0   \n",
       "7659  7733535610           0 2009-05-04        90        0.00         0   \n",
       "7660  7733535610           2 2006-11-23         6   106499.77         0   \n",
       "7744  7839032119           2 2021-08-09        90        0.00         0   \n",
       "\n",
       "                      currentInstance instanceDate  case_sides  \n",
       "4                                none   2021-08-09           2  \n",
       "479                              none   2021-08-09           2  \n",
       "602                              none   2021-08-09           2  \n",
       "645                              none   2021-08-09           2  \n",
       "1382                             none   2021-08-09           2  \n",
       "1422                             none   2021-08-09           2  \n",
       "2592                             none   2021-08-09           2  \n",
       "3813                             none   2021-08-09           2  \n",
       "3858                             none   2021-08-09           2  \n",
       "4627                             none   2021-08-09           2  \n",
       "4634                             none   2021-08-09           2  \n",
       "4653                             none   2021-08-09           2  \n",
       "4655                             none   2021-08-09           2  \n",
       "4756                             none   2021-08-09           2  \n",
       "4757                             none   2021-08-09           2  \n",
       "5087                             none   2021-08-09           2  \n",
       "5352                             none   2021-08-09           2  \n",
       "5378                             none   2021-08-09           2  \n",
       "5391                             none   2021-08-09           2  \n",
       "6229                             none   2021-08-09           2  \n",
       "7033                             none   2021-08-09           2  \n",
       "7176                             none   2021-08-09           2  \n",
       "7194                             none   2021-08-09           2  \n",
       "7230                             none   2021-08-09           2  \n",
       "7231                             none   2021-08-09           2  \n",
       "7640                 АС города Москвы   2020-08-26           1  \n",
       "7641                 АС города Москвы   2019-03-11           1  \n",
       "7642                 АС города Москвы   2018-10-10           1  \n",
       "7643                 АС города Москвы   2018-03-24           1  \n",
       "7644  9 арбитражный апелляционный суд   2018-05-25           2  \n",
       "7645                 АС города Москвы   2017-04-28           1  \n",
       "7646  9 арбитражный апелляционный суд   2016-09-06           1  \n",
       "7647            АС Московской области   2016-01-21           1  \n",
       "7648                 АС города Москвы   2016-11-16           1  \n",
       "7649  9 арбитражный апелляционный суд   2013-01-28           1  \n",
       "7650                 АС города Москвы   2012-11-21           1  \n",
       "7651                 АС города Москвы   2012-11-21           1  \n",
       "7652                 АС города Москвы   2011-04-25           0  \n",
       "7653                 АС города Москвы   2011-02-10           1  \n",
       "7654  9 арбитражный апелляционный суд   2010-10-07           1  \n",
       "7655  9 арбитражный апелляционный суд   2010-10-13           1  \n",
       "7656  9 арбитражный апелляционный суд   2010-09-07           2  \n",
       "7657                 АС города Москвы   2009-09-01           1  \n",
       "7658                 АС города Москвы   2009-07-24           1  \n",
       "7659           ФАС Московского округа   2011-08-25           1  \n",
       "7660            АС Московской области   2007-01-16           1  \n",
       "7744                             none   2021-08-09           2  "
      ]
     },
     "metadata": {},
     "output_type": "display_data"
    }
   ],
   "source": [
    "unmatched_index = df_court[df_court['inn'].isin(df_acc['inn']) != True].index\n",
    "\n",
    "disp(df_court.loc[unmatched_index].shape[0])\n",
    "disp(df_court.loc[unmatched_index])"
   ]
  },
  {
   "cell_type": "code",
   "execution_count": 90,
   "id": "aa74f210",
   "metadata": {},
   "outputs": [
    {
     "data": {
      "text/plain": [
       "26"
      ]
     },
     "execution_count": 90,
     "metadata": {},
     "output_type": "execute_result"
    }
   ],
   "source": [
    "df_court.loc[unmatched_index][df_court['currentInstance'] == 'none'].shape[0]"
   ]
  },
  {
   "cell_type": "markdown",
   "id": "c4b5ec56",
   "metadata": {},
   "source": [
    "26 из 47 - это \"судебные\" заглушки. По всем компаниям, по которым нет информации о судах, нет также и бухгалтерской отчётности. Получается, что у нас по этим компаниям нет вообще никакой информации, кроме упоминания и реквизитов. Такие строки не нужны, и их следует удалить.\n",
    "\n",
    "Имеется всего одна компания в этом срезе, по которой есть данные о судах. Информация выглядит корректной. Но, поскольку нет другой части информации, целесообразно удалить эти строки. Тем более их не очень много: 21."
   ]
  },
  {
   "cell_type": "code",
   "execution_count": 91,
   "id": "148adbf3",
   "metadata": {},
   "outputs": [],
   "source": [
    "df_court = df_court.drop(index=unmatched_index).reset_index(drop=True)"
   ]
  },
  {
   "cell_type": "code",
   "execution_count": 92,
   "id": "ced2e301",
   "metadata": {},
   "outputs": [
    {
     "name": "stdout",
     "output_type": "stream",
     "text": [
      "<class 'pandas.core.frame.DataFrame'>\n",
      "RangeIndex: 7830 entries, 0 to 7829\n",
      "Data columns (total 9 columns):\n",
      " #   Column           Non-Null Count  Dtype         \n",
      "---  ------           --------------  -----         \n",
      " 0   inn              7830 non-null   int64         \n",
      " 1   resultType       7830 non-null   int64         \n",
      " 2   caseDate         7830 non-null   datetime64[ns]\n",
      " 3   caseType         7830 non-null   int64         \n",
      " 4   sum              7830 non-null   float64       \n",
      " 5   isActive         7830 non-null   int64         \n",
      " 6   currentInstance  7830 non-null   object        \n",
      " 7   instanceDate     7830 non-null   datetime64[ns]\n",
      " 8   case_sides       7830 non-null   int64         \n",
      "dtypes: datetime64[ns](2), float64(1), int64(5), object(1)\n",
      "memory usage: 550.7+ KB\n"
     ]
    }
   ],
   "source": [
    "df_court.info()"
   ]
  },
  {
   "cell_type": "markdown",
   "id": "b1b507cd",
   "metadata": {},
   "source": [
    "### Некорректные даты"
   ]
  },
  {
   "cell_type": "markdown",
   "id": "80495642",
   "metadata": {},
   "source": [
    "Добавим столбец о банкротстве в таблицу df_acc."
   ]
  },
  {
   "cell_type": "code",
   "execution_count": 93,
   "id": "fcfa1e35",
   "metadata": {},
   "outputs": [
    {
     "data": {
      "text/html": [
       "<div>\n",
       "<style scoped>\n",
       "    .dataframe tbody tr th:only-of-type {\n",
       "        vertical-align: middle;\n",
       "    }\n",
       "\n",
       "    .dataframe tbody tr th {\n",
       "        vertical-align: top;\n",
       "    }\n",
       "\n",
       "    .dataframe thead th {\n",
       "        text-align: right;\n",
       "    }\n",
       "</style>\n",
       "<table border=\"1\" class=\"dataframe\">\n",
       "  <thead>\n",
       "    <tr style=\"text-align: right;\">\n",
       "      <th></th>\n",
       "      <th>inn</th>\n",
       "      <th>year</th>\n",
       "      <th>long</th>\n",
       "      <th>short</th>\n",
       "      <th>balance</th>\n",
       "      <th>yearb</th>\n",
       "    </tr>\n",
       "  </thead>\n",
       "  <tbody>\n",
       "    <tr>\n",
       "      <th>0</th>\n",
       "      <td>2465002653</td>\n",
       "      <td>2012</td>\n",
       "      <td>0.0</td>\n",
       "      <td>113756000.0</td>\n",
       "      <td>122240000.0</td>\n",
       "      <td>2021</td>\n",
       "    </tr>\n",
       "    <tr>\n",
       "      <th>1</th>\n",
       "      <td>3505003270</td>\n",
       "      <td>2012</td>\n",
       "      <td>21461000.0</td>\n",
       "      <td>20211000.0</td>\n",
       "      <td>81132000.0</td>\n",
       "      <td>0</td>\n",
       "    </tr>\n",
       "    <tr>\n",
       "      <th>2</th>\n",
       "      <td>3517003250</td>\n",
       "      <td>2012</td>\n",
       "      <td>0.0</td>\n",
       "      <td>0.0</td>\n",
       "      <td>48063000.0</td>\n",
       "      <td>2017</td>\n",
       "    </tr>\n",
       "  </tbody>\n",
       "</table>\n",
       "</div>"
      ],
      "text/plain": [
       "          inn  year        long        short      balance  yearb\n",
       "0  2465002653  2012         0.0  113756000.0  122240000.0   2021\n",
       "1  3505003270  2012  21461000.0   20211000.0   81132000.0      0\n",
       "2  3517003250  2012         0.0          0.0   48063000.0   2017"
      ]
     },
     "execution_count": 93,
     "metadata": {},
     "output_type": "execute_result"
    }
   ],
   "source": [
    "df_acc = df_acc.merge(df_bank, on='inn', how='left').fillna(0)\n",
    "df_acc['yearb'] = df_acc['yearb'].astype('int')\n",
    "df_acc.head(3)"
   ]
  },
  {
   "cell_type": "markdown",
   "id": "4847e701",
   "metadata": {},
   "source": [
    "Проверим, есть ли некорректные значения, - год банкротства меньше, чем последний год фактической деятельности.\n",
    "\n",
    "Необанкротившиеся компании:"
   ]
  },
  {
   "cell_type": "code",
   "execution_count": 94,
   "id": "5503472a",
   "metadata": {},
   "outputs": [
    {
     "data": {
      "text/plain": [
       "60"
      ]
     },
     "metadata": {},
     "output_type": "display_data"
    },
    {
     "data": {
      "text/html": [
       "<div>\n",
       "<style scoped>\n",
       "    .dataframe tbody tr th:only-of-type {\n",
       "        vertical-align: middle;\n",
       "    }\n",
       "\n",
       "    .dataframe tbody tr th {\n",
       "        vertical-align: top;\n",
       "    }\n",
       "\n",
       "    .dataframe thead th {\n",
       "        text-align: right;\n",
       "    }\n",
       "</style>\n",
       "<table border=\"1\" class=\"dataframe\">\n",
       "  <thead>\n",
       "    <tr style=\"text-align: right;\">\n",
       "      <th></th>\n",
       "      <th>inn</th>\n",
       "      <th>year</th>\n",
       "      <th>long</th>\n",
       "      <th>short</th>\n",
       "      <th>balance</th>\n",
       "      <th>yearb</th>\n",
       "    </tr>\n",
       "  </thead>\n",
       "  <tbody>\n",
       "    <tr>\n",
       "      <th>772</th>\n",
       "      <td>1001003743</td>\n",
       "      <td>2012</td>\n",
       "      <td>0.0</td>\n",
       "      <td>1080000.0</td>\n",
       "      <td>4399000.0</td>\n",
       "      <td>0</td>\n",
       "    </tr>\n",
       "    <tr>\n",
       "      <th>187</th>\n",
       "      <td>1001003743</td>\n",
       "      <td>2013</td>\n",
       "      <td>0.0</td>\n",
       "      <td>1080000.0</td>\n",
       "      <td>4399000.0</td>\n",
       "      <td>0</td>\n",
       "    </tr>\n",
       "    <tr>\n",
       "      <th>357</th>\n",
       "      <td>1001003743</td>\n",
       "      <td>2014</td>\n",
       "      <td>0.0</td>\n",
       "      <td>296000.0</td>\n",
       "      <td>6295000.0</td>\n",
       "      <td>0</td>\n",
       "    </tr>\n",
       "    <tr>\n",
       "      <th>548</th>\n",
       "      <td>1001003743</td>\n",
       "      <td>2015</td>\n",
       "      <td>0.0</td>\n",
       "      <td>260000.0</td>\n",
       "      <td>6051000.0</td>\n",
       "      <td>0</td>\n",
       "    </tr>\n",
       "    <tr>\n",
       "      <th>623</th>\n",
       "      <td>1001003743</td>\n",
       "      <td>2016</td>\n",
       "      <td>0.0</td>\n",
       "      <td>861000.0</td>\n",
       "      <td>4735000.0</td>\n",
       "      <td>0</td>\n",
       "    </tr>\n",
       "    <tr>\n",
       "      <th>300</th>\n",
       "      <td>1001003743</td>\n",
       "      <td>2017</td>\n",
       "      <td>0.0</td>\n",
       "      <td>8379000.0</td>\n",
       "      <td>9481000.0</td>\n",
       "      <td>0</td>\n",
       "    </tr>\n",
       "    <tr>\n",
       "      <th>862</th>\n",
       "      <td>1001003743</td>\n",
       "      <td>2018</td>\n",
       "      <td>0.0</td>\n",
       "      <td>3881000.0</td>\n",
       "      <td>4003000.0</td>\n",
       "      <td>0</td>\n",
       "    </tr>\n",
       "    <tr>\n",
       "      <th>894</th>\n",
       "      <td>1001003743</td>\n",
       "      <td>2019</td>\n",
       "      <td>0.0</td>\n",
       "      <td>4330000.0</td>\n",
       "      <td>3930000.0</td>\n",
       "      <td>0</td>\n",
       "    </tr>\n",
       "    <tr>\n",
       "      <th>769</th>\n",
       "      <td>1435087440</td>\n",
       "      <td>2012</td>\n",
       "      <td>0.0</td>\n",
       "      <td>3678000.0</td>\n",
       "      <td>6580000.0</td>\n",
       "      <td>0</td>\n",
       "    </tr>\n",
       "    <tr>\n",
       "      <th>134</th>\n",
       "      <td>1435087440</td>\n",
       "      <td>2013</td>\n",
       "      <td>0.0</td>\n",
       "      <td>3678000.0</td>\n",
       "      <td>6580000.0</td>\n",
       "      <td>0</td>\n",
       "    </tr>\n",
       "  </tbody>\n",
       "</table>\n",
       "</div>"
      ],
      "text/plain": [
       "            inn  year  long      short    balance  yearb\n",
       "772  1001003743  2012   0.0  1080000.0  4399000.0      0\n",
       "187  1001003743  2013   0.0  1080000.0  4399000.0      0\n",
       "357  1001003743  2014   0.0   296000.0  6295000.0      0\n",
       "548  1001003743  2015   0.0   260000.0  6051000.0      0\n",
       "623  1001003743  2016   0.0   861000.0  4735000.0      0\n",
       "300  1001003743  2017   0.0  8379000.0  9481000.0      0\n",
       "862  1001003743  2018   0.0  3881000.0  4003000.0      0\n",
       "894  1001003743  2019   0.0  4330000.0  3930000.0      0\n",
       "769  1435087440  2012   0.0  3678000.0  6580000.0      0\n",
       "134  1435087440  2013   0.0  3678000.0  6580000.0      0"
      ]
     },
     "metadata": {},
     "output_type": "display_data"
    }
   ],
   "source": [
    "inn_yearb_zero = df_acc[df_acc['yearb'] == 0].index\n",
    "disp(df_acc.loc[inn_yearb_zero, 'inn'].unique().shape[0])\n",
    "disp(df_acc.loc[inn_yearb_zero].sort_values(by=['inn', 'year']).head(10))"
   ]
  },
  {
   "cell_type": "markdown",
   "id": "4cef9fdd",
   "metadata": {},
   "source": [
    "Обанкротившиеся компании, у которых год банкротства - следующий за последним годом бухгалтерской отчётности."
   ]
  },
  {
   "cell_type": "code",
   "execution_count": 95,
   "id": "a23397f9",
   "metadata": {},
   "outputs": [
    {
     "data": {
      "text/plain": [
       "94"
      ]
     },
     "metadata": {},
     "output_type": "display_data"
    },
    {
     "data": {
      "text/html": [
       "<div>\n",
       "<style scoped>\n",
       "    .dataframe tbody tr th:only-of-type {\n",
       "        vertical-align: middle;\n",
       "    }\n",
       "\n",
       "    .dataframe tbody tr th {\n",
       "        vertical-align: top;\n",
       "    }\n",
       "\n",
       "    .dataframe thead th {\n",
       "        text-align: right;\n",
       "    }\n",
       "</style>\n",
       "<table border=\"1\" class=\"dataframe\">\n",
       "  <thead>\n",
       "    <tr style=\"text-align: right;\">\n",
       "      <th></th>\n",
       "      <th>inn</th>\n",
       "      <th>year</th>\n",
       "      <th>long</th>\n",
       "      <th>short</th>\n",
       "      <th>balance</th>\n",
       "      <th>yearb</th>\n",
       "    </tr>\n",
       "  </thead>\n",
       "  <tbody>\n",
       "    <tr>\n",
       "      <th>588</th>\n",
       "      <td>1020010136</td>\n",
       "      <td>2015</td>\n",
       "      <td>0.0</td>\n",
       "      <td>3900000.0</td>\n",
       "      <td>3451000.0</td>\n",
       "      <td>2018</td>\n",
       "    </tr>\n",
       "    <tr>\n",
       "      <th>631</th>\n",
       "      <td>1020010136</td>\n",
       "      <td>2016</td>\n",
       "      <td>0.0</td>\n",
       "      <td>16187000.0</td>\n",
       "      <td>12526000.0</td>\n",
       "      <td>2018</td>\n",
       "    </tr>\n",
       "    <tr>\n",
       "      <th>321</th>\n",
       "      <td>1020010136</td>\n",
       "      <td>2017</td>\n",
       "      <td>0.0</td>\n",
       "      <td>36750000.0</td>\n",
       "      <td>14769000.0</td>\n",
       "      <td>2018</td>\n",
       "    </tr>\n",
       "    <tr>\n",
       "      <th>282</th>\n",
       "      <td>1203000142</td>\n",
       "      <td>2017</td>\n",
       "      <td>252652000.0</td>\n",
       "      <td>165670000.0</td>\n",
       "      <td>493782000.0</td>\n",
       "      <td>2020</td>\n",
       "    </tr>\n",
       "    <tr>\n",
       "      <th>864</th>\n",
       "      <td>1203000142</td>\n",
       "      <td>2018</td>\n",
       "      <td>213168000.0</td>\n",
       "      <td>181200000.0</td>\n",
       "      <td>468357000.0</td>\n",
       "      <td>2020</td>\n",
       "    </tr>\n",
       "    <tr>\n",
       "      <th>895</th>\n",
       "      <td>1203000142</td>\n",
       "      <td>2019</td>\n",
       "      <td>53399000.0</td>\n",
       "      <td>395315000.0</td>\n",
       "      <td>523849000.0</td>\n",
       "      <td>2020</td>\n",
       "    </tr>\n",
       "    <tr>\n",
       "      <th>93</th>\n",
       "      <td>1302000640</td>\n",
       "      <td>2012</td>\n",
       "      <td>0.0</td>\n",
       "      <td>0.0</td>\n",
       "      <td>32400000.0</td>\n",
       "      <td>2015</td>\n",
       "    </tr>\n",
       "    <tr>\n",
       "      <th>163</th>\n",
       "      <td>1302000640</td>\n",
       "      <td>2013</td>\n",
       "      <td>3698000.0</td>\n",
       "      <td>22189000.0</td>\n",
       "      <td>25918000.0</td>\n",
       "      <td>2015</td>\n",
       "    </tr>\n",
       "    <tr>\n",
       "      <th>391</th>\n",
       "      <td>1302000640</td>\n",
       "      <td>2014</td>\n",
       "      <td>3698000.0</td>\n",
       "      <td>22189000.0</td>\n",
       "      <td>25918000.0</td>\n",
       "      <td>2015</td>\n",
       "    </tr>\n",
       "    <tr>\n",
       "      <th>31</th>\n",
       "      <td>1411004211</td>\n",
       "      <td>2012</td>\n",
       "      <td>0.0</td>\n",
       "      <td>0.0</td>\n",
       "      <td>167857000.0</td>\n",
       "      <td>2017</td>\n",
       "    </tr>\n",
       "    <tr>\n",
       "      <th>161</th>\n",
       "      <td>1411004211</td>\n",
       "      <td>2013</td>\n",
       "      <td>74399000.0</td>\n",
       "      <td>57566000.0</td>\n",
       "      <td>177828000.0</td>\n",
       "      <td>2017</td>\n",
       "    </tr>\n",
       "    <tr>\n",
       "      <th>397</th>\n",
       "      <td>1411004211</td>\n",
       "      <td>2014</td>\n",
       "      <td>60718000.0</td>\n",
       "      <td>56304000.0</td>\n",
       "      <td>166188000.0</td>\n",
       "      <td>2017</td>\n",
       "    </tr>\n",
       "    <tr>\n",
       "      <th>544</th>\n",
       "      <td>1411004211</td>\n",
       "      <td>2015</td>\n",
       "      <td>60095000.0</td>\n",
       "      <td>52238000.0</td>\n",
       "      <td>164026000.0</td>\n",
       "      <td>2017</td>\n",
       "    </tr>\n",
       "    <tr>\n",
       "      <th>657</th>\n",
       "      <td>1411004211</td>\n",
       "      <td>2016</td>\n",
       "      <td>59514000.0</td>\n",
       "      <td>42477000.0</td>\n",
       "      <td>146980000.0</td>\n",
       "      <td>2017</td>\n",
       "    </tr>\n",
       "    <tr>\n",
       "      <th>580</th>\n",
       "      <td>1429006530</td>\n",
       "      <td>2015</td>\n",
       "      <td>0.0</td>\n",
       "      <td>35726000.0</td>\n",
       "      <td>139405000.0</td>\n",
       "      <td>2020</td>\n",
       "    </tr>\n",
       "    <tr>\n",
       "      <th>648</th>\n",
       "      <td>1429006530</td>\n",
       "      <td>2016</td>\n",
       "      <td>0.0</td>\n",
       "      <td>106562000.0</td>\n",
       "      <td>236501000.0</td>\n",
       "      <td>2020</td>\n",
       "    </tr>\n",
       "    <tr>\n",
       "      <th>259</th>\n",
       "      <td>1429006530</td>\n",
       "      <td>2017</td>\n",
       "      <td>0.0</td>\n",
       "      <td>147399000.0</td>\n",
       "      <td>218592000.0</td>\n",
       "      <td>2020</td>\n",
       "    </tr>\n",
       "    <tr>\n",
       "      <th>878</th>\n",
       "      <td>1429006530</td>\n",
       "      <td>2018</td>\n",
       "      <td>50000000.0</td>\n",
       "      <td>255345000.0</td>\n",
       "      <td>352341000.0</td>\n",
       "      <td>2020</td>\n",
       "    </tr>\n",
       "    <tr>\n",
       "      <th>897</th>\n",
       "      <td>1429006530</td>\n",
       "      <td>2019</td>\n",
       "      <td>50583000.0</td>\n",
       "      <td>285672000.0</td>\n",
       "      <td>338814000.0</td>\n",
       "      <td>2020</td>\n",
       "    </tr>\n",
       "    <tr>\n",
       "      <th>87</th>\n",
       "      <td>1508000122</td>\n",
       "      <td>2012</td>\n",
       "      <td>0.0</td>\n",
       "      <td>0.0</td>\n",
       "      <td>49822000.0</td>\n",
       "      <td>2013</td>\n",
       "    </tr>\n",
       "  </tbody>\n",
       "</table>\n",
       "</div>"
      ],
      "text/plain": [
       "            inn  year         long        short      balance  yearb\n",
       "588  1020010136  2015          0.0    3900000.0    3451000.0   2018\n",
       "631  1020010136  2016          0.0   16187000.0   12526000.0   2018\n",
       "321  1020010136  2017          0.0   36750000.0   14769000.0   2018\n",
       "282  1203000142  2017  252652000.0  165670000.0  493782000.0   2020\n",
       "864  1203000142  2018  213168000.0  181200000.0  468357000.0   2020\n",
       "895  1203000142  2019   53399000.0  395315000.0  523849000.0   2020\n",
       "93   1302000640  2012          0.0          0.0   32400000.0   2015\n",
       "163  1302000640  2013    3698000.0   22189000.0   25918000.0   2015\n",
       "391  1302000640  2014    3698000.0   22189000.0   25918000.0   2015\n",
       "31   1411004211  2012          0.0          0.0  167857000.0   2017\n",
       "161  1411004211  2013   74399000.0   57566000.0  177828000.0   2017\n",
       "397  1411004211  2014   60718000.0   56304000.0  166188000.0   2017\n",
       "544  1411004211  2015   60095000.0   52238000.0  164026000.0   2017\n",
       "657  1411004211  2016   59514000.0   42477000.0  146980000.0   2017\n",
       "580  1429006530  2015          0.0   35726000.0  139405000.0   2020\n",
       "648  1429006530  2016          0.0  106562000.0  236501000.0   2020\n",
       "259  1429006530  2017          0.0  147399000.0  218592000.0   2020\n",
       "878  1429006530  2018   50000000.0  255345000.0  352341000.0   2020\n",
       "897  1429006530  2019   50583000.0  285672000.0  338814000.0   2020\n",
       "87   1508000122  2012          0.0          0.0   49822000.0   2013"
      ]
     },
     "metadata": {},
     "output_type": "display_data"
    }
   ],
   "source": [
    "inn_yearb_more = df_acc[\n",
    "    (df_acc['yearb'] > df_acc['year'])\n",
    "    & (df_acc['yearb'] > 0)\n",
    "].index\n",
    "disp(df_acc.loc[inn_yearb_more, 'inn'].unique().shape[0])\n",
    "disp(df_acc.loc[inn_yearb_more].sort_values(by=['inn', 'year']).head(20))"
   ]
  },
  {
   "cell_type": "markdown",
   "id": "3504177a",
   "metadata": {},
   "source": [
    "Обанкротившиеся компании, у которых год банкротства не увязывается с годами, за которые предоставлена отчётность.\n",
    "\n",
    "Год банкротства здесь соответствует то первому году предоставления отчётности, то предшествующему году. В некоторых случаях взаимосвязь вообще не прослеживается (см. ИНН 5902141369 в таблице ниже)."
   ]
  },
  {
   "cell_type": "code",
   "execution_count": 96,
   "id": "27740513",
   "metadata": {},
   "outputs": [
    {
     "data": {
      "text/plain": [
       "12"
      ]
     },
     "metadata": {},
     "output_type": "display_data"
    },
    {
     "data": {
      "text/plain": [
       "56"
      ]
     },
     "metadata": {},
     "output_type": "display_data"
    },
    {
     "data": {
      "text/html": [
       "<div>\n",
       "<style scoped>\n",
       "    .dataframe tbody tr th:only-of-type {\n",
       "        vertical-align: middle;\n",
       "    }\n",
       "\n",
       "    .dataframe tbody tr th {\n",
       "        vertical-align: top;\n",
       "    }\n",
       "\n",
       "    .dataframe thead th {\n",
       "        text-align: right;\n",
       "    }\n",
       "</style>\n",
       "<table border=\"1\" class=\"dataframe\">\n",
       "  <thead>\n",
       "    <tr style=\"text-align: right;\">\n",
       "      <th></th>\n",
       "      <th>inn</th>\n",
       "      <th>year</th>\n",
       "      <th>long</th>\n",
       "      <th>short</th>\n",
       "      <th>balance</th>\n",
       "      <th>yearb</th>\n",
       "    </tr>\n",
       "  </thead>\n",
       "  <tbody>\n",
       "    <tr>\n",
       "      <th>74</th>\n",
       "      <td>4712040346</td>\n",
       "      <td>2012</td>\n",
       "      <td>0.0</td>\n",
       "      <td>93438000.0</td>\n",
       "      <td>99968000.0</td>\n",
       "      <td>2012</td>\n",
       "    </tr>\n",
       "    <tr>\n",
       "      <th>214</th>\n",
       "      <td>4712040346</td>\n",
       "      <td>2013</td>\n",
       "      <td>0.0</td>\n",
       "      <td>99883000.0</td>\n",
       "      <td>107518000.0</td>\n",
       "      <td>2012</td>\n",
       "    </tr>\n",
       "    <tr>\n",
       "      <th>474</th>\n",
       "      <td>4712040346</td>\n",
       "      <td>2014</td>\n",
       "      <td>0.0</td>\n",
       "      <td>83502000.0</td>\n",
       "      <td>104435000.0</td>\n",
       "      <td>2012</td>\n",
       "    </tr>\n",
       "    <tr>\n",
       "      <th>581</th>\n",
       "      <td>4712040346</td>\n",
       "      <td>2015</td>\n",
       "      <td>0.0</td>\n",
       "      <td>71015000.0</td>\n",
       "      <td>97598000.0</td>\n",
       "      <td>2012</td>\n",
       "    </tr>\n",
       "    <tr>\n",
       "      <th>663</th>\n",
       "      <td>4712040346</td>\n",
       "      <td>2016</td>\n",
       "      <td>0.0</td>\n",
       "      <td>110280000.0</td>\n",
       "      <td>137485000.0</td>\n",
       "      <td>2012</td>\n",
       "    </tr>\n",
       "    <tr>\n",
       "      <th>323</th>\n",
       "      <td>4712040346</td>\n",
       "      <td>2017</td>\n",
       "      <td>0.0</td>\n",
       "      <td>111018000.0</td>\n",
       "      <td>138384000.0</td>\n",
       "      <td>2012</td>\n",
       "    </tr>\n",
       "    <tr>\n",
       "      <th>828</th>\n",
       "      <td>4712040346</td>\n",
       "      <td>2018</td>\n",
       "      <td>0.0</td>\n",
       "      <td>51907000.0</td>\n",
       "      <td>79383000.0</td>\n",
       "      <td>2012</td>\n",
       "    </tr>\n",
       "    <tr>\n",
       "      <th>959</th>\n",
       "      <td>4712040346</td>\n",
       "      <td>2019</td>\n",
       "      <td>0.0</td>\n",
       "      <td>15504000.0</td>\n",
       "      <td>43453000.0</td>\n",
       "      <td>2012</td>\n",
       "    </tr>\n",
       "    <tr>\n",
       "      <th>960</th>\n",
       "      <td>4712040346</td>\n",
       "      <td>2020</td>\n",
       "      <td>0.0</td>\n",
       "      <td>3562000.0</td>\n",
       "      <td>31738000.0</td>\n",
       "      <td>2012</td>\n",
       "    </tr>\n",
       "    <tr>\n",
       "      <th>963</th>\n",
       "      <td>5042125258</td>\n",
       "      <td>2019</td>\n",
       "      <td>12000.0</td>\n",
       "      <td>144054000.0</td>\n",
       "      <td>24298000.0</td>\n",
       "      <td>2019</td>\n",
       "    </tr>\n",
       "    <tr>\n",
       "      <th>964</th>\n",
       "      <td>5042125258</td>\n",
       "      <td>2020</td>\n",
       "      <td>12000.0</td>\n",
       "      <td>144054000.0</td>\n",
       "      <td>24298000.0</td>\n",
       "      <td>2019</td>\n",
       "    </tr>\n",
       "    <tr>\n",
       "      <th>355</th>\n",
       "      <td>5404263460</td>\n",
       "      <td>2014</td>\n",
       "      <td>0.0</td>\n",
       "      <td>1000.0</td>\n",
       "      <td>10000.0</td>\n",
       "      <td>2012</td>\n",
       "    </tr>\n",
       "    <tr>\n",
       "      <th>578</th>\n",
       "      <td>5404263460</td>\n",
       "      <td>2015</td>\n",
       "      <td>0.0</td>\n",
       "      <td>1000.0</td>\n",
       "      <td>10000.0</td>\n",
       "      <td>2012</td>\n",
       "    </tr>\n",
       "    <tr>\n",
       "      <th>233</th>\n",
       "      <td>5404263460</td>\n",
       "      <td>2017</td>\n",
       "      <td>0.0</td>\n",
       "      <td>0.0</td>\n",
       "      <td>0.0</td>\n",
       "      <td>2012</td>\n",
       "    </tr>\n",
       "    <tr>\n",
       "      <th>443</th>\n",
       "      <td>5902141369</td>\n",
       "      <td>2014</td>\n",
       "      <td>0.0</td>\n",
       "      <td>25147000.0</td>\n",
       "      <td>10961000.0</td>\n",
       "      <td>2011</td>\n",
       "    </tr>\n",
       "    <tr>\n",
       "      <th>705</th>\n",
       "      <td>5902141369</td>\n",
       "      <td>2016</td>\n",
       "      <td>0.0</td>\n",
       "      <td>24938000.0</td>\n",
       "      <td>11645000.0</td>\n",
       "      <td>2011</td>\n",
       "    </tr>\n",
       "    <tr>\n",
       "      <th>248</th>\n",
       "      <td>5902141369</td>\n",
       "      <td>2017</td>\n",
       "      <td>0.0</td>\n",
       "      <td>24938000.0</td>\n",
       "      <td>10024000.0</td>\n",
       "      <td>2011</td>\n",
       "    </tr>\n",
       "    <tr>\n",
       "      <th>873</th>\n",
       "      <td>5902141369</td>\n",
       "      <td>2018</td>\n",
       "      <td>0.0</td>\n",
       "      <td>24938000.0</td>\n",
       "      <td>0.0</td>\n",
       "      <td>2011</td>\n",
       "    </tr>\n",
       "    <tr>\n",
       "      <th>48</th>\n",
       "      <td>5945001214</td>\n",
       "      <td>2012</td>\n",
       "      <td>0.0</td>\n",
       "      <td>0.0</td>\n",
       "      <td>24394000.0</td>\n",
       "      <td>2012</td>\n",
       "    </tr>\n",
       "    <tr>\n",
       "      <th>409</th>\n",
       "      <td>5945001214</td>\n",
       "      <td>2014</td>\n",
       "      <td>102000.0</td>\n",
       "      <td>77357000.0</td>\n",
       "      <td>28418000.0</td>\n",
       "      <td>2012</td>\n",
       "    </tr>\n",
       "  </tbody>\n",
       "</table>\n",
       "</div>"
      ],
      "text/plain": [
       "            inn  year      long        short      balance  yearb\n",
       "74   4712040346  2012       0.0   93438000.0   99968000.0   2012\n",
       "214  4712040346  2013       0.0   99883000.0  107518000.0   2012\n",
       "474  4712040346  2014       0.0   83502000.0  104435000.0   2012\n",
       "581  4712040346  2015       0.0   71015000.0   97598000.0   2012\n",
       "663  4712040346  2016       0.0  110280000.0  137485000.0   2012\n",
       "323  4712040346  2017       0.0  111018000.0  138384000.0   2012\n",
       "828  4712040346  2018       0.0   51907000.0   79383000.0   2012\n",
       "959  4712040346  2019       0.0   15504000.0   43453000.0   2012\n",
       "960  4712040346  2020       0.0    3562000.0   31738000.0   2012\n",
       "963  5042125258  2019   12000.0  144054000.0   24298000.0   2019\n",
       "964  5042125258  2020   12000.0  144054000.0   24298000.0   2019\n",
       "355  5404263460  2014       0.0       1000.0      10000.0   2012\n",
       "578  5404263460  2015       0.0       1000.0      10000.0   2012\n",
       "233  5404263460  2017       0.0          0.0          0.0   2012\n",
       "443  5902141369  2014       0.0   25147000.0   10961000.0   2011\n",
       "705  5902141369  2016       0.0   24938000.0   11645000.0   2011\n",
       "248  5902141369  2017       0.0   24938000.0   10024000.0   2011\n",
       "873  5902141369  2018       0.0   24938000.0          0.0   2011\n",
       "48   5945001214  2012       0.0          0.0   24394000.0   2012\n",
       "409  5945001214  2014  102000.0   77357000.0   28418000.0   2012"
      ]
     },
     "metadata": {},
     "output_type": "display_data"
    }
   ],
   "source": [
    "inn_yearb_less = df_acc[\n",
    "    (df_acc['yearb'] < df_acc['year'])\n",
    "    & (df_acc['yearb'] > 0)\n",
    "].index\n",
    "\n",
    "inn_yearb_less = df_acc[\n",
    "    (df_acc['inn'].isin(df_acc.loc[inn_yearb_less, 'inn']))\n",
    "    & (df_acc['inn'].isin(df_acc.loc[inn_yearb_more, 'inn']) != True)\n",
    "].index\n",
    "\n",
    "disp(df_acc.loc[inn_yearb_less, 'inn'].unique().shape[0])\n",
    "disp(df_acc.loc[inn_yearb_less, 'inn'].shape[0])\n",
    "disp(df_acc.loc[inn_yearb_less].sort_values(by=['inn', 'year'])[16:36])"
   ]
  },
  {
   "cell_type": "markdown",
   "id": "6f1b7522",
   "metadata": {},
   "source": [
    "12 компаний из 166, 56 строк из 1000+\n",
    "\n",
    "Поскольку нельзя быть уверенным в корретности этих данных, их лучше удалить, несмотря на и так малый размер выборки: ошибки могут внести дополнительный шум и оказать более выраженное негативное влияние, чем просто уменьшение размера выборки.\n",
    "\n",
    "Удалим некорректные данные."
   ]
  },
  {
   "cell_type": "code",
   "execution_count": 97,
   "id": "cd91c5bf",
   "metadata": {},
   "outputs": [],
   "source": [
    "incorrect_inn = df_acc.loc[inn_yearb_less, 'inn'].unique()"
   ]
  },
  {
   "cell_type": "code",
   "execution_count": 98,
   "id": "63509db0",
   "metadata": {},
   "outputs": [
    {
     "data": {
      "text/plain": [
       "971"
      ]
     },
     "execution_count": 98,
     "metadata": {},
     "output_type": "execute_result"
    }
   ],
   "source": [
    "incorrect_index = df_acc[df_acc['inn'].isin(incorrect_inn)].index\n",
    "df_acc = df_acc.drop(index=incorrect_index).reset_index(drop=True)\n",
    "df_acc.shape[0]"
   ]
  },
  {
   "cell_type": "code",
   "execution_count": 99,
   "id": "aac444a0",
   "metadata": {},
   "outputs": [
    {
     "data": {
      "text/plain": [
       "94"
      ]
     },
     "execution_count": 99,
     "metadata": {},
     "output_type": "execute_result"
    }
   ],
   "source": [
    "incorrect_index = df_bank[df_bank['inn'].isin(incorrect_inn)].index\n",
    "df_bank = df_bank.drop(index=incorrect_index).reset_index(drop=True)\n",
    "df_bank.shape[0]"
   ]
  },
  {
   "cell_type": "code",
   "execution_count": 100,
   "id": "de64de32",
   "metadata": {},
   "outputs": [
    {
     "data": {
      "text/plain": [
       "7342"
      ]
     },
     "execution_count": 100,
     "metadata": {},
     "output_type": "execute_result"
    }
   ],
   "source": [
    "incorrect_index = df_court[df_court['inn'].isin(incorrect_inn)].index\n",
    "df_court = df_court.drop(index=incorrect_index).reset_index(drop=True)\n",
    "df_court.shape[0]"
   ]
  },
  {
   "cell_type": "markdown",
   "id": "58776441",
   "metadata": {},
   "source": [
    "# EDA"
   ]
  },
  {
   "cell_type": "markdown",
   "id": "e25729ff",
   "metadata": {},
   "source": [
    "## Таблица accounts"
   ]
  },
  {
   "cell_type": "code",
   "execution_count": 101,
   "id": "ca480ae0",
   "metadata": {},
   "outputs": [
    {
     "data": {
      "text/html": [
       "<div>\n",
       "<style scoped>\n",
       "    .dataframe tbody tr th:only-of-type {\n",
       "        vertical-align: middle;\n",
       "    }\n",
       "\n",
       "    .dataframe tbody tr th {\n",
       "        vertical-align: top;\n",
       "    }\n",
       "\n",
       "    .dataframe thead th {\n",
       "        text-align: right;\n",
       "    }\n",
       "</style>\n",
       "<table border=\"1\" class=\"dataframe\">\n",
       "  <thead>\n",
       "    <tr style=\"text-align: right;\">\n",
       "      <th></th>\n",
       "      <th>inn</th>\n",
       "      <th>year</th>\n",
       "      <th>long</th>\n",
       "      <th>short</th>\n",
       "      <th>balance</th>\n",
       "      <th>yearb</th>\n",
       "    </tr>\n",
       "  </thead>\n",
       "  <tbody>\n",
       "    <tr>\n",
       "      <th>0</th>\n",
       "      <td>2465002653</td>\n",
       "      <td>2012</td>\n",
       "      <td>0.0</td>\n",
       "      <td>113756000.0</td>\n",
       "      <td>122240000.0</td>\n",
       "      <td>2021</td>\n",
       "    </tr>\n",
       "    <tr>\n",
       "      <th>1</th>\n",
       "      <td>3505003270</td>\n",
       "      <td>2012</td>\n",
       "      <td>21461000.0</td>\n",
       "      <td>20211000.0</td>\n",
       "      <td>81132000.0</td>\n",
       "      <td>0</td>\n",
       "    </tr>\n",
       "    <tr>\n",
       "      <th>2</th>\n",
       "      <td>3517003250</td>\n",
       "      <td>2012</td>\n",
       "      <td>0.0</td>\n",
       "      <td>0.0</td>\n",
       "      <td>48063000.0</td>\n",
       "      <td>2017</td>\n",
       "    </tr>\n",
       "  </tbody>\n",
       "</table>\n",
       "</div>"
      ],
      "text/plain": [
       "          inn  year        long        short      balance  yearb\n",
       "0  2465002653  2012         0.0  113756000.0  122240000.0   2021\n",
       "1  3505003270  2012  21461000.0   20211000.0   81132000.0      0\n",
       "2  3517003250  2012         0.0          0.0   48063000.0   2017"
      ]
     },
     "execution_count": 101,
     "metadata": {},
     "output_type": "execute_result"
    }
   ],
   "source": [
    "df_acc.head(3)"
   ]
  },
  {
   "cell_type": "markdown",
   "id": "e8b63c9d",
   "metadata": {},
   "source": [
    "### long, short, balance > 0"
   ]
  },
  {
   "cell_type": "markdown",
   "id": "1320d941",
   "metadata": {},
   "source": [
    "Посмотрим, как размер задолженности и баланс связаны с частотой банкротства."
   ]
  },
  {
   "cell_type": "code",
   "execution_count": 102,
   "id": "f410f13f",
   "metadata": {},
   "outputs": [
    {
     "data": {
      "image/png": "[encoded data removed]",
      "text/plain": [
       "<Figure size 1440x576 with 3 Axes>"
      ]
     },
     "metadata": {},
     "output_type": "display_data"
    }
   ],
   "source": [
    "plt.figure(figsize=(20, 8))\n",
    "\n",
    "for i, col in enumerate(['long', 'short', 'balance']):\n",
    "    plt.subplot(131 + i)\n",
    "    sns.histplot(df_acc[df_acc[col] > 0], x=col, log_scale=True, hue=(df_acc['yearb'] > 0), bins=20)\n",
    "\n",
    "plt.show()"
   ]
  },
  {
   "cell_type": "markdown",
   "id": "1af231e8",
   "metadata": {},
   "source": [
    "Компании, претерпевшие банкротство, большую часть времени имеют размер задолженности и размер баланса в среднем на 1-2 порядка выше, чем финансово здоровые компании."
   ]
  },
  {
   "cell_type": "markdown",
   "id": "2192454d",
   "metadata": {},
   "source": [
    "### long, short, balance = 0"
   ]
  },
  {
   "cell_type": "markdown",
   "id": "451814bd",
   "metadata": {},
   "source": [
    "Посмотрим, как обстоят дела при нулевом балансе или нулевой задолженности."
   ]
  },
  {
   "cell_type": "code",
   "execution_count": 103,
   "id": "80c7c395",
   "metadata": {},
   "outputs": [
    {
     "data": {
      "text/plain": [
       "0.282183316168898"
      ]
     },
     "metadata": {},
     "output_type": "display_data"
    },
    {
     "data": {
      "text/plain": [
       "0.38722966014418125"
      ]
     },
     "metadata": {},
     "output_type": "display_data"
    },
    {
     "data": {
      "text/plain": [
       "0.02059732234809475"
      ]
     },
     "metadata": {},
     "output_type": "display_data"
    },
    {
     "data": {
      "text/plain": [
       "0.04737384140061792"
      ]
     },
     "metadata": {},
     "output_type": "display_data"
    },
    {
     "data": {
      "text/plain": [
       "0.0"
      ]
     },
     "metadata": {},
     "output_type": "display_data"
    }
   ],
   "source": [
    "disp(df_acc[(df_acc['long'] == 0) & (df_acc['yearb'] == 0)].shape[0] / df_acc.shape[0])\n",
    "disp(df_acc[(df_acc['long'] == 0) & (df_acc['yearb'] > 0)].shape[0] / df_acc.shape[0])\n",
    "disp(df_acc[(df_acc['short'] == 0) & (df_acc['yearb'] == 0)].shape[0] / df_acc.shape[0])\n",
    "disp(df_acc[(df_acc['short'] == 0) & (df_acc['yearb'] > 0)].shape[0] / df_acc.shape[0])\n",
    "disp(df_acc[(df_acc['balance'] == 0) & (df_acc['yearb'] == 0)].shape[0] / df_acc.shape[0])"
   ]
  },
  {
   "cell_type": "markdown",
   "id": "4f249757",
   "metadata": {},
   "source": [
    "У необанкротившихся компаний долгосрочная задолженность отсутствовала в среднем на протяжении 28% времени своей деятельности, а у обанкротившихся - на протяжении 39% времени.\n",
    "\n",
    "У необанкротившихся компаний краткосрочная задолженность отсутствовала в среднем на протяжении 2% времени своей деятельности, а у обанкротившихся - на протяжении 5% времени.\n",
    "\n",
    "Нулевой баланс бывает только при банкротстве."
   ]
  },
  {
   "cell_type": "markdown",
   "id": "b045a650",
   "metadata": {},
   "source": [
    "### Вывод"
   ]
  },
  {
   "cell_type": "markdown",
   "id": "380396e7",
   "metadata": {},
   "source": [
    "Обанкротившиеся компании использовали заёмные средства реже, но в больших объёмах.\n",
    "\n",
    "Возможно, обанкротившиеся в конечном счёте компании привлекали средства в попытках спасти финансовое положение или просто брали на себя слишком высокие риски в ходе своей деятельности. В то время как здоровые компании, вероятно, привлекали деньги преимущественно на своё нормальное развитие."
   ]
  },
  {
   "cell_type": "markdown",
   "id": "a6ac8412",
   "metadata": {},
   "source": [
    "## Таблица court cases"
   ]
  },
  {
   "cell_type": "code",
   "execution_count": 104,
   "id": "2f2c776a",
   "metadata": {},
   "outputs": [
    {
     "data": {
      "text/html": [
       "<div>\n",
       "<style scoped>\n",
       "    .dataframe tbody tr th:only-of-type {\n",
       "        vertical-align: middle;\n",
       "    }\n",
       "\n",
       "    .dataframe tbody tr th {\n",
       "        vertical-align: top;\n",
       "    }\n",
       "\n",
       "    .dataframe thead th {\n",
       "        text-align: right;\n",
       "    }\n",
       "</style>\n",
       "<table border=\"1\" class=\"dataframe\">\n",
       "  <thead>\n",
       "    <tr style=\"text-align: right;\">\n",
       "      <th></th>\n",
       "      <th>inn</th>\n",
       "      <th>resultType</th>\n",
       "      <th>caseDate</th>\n",
       "      <th>caseType</th>\n",
       "      <th>sum</th>\n",
       "      <th>isActive</th>\n",
       "      <th>currentInstance</th>\n",
       "      <th>instanceDate</th>\n",
       "      <th>case_sides</th>\n",
       "    </tr>\n",
       "  </thead>\n",
       "  <tbody>\n",
       "    <tr>\n",
       "      <th>0</th>\n",
       "      <td>1001003743</td>\n",
       "      <td>1</td>\n",
       "      <td>2020-06-26</td>\n",
       "      <td>6</td>\n",
       "      <td>1459183.0</td>\n",
       "      <td>0</td>\n",
       "      <td>АС Республики Карелия</td>\n",
       "      <td>2021-07-07</td>\n",
       "      <td>0</td>\n",
       "    </tr>\n",
       "    <tr>\n",
       "      <th>1</th>\n",
       "      <td>1001003743</td>\n",
       "      <td>2</td>\n",
       "      <td>2014-03-31</td>\n",
       "      <td>6</td>\n",
       "      <td>79200.0</td>\n",
       "      <td>0</td>\n",
       "      <td>АС Республики Карелия</td>\n",
       "      <td>2014-07-10</td>\n",
       "      <td>0</td>\n",
       "    </tr>\n",
       "    <tr>\n",
       "      <th>2</th>\n",
       "      <td>1001003743</td>\n",
       "      <td>1</td>\n",
       "      <td>2010-12-20</td>\n",
       "      <td>5</td>\n",
       "      <td>0.0</td>\n",
       "      <td>0</td>\n",
       "      <td>АС Республики Карелия</td>\n",
       "      <td>2012-02-02</td>\n",
       "      <td>0</td>\n",
       "    </tr>\n",
       "  </tbody>\n",
       "</table>\n",
       "</div>"
      ],
      "text/plain": [
       "          inn  resultType   caseDate  caseType        sum  isActive  \\\n",
       "0  1001003743           1 2020-06-26         6  1459183.0         0   \n",
       "1  1001003743           2 2014-03-31         6    79200.0         0   \n",
       "2  1001003743           1 2010-12-20         5        0.0         0   \n",
       "\n",
       "         currentInstance instanceDate  case_sides  \n",
       "0  АС Республики Карелия   2021-07-07           0  \n",
       "1  АС Республики Карелия   2014-07-10           0  \n",
       "2  АС Республики Карелия   2012-02-02           0  "
      ]
     },
     "execution_count": 104,
     "metadata": {},
     "output_type": "execute_result"
    }
   ],
   "source": [
    "df_court.head(3)"
   ]
  },
  {
   "cell_type": "markdown",
   "id": "237ee2f4",
   "metadata": {},
   "source": [
    "Добавим столбец о банкротстве в таблицу df_court."
   ]
  },
  {
   "cell_type": "code",
   "execution_count": 105,
   "id": "0fe2d1e9",
   "metadata": {},
   "outputs": [
    {
     "data": {
      "text/html": [
       "<div>\n",
       "<style scoped>\n",
       "    .dataframe tbody tr th:only-of-type {\n",
       "        vertical-align: middle;\n",
       "    }\n",
       "\n",
       "    .dataframe tbody tr th {\n",
       "        vertical-align: top;\n",
       "    }\n",
       "\n",
       "    .dataframe thead th {\n",
       "        text-align: right;\n",
       "    }\n",
       "</style>\n",
       "<table border=\"1\" class=\"dataframe\">\n",
       "  <thead>\n",
       "    <tr style=\"text-align: right;\">\n",
       "      <th></th>\n",
       "      <th>inn</th>\n",
       "      <th>resultType</th>\n",
       "      <th>caseDate</th>\n",
       "      <th>caseType</th>\n",
       "      <th>sum</th>\n",
       "      <th>isActive</th>\n",
       "      <th>currentInstance</th>\n",
       "      <th>instanceDate</th>\n",
       "      <th>case_sides</th>\n",
       "      <th>yearb</th>\n",
       "    </tr>\n",
       "  </thead>\n",
       "  <tbody>\n",
       "    <tr>\n",
       "      <th>0</th>\n",
       "      <td>1001003743</td>\n",
       "      <td>1</td>\n",
       "      <td>2020-06-26</td>\n",
       "      <td>6</td>\n",
       "      <td>1459183.0</td>\n",
       "      <td>0</td>\n",
       "      <td>АС Республики Карелия</td>\n",
       "      <td>2021-07-07</td>\n",
       "      <td>0</td>\n",
       "      <td>0</td>\n",
       "    </tr>\n",
       "    <tr>\n",
       "      <th>1</th>\n",
       "      <td>1001003743</td>\n",
       "      <td>2</td>\n",
       "      <td>2014-03-31</td>\n",
       "      <td>6</td>\n",
       "      <td>79200.0</td>\n",
       "      <td>0</td>\n",
       "      <td>АС Республики Карелия</td>\n",
       "      <td>2014-07-10</td>\n",
       "      <td>0</td>\n",
       "      <td>0</td>\n",
       "    </tr>\n",
       "    <tr>\n",
       "      <th>2</th>\n",
       "      <td>1001003743</td>\n",
       "      <td>1</td>\n",
       "      <td>2010-12-20</td>\n",
       "      <td>5</td>\n",
       "      <td>0.0</td>\n",
       "      <td>0</td>\n",
       "      <td>АС Республики Карелия</td>\n",
       "      <td>2012-02-02</td>\n",
       "      <td>0</td>\n",
       "      <td>0</td>\n",
       "    </tr>\n",
       "  </tbody>\n",
       "</table>\n",
       "</div>"
      ],
      "text/plain": [
       "          inn  resultType   caseDate  caseType        sum  isActive  \\\n",
       "0  1001003743           1 2020-06-26         6  1459183.0         0   \n",
       "1  1001003743           2 2014-03-31         6    79200.0         0   \n",
       "2  1001003743           1 2010-12-20         5        0.0         0   \n",
       "\n",
       "         currentInstance instanceDate  case_sides  yearb  \n",
       "0  АС Республики Карелия   2021-07-07           0      0  \n",
       "1  АС Республики Карелия   2014-07-10           0      0  \n",
       "2  АС Республики Карелия   2012-02-02           0      0  "
      ]
     },
     "execution_count": 105,
     "metadata": {},
     "output_type": "execute_result"
    }
   ],
   "source": [
    "df_court = df_court.merge(df_bank, on='inn', how='left').fillna(0)\n",
    "df_court['yearb'] = df_court['yearb'].astype('int')\n",
    "df_court.head(3)"
   ]
  },
  {
   "cell_type": "markdown",
   "id": "c1ab0cfd",
   "metadata": {},
   "source": [
    "### currentInstance"
   ]
  },
  {
   "cell_type": "markdown",
   "id": "f5f28fc1",
   "metadata": {},
   "source": [
    "Посмотрим, по каким компаниям судебные разбирательства происходят чаще, - по обанкротившимся или нет."
   ]
  },
  {
   "cell_type": "code",
   "execution_count": 106,
   "id": "d06d2a20",
   "metadata": {},
   "outputs": [
    {
     "data": {
      "text/plain": [
       "count    116.000000\n",
       "mean       0.827233\n",
       "std        0.274004\n",
       "min        0.000000\n",
       "25%        0.760453\n",
       "50%        0.965749\n",
       "75%        1.000000\n",
       "max        1.000000\n",
       "Name: yearb, dtype: float64"
      ]
     },
     "execution_count": 106,
     "metadata": {},
     "output_type": "execute_result"
    }
   ],
   "source": [
    "(\n",
    "    (df_court['yearb'] > 0).groupby(df_court['currentInstance']).sum()\n",
    "    / (df_court['yearb'] > 0).groupby(df_court['currentInstance']).count()\n",
    ").describe()"
   ]
  },
  {
   "cell_type": "markdown",
   "id": "97ac4ce8",
   "metadata": {},
   "source": [
    "Судебные разбирательства происходят чаще по компаниям, которые в большинстве случаев либо станут банкротами, либо уже ими стали. В половине судебных инстанций рассматриваются дела практически только таких компаний."
   ]
  },
  {
   "cell_type": "markdown",
   "id": "3e17dd8f",
   "metadata": {},
   "source": [
    "### sum"
   ]
  },
  {
   "cell_type": "markdown",
   "id": "e55683cc",
   "metadata": {},
   "source": [
    "Посмотрим, как различаются суммы исков в зависимости от факта банкротства."
   ]
  },
  {
   "cell_type": "code",
   "execution_count": 107,
   "id": "58361821",
   "metadata": {},
   "outputs": [
    {
     "data": {
      "text/html": [
       "<div>\n",
       "<style scoped>\n",
       "    .dataframe tbody tr th:only-of-type {\n",
       "        vertical-align: middle;\n",
       "    }\n",
       "\n",
       "    .dataframe tbody tr th {\n",
       "        vertical-align: top;\n",
       "    }\n",
       "\n",
       "    .dataframe thead tr th {\n",
       "        text-align: left;\n",
       "    }\n",
       "</style>\n",
       "<table border=\"1\" class=\"dataframe\">\n",
       "  <thead>\n",
       "    <tr>\n",
       "      <th></th>\n",
       "      <th colspan=\"2\" halign=\"left\">count</th>\n",
       "      <th colspan=\"2\" halign=\"left\">mean</th>\n",
       "    </tr>\n",
       "    <tr>\n",
       "      <th>yearb</th>\n",
       "      <th>False</th>\n",
       "      <th>True</th>\n",
       "      <th>False</th>\n",
       "      <th>True</th>\n",
       "    </tr>\n",
       "  </thead>\n",
       "  <tbody>\n",
       "    <tr>\n",
       "      <th>sum</th>\n",
       "      <td>1416</td>\n",
       "      <td>5926</td>\n",
       "      <td>2.188472e+07</td>\n",
       "      <td>6.987951e+07</td>\n",
       "    </tr>\n",
       "  </tbody>\n",
       "</table>\n",
       "</div>"
      ],
      "text/plain": [
       "      count                mean              \n",
       "yearb False  True         False          True\n",
       "sum    1416  5926  2.188472e+07  6.987951e+07"
      ]
     },
     "execution_count": 107,
     "metadata": {},
     "output_type": "execute_result"
    }
   ],
   "source": [
    "df_court.pivot_table(\n",
    "    values='sum',\n",
    "    columns=[(df_court['yearb'] > 0)],\n",
    "    aggfunc=['count', 'mean'],\n",
    ")"
   ]
  },
  {
   "cell_type": "markdown",
   "id": "56b46ad0",
   "metadata": {},
   "source": [
    "Компании-банкроты и компании, которые станут таковыми в будущем, судятся в среднем в вчетверо чаще и на втрое большие суммы.\n",
    "\n",
    "Посмотрим подробнее."
   ]
  },
  {
   "cell_type": "code",
   "execution_count": 108,
   "id": "9eb10e9f",
   "metadata": {},
   "outputs": [
    {
     "data": {
      "text/html": [
       "<div>\n",
       "<style scoped>\n",
       "    .dataframe tbody tr th:only-of-type {\n",
       "        vertical-align: middle;\n",
       "    }\n",
       "\n",
       "    .dataframe tbody tr th {\n",
       "        vertical-align: top;\n",
       "    }\n",
       "\n",
       "    .dataframe thead tr th {\n",
       "        text-align: left;\n",
       "    }\n",
       "</style>\n",
       "<table border=\"1\" class=\"dataframe\">\n",
       "  <thead>\n",
       "    <tr>\n",
       "      <th></th>\n",
       "      <th colspan=\"2\" halign=\"left\">count</th>\n",
       "      <th colspan=\"2\" halign=\"left\">mean</th>\n",
       "    </tr>\n",
       "    <tr>\n",
       "      <th>yearb</th>\n",
       "      <th>False</th>\n",
       "      <th>True</th>\n",
       "      <th>False</th>\n",
       "      <th>True</th>\n",
       "    </tr>\n",
       "  </thead>\n",
       "  <tbody>\n",
       "    <tr>\n",
       "      <th>sum</th>\n",
       "      <td>1416</td>\n",
       "      <td>740</td>\n",
       "      <td>2.188472e+07</td>\n",
       "      <td>7.302900e+06</td>\n",
       "    </tr>\n",
       "  </tbody>\n",
       "</table>\n",
       "</div>"
      ],
      "text/plain": [
       "      count               mean              \n",
       "yearb False True         False          True\n",
       "sum    1416  740  2.188472e+07  7.302900e+06"
      ]
     },
     "metadata": {},
     "output_type": "display_data"
    }
   ],
   "source": [
    "disp(\n",
    "    df_court[\n",
    "        df_court['yearb'] < df_court['caseDate'].dt.year\n",
    "    ].pivot_table(\n",
    "        values='sum',\n",
    "        columns=[(df_court['yearb'] > 0)],\n",
    "        aggfunc=['count', 'mean'],\n",
    "    )\n",
    ")"
   ]
  },
  {
   "cell_type": "code",
   "execution_count": 109,
   "id": "5e449439",
   "metadata": {},
   "outputs": [
    {
     "data": {
      "text/html": [
       "<div>\n",
       "<style scoped>\n",
       "    .dataframe tbody tr th:only-of-type {\n",
       "        vertical-align: middle;\n",
       "    }\n",
       "\n",
       "    .dataframe tbody tr th {\n",
       "        vertical-align: top;\n",
       "    }\n",
       "\n",
       "    .dataframe thead tr th {\n",
       "        text-align: left;\n",
       "    }\n",
       "</style>\n",
       "<table border=\"1\" class=\"dataframe\">\n",
       "  <thead>\n",
       "    <tr>\n",
       "      <th></th>\n",
       "      <th>count</th>\n",
       "      <th>mean</th>\n",
       "    </tr>\n",
       "    <tr>\n",
       "      <th>yearb</th>\n",
       "      <th>True</th>\n",
       "      <th>True</th>\n",
       "    </tr>\n",
       "  </thead>\n",
       "  <tbody>\n",
       "    <tr>\n",
       "      <th>sum</th>\n",
       "      <td>4532</td>\n",
       "      <td>8.779582e+07</td>\n",
       "    </tr>\n",
       "  </tbody>\n",
       "</table>\n",
       "</div>"
      ],
      "text/plain": [
       "      count          mean\n",
       "yearb  True          True\n",
       "sum    4532  8.779582e+07"
      ]
     },
     "metadata": {},
     "output_type": "display_data"
    }
   ],
   "source": [
    "disp(\n",
    "    df_court[\n",
    "        df_court['yearb'] > df_court['caseDate'].dt.year\n",
    "    ].pivot_table(\n",
    "        values='sum',\n",
    "        columns=[(df_court['yearb'] > 0)],\n",
    "        aggfunc=['count', 'mean'],\n",
    "    )\n",
    ")"
   ]
  },
  {
   "cell_type": "markdown",
   "id": "991e8044",
   "metadata": {},
   "source": [
    "Когда с компанией начинают судиться уже после того, как она была объявлена банкротом, в среднем спорные суммы на порядок ниже, чем когда начинают судиться с ещё \"живой\" компанией. С компанией, объявленной банкротом, судятся в 6 раз реже."
   ]
  },
  {
   "cell_type": "markdown",
   "id": "a24b3222",
   "metadata": {},
   "source": [
    "### case_sides"
   ]
  },
  {
   "cell_type": "markdown",
   "id": "97faa33e",
   "metadata": {},
   "source": [
    "Кодировка сторон в деле:\n",
    "* 0: истец;\n",
    "* 1: ответчик;\n",
    "* 2: свидетель."
   ]
  },
  {
   "cell_type": "markdown",
   "id": "58c0a983",
   "metadata": {},
   "source": [
    "Посмотрим, какой стороной в деле компания является чаще в зависимости от факта банкротства."
   ]
  },
  {
   "cell_type": "code",
   "execution_count": 110,
   "id": "8beb8590",
   "metadata": {},
   "outputs": [
    {
     "data": {
      "text/plain": [
       "case_sides\n",
       "0    1282\n",
       "1     632\n",
       "2     147\n",
       "3      95\n",
       "Name: inn, dtype: int64"
      ]
     },
     "metadata": {},
     "output_type": "display_data"
    }
   ],
   "source": [
    "disp(\n",
    "    df_court[\n",
    "        df_court['yearb'] < df_court['caseDate'].dt.year\n",
    "    ].groupby('case_sides')['inn'].count()\n",
    ")"
   ]
  },
  {
   "cell_type": "code",
   "execution_count": 111,
   "id": "b03f522a",
   "metadata": {},
   "outputs": [
    {
     "data": {
      "text/plain": [
       "case_sides\n",
       "0    1591\n",
       "1    2592\n",
       "2     226\n",
       "3     123\n",
       "Name: inn, dtype: int64"
      ]
     },
     "metadata": {},
     "output_type": "display_data"
    }
   ],
   "source": [
    "disp(\n",
    "    df_court[\n",
    "        df_court['yearb'] > df_court['caseDate'].dt.year\n",
    "    ].groupby('case_sides')['inn'].count()\n",
    ")"
   ]
  },
  {
   "cell_type": "code",
   "execution_count": 112,
   "id": "218ee7e4",
   "metadata": {},
   "outputs": [
    {
     "data": {
      "text/plain": [
       "case_sides\n",
       "0    901\n",
       "1    318\n",
       "2    112\n",
       "3     85\n",
       "Name: inn, dtype: int64"
      ]
     },
     "metadata": {},
     "output_type": "display_data"
    }
   ],
   "source": [
    "disp(\n",
    "    df_court[\n",
    "        df_court['yearb'] == 0\n",
    "    ].groupby('case_sides')['inn'].count()\n",
    ")"
   ]
  },
  {
   "cell_type": "markdown",
   "id": "0aef916c",
   "metadata": {},
   "source": [
    "Обанкротившиеся компании выступают истцом вдвое чаще, чем ответчиком. Ещё не обанкротившиеся компании, но которые обанкротятся вскоре, - наоборот, чаще выступают в суде ответчиком. Финансово здоровые компании выступают истцом втрое чаще, чем ответчиком.\n",
    "\n",
    "Вероятные причины состоят в том, что в первом случае конкурсный управляющий начинает активно взыскивать всю дебиторскую задолженность, которую только можно взыскать. А во втором случае - в предбанкротном состоянии - компания испытывает трудности с выполнением своих обязательств, и контрагенты пытаются что-то взыскать с неё. По здоровым компаниям можно сказать следующее: отсутствие финансовых проблем позволяет компании нормально исполнять свои обязательства перед контрагентами, поэтому претензии к ней предъявляют значительно реже, чем предъявляет она сама."
   ]
  },
  {
   "cell_type": "markdown",
   "id": "d5657192",
   "metadata": {},
   "source": [
    "### resultType"
   ]
  },
  {
   "cell_type": "markdown",
   "id": "48c50566",
   "metadata": {},
   "source": [
    "Проанализируем результаты судов."
   ]
  },
  {
   "cell_type": "code",
   "execution_count": 113,
   "id": "b700d502",
   "metadata": {},
   "outputs": [
    {
     "data": {
      "text/plain": [
       "resultType\n",
       "0     300\n",
       "1     586\n",
       "2    1270\n",
       "Name: inn, dtype: int64"
      ]
     },
     "metadata": {},
     "output_type": "display_data"
    }
   ],
   "source": [
    "disp(\n",
    "    df_court[\n",
    "        df_court['yearb'] < df_court['caseDate'].dt.year\n",
    "    ].groupby('resultType')['inn'].count()\n",
    ")"
   ]
  },
  {
   "cell_type": "code",
   "execution_count": 114,
   "id": "afa8e4bb",
   "metadata": {},
   "outputs": [
    {
     "data": {
      "text/plain": [
       "resultType\n",
       "0    1154\n",
       "1     612\n",
       "2    2766\n",
       "Name: inn, dtype: int64"
      ]
     },
     "metadata": {},
     "output_type": "display_data"
    }
   ],
   "source": [
    "disp(\n",
    "    df_court[\n",
    "        df_court['yearb'] > df_court['caseDate'].dt.year\n",
    "    ].groupby('resultType')['inn'].count()\n",
    ")"
   ]
  },
  {
   "cell_type": "code",
   "execution_count": 115,
   "id": "6670812a",
   "metadata": {},
   "outputs": [
    {
     "data": {
      "text/plain": [
       "resultType\n",
       "0    156\n",
       "1    458\n",
       "2    802\n",
       "Name: inn, dtype: int64"
      ]
     },
     "metadata": {},
     "output_type": "display_data"
    }
   ],
   "source": [
    "disp(\n",
    "    df_court[\n",
    "        df_court['yearb'] == 0\n",
    "    ].groupby('resultType')['inn'].count()\n",
    ")"
   ]
  },
  {
   "cell_type": "markdown",
   "id": "8f726a97",
   "metadata": {},
   "source": [
    "Проблемные компании (уже претерпевшие банкротство или будущие банкроты). Видно, что истец выигрывает в суд примерно вдвое чаще, чем ответчик. В первом случае - обанкротившаяся компания-истец, во втором случае - контрагенты-кредиторы. Вместе с тем, необходимо отметить, что ещё больше случаев так или иначе не завершились выигрышем ни для одной из сторон спора. А решения не в пользу истца сами по себе не так уж и редки.\n",
    "\n",
    "Финансово здоровые компании выигрывают дела втрое чаще, чем проблемные."
   ]
  },
  {
   "cell_type": "markdown",
   "id": "891da0dd",
   "metadata": {},
   "source": [
    "### caseType"
   ]
  },
  {
   "cell_type": "markdown",
   "id": "0842ddaa",
   "metadata": {},
   "source": [
    "Проанализируем категории дел."
   ]
  },
  {
   "cell_type": "code",
   "execution_count": 116,
   "id": "41d66570",
   "metadata": {},
   "outputs": [
    {
     "data": {
      "text/plain": [
       "caseType\n",
       "1       98\n",
       "3        1\n",
       "4        7\n",
       "5      317\n",
       "6     1718\n",
       "73       3\n",
       "90      12\n",
       "Name: inn, dtype: int64"
      ]
     },
     "metadata": {},
     "output_type": "display_data"
    }
   ],
   "source": [
    "disp(\n",
    "    df_court[\n",
    "        df_court['yearb'] < df_court['caseDate'].dt.year\n",
    "    ].groupby('caseType')['inn'].count()\n",
    ")"
   ]
  },
  {
   "cell_type": "code",
   "execution_count": 117,
   "id": "a1ac5dbf",
   "metadata": {},
   "outputs": [
    {
     "data": {
      "text/plain": [
       "caseType\n",
       "1      328\n",
       "3       33\n",
       "4        5\n",
       "5      504\n",
       "6     3538\n",
       "73       3\n",
       "90     121\n",
       "Name: inn, dtype: int64"
      ]
     },
     "metadata": {},
     "output_type": "display_data"
    }
   ],
   "source": [
    "disp(\n",
    "    df_court[\n",
    "        df_court['yearb'] > df_court['caseDate'].dt.year\n",
    "    ].groupby('caseType')['inn'].count()\n",
    ")"
   ]
  },
  {
   "cell_type": "code",
   "execution_count": 118,
   "id": "2dc54f53",
   "metadata": {},
   "outputs": [
    {
     "data": {
      "text/plain": [
       "caseType\n",
       "1       73\n",
       "3        1\n",
       "4        5\n",
       "5      217\n",
       "6     1110\n",
       "73       2\n",
       "90       8\n",
       "Name: inn, dtype: int64"
      ]
     },
     "metadata": {},
     "output_type": "display_data"
    }
   ],
   "source": [
    "disp(\n",
    "    df_court[\n",
    "        df_court['yearb'] == 0\n",
    "    ].groupby('caseType')['inn'].count()\n",
    ")"
   ]
  },
  {
   "cell_type": "code",
   "execution_count": 119,
   "id": "73c35fdf",
   "metadata": {},
   "outputs": [
    {
     "data": {
      "text/plain": [
       "{'6': 'экономические споры по гражданским правоотношениям',\n",
       " '5': 'экономические споры по административным правоотношениям',\n",
       " '90': 'не определено',\n",
       " '1': 'о несостоятельности (банкротстве) организаций и граждан',\n",
       " '73': 'об административных правонарушениях',\n",
       " '3': 'об оспаривании решений трет. судов и о выдаче исп. листов на принудительное исполнение решений трет. судов',\n",
       " '4': 'об установлении фактов, имеющих юридическое значение'}"
      ]
     },
     "execution_count": 119,
     "metadata": {},
     "output_type": "execute_result"
    }
   ],
   "source": [
    "df_caseType_names"
   ]
  },
  {
   "cell_type": "markdown",
   "id": "68cc1c53",
   "metadata": {},
   "source": [
    "В целом, распределения типов дел примерно совпадают у всех трёх подвыборок (учитывая разные размеры подвыборок). Отдельные категории дел различаются по количеству в 10...30 раз, но, учитывая, что абсолютное число таких случаев невелико, правильнее в данном случае говорить о выбросах и не придавать этому большое значение."
   ]
  },
  {
   "cell_type": "markdown",
   "id": "d7e829a0",
   "metadata": {},
   "source": [
    "### Вывод"
   ]
  },
  {
   "cell_type": "markdown",
   "id": "fcd9e65a",
   "metadata": {},
   "source": [
    "По тем или иным причинам в судебных спорах в 4 раза чаще участвуют компании-банкроты (в том числе - будущие). При этом они бывают как истцом, так и ответчиком: преимущественной стороны нет. Спорные суммы в делах с участием необанкроченных компаний выше в среднем в 10 раз, чем с участием обанкроченных.\n",
    "\n",
    "Истец выигрывает дело в 2-3 раза чаще, чем ответчик. Но количество дел, где исход не определён, в среднем в 1,4 раза больше, чем тех, где решение принято хотя бы частично."
   ]
  },
  {
   "cell_type": "markdown",
   "id": "b20463fd",
   "metadata": {},
   "source": [
    "# Feature extraction"
   ]
  },
  {
   "cell_type": "code",
   "execution_count": 120,
   "id": "b148f75c",
   "metadata": {},
   "outputs": [
    {
     "data": {
      "text/html": [
       "<div>\n",
       "<style scoped>\n",
       "    .dataframe tbody tr th:only-of-type {\n",
       "        vertical-align: middle;\n",
       "    }\n",
       "\n",
       "    .dataframe tbody tr th {\n",
       "        vertical-align: top;\n",
       "    }\n",
       "\n",
       "    .dataframe thead th {\n",
       "        text-align: right;\n",
       "    }\n",
       "</style>\n",
       "<table border=\"1\" class=\"dataframe\">\n",
       "  <thead>\n",
       "    <tr style=\"text-align: right;\">\n",
       "      <th></th>\n",
       "      <th>inn</th>\n",
       "      <th>year</th>\n",
       "      <th>long</th>\n",
       "      <th>short</th>\n",
       "      <th>balance</th>\n",
       "      <th>yearb</th>\n",
       "    </tr>\n",
       "  </thead>\n",
       "  <tbody>\n",
       "    <tr>\n",
       "      <th>0</th>\n",
       "      <td>2465002653</td>\n",
       "      <td>2012</td>\n",
       "      <td>0.0</td>\n",
       "      <td>113756000.0</td>\n",
       "      <td>122240000.0</td>\n",
       "      <td>2021</td>\n",
       "    </tr>\n",
       "    <tr>\n",
       "      <th>1</th>\n",
       "      <td>3505003270</td>\n",
       "      <td>2012</td>\n",
       "      <td>21461000.0</td>\n",
       "      <td>20211000.0</td>\n",
       "      <td>81132000.0</td>\n",
       "      <td>0</td>\n",
       "    </tr>\n",
       "    <tr>\n",
       "      <th>2</th>\n",
       "      <td>3517003250</td>\n",
       "      <td>2012</td>\n",
       "      <td>0.0</td>\n",
       "      <td>0.0</td>\n",
       "      <td>48063000.0</td>\n",
       "      <td>2017</td>\n",
       "    </tr>\n",
       "  </tbody>\n",
       "</table>\n",
       "</div>"
      ],
      "text/plain": [
       "          inn  year        long        short      balance  yearb\n",
       "0  2465002653  2012         0.0  113756000.0  122240000.0   2021\n",
       "1  3505003270  2012  21461000.0   20211000.0   81132000.0      0\n",
       "2  3517003250  2012         0.0          0.0   48063000.0   2017"
      ]
     },
     "metadata": {},
     "output_type": "display_data"
    },
    {
     "data": {
      "text/html": [
       "<div>\n",
       "<style scoped>\n",
       "    .dataframe tbody tr th:only-of-type {\n",
       "        vertical-align: middle;\n",
       "    }\n",
       "\n",
       "    .dataframe tbody tr th {\n",
       "        vertical-align: top;\n",
       "    }\n",
       "\n",
       "    .dataframe thead th {\n",
       "        text-align: right;\n",
       "    }\n",
       "</style>\n",
       "<table border=\"1\" class=\"dataframe\">\n",
       "  <thead>\n",
       "    <tr style=\"text-align: right;\">\n",
       "      <th></th>\n",
       "      <th>inn</th>\n",
       "      <th>resultType</th>\n",
       "      <th>caseDate</th>\n",
       "      <th>caseType</th>\n",
       "      <th>sum</th>\n",
       "      <th>isActive</th>\n",
       "      <th>currentInstance</th>\n",
       "      <th>instanceDate</th>\n",
       "      <th>case_sides</th>\n",
       "      <th>yearb</th>\n",
       "    </tr>\n",
       "  </thead>\n",
       "  <tbody>\n",
       "    <tr>\n",
       "      <th>0</th>\n",
       "      <td>1001003743</td>\n",
       "      <td>1</td>\n",
       "      <td>2020-06-26</td>\n",
       "      <td>6</td>\n",
       "      <td>1459183.0</td>\n",
       "      <td>0</td>\n",
       "      <td>АС Республики Карелия</td>\n",
       "      <td>2021-07-07</td>\n",
       "      <td>0</td>\n",
       "      <td>0</td>\n",
       "    </tr>\n",
       "    <tr>\n",
       "      <th>1</th>\n",
       "      <td>1001003743</td>\n",
       "      <td>2</td>\n",
       "      <td>2014-03-31</td>\n",
       "      <td>6</td>\n",
       "      <td>79200.0</td>\n",
       "      <td>0</td>\n",
       "      <td>АС Республики Карелия</td>\n",
       "      <td>2014-07-10</td>\n",
       "      <td>0</td>\n",
       "      <td>0</td>\n",
       "    </tr>\n",
       "    <tr>\n",
       "      <th>2</th>\n",
       "      <td>1001003743</td>\n",
       "      <td>1</td>\n",
       "      <td>2010-12-20</td>\n",
       "      <td>5</td>\n",
       "      <td>0.0</td>\n",
       "      <td>0</td>\n",
       "      <td>АС Республики Карелия</td>\n",
       "      <td>2012-02-02</td>\n",
       "      <td>0</td>\n",
       "      <td>0</td>\n",
       "    </tr>\n",
       "  </tbody>\n",
       "</table>\n",
       "</div>"
      ],
      "text/plain": [
       "          inn  resultType   caseDate  caseType        sum  isActive  \\\n",
       "0  1001003743           1 2020-06-26         6  1459183.0         0   \n",
       "1  1001003743           2 2014-03-31         6    79200.0         0   \n",
       "2  1001003743           1 2010-12-20         5        0.0         0   \n",
       "\n",
       "         currentInstance instanceDate  case_sides  yearb  \n",
       "0  АС Республики Карелия   2021-07-07           0      0  \n",
       "1  АС Республики Карелия   2014-07-10           0      0  \n",
       "2  АС Республики Карелия   2012-02-02           0      0  "
      ]
     },
     "metadata": {},
     "output_type": "display_data"
    }
   ],
   "source": [
    "disp(df_acc.head(3))\n",
    "disp(df_court.head(3))"
   ]
  },
  {
   "cell_type": "markdown",
   "id": "93549cbe",
   "metadata": {},
   "source": [
    "Датасет для обучения модели будем формировать относительно компаний в целом. Т.е. одна строка - одна компания (ИНН).\n",
    "\n",
    "Данные о бухгалтерской отчётности представляют собой временные ряды, которые имеют неодинаковую длину в разрезе компаний. Поэтому в датасете будут использоваться их агрегированные представления. При этом проходить ряды скользящим окном необходимости нет, так как они - достаточно короткие. Таким образом, вычисляя статистики, мы получим не ряды, а константы (как будто окно - размером во весь ряд).\n",
    "\n",
    "Данные о судах, несмотря на привязку событий ко времени, не являются временными рядами по двум причинам: неравномерный интервал между наблюдениями; отсутствие протекающего во времени процесса. Дата события здесь является просто одной из характеристик этого события. Поскольку количество строк (судов), приходящихся на одну компанию, не одинаково в разрезе компаний, в датасете будут использоваться агрегированные представления."
   ]
  },
  {
   "cell_type": "markdown",
   "id": "9d58d566",
   "metadata": {},
   "source": [
    "## Таблица Accounts"
   ]
  },
  {
   "cell_type": "markdown",
   "id": "373222ba",
   "metadata": {},
   "source": [
    "### Выделение временных рядов"
   ]
  },
  {
   "cell_type": "markdown",
   "id": "ce401021",
   "metadata": {},
   "source": [
    "Можно сформировать сводную таблицу, такую, как эта."
   ]
  },
  {
   "cell_type": "code",
   "execution_count": 121,
   "id": "a5e54056",
   "metadata": {},
   "outputs": [
    {
     "data": {
      "text/html": [
       "<div>\n",
       "<style scoped>\n",
       "    .dataframe tbody tr th:only-of-type {\n",
       "        vertical-align: middle;\n",
       "    }\n",
       "\n",
       "    .dataframe tbody tr th {\n",
       "        vertical-align: top;\n",
       "    }\n",
       "\n",
       "    .dataframe thead tr th {\n",
       "        text-align: left;\n",
       "    }\n",
       "\n",
       "    .dataframe thead tr:last-of-type th {\n",
       "        text-align: right;\n",
       "    }\n",
       "</style>\n",
       "<table border=\"1\" class=\"dataframe\">\n",
       "  <thead>\n",
       "    <tr>\n",
       "      <th></th>\n",
       "      <th colspan=\"3\" halign=\"left\">count</th>\n",
       "      <th colspan=\"3\" halign=\"left\">mean</th>\n",
       "      <th colspan=\"3\" halign=\"left\">std</th>\n",
       "      <th colspan=\"3\" halign=\"left\">max</th>\n",
       "      <th colspan=\"3\" halign=\"left\">min</th>\n",
       "    </tr>\n",
       "    <tr>\n",
       "      <th></th>\n",
       "      <th>balance</th>\n",
       "      <th>long</th>\n",
       "      <th>short</th>\n",
       "      <th>balance</th>\n",
       "      <th>long</th>\n",
       "      <th>short</th>\n",
       "      <th>balance</th>\n",
       "      <th>long</th>\n",
       "      <th>short</th>\n",
       "      <th>balance</th>\n",
       "      <th>long</th>\n",
       "      <th>short</th>\n",
       "      <th>balance</th>\n",
       "      <th>long</th>\n",
       "      <th>short</th>\n",
       "    </tr>\n",
       "    <tr>\n",
       "      <th>inn</th>\n",
       "      <th></th>\n",
       "      <th></th>\n",
       "      <th></th>\n",
       "      <th></th>\n",
       "      <th></th>\n",
       "      <th></th>\n",
       "      <th></th>\n",
       "      <th></th>\n",
       "      <th></th>\n",
       "      <th></th>\n",
       "      <th></th>\n",
       "      <th></th>\n",
       "      <th></th>\n",
       "      <th></th>\n",
       "      <th></th>\n",
       "    </tr>\n",
       "  </thead>\n",
       "  <tbody>\n",
       "    <tr>\n",
       "      <th>1001003743</th>\n",
       "      <td>8</td>\n",
       "      <td>8</td>\n",
       "      <td>8</td>\n",
       "      <td>5.411625e+06</td>\n",
       "      <td>0.000000e+00</td>\n",
       "      <td>2.520875e+06</td>\n",
       "      <td>1.868423e+06</td>\n",
       "      <td>0.000000e+00</td>\n",
       "      <td>2.838751e+06</td>\n",
       "      <td>9481000.0</td>\n",
       "      <td>0.0</td>\n",
       "      <td>8379000.0</td>\n",
       "      <td>3930000.0</td>\n",
       "      <td>0.0</td>\n",
       "      <td>260000.0</td>\n",
       "    </tr>\n",
       "    <tr>\n",
       "      <th>1020010136</th>\n",
       "      <td>4</td>\n",
       "      <td>4</td>\n",
       "      <td>4</td>\n",
       "      <td>1.133375e+07</td>\n",
       "      <td>0.000000e+00</td>\n",
       "      <td>2.803350e+07</td>\n",
       "      <td>5.352781e+06</td>\n",
       "      <td>0.000000e+00</td>\n",
       "      <td>2.267187e+07</td>\n",
       "      <td>14769000.0</td>\n",
       "      <td>0.0</td>\n",
       "      <td>55297000.0</td>\n",
       "      <td>3451000.0</td>\n",
       "      <td>0.0</td>\n",
       "      <td>3900000.0</td>\n",
       "    </tr>\n",
       "    <tr>\n",
       "      <th>1203000142</th>\n",
       "      <td>4</td>\n",
       "      <td>4</td>\n",
       "      <td>4</td>\n",
       "      <td>4.820905e+08</td>\n",
       "      <td>1.428060e+08</td>\n",
       "      <td>2.644352e+08</td>\n",
       "      <td>3.486389e+07</td>\n",
       "      <td>1.052859e+08</td>\n",
       "      <td>1.101900e+08</td>\n",
       "      <td>523849000.0</td>\n",
       "      <td>252652000.0</td>\n",
       "      <td>395315000.0</td>\n",
       "      <td>442374000.0</td>\n",
       "      <td>52005000.0</td>\n",
       "      <td>165670000.0</td>\n",
       "    </tr>\n",
       "    <tr>\n",
       "      <th>1302000640</th>\n",
       "      <td>3</td>\n",
       "      <td>3</td>\n",
       "      <td>3</td>\n",
       "      <td>2.807867e+07</td>\n",
       "      <td>2.465333e+06</td>\n",
       "      <td>1.479267e+07</td>\n",
       "      <td>3.742384e+06</td>\n",
       "      <td>2.135041e+06</td>\n",
       "      <td>1.281083e+07</td>\n",
       "      <td>32400000.0</td>\n",
       "      <td>3698000.0</td>\n",
       "      <td>22189000.0</td>\n",
       "      <td>25918000.0</td>\n",
       "      <td>0.0</td>\n",
       "      <td>0.0</td>\n",
       "    </tr>\n",
       "    <tr>\n",
       "      <th>1411004211</th>\n",
       "      <td>6</td>\n",
       "      <td>6</td>\n",
       "      <td>6</td>\n",
       "      <td>1.371465e+08</td>\n",
       "      <td>4.245433e+07</td>\n",
       "      <td>3.476417e+07</td>\n",
       "      <td>6.792628e+07</td>\n",
       "      <td>3.334963e+07</td>\n",
       "      <td>2.744378e+07</td>\n",
       "      <td>177828000.0</td>\n",
       "      <td>74399000.0</td>\n",
       "      <td>57566000.0</td>\n",
       "      <td>0.0</td>\n",
       "      <td>0.0</td>\n",
       "      <td>0.0</td>\n",
       "    </tr>\n",
       "  </tbody>\n",
       "</table>\n",
       "</div>"
      ],
      "text/plain": [
       "             count                     mean                              \\\n",
       "           balance long short       balance          long         short   \n",
       "inn                                                                       \n",
       "1001003743       8    8     8  5.411625e+06  0.000000e+00  2.520875e+06   \n",
       "1020010136       4    4     4  1.133375e+07  0.000000e+00  2.803350e+07   \n",
       "1203000142       4    4     4  4.820905e+08  1.428060e+08  2.644352e+08   \n",
       "1302000640       3    3     3  2.807867e+07  2.465333e+06  1.479267e+07   \n",
       "1411004211       6    6     6  1.371465e+08  4.245433e+07  3.476417e+07   \n",
       "\n",
       "                     std                                      max  \\\n",
       "                 balance          long         short      balance   \n",
       "inn                                                                 \n",
       "1001003743  1.868423e+06  0.000000e+00  2.838751e+06    9481000.0   \n",
       "1020010136  5.352781e+06  0.000000e+00  2.267187e+07   14769000.0   \n",
       "1203000142  3.486389e+07  1.052859e+08  1.101900e+08  523849000.0   \n",
       "1302000640  3.742384e+06  2.135041e+06  1.281083e+07   32400000.0   \n",
       "1411004211  6.792628e+07  3.334963e+07  2.744378e+07  177828000.0   \n",
       "\n",
       "                                              min                           \n",
       "                   long        short      balance        long        short  \n",
       "inn                                                                         \n",
       "1001003743          0.0    8379000.0    3930000.0         0.0     260000.0  \n",
       "1020010136          0.0   55297000.0    3451000.0         0.0    3900000.0  \n",
       "1203000142  252652000.0  395315000.0  442374000.0  52005000.0  165670000.0  \n",
       "1302000640    3698000.0   22189000.0   25918000.0         0.0          0.0  \n",
       "1411004211   74399000.0   57566000.0          0.0         0.0          0.0  "
      ]
     },
     "execution_count": 121,
     "metadata": {},
     "output_type": "execute_result"
    }
   ],
   "source": [
    "df_acc.pivot_table(\n",
    "    values=['long', 'short', 'balance'],\n",
    "    index='inn',\n",
    "    aggfunc=['count', 'mean', 'std', 'max', 'min'],\n",
    ").head()"
   ]
  },
  {
   "cell_type": "markdown",
   "id": "a63604ea",
   "metadata": {},
   "source": [
    "Но нам потребуются и другие статистики, в том числе вычисленные из продифференцированных рядов. Поэтому трансформируем исходную таблицу df_acc во временные ряды по каждой компании (inn). Количество новых таблиц - по количеству столбцов в исходной таблице.\n",
    "\n",
    "Сформируем словарь с пустыми таблицами."
   ]
  },
  {
   "cell_type": "code",
   "execution_count": 122,
   "id": "7646608b",
   "metadata": {},
   "outputs": [
    {
     "data": {
      "text/html": [
       "<div>\n",
       "<style scoped>\n",
       "    .dataframe tbody tr th:only-of-type {\n",
       "        vertical-align: middle;\n",
       "    }\n",
       "\n",
       "    .dataframe tbody tr th {\n",
       "        vertical-align: top;\n",
       "    }\n",
       "\n",
       "    .dataframe thead th {\n",
       "        text-align: right;\n",
       "    }\n",
       "</style>\n",
       "<table border=\"1\" class=\"dataframe\">\n",
       "  <thead>\n",
       "    <tr style=\"text-align: right;\">\n",
       "      <th></th>\n",
       "      <th>2012</th>\n",
       "      <th>2013</th>\n",
       "      <th>2014</th>\n",
       "      <th>2015</th>\n",
       "      <th>2016</th>\n",
       "      <th>2017</th>\n",
       "      <th>2018</th>\n",
       "      <th>2019</th>\n",
       "      <th>2020</th>\n",
       "    </tr>\n",
       "  </thead>\n",
       "  <tbody>\n",
       "    <tr>\n",
       "      <th>1001003743</th>\n",
       "      <td>NaN</td>\n",
       "      <td>NaN</td>\n",
       "      <td>NaN</td>\n",
       "      <td>NaN</td>\n",
       "      <td>NaN</td>\n",
       "      <td>NaN</td>\n",
       "      <td>NaN</td>\n",
       "      <td>NaN</td>\n",
       "      <td>NaN</td>\n",
       "    </tr>\n",
       "    <tr>\n",
       "      <th>1020010136</th>\n",
       "      <td>NaN</td>\n",
       "      <td>NaN</td>\n",
       "      <td>NaN</td>\n",
       "      <td>NaN</td>\n",
       "      <td>NaN</td>\n",
       "      <td>NaN</td>\n",
       "      <td>NaN</td>\n",
       "      <td>NaN</td>\n",
       "      <td>NaN</td>\n",
       "    </tr>\n",
       "    <tr>\n",
       "      <th>1203000142</th>\n",
       "      <td>NaN</td>\n",
       "      <td>NaN</td>\n",
       "      <td>NaN</td>\n",
       "      <td>NaN</td>\n",
       "      <td>NaN</td>\n",
       "      <td>NaN</td>\n",
       "      <td>NaN</td>\n",
       "      <td>NaN</td>\n",
       "      <td>NaN</td>\n",
       "    </tr>\n",
       "  </tbody>\n",
       "</table>\n",
       "</div>"
      ],
      "text/plain": [
       "           2012 2013 2014 2015 2016 2017 2018 2019 2020\n",
       "1001003743  NaN  NaN  NaN  NaN  NaN  NaN  NaN  NaN  NaN\n",
       "1020010136  NaN  NaN  NaN  NaN  NaN  NaN  NaN  NaN  NaN\n",
       "1203000142  NaN  NaN  NaN  NaN  NaN  NaN  NaN  NaN  NaN"
      ]
     },
     "execution_count": 122,
     "metadata": {},
     "output_type": "execute_result"
    }
   ],
   "source": [
    "df_acc_ts = {}\n",
    "\n",
    "df_acc_ts['long'] = pd.DataFrame(\n",
    "    None,\n",
    "    index=np.sort(df_acc['inn'].unique()),\n",
    "    columns=np.sort(df_acc['year'].unique())\n",
    ")\n",
    "df_acc_ts['short'] = df_acc_ts['long'].copy()\n",
    "df_acc_ts['balance'] = df_acc_ts['long'].copy()\n",
    "\n",
    "df_acc_ts['long'].head(3)"
   ]
  },
  {
   "cell_type": "markdown",
   "id": "cb0d1cdb",
   "metadata": {},
   "source": [
    "Заполним таблицы."
   ]
  },
  {
   "cell_type": "code",
   "execution_count": 123,
   "id": "c2bdd64f",
   "metadata": {},
   "outputs": [
    {
     "data": {
      "text/html": [
       "<div>\n",
       "<style scoped>\n",
       "    .dataframe tbody tr th:only-of-type {\n",
       "        vertical-align: middle;\n",
       "    }\n",
       "\n",
       "    .dataframe tbody tr th {\n",
       "        vertical-align: top;\n",
       "    }\n",
       "\n",
       "    .dataframe thead th {\n",
       "        text-align: right;\n",
       "    }\n",
       "</style>\n",
       "<table border=\"1\" class=\"dataframe\">\n",
       "  <thead>\n",
       "    <tr style=\"text-align: right;\">\n",
       "      <th></th>\n",
       "      <th>2012</th>\n",
       "      <th>2013</th>\n",
       "      <th>2014</th>\n",
       "      <th>2015</th>\n",
       "      <th>2016</th>\n",
       "      <th>2017</th>\n",
       "      <th>2018</th>\n",
       "      <th>2019</th>\n",
       "      <th>2020</th>\n",
       "    </tr>\n",
       "  </thead>\n",
       "  <tbody>\n",
       "    <tr>\n",
       "      <th>1001003743</th>\n",
       "      <td>0.0</td>\n",
       "      <td>0.0</td>\n",
       "      <td>0.0</td>\n",
       "      <td>0.0</td>\n",
       "      <td>0.0</td>\n",
       "      <td>0.0</td>\n",
       "      <td>0.0</td>\n",
       "      <td>0.0</td>\n",
       "      <td>NaN</td>\n",
       "    </tr>\n",
       "    <tr>\n",
       "      <th>1020010136</th>\n",
       "      <td>NaN</td>\n",
       "      <td>NaN</td>\n",
       "      <td>NaN</td>\n",
       "      <td>0.0</td>\n",
       "      <td>0.0</td>\n",
       "      <td>0.0</td>\n",
       "      <td>0.0</td>\n",
       "      <td>NaN</td>\n",
       "      <td>NaN</td>\n",
       "    </tr>\n",
       "    <tr>\n",
       "      <th>1203000142</th>\n",
       "      <td>NaN</td>\n",
       "      <td>NaN</td>\n",
       "      <td>NaN</td>\n",
       "      <td>NaN</td>\n",
       "      <td>NaN</td>\n",
       "      <td>252652000.0</td>\n",
       "      <td>213168000.0</td>\n",
       "      <td>53399000.0</td>\n",
       "      <td>52005000.0</td>\n",
       "    </tr>\n",
       "  </tbody>\n",
       "</table>\n",
       "</div>"
      ],
      "text/plain": [
       "            2012  2013  2014  2015  2016         2017         2018  \\\n",
       "1001003743   0.0   0.0   0.0   0.0   0.0          0.0          0.0   \n",
       "1020010136   NaN   NaN   NaN   0.0   0.0          0.0          0.0   \n",
       "1203000142   NaN   NaN   NaN   NaN   NaN  252652000.0  213168000.0   \n",
       "\n",
       "                  2019        2020  \n",
       "1001003743         0.0         NaN  \n",
       "1020010136         NaN         NaN  \n",
       "1203000142  53399000.0  52005000.0  "
      ]
     },
     "metadata": {},
     "output_type": "display_data"
    },
    {
     "data": {
      "text/html": [
       "<div>\n",
       "<style scoped>\n",
       "    .dataframe tbody tr th:only-of-type {\n",
       "        vertical-align: middle;\n",
       "    }\n",
       "\n",
       "    .dataframe tbody tr th {\n",
       "        vertical-align: top;\n",
       "    }\n",
       "\n",
       "    .dataframe thead th {\n",
       "        text-align: right;\n",
       "    }\n",
       "</style>\n",
       "<table border=\"1\" class=\"dataframe\">\n",
       "  <thead>\n",
       "    <tr style=\"text-align: right;\">\n",
       "      <th></th>\n",
       "      <th>2012</th>\n",
       "      <th>2013</th>\n",
       "      <th>2014</th>\n",
       "      <th>2015</th>\n",
       "      <th>2016</th>\n",
       "      <th>2017</th>\n",
       "      <th>2018</th>\n",
       "      <th>2019</th>\n",
       "      <th>2020</th>\n",
       "    </tr>\n",
       "  </thead>\n",
       "  <tbody>\n",
       "    <tr>\n",
       "      <th>1001003743</th>\n",
       "      <td>1080000.0</td>\n",
       "      <td>1080000.0</td>\n",
       "      <td>296000.0</td>\n",
       "      <td>260000.0</td>\n",
       "      <td>861000.0</td>\n",
       "      <td>8379000.0</td>\n",
       "      <td>3881000.0</td>\n",
       "      <td>4330000.0</td>\n",
       "      <td>NaN</td>\n",
       "    </tr>\n",
       "    <tr>\n",
       "      <th>1020010136</th>\n",
       "      <td>NaN</td>\n",
       "      <td>NaN</td>\n",
       "      <td>NaN</td>\n",
       "      <td>3900000.0</td>\n",
       "      <td>16187000.0</td>\n",
       "      <td>36750000.0</td>\n",
       "      <td>55297000.0</td>\n",
       "      <td>NaN</td>\n",
       "      <td>NaN</td>\n",
       "    </tr>\n",
       "    <tr>\n",
       "      <th>1203000142</th>\n",
       "      <td>NaN</td>\n",
       "      <td>NaN</td>\n",
       "      <td>NaN</td>\n",
       "      <td>NaN</td>\n",
       "      <td>NaN</td>\n",
       "      <td>165670000.0</td>\n",
       "      <td>181200000.0</td>\n",
       "      <td>395315000.0</td>\n",
       "      <td>315556000.0</td>\n",
       "    </tr>\n",
       "  </tbody>\n",
       "</table>\n",
       "</div>"
      ],
      "text/plain": [
       "                 2012       2013      2014       2015        2016  \\\n",
       "1001003743  1080000.0  1080000.0  296000.0   260000.0    861000.0   \n",
       "1020010136        NaN        NaN       NaN  3900000.0  16187000.0   \n",
       "1203000142        NaN        NaN       NaN        NaN         NaN   \n",
       "\n",
       "                   2017         2018         2019         2020  \n",
       "1001003743    8379000.0    3881000.0    4330000.0          NaN  \n",
       "1020010136   36750000.0   55297000.0          NaN          NaN  \n",
       "1203000142  165670000.0  181200000.0  395315000.0  315556000.0  "
      ]
     },
     "metadata": {},
     "output_type": "display_data"
    },
    {
     "data": {
      "text/html": [
       "<div>\n",
       "<style scoped>\n",
       "    .dataframe tbody tr th:only-of-type {\n",
       "        vertical-align: middle;\n",
       "    }\n",
       "\n",
       "    .dataframe tbody tr th {\n",
       "        vertical-align: top;\n",
       "    }\n",
       "\n",
       "    .dataframe thead th {\n",
       "        text-align: right;\n",
       "    }\n",
       "</style>\n",
       "<table border=\"1\" class=\"dataframe\">\n",
       "  <thead>\n",
       "    <tr style=\"text-align: right;\">\n",
       "      <th></th>\n",
       "      <th>2012</th>\n",
       "      <th>2013</th>\n",
       "      <th>2014</th>\n",
       "      <th>2015</th>\n",
       "      <th>2016</th>\n",
       "      <th>2017</th>\n",
       "      <th>2018</th>\n",
       "      <th>2019</th>\n",
       "      <th>2020</th>\n",
       "    </tr>\n",
       "  </thead>\n",
       "  <tbody>\n",
       "    <tr>\n",
       "      <th>1001003743</th>\n",
       "      <td>4399000.0</td>\n",
       "      <td>4399000.0</td>\n",
       "      <td>6295000.0</td>\n",
       "      <td>6051000.0</td>\n",
       "      <td>4735000.0</td>\n",
       "      <td>9481000.0</td>\n",
       "      <td>4003000.0</td>\n",
       "      <td>3930000.0</td>\n",
       "      <td>NaN</td>\n",
       "    </tr>\n",
       "    <tr>\n",
       "      <th>1020010136</th>\n",
       "      <td>NaN</td>\n",
       "      <td>NaN</td>\n",
       "      <td>NaN</td>\n",
       "      <td>3451000.0</td>\n",
       "      <td>12526000.0</td>\n",
       "      <td>14769000.0</td>\n",
       "      <td>14589000.0</td>\n",
       "      <td>NaN</td>\n",
       "      <td>NaN</td>\n",
       "    </tr>\n",
       "    <tr>\n",
       "      <th>1203000142</th>\n",
       "      <td>NaN</td>\n",
       "      <td>NaN</td>\n",
       "      <td>NaN</td>\n",
       "      <td>NaN</td>\n",
       "      <td>NaN</td>\n",
       "      <td>493782000.0</td>\n",
       "      <td>468357000.0</td>\n",
       "      <td>523849000.0</td>\n",
       "      <td>442374000.0</td>\n",
       "    </tr>\n",
       "  </tbody>\n",
       "</table>\n",
       "</div>"
      ],
      "text/plain": [
       "                 2012       2013       2014       2015        2016  \\\n",
       "1001003743  4399000.0  4399000.0  6295000.0  6051000.0   4735000.0   \n",
       "1020010136        NaN        NaN        NaN  3451000.0  12526000.0   \n",
       "1203000142        NaN        NaN        NaN        NaN         NaN   \n",
       "\n",
       "                   2017         2018         2019         2020  \n",
       "1001003743    9481000.0    4003000.0    3930000.0          NaN  \n",
       "1020010136   14769000.0   14589000.0          NaN          NaN  \n",
       "1203000142  493782000.0  468357000.0  523849000.0  442374000.0  "
      ]
     },
     "metadata": {},
     "output_type": "display_data"
    }
   ],
   "source": [
    "df_acc_inn = df_acc.set_index('inn')\n",
    "\n",
    "for col in df_acc_ts['long'].columns:\n",
    "    for key in df_acc_ts.keys():\n",
    "        df_acc_ts[key][col] = df_acc_inn[df_acc_inn['year'] == col][key]\n",
    "\n",
    "for key in df_acc_ts.keys():        \n",
    "    disp(df_acc_ts[key].head(3))"
   ]
  },
  {
   "cell_type": "markdown",
   "id": "4ea93afb",
   "metadata": {},
   "source": [
    "Сформируем и заполним аналогичные таблицы, но с продифференцированными рядами."
   ]
  },
  {
   "cell_type": "code",
   "execution_count": 124,
   "id": "aef68936",
   "metadata": {},
   "outputs": [
    {
     "data": {
      "text/html": [
       "<div>\n",
       "<style scoped>\n",
       "    .dataframe tbody tr th:only-of-type {\n",
       "        vertical-align: middle;\n",
       "    }\n",
       "\n",
       "    .dataframe tbody tr th {\n",
       "        vertical-align: top;\n",
       "    }\n",
       "\n",
       "    .dataframe thead th {\n",
       "        text-align: right;\n",
       "    }\n",
       "</style>\n",
       "<table border=\"1\" class=\"dataframe\">\n",
       "  <thead>\n",
       "    <tr style=\"text-align: right;\">\n",
       "      <th></th>\n",
       "      <th>2012</th>\n",
       "      <th>2013</th>\n",
       "      <th>2014</th>\n",
       "      <th>2015</th>\n",
       "      <th>2016</th>\n",
       "      <th>2017</th>\n",
       "      <th>2018</th>\n",
       "      <th>2019</th>\n",
       "      <th>2020</th>\n",
       "    </tr>\n",
       "  </thead>\n",
       "  <tbody>\n",
       "    <tr>\n",
       "      <th>1001003743</th>\n",
       "      <td>NaN</td>\n",
       "      <td>0.0</td>\n",
       "      <td>0.0</td>\n",
       "      <td>0.0</td>\n",
       "      <td>0.0</td>\n",
       "      <td>0.0</td>\n",
       "      <td>0.0</td>\n",
       "      <td>0.0</td>\n",
       "      <td>NaN</td>\n",
       "    </tr>\n",
       "    <tr>\n",
       "      <th>1020010136</th>\n",
       "      <td>NaN</td>\n",
       "      <td>NaN</td>\n",
       "      <td>NaN</td>\n",
       "      <td>NaN</td>\n",
       "      <td>0.0</td>\n",
       "      <td>0.0</td>\n",
       "      <td>0.0</td>\n",
       "      <td>NaN</td>\n",
       "      <td>NaN</td>\n",
       "    </tr>\n",
       "    <tr>\n",
       "      <th>1203000142</th>\n",
       "      <td>NaN</td>\n",
       "      <td>NaN</td>\n",
       "      <td>NaN</td>\n",
       "      <td>NaN</td>\n",
       "      <td>NaN</td>\n",
       "      <td>NaN</td>\n",
       "      <td>-39484000.0</td>\n",
       "      <td>-159769000.0</td>\n",
       "      <td>-1394000.0</td>\n",
       "    </tr>\n",
       "  </tbody>\n",
       "</table>\n",
       "</div>"
      ],
      "text/plain": [
       "            2012  2013  2014  2015  2016  2017        2018         2019  \\\n",
       "1001003743   NaN   0.0   0.0   0.0   0.0   0.0         0.0          0.0   \n",
       "1020010136   NaN   NaN   NaN   NaN   0.0   0.0         0.0          NaN   \n",
       "1203000142   NaN   NaN   NaN   NaN   NaN   NaN -39484000.0 -159769000.0   \n",
       "\n",
       "                 2020  \n",
       "1001003743        NaN  \n",
       "1020010136        NaN  \n",
       "1203000142 -1394000.0  "
      ]
     },
     "metadata": {},
     "output_type": "display_data"
    },
    {
     "data": {
      "text/html": [
       "<div>\n",
       "<style scoped>\n",
       "    .dataframe tbody tr th:only-of-type {\n",
       "        vertical-align: middle;\n",
       "    }\n",
       "\n",
       "    .dataframe tbody tr th {\n",
       "        vertical-align: top;\n",
       "    }\n",
       "\n",
       "    .dataframe thead th {\n",
       "        text-align: right;\n",
       "    }\n",
       "</style>\n",
       "<table border=\"1\" class=\"dataframe\">\n",
       "  <thead>\n",
       "    <tr style=\"text-align: right;\">\n",
       "      <th></th>\n",
       "      <th>2012</th>\n",
       "      <th>2013</th>\n",
       "      <th>2014</th>\n",
       "      <th>2015</th>\n",
       "      <th>2016</th>\n",
       "      <th>2017</th>\n",
       "      <th>2018</th>\n",
       "      <th>2019</th>\n",
       "      <th>2020</th>\n",
       "    </tr>\n",
       "  </thead>\n",
       "  <tbody>\n",
       "    <tr>\n",
       "      <th>1001003743</th>\n",
       "      <td>NaN</td>\n",
       "      <td>0.0</td>\n",
       "      <td>-784000.0</td>\n",
       "      <td>-36000.0</td>\n",
       "      <td>601000.0</td>\n",
       "      <td>7518000.0</td>\n",
       "      <td>-4498000.0</td>\n",
       "      <td>449000.0</td>\n",
       "      <td>NaN</td>\n",
       "    </tr>\n",
       "    <tr>\n",
       "      <th>1020010136</th>\n",
       "      <td>NaN</td>\n",
       "      <td>NaN</td>\n",
       "      <td>NaN</td>\n",
       "      <td>NaN</td>\n",
       "      <td>12287000.0</td>\n",
       "      <td>20563000.0</td>\n",
       "      <td>18547000.0</td>\n",
       "      <td>NaN</td>\n",
       "      <td>NaN</td>\n",
       "    </tr>\n",
       "    <tr>\n",
       "      <th>1203000142</th>\n",
       "      <td>NaN</td>\n",
       "      <td>NaN</td>\n",
       "      <td>NaN</td>\n",
       "      <td>NaN</td>\n",
       "      <td>NaN</td>\n",
       "      <td>NaN</td>\n",
       "      <td>15530000.0</td>\n",
       "      <td>214115000.0</td>\n",
       "      <td>-79759000.0</td>\n",
       "    </tr>\n",
       "  </tbody>\n",
       "</table>\n",
       "</div>"
      ],
      "text/plain": [
       "            2012  2013      2014     2015        2016        2017        2018  \\\n",
       "1001003743   NaN   0.0 -784000.0 -36000.0    601000.0   7518000.0  -4498000.0   \n",
       "1020010136   NaN   NaN       NaN      NaN  12287000.0  20563000.0  18547000.0   \n",
       "1203000142   NaN   NaN       NaN      NaN         NaN         NaN  15530000.0   \n",
       "\n",
       "                   2019        2020  \n",
       "1001003743     449000.0         NaN  \n",
       "1020010136          NaN         NaN  \n",
       "1203000142  214115000.0 -79759000.0  "
      ]
     },
     "metadata": {},
     "output_type": "display_data"
    },
    {
     "data": {
      "text/html": [
       "<div>\n",
       "<style scoped>\n",
       "    .dataframe tbody tr th:only-of-type {\n",
       "        vertical-align: middle;\n",
       "    }\n",
       "\n",
       "    .dataframe tbody tr th {\n",
       "        vertical-align: top;\n",
       "    }\n",
       "\n",
       "    .dataframe thead th {\n",
       "        text-align: right;\n",
       "    }\n",
       "</style>\n",
       "<table border=\"1\" class=\"dataframe\">\n",
       "  <thead>\n",
       "    <tr style=\"text-align: right;\">\n",
       "      <th></th>\n",
       "      <th>2012</th>\n",
       "      <th>2013</th>\n",
       "      <th>2014</th>\n",
       "      <th>2015</th>\n",
       "      <th>2016</th>\n",
       "      <th>2017</th>\n",
       "      <th>2018</th>\n",
       "      <th>2019</th>\n",
       "      <th>2020</th>\n",
       "    </tr>\n",
       "  </thead>\n",
       "  <tbody>\n",
       "    <tr>\n",
       "      <th>1001003743</th>\n",
       "      <td>NaN</td>\n",
       "      <td>0.0</td>\n",
       "      <td>1896000.0</td>\n",
       "      <td>-244000.0</td>\n",
       "      <td>-1316000.0</td>\n",
       "      <td>4746000.0</td>\n",
       "      <td>-5478000.0</td>\n",
       "      <td>-73000.0</td>\n",
       "      <td>NaN</td>\n",
       "    </tr>\n",
       "    <tr>\n",
       "      <th>1020010136</th>\n",
       "      <td>NaN</td>\n",
       "      <td>NaN</td>\n",
       "      <td>NaN</td>\n",
       "      <td>NaN</td>\n",
       "      <td>9075000.0</td>\n",
       "      <td>2243000.0</td>\n",
       "      <td>-180000.0</td>\n",
       "      <td>NaN</td>\n",
       "      <td>NaN</td>\n",
       "    </tr>\n",
       "    <tr>\n",
       "      <th>1203000142</th>\n",
       "      <td>NaN</td>\n",
       "      <td>NaN</td>\n",
       "      <td>NaN</td>\n",
       "      <td>NaN</td>\n",
       "      <td>NaN</td>\n",
       "      <td>NaN</td>\n",
       "      <td>-25425000.0</td>\n",
       "      <td>55492000.0</td>\n",
       "      <td>-81475000.0</td>\n",
       "    </tr>\n",
       "  </tbody>\n",
       "</table>\n",
       "</div>"
      ],
      "text/plain": [
       "            2012  2013       2014      2015       2016       2017        2018  \\\n",
       "1001003743   NaN   0.0  1896000.0 -244000.0 -1316000.0  4746000.0  -5478000.0   \n",
       "1020010136   NaN   NaN        NaN       NaN  9075000.0  2243000.0   -180000.0   \n",
       "1203000142   NaN   NaN        NaN       NaN        NaN        NaN -25425000.0   \n",
       "\n",
       "                  2019        2020  \n",
       "1001003743    -73000.0         NaN  \n",
       "1020010136         NaN         NaN  \n",
       "1203000142  55492000.0 -81475000.0  "
      ]
     },
     "metadata": {},
     "output_type": "display_data"
    }
   ],
   "source": [
    "df_acc_ts_diff = {}\n",
    "for key in df_acc_ts.keys():\n",
    "    df_acc_ts_diff[key] = df_acc_ts[key].diff(axis=1)\n",
    "    \n",
    "for key in df_acc_ts_diff.keys():        \n",
    "    disp(df_acc_ts_diff[key].head(3))"
   ]
  },
  {
   "cell_type": "markdown",
   "id": "8c057248",
   "metadata": {},
   "source": [
    "### Вычисление"
   ]
  },
  {
   "cell_type": "markdown",
   "id": "587a9d8d",
   "metadata": {},
   "source": [
    "Создадим пустую таблицу."
   ]
  },
  {
   "cell_type": "code",
   "execution_count": 125,
   "id": "f435a72b",
   "metadata": {},
   "outputs": [
    {
     "data": {
      "text/html": [
       "<div>\n",
       "<style scoped>\n",
       "    .dataframe tbody tr th:only-of-type {\n",
       "        vertical-align: middle;\n",
       "    }\n",
       "\n",
       "    .dataframe tbody tr th {\n",
       "        vertical-align: top;\n",
       "    }\n",
       "\n",
       "    .dataframe thead th {\n",
       "        text-align: right;\n",
       "    }\n",
       "</style>\n",
       "<table border=\"1\" class=\"dataframe\">\n",
       "  <thead>\n",
       "    <tr style=\"text-align: right;\">\n",
       "      <th></th>\n",
       "    </tr>\n",
       "  </thead>\n",
       "  <tbody>\n",
       "    <tr>\n",
       "      <th>1001003743</th>\n",
       "    </tr>\n",
       "    <tr>\n",
       "      <th>1020010136</th>\n",
       "    </tr>\n",
       "    <tr>\n",
       "      <th>1203000142</th>\n",
       "    </tr>\n",
       "  </tbody>\n",
       "</table>\n",
       "</div>"
      ],
      "text/plain": [
       "Empty DataFrame\n",
       "Columns: []\n",
       "Index: [1001003743, 1020010136, 1203000142]"
      ]
     },
     "execution_count": 125,
     "metadata": {},
     "output_type": "execute_result"
    }
   ],
   "source": [
    "df_acc_stat = pd.DataFrame(None, index=df_acc_ts['long'].index)\n",
    "df_acc_stat.head(3)"
   ]
  },
  {
   "cell_type": "markdown",
   "id": "f168eecd",
   "metadata": {},
   "source": [
    "Вычислим статистики."
   ]
  },
  {
   "cell_type": "code",
   "execution_count": 126,
   "id": "f8a7c463",
   "metadata": {},
   "outputs": [
    {
     "data": {
      "text/html": [
       "<div>\n",
       "<style scoped>\n",
       "    .dataframe tbody tr th:only-of-type {\n",
       "        vertical-align: middle;\n",
       "    }\n",
       "\n",
       "    .dataframe tbody tr th {\n",
       "        vertical-align: top;\n",
       "    }\n",
       "\n",
       "    .dataframe thead th {\n",
       "        text-align: right;\n",
       "    }\n",
       "</style>\n",
       "<table border=\"1\" class=\"dataframe\">\n",
       "  <thead>\n",
       "    <tr style=\"text-align: right;\">\n",
       "      <th></th>\n",
       "      <th>long_count</th>\n",
       "      <th>long_mean</th>\n",
       "      <th>long_std</th>\n",
       "      <th>long_max</th>\n",
       "      <th>long_min</th>\n",
       "      <th>long_incr</th>\n",
       "      <th>long_decr</th>\n",
       "      <th>short_count</th>\n",
       "      <th>short_mean</th>\n",
       "      <th>short_std</th>\n",
       "      <th>short_max</th>\n",
       "      <th>short_min</th>\n",
       "      <th>short_incr</th>\n",
       "      <th>short_decr</th>\n",
       "      <th>balance_count</th>\n",
       "      <th>balance_mean</th>\n",
       "      <th>balance_std</th>\n",
       "      <th>balance_max</th>\n",
       "      <th>balance_min</th>\n",
       "      <th>balance_incr</th>\n",
       "      <th>balance_decr</th>\n",
       "      <th>long_diff_count</th>\n",
       "      <th>long_diff_mean</th>\n",
       "      <th>long_diff_std</th>\n",
       "      <th>long_diff_max</th>\n",
       "      <th>long_diff_min</th>\n",
       "      <th>long_diff_incr</th>\n",
       "      <th>long_diff_decr</th>\n",
       "      <th>short_diff_count</th>\n",
       "      <th>short_diff_mean</th>\n",
       "      <th>short_diff_std</th>\n",
       "      <th>short_diff_max</th>\n",
       "      <th>short_diff_min</th>\n",
       "      <th>short_diff_incr</th>\n",
       "      <th>short_diff_decr</th>\n",
       "      <th>balance_diff_count</th>\n",
       "      <th>balance_diff_mean</th>\n",
       "      <th>balance_diff_std</th>\n",
       "      <th>balance_diff_max</th>\n",
       "      <th>balance_diff_min</th>\n",
       "      <th>balance_diff_incr</th>\n",
       "      <th>balance_diff_decr</th>\n",
       "      <th>yearb</th>\n",
       "    </tr>\n",
       "  </thead>\n",
       "  <tbody>\n",
       "    <tr>\n",
       "      <th>1001003743</th>\n",
       "      <td>8</td>\n",
       "      <td>0.0</td>\n",
       "      <td>0.000000e+00</td>\n",
       "      <td>0.0</td>\n",
       "      <td>0.0</td>\n",
       "      <td>0</td>\n",
       "      <td>0</td>\n",
       "      <td>8</td>\n",
       "      <td>2520875.0</td>\n",
       "      <td>2.838751e+06</td>\n",
       "      <td>8379000.0</td>\n",
       "      <td>260000.0</td>\n",
       "      <td>0</td>\n",
       "      <td>0</td>\n",
       "      <td>8</td>\n",
       "      <td>5411625.0</td>\n",
       "      <td>1.868423e+06</td>\n",
       "      <td>9481000.0</td>\n",
       "      <td>3930000.0</td>\n",
       "      <td>0</td>\n",
       "      <td>0</td>\n",
       "      <td>7</td>\n",
       "      <td>0.000000e+00</td>\n",
       "      <td>0.000000e+00</td>\n",
       "      <td>0.0</td>\n",
       "      <td>0.0</td>\n",
       "      <td>0</td>\n",
       "      <td>0</td>\n",
       "      <td>7</td>\n",
       "      <td>4.642857e+05</td>\n",
       "      <td>3.568897e+06</td>\n",
       "      <td>7518000.0</td>\n",
       "      <td>-4498000.0</td>\n",
       "      <td>0</td>\n",
       "      <td>0</td>\n",
       "      <td>7</td>\n",
       "      <td>-6.700000e+04</td>\n",
       "      <td>3.106260e+06</td>\n",
       "      <td>4746000.0</td>\n",
       "      <td>-5478000.0</td>\n",
       "      <td>0</td>\n",
       "      <td>0</td>\n",
       "      <td>0</td>\n",
       "    </tr>\n",
       "    <tr>\n",
       "      <th>1020010136</th>\n",
       "      <td>4</td>\n",
       "      <td>0.0</td>\n",
       "      <td>0.000000e+00</td>\n",
       "      <td>0.0</td>\n",
       "      <td>0.0</td>\n",
       "      <td>0</td>\n",
       "      <td>0</td>\n",
       "      <td>4</td>\n",
       "      <td>28033500.0</td>\n",
       "      <td>2.267187e+07</td>\n",
       "      <td>55297000.0</td>\n",
       "      <td>3900000.0</td>\n",
       "      <td>0</td>\n",
       "      <td>0</td>\n",
       "      <td>4</td>\n",
       "      <td>11333750.0</td>\n",
       "      <td>5.352781e+06</td>\n",
       "      <td>14769000.0</td>\n",
       "      <td>3451000.0</td>\n",
       "      <td>0</td>\n",
       "      <td>0</td>\n",
       "      <td>3</td>\n",
       "      <td>0.000000e+00</td>\n",
       "      <td>0.000000e+00</td>\n",
       "      <td>0.0</td>\n",
       "      <td>0.0</td>\n",
       "      <td>0</td>\n",
       "      <td>0</td>\n",
       "      <td>3</td>\n",
       "      <td>1.713233e+07</td>\n",
       "      <td>4.315554e+06</td>\n",
       "      <td>20563000.0</td>\n",
       "      <td>12287000.0</td>\n",
       "      <td>0</td>\n",
       "      <td>0</td>\n",
       "      <td>3</td>\n",
       "      <td>3.712667e+06</td>\n",
       "      <td>4.799343e+06</td>\n",
       "      <td>9075000.0</td>\n",
       "      <td>-180000.0</td>\n",
       "      <td>0</td>\n",
       "      <td>0</td>\n",
       "      <td>2018</td>\n",
       "    </tr>\n",
       "    <tr>\n",
       "      <th>1203000142</th>\n",
       "      <td>4</td>\n",
       "      <td>142806000.0</td>\n",
       "      <td>1.052859e+08</td>\n",
       "      <td>252652000.0</td>\n",
       "      <td>52005000.0</td>\n",
       "      <td>0</td>\n",
       "      <td>0</td>\n",
       "      <td>4</td>\n",
       "      <td>264435250.0</td>\n",
       "      <td>1.101900e+08</td>\n",
       "      <td>395315000.0</td>\n",
       "      <td>165670000.0</td>\n",
       "      <td>0</td>\n",
       "      <td>0</td>\n",
       "      <td>4</td>\n",
       "      <td>482090500.0</td>\n",
       "      <td>3.486389e+07</td>\n",
       "      <td>523849000.0</td>\n",
       "      <td>442374000.0</td>\n",
       "      <td>0</td>\n",
       "      <td>0</td>\n",
       "      <td>3</td>\n",
       "      <td>-6.688233e+07</td>\n",
       "      <td>8.266596e+07</td>\n",
       "      <td>-1394000.0</td>\n",
       "      <td>-159769000.0</td>\n",
       "      <td>0</td>\n",
       "      <td>0</td>\n",
       "      <td>3</td>\n",
       "      <td>4.996200e+07</td>\n",
       "      <td>1.499322e+08</td>\n",
       "      <td>214115000.0</td>\n",
       "      <td>-79759000.0</td>\n",
       "      <td>0</td>\n",
       "      <td>0</td>\n",
       "      <td>3</td>\n",
       "      <td>-1.713600e+07</td>\n",
       "      <td>6.885870e+07</td>\n",
       "      <td>55492000.0</td>\n",
       "      <td>-81475000.0</td>\n",
       "      <td>0</td>\n",
       "      <td>0</td>\n",
       "      <td>2020</td>\n",
       "    </tr>\n",
       "  </tbody>\n",
       "</table>\n",
       "</div>"
      ],
      "text/plain": [
       "            long_count    long_mean      long_std     long_max    long_min  \\\n",
       "1001003743           8          0.0  0.000000e+00          0.0         0.0   \n",
       "1020010136           4          0.0  0.000000e+00          0.0         0.0   \n",
       "1203000142           4  142806000.0  1.052859e+08  252652000.0  52005000.0   \n",
       "\n",
       "           long_incr long_decr  short_count   short_mean     short_std  \\\n",
       "1001003743         0         0            8    2520875.0  2.838751e+06   \n",
       "1020010136         0         0            4   28033500.0  2.267187e+07   \n",
       "1203000142         0         0            4  264435250.0  1.101900e+08   \n",
       "\n",
       "              short_max    short_min  short_incr  short_decr  balance_count  \\\n",
       "1001003743    8379000.0     260000.0           0           0              8   \n",
       "1020010136   55297000.0    3900000.0           0           0              4   \n",
       "1203000142  395315000.0  165670000.0           0           0              4   \n",
       "\n",
       "            balance_mean   balance_std  balance_max  balance_min balance_incr  \\\n",
       "1001003743     5411625.0  1.868423e+06    9481000.0    3930000.0            0   \n",
       "1020010136    11333750.0  5.352781e+06   14769000.0    3451000.0            0   \n",
       "1203000142   482090500.0  3.486389e+07  523849000.0  442374000.0            0   \n",
       "\n",
       "           balance_decr  long_diff_count  long_diff_mean  long_diff_std  \\\n",
       "1001003743            0                7    0.000000e+00   0.000000e+00   \n",
       "1020010136            0                3    0.000000e+00   0.000000e+00   \n",
       "1203000142            0                3   -6.688233e+07   8.266596e+07   \n",
       "\n",
       "            long_diff_max  long_diff_min  long_diff_incr  long_diff_decr  \\\n",
       "1001003743            0.0            0.0               0               0   \n",
       "1020010136            0.0            0.0               0               0   \n",
       "1203000142     -1394000.0   -159769000.0               0               0   \n",
       "\n",
       "            short_diff_count  short_diff_mean  short_diff_std  short_diff_max  \\\n",
       "1001003743                 7     4.642857e+05    3.568897e+06       7518000.0   \n",
       "1020010136                 3     1.713233e+07    4.315554e+06      20563000.0   \n",
       "1203000142                 3     4.996200e+07    1.499322e+08     214115000.0   \n",
       "\n",
       "            short_diff_min  short_diff_incr  short_diff_decr  \\\n",
       "1001003743      -4498000.0                0                0   \n",
       "1020010136      12287000.0                0                0   \n",
       "1203000142     -79759000.0                0                0   \n",
       "\n",
       "            balance_diff_count  balance_diff_mean  balance_diff_std  \\\n",
       "1001003743                   7      -6.700000e+04      3.106260e+06   \n",
       "1020010136                   3       3.712667e+06      4.799343e+06   \n",
       "1203000142                   3      -1.713600e+07      6.885870e+07   \n",
       "\n",
       "            balance_diff_max  balance_diff_min  balance_diff_incr  \\\n",
       "1001003743         4746000.0        -5478000.0                  0   \n",
       "1020010136         9075000.0         -180000.0                  0   \n",
       "1203000142        55492000.0       -81475000.0                  0   \n",
       "\n",
       "            balance_diff_decr  yearb  \n",
       "1001003743                  0      0  \n",
       "1020010136                  0   2018  \n",
       "1203000142                  0   2020  "
      ]
     },
     "metadata": {},
     "output_type": "display_data"
    },
    {
     "data": {
      "text/plain": [
       "(154, 43)"
      ]
     },
     "metadata": {},
     "output_type": "display_data"
    }
   ],
   "source": [
    "suffix = {\n",
    "    0: '',\n",
    "    1: '_diff',\n",
    "}\n",
    "for i, dframe in enumerate((df_acc_ts, df_acc_ts_diff)):\n",
    "    sfx = suffix[i]\n",
    "    for key in df_acc_ts.keys():\n",
    "        df_acc_stat.loc[:, f'{key}{sfx}_count'] = dframe[key].count(axis=1)\n",
    "        df_acc_stat.loc[:, f'{key}{sfx}_mean'] = dframe[key].mean(axis=1)\n",
    "        df_acc_stat.loc[:, f'{key}{sfx}_std'] = dframe[key].std(axis=1)\n",
    "        df_acc_stat.loc[:, f'{key}{sfx}_max'] = dframe[key].max(axis=1)\n",
    "        df_acc_stat.loc[:, f'{key}{sfx}_min'] = dframe[key].min(axis=1)\n",
    "        df_acc_stat.loc[:, f'{key}{sfx}_incr'] = dframe[key].apply(\n",
    "            lambda x: x.is_monotonic_increasing, axis=1\n",
    "        )\n",
    "        df_acc_stat.loc[:, f'{key}{sfx}_decr'] = dframe[key].apply(\n",
    "            lambda x: x.is_monotonic_decreasing, axis=1\n",
    "        )\n",
    "        df_acc_stat[f'{key}{sfx}_incr'] = (\n",
    "            df_acc_stat[f'{key}{sfx}_incr']\n",
    "            .where(df_acc_stat[f'{key}{sfx}_incr'] == True, 0)\n",
    "            .where(df_acc_stat[f'{key}{sfx}_incr'] == False, 1)\n",
    "        )\n",
    "        df_acc_stat[f'{key}{sfx}_decr'] = (\n",
    "            df_acc_stat[f'{key}{sfx}_decr']\n",
    "            .where(df_acc_stat[f'{key}{sfx}_decr'] == True, 0)\n",
    "            .where(df_acc_stat[f'{key}{sfx}_decr'] == False, 1)\n",
    "        )\n",
    "df_acc_stat = df_acc_stat.merge(\n",
    "    df_acc.drop_duplicates('inn').set_index('inn')['yearb'],\n",
    "    left_index=True,\n",
    "    right_index=True,\n",
    "    how='outer',\n",
    ")\n",
    "\n",
    "disp(df_acc_stat.head(3))\n",
    "disp(df_acc_stat.shape)"
   ]
  },
  {
   "cell_type": "markdown",
   "id": "a60de5c8",
   "metadata": {},
   "source": [
    "Удалим столбцы с нулевым стандартным отклонением (т.е. одинаковые для всех строк и, следовательно, не имеющие смысла для модели)."
   ]
  },
  {
   "cell_type": "code",
   "execution_count": 127,
   "id": "a51137d6",
   "metadata": {},
   "outputs": [
    {
     "data": {
      "text/plain": [
       "Index(['short_incr', 'short_decr', 'long_diff_incr', 'long_diff_decr',\n",
       "       'short_diff_incr', 'short_diff_decr', 'balance_diff_incr',\n",
       "       'balance_diff_decr'],\n",
       "      dtype='object')"
      ]
     },
     "execution_count": 127,
     "metadata": {},
     "output_type": "execute_result"
    }
   ],
   "source": [
    "df_acc_stat.columns[df_acc_stat.std() == 0]"
   ]
  },
  {
   "cell_type": "code",
   "execution_count": 128,
   "id": "b33fea47",
   "metadata": {},
   "outputs": [
    {
     "data": {
      "text/plain": [
       "(154, 35)"
      ]
     },
     "execution_count": 128,
     "metadata": {},
     "output_type": "execute_result"
    }
   ],
   "source": [
    "df_acc_stat = df_acc_stat.drop(\n",
    "    columns=df_acc_stat.columns[df_acc_stat.std() == 0]\n",
    ")\n",
    "\n",
    "df_acc_stat.shape"
   ]
  },
  {
   "cell_type": "markdown",
   "id": "9ca008a8",
   "metadata": {},
   "source": [
    "### Приведение типов"
   ]
  },
  {
   "cell_type": "markdown",
   "id": "359ba2f3",
   "metadata": {},
   "source": [
    "Выполним приведение типов."
   ]
  },
  {
   "cell_type": "code",
   "execution_count": 129,
   "id": "ecc757fa",
   "metadata": {},
   "outputs": [
    {
     "data": {
      "text/plain": [
       "Index(['long_incr', 'long_decr', 'balance_incr', 'balance_decr'], dtype='object')"
      ]
     },
     "execution_count": 129,
     "metadata": {},
     "output_type": "execute_result"
    }
   ],
   "source": [
    "obj_cols = df_acc_stat.columns[\n",
    "    df_acc_stat.columns.str.contains('_incr')\n",
    "    | df_acc_stat.columns.str.contains('_decr')\n",
    "]\n",
    "\n",
    "obj_cols"
   ]
  },
  {
   "cell_type": "code",
   "execution_count": 130,
   "id": "3be18be4",
   "metadata": {},
   "outputs": [],
   "source": [
    "df_acc_stat[obj_cols] = df_acc_stat[obj_cols].astype('category')"
   ]
  },
  {
   "cell_type": "markdown",
   "id": "e2ac006f",
   "metadata": {},
   "source": [
    "## Таблица Court cases"
   ]
  },
  {
   "cell_type": "markdown",
   "id": "22d186be",
   "metadata": {},
   "source": [
    "### Выбор агрегированных величин"
   ]
  },
  {
   "cell_type": "code",
   "execution_count": 131,
   "id": "ef2093cd",
   "metadata": {},
   "outputs": [
    {
     "data": {
      "text/html": [
       "<div>\n",
       "<style scoped>\n",
       "    .dataframe tbody tr th:only-of-type {\n",
       "        vertical-align: middle;\n",
       "    }\n",
       "\n",
       "    .dataframe tbody tr th {\n",
       "        vertical-align: top;\n",
       "    }\n",
       "\n",
       "    .dataframe thead th {\n",
       "        text-align: right;\n",
       "    }\n",
       "</style>\n",
       "<table border=\"1\" class=\"dataframe\">\n",
       "  <thead>\n",
       "    <tr style=\"text-align: right;\">\n",
       "      <th></th>\n",
       "      <th>inn</th>\n",
       "      <th>resultType</th>\n",
       "      <th>caseDate</th>\n",
       "      <th>caseType</th>\n",
       "      <th>sum</th>\n",
       "      <th>isActive</th>\n",
       "      <th>currentInstance</th>\n",
       "      <th>instanceDate</th>\n",
       "      <th>case_sides</th>\n",
       "      <th>yearb</th>\n",
       "    </tr>\n",
       "  </thead>\n",
       "  <tbody>\n",
       "    <tr>\n",
       "      <th>0</th>\n",
       "      <td>1001003743</td>\n",
       "      <td>1</td>\n",
       "      <td>2020-06-26</td>\n",
       "      <td>6</td>\n",
       "      <td>1459183.0</td>\n",
       "      <td>0</td>\n",
       "      <td>АС Республики Карелия</td>\n",
       "      <td>2021-07-07</td>\n",
       "      <td>0</td>\n",
       "      <td>0</td>\n",
       "    </tr>\n",
       "    <tr>\n",
       "      <th>1</th>\n",
       "      <td>1001003743</td>\n",
       "      <td>2</td>\n",
       "      <td>2014-03-31</td>\n",
       "      <td>6</td>\n",
       "      <td>79200.0</td>\n",
       "      <td>0</td>\n",
       "      <td>АС Республики Карелия</td>\n",
       "      <td>2014-07-10</td>\n",
       "      <td>0</td>\n",
       "      <td>0</td>\n",
       "    </tr>\n",
       "    <tr>\n",
       "      <th>2</th>\n",
       "      <td>1001003743</td>\n",
       "      <td>1</td>\n",
       "      <td>2010-12-20</td>\n",
       "      <td>5</td>\n",
       "      <td>0.0</td>\n",
       "      <td>0</td>\n",
       "      <td>АС Республики Карелия</td>\n",
       "      <td>2012-02-02</td>\n",
       "      <td>0</td>\n",
       "      <td>0</td>\n",
       "    </tr>\n",
       "  </tbody>\n",
       "</table>\n",
       "</div>"
      ],
      "text/plain": [
       "          inn  resultType   caseDate  caseType        sum  isActive  \\\n",
       "0  1001003743           1 2020-06-26         6  1459183.0         0   \n",
       "1  1001003743           2 2014-03-31         6    79200.0         0   \n",
       "2  1001003743           1 2010-12-20         5        0.0         0   \n",
       "\n",
       "         currentInstance instanceDate  case_sides  yearb  \n",
       "0  АС Республики Карелия   2021-07-07           0      0  \n",
       "1  АС Республики Карелия   2014-07-10           0      0  \n",
       "2  АС Республики Карелия   2012-02-02           0      0  "
      ]
     },
     "metadata": {},
     "output_type": "display_data"
    }
   ],
   "source": [
    "disp(df_court.head(3))"
   ]
  },
  {
   "cell_type": "markdown",
   "id": "10548122",
   "metadata": {},
   "source": [
    "Создадим пустую таблицу."
   ]
  },
  {
   "cell_type": "code",
   "execution_count": 132,
   "id": "0205433a",
   "metadata": {},
   "outputs": [
    {
     "data": {
      "text/plain": [
       "(154, 18)"
      ]
     },
     "metadata": {},
     "output_type": "display_data"
    },
    {
     "data": {
      "text/html": [
       "<div>\n",
       "<style scoped>\n",
       "    .dataframe tbody tr th:only-of-type {\n",
       "        vertical-align: middle;\n",
       "    }\n",
       "\n",
       "    .dataframe tbody tr th {\n",
       "        vertical-align: top;\n",
       "    }\n",
       "\n",
       "    .dataframe thead th {\n",
       "        text-align: right;\n",
       "    }\n",
       "</style>\n",
       "<table border=\"1\" class=\"dataframe\">\n",
       "  <thead>\n",
       "    <tr style=\"text-align: right;\">\n",
       "      <th></th>\n",
       "      <th>court_count</th>\n",
       "      <th>resultType_0_frac</th>\n",
       "      <th>resultType_1_frac</th>\n",
       "      <th>resultType_2_frac</th>\n",
       "      <th>duration_median</th>\n",
       "      <th>caseType_1_frac</th>\n",
       "      <th>caseType_5_frac</th>\n",
       "      <th>caseType_6_frac</th>\n",
       "      <th>caseType_other_frac</th>\n",
       "      <th>sum_median</th>\n",
       "      <th>sum_std</th>\n",
       "      <th>sum_max</th>\n",
       "      <th>sum_min</th>\n",
       "      <th>instances_unique_amount</th>\n",
       "      <th>case_side_0_frac</th>\n",
       "      <th>case_side_1_frac</th>\n",
       "      <th>case_side_2_frac</th>\n",
       "      <th>case_side_3_frac</th>\n",
       "    </tr>\n",
       "  </thead>\n",
       "  <tbody>\n",
       "    <tr>\n",
       "      <th>1001003743</th>\n",
       "      <td>NaN</td>\n",
       "      <td>NaN</td>\n",
       "      <td>NaN</td>\n",
       "      <td>NaN</td>\n",
       "      <td>NaN</td>\n",
       "      <td>NaN</td>\n",
       "      <td>NaN</td>\n",
       "      <td>NaN</td>\n",
       "      <td>NaN</td>\n",
       "      <td>NaN</td>\n",
       "      <td>NaN</td>\n",
       "      <td>NaN</td>\n",
       "      <td>NaN</td>\n",
       "      <td>NaN</td>\n",
       "      <td>NaN</td>\n",
       "      <td>NaN</td>\n",
       "      <td>NaN</td>\n",
       "      <td>NaN</td>\n",
       "    </tr>\n",
       "    <tr>\n",
       "      <th>1020010136</th>\n",
       "      <td>NaN</td>\n",
       "      <td>NaN</td>\n",
       "      <td>NaN</td>\n",
       "      <td>NaN</td>\n",
       "      <td>NaN</td>\n",
       "      <td>NaN</td>\n",
       "      <td>NaN</td>\n",
       "      <td>NaN</td>\n",
       "      <td>NaN</td>\n",
       "      <td>NaN</td>\n",
       "      <td>NaN</td>\n",
       "      <td>NaN</td>\n",
       "      <td>NaN</td>\n",
       "      <td>NaN</td>\n",
       "      <td>NaN</td>\n",
       "      <td>NaN</td>\n",
       "      <td>NaN</td>\n",
       "      <td>NaN</td>\n",
       "    </tr>\n",
       "    <tr>\n",
       "      <th>1203000142</th>\n",
       "      <td>NaN</td>\n",
       "      <td>NaN</td>\n",
       "      <td>NaN</td>\n",
       "      <td>NaN</td>\n",
       "      <td>NaN</td>\n",
       "      <td>NaN</td>\n",
       "      <td>NaN</td>\n",
       "      <td>NaN</td>\n",
       "      <td>NaN</td>\n",
       "      <td>NaN</td>\n",
       "      <td>NaN</td>\n",
       "      <td>NaN</td>\n",
       "      <td>NaN</td>\n",
       "      <td>NaN</td>\n",
       "      <td>NaN</td>\n",
       "      <td>NaN</td>\n",
       "      <td>NaN</td>\n",
       "      <td>NaN</td>\n",
       "    </tr>\n",
       "  </tbody>\n",
       "</table>\n",
       "</div>"
      ],
      "text/plain": [
       "           court_count resultType_0_frac resultType_1_frac resultType_2_frac  \\\n",
       "1001003743         NaN               NaN               NaN               NaN   \n",
       "1020010136         NaN               NaN               NaN               NaN   \n",
       "1203000142         NaN               NaN               NaN               NaN   \n",
       "\n",
       "           duration_median caseType_1_frac caseType_5_frac caseType_6_frac  \\\n",
       "1001003743             NaN             NaN             NaN             NaN   \n",
       "1020010136             NaN             NaN             NaN             NaN   \n",
       "1203000142             NaN             NaN             NaN             NaN   \n",
       "\n",
       "           caseType_other_frac sum_median sum_std sum_max sum_min  \\\n",
       "1001003743                 NaN        NaN     NaN     NaN     NaN   \n",
       "1020010136                 NaN        NaN     NaN     NaN     NaN   \n",
       "1203000142                 NaN        NaN     NaN     NaN     NaN   \n",
       "\n",
       "           instances_unique_amount case_side_0_frac case_side_1_frac  \\\n",
       "1001003743                     NaN              NaN              NaN   \n",
       "1020010136                     NaN              NaN              NaN   \n",
       "1203000142                     NaN              NaN              NaN   \n",
       "\n",
       "           case_side_2_frac case_side_3_frac  \n",
       "1001003743              NaN              NaN  \n",
       "1020010136              NaN              NaN  \n",
       "1203000142              NaN              NaN  "
      ]
     },
     "metadata": {},
     "output_type": "display_data"
    }
   ],
   "source": [
    "df_court_agg = pd.DataFrame(\n",
    "    None,\n",
    "    index = np.sort(df_court['inn'].unique()),\n",
    "    columns = [\n",
    "        'court_count',\n",
    "        'resultType_0_frac',\n",
    "        'resultType_1_frac',\n",
    "        'resultType_2_frac',\n",
    "        'duration_median',\n",
    "        'caseType_1_frac',\n",
    "        'caseType_5_frac',\n",
    "        'caseType_6_frac',\n",
    "        'caseType_other_frac',\n",
    "        'sum_median',\n",
    "        'sum_std',\n",
    "        'sum_max',\n",
    "        'sum_min',\n",
    "        'instances_unique_amount',\n",
    "        'case_side_0_frac',\n",
    "        'case_side_1_frac',\n",
    "        'case_side_2_frac',\n",
    "        'case_side_3_frac',\n",
    "    ]\n",
    ")\n",
    "\n",
    "disp(df_court_agg.shape)\n",
    "disp(df_court_agg.head(3))"
   ]
  },
  {
   "cell_type": "markdown",
   "id": "451fefcd",
   "metadata": {},
   "source": [
    "### Вычисление"
   ]
  },
  {
   "cell_type": "markdown",
   "id": "ac390391",
   "metadata": {},
   "source": [
    "Заполним таблицу."
   ]
  },
  {
   "cell_type": "code",
   "execution_count": 133,
   "id": "30e6d998",
   "metadata": {},
   "outputs": [
    {
     "data": {
      "text/html": [
       "<div>\n",
       "<style scoped>\n",
       "    .dataframe tbody tr th:only-of-type {\n",
       "        vertical-align: middle;\n",
       "    }\n",
       "\n",
       "    .dataframe tbody tr th {\n",
       "        vertical-align: top;\n",
       "    }\n",
       "\n",
       "    .dataframe thead th {\n",
       "        text-align: right;\n",
       "    }\n",
       "</style>\n",
       "<table border=\"1\" class=\"dataframe\">\n",
       "  <thead>\n",
       "    <tr style=\"text-align: right;\">\n",
       "      <th></th>\n",
       "      <th>court_count</th>\n",
       "      <th>resultType_0_frac</th>\n",
       "      <th>resultType_1_frac</th>\n",
       "      <th>resultType_2_frac</th>\n",
       "      <th>duration_median</th>\n",
       "      <th>caseType_1_frac</th>\n",
       "      <th>caseType_5_frac</th>\n",
       "      <th>caseType_6_frac</th>\n",
       "      <th>caseType_other_frac</th>\n",
       "      <th>sum_median</th>\n",
       "      <th>sum_std</th>\n",
       "      <th>sum_max</th>\n",
       "      <th>sum_min</th>\n",
       "      <th>instances_unique_amount</th>\n",
       "      <th>case_side_0_frac</th>\n",
       "      <th>case_side_1_frac</th>\n",
       "      <th>case_side_2_frac</th>\n",
       "      <th>case_side_3_frac</th>\n",
       "      <th>case_side_5_frac</th>\n",
       "      <th>case_side_6_frac</th>\n",
       "    </tr>\n",
       "  </thead>\n",
       "  <tbody>\n",
       "    <tr>\n",
       "      <th>1001003743</th>\n",
       "      <td>4</td>\n",
       "      <td>NaN</td>\n",
       "      <td>0.500000</td>\n",
       "      <td>0.500000</td>\n",
       "      <td>318</td>\n",
       "      <td>NaN</td>\n",
       "      <td>0.500000</td>\n",
       "      <td>0.500000</td>\n",
       "      <td>NaN</td>\n",
       "      <td>39600.000</td>\n",
       "      <td>7.173637e+05</td>\n",
       "      <td>1.459183e+06</td>\n",
       "      <td>0.0</td>\n",
       "      <td>2</td>\n",
       "      <td>NaN</td>\n",
       "      <td>NaN</td>\n",
       "      <td>NaN</td>\n",
       "      <td>NaN</td>\n",
       "      <td>NaN</td>\n",
       "      <td>NaN</td>\n",
       "    </tr>\n",
       "    <tr>\n",
       "      <th>1020010136</th>\n",
       "      <td>71</td>\n",
       "      <td>0.309859</td>\n",
       "      <td>0.084507</td>\n",
       "      <td>0.605634</td>\n",
       "      <td>104</td>\n",
       "      <td>0.042254</td>\n",
       "      <td>0.056338</td>\n",
       "      <td>0.901408</td>\n",
       "      <td>NaN</td>\n",
       "      <td>262911.650</td>\n",
       "      <td>3.896738e+06</td>\n",
       "      <td>3.265126e+07</td>\n",
       "      <td>0.0</td>\n",
       "      <td>3</td>\n",
       "      <td>NaN</td>\n",
       "      <td>0.802817</td>\n",
       "      <td>NaN</td>\n",
       "      <td>NaN</td>\n",
       "      <td>NaN</td>\n",
       "      <td>NaN</td>\n",
       "    </tr>\n",
       "    <tr>\n",
       "      <th>1203000142</th>\n",
       "      <td>403</td>\n",
       "      <td>0.186104</td>\n",
       "      <td>0.119107</td>\n",
       "      <td>0.694789</td>\n",
       "      <td>82</td>\n",
       "      <td>0.062035</td>\n",
       "      <td>0.245658</td>\n",
       "      <td>0.637717</td>\n",
       "      <td>0.054591</td>\n",
       "      <td>72000.000</td>\n",
       "      <td>5.032573e+07</td>\n",
       "      <td>6.828251e+08</td>\n",
       "      <td>0.0</td>\n",
       "      <td>19</td>\n",
       "      <td>NaN</td>\n",
       "      <td>0.493797</td>\n",
       "      <td>NaN</td>\n",
       "      <td>NaN</td>\n",
       "      <td>NaN</td>\n",
       "      <td>NaN</td>\n",
       "    </tr>\n",
       "    <tr>\n",
       "      <th>1302000640</th>\n",
       "      <td>9</td>\n",
       "      <td>0.222222</td>\n",
       "      <td>NaN</td>\n",
       "      <td>0.777778</td>\n",
       "      <td>50</td>\n",
       "      <td>0.222222</td>\n",
       "      <td>0.333333</td>\n",
       "      <td>0.444444</td>\n",
       "      <td>NaN</td>\n",
       "      <td>500.000</td>\n",
       "      <td>1.330725e+06</td>\n",
       "      <td>3.900000e+06</td>\n",
       "      <td>0.0</td>\n",
       "      <td>1</td>\n",
       "      <td>NaN</td>\n",
       "      <td>0.666667</td>\n",
       "      <td>NaN</td>\n",
       "      <td>NaN</td>\n",
       "      <td>NaN</td>\n",
       "      <td>NaN</td>\n",
       "    </tr>\n",
       "    <tr>\n",
       "      <th>1411004211</th>\n",
       "      <td>19</td>\n",
       "      <td>0.631579</td>\n",
       "      <td>0.157895</td>\n",
       "      <td>0.210526</td>\n",
       "      <td>92</td>\n",
       "      <td>0.105263</td>\n",
       "      <td>NaN</td>\n",
       "      <td>0.894737</td>\n",
       "      <td>NaN</td>\n",
       "      <td>1601064.050</td>\n",
       "      <td>1.631071e+07</td>\n",
       "      <td>7.033098e+07</td>\n",
       "      <td>0.0</td>\n",
       "      <td>5</td>\n",
       "      <td>NaN</td>\n",
       "      <td>0.736842</td>\n",
       "      <td>NaN</td>\n",
       "      <td>NaN</td>\n",
       "      <td>NaN</td>\n",
       "      <td>NaN</td>\n",
       "    </tr>\n",
       "    <tr>\n",
       "      <th>1429006530</th>\n",
       "      <td>82</td>\n",
       "      <td>0.500000</td>\n",
       "      <td>0.073171</td>\n",
       "      <td>0.426829</td>\n",
       "      <td>94</td>\n",
       "      <td>0.085366</td>\n",
       "      <td>0.060976</td>\n",
       "      <td>0.853659</td>\n",
       "      <td>NaN</td>\n",
       "      <td>790079.270</td>\n",
       "      <td>4.609488e+07</td>\n",
       "      <td>3.419533e+08</td>\n",
       "      <td>0.0</td>\n",
       "      <td>4</td>\n",
       "      <td>NaN</td>\n",
       "      <td>0.792683</td>\n",
       "      <td>NaN</td>\n",
       "      <td>NaN</td>\n",
       "      <td>NaN</td>\n",
       "      <td>NaN</td>\n",
       "    </tr>\n",
       "    <tr>\n",
       "      <th>1435087440</th>\n",
       "      <td>12</td>\n",
       "      <td>0.083333</td>\n",
       "      <td>0.166667</td>\n",
       "      <td>0.750000</td>\n",
       "      <td>53</td>\n",
       "      <td>0.250000</td>\n",
       "      <td>0.333333</td>\n",
       "      <td>0.416667</td>\n",
       "      <td>NaN</td>\n",
       "      <td>84526.000</td>\n",
       "      <td>6.261372e+07</td>\n",
       "      <td>2.173791e+08</td>\n",
       "      <td>0.0</td>\n",
       "      <td>3</td>\n",
       "      <td>NaN</td>\n",
       "      <td>0.333333</td>\n",
       "      <td>NaN</td>\n",
       "      <td>NaN</td>\n",
       "      <td>NaN</td>\n",
       "      <td>NaN</td>\n",
       "    </tr>\n",
       "    <tr>\n",
       "      <th>1508000122</th>\n",
       "      <td>42</td>\n",
       "      <td>0.285714</td>\n",
       "      <td>0.023810</td>\n",
       "      <td>0.690476</td>\n",
       "      <td>95</td>\n",
       "      <td>0.023810</td>\n",
       "      <td>0.238095</td>\n",
       "      <td>0.738095</td>\n",
       "      <td>NaN</td>\n",
       "      <td>234428.215</td>\n",
       "      <td>5.241184e+05</td>\n",
       "      <td>2.434724e+06</td>\n",
       "      <td>0.0</td>\n",
       "      <td>2</td>\n",
       "      <td>NaN</td>\n",
       "      <td>0.928571</td>\n",
       "      <td>NaN</td>\n",
       "      <td>NaN</td>\n",
       "      <td>NaN</td>\n",
       "      <td>NaN</td>\n",
       "    </tr>\n",
       "    <tr>\n",
       "      <th>1514013426</th>\n",
       "      <td>141</td>\n",
       "      <td>0.347518</td>\n",
       "      <td>0.418440</td>\n",
       "      <td>0.234043</td>\n",
       "      <td>31</td>\n",
       "      <td>0.035461</td>\n",
       "      <td>0.063830</td>\n",
       "      <td>0.900709</td>\n",
       "      <td>NaN</td>\n",
       "      <td>48251.400</td>\n",
       "      <td>3.728446e+06</td>\n",
       "      <td>2.244041e+07</td>\n",
       "      <td>0.0</td>\n",
       "      <td>3</td>\n",
       "      <td>NaN</td>\n",
       "      <td>0.390071</td>\n",
       "      <td>NaN</td>\n",
       "      <td>NaN</td>\n",
       "      <td>NaN</td>\n",
       "      <td>NaN</td>\n",
       "    </tr>\n",
       "    <tr>\n",
       "      <th>1609004518</th>\n",
       "      <td>8</td>\n",
       "      <td>NaN</td>\n",
       "      <td>NaN</td>\n",
       "      <td>1.000000</td>\n",
       "      <td>170</td>\n",
       "      <td>0.250000</td>\n",
       "      <td>0.250000</td>\n",
       "      <td>0.500000</td>\n",
       "      <td>NaN</td>\n",
       "      <td>223705.500</td>\n",
       "      <td>2.961340e+06</td>\n",
       "      <td>8.588954e+06</td>\n",
       "      <td>0.0</td>\n",
       "      <td>1</td>\n",
       "      <td>NaN</td>\n",
       "      <td>0.500000</td>\n",
       "      <td>NaN</td>\n",
       "      <td>NaN</td>\n",
       "      <td>NaN</td>\n",
       "      <td>NaN</td>\n",
       "    </tr>\n",
       "  </tbody>\n",
       "</table>\n",
       "</div>"
      ],
      "text/plain": [
       "            court_count  resultType_0_frac  resultType_1_frac  \\\n",
       "1001003743            4                NaN           0.500000   \n",
       "1020010136           71           0.309859           0.084507   \n",
       "1203000142          403           0.186104           0.119107   \n",
       "1302000640            9           0.222222                NaN   \n",
       "1411004211           19           0.631579           0.157895   \n",
       "1429006530           82           0.500000           0.073171   \n",
       "1435087440           12           0.083333           0.166667   \n",
       "1508000122           42           0.285714           0.023810   \n",
       "1514013426          141           0.347518           0.418440   \n",
       "1609004518            8                NaN                NaN   \n",
       "\n",
       "            resultType_2_frac  duration_median  caseType_1_frac  \\\n",
       "1001003743           0.500000              318              NaN   \n",
       "1020010136           0.605634              104         0.042254   \n",
       "1203000142           0.694789               82         0.062035   \n",
       "1302000640           0.777778               50         0.222222   \n",
       "1411004211           0.210526               92         0.105263   \n",
       "1429006530           0.426829               94         0.085366   \n",
       "1435087440           0.750000               53         0.250000   \n",
       "1508000122           0.690476               95         0.023810   \n",
       "1514013426           0.234043               31         0.035461   \n",
       "1609004518           1.000000              170         0.250000   \n",
       "\n",
       "            caseType_5_frac  caseType_6_frac  caseType_other_frac  \\\n",
       "1001003743         0.500000         0.500000                  NaN   \n",
       "1020010136         0.056338         0.901408                  NaN   \n",
       "1203000142         0.245658         0.637717             0.054591   \n",
       "1302000640         0.333333         0.444444                  NaN   \n",
       "1411004211              NaN         0.894737                  NaN   \n",
       "1429006530         0.060976         0.853659                  NaN   \n",
       "1435087440         0.333333         0.416667                  NaN   \n",
       "1508000122         0.238095         0.738095                  NaN   \n",
       "1514013426         0.063830         0.900709                  NaN   \n",
       "1609004518         0.250000         0.500000                  NaN   \n",
       "\n",
       "             sum_median       sum_std       sum_max  sum_min  \\\n",
       "1001003743    39600.000  7.173637e+05  1.459183e+06      0.0   \n",
       "1020010136   262911.650  3.896738e+06  3.265126e+07      0.0   \n",
       "1203000142    72000.000  5.032573e+07  6.828251e+08      0.0   \n",
       "1302000640      500.000  1.330725e+06  3.900000e+06      0.0   \n",
       "1411004211  1601064.050  1.631071e+07  7.033098e+07      0.0   \n",
       "1429006530   790079.270  4.609488e+07  3.419533e+08      0.0   \n",
       "1435087440    84526.000  6.261372e+07  2.173791e+08      0.0   \n",
       "1508000122   234428.215  5.241184e+05  2.434724e+06      0.0   \n",
       "1514013426    48251.400  3.728446e+06  2.244041e+07      0.0   \n",
       "1609004518   223705.500  2.961340e+06  8.588954e+06      0.0   \n",
       "\n",
       "            instances_unique_amount case_side_0_frac  case_side_1_frac  \\\n",
       "1001003743                        2              NaN               NaN   \n",
       "1020010136                        3              NaN          0.802817   \n",
       "1203000142                       19              NaN          0.493797   \n",
       "1302000640                        1              NaN          0.666667   \n",
       "1411004211                        5              NaN          0.736842   \n",
       "1429006530                        4              NaN          0.792683   \n",
       "1435087440                        3              NaN          0.333333   \n",
       "1508000122                        2              NaN          0.928571   \n",
       "1514013426                        3              NaN          0.390071   \n",
       "1609004518                        1              NaN          0.500000   \n",
       "\n",
       "           case_side_2_frac case_side_3_frac  case_side_5_frac  \\\n",
       "1001003743              NaN              NaN               NaN   \n",
       "1020010136              NaN              NaN               NaN   \n",
       "1203000142              NaN              NaN               NaN   \n",
       "1302000640              NaN              NaN               NaN   \n",
       "1411004211              NaN              NaN               NaN   \n",
       "1429006530              NaN              NaN               NaN   \n",
       "1435087440              NaN              NaN               NaN   \n",
       "1508000122              NaN              NaN               NaN   \n",
       "1514013426              NaN              NaN               NaN   \n",
       "1609004518              NaN              NaN               NaN   \n",
       "\n",
       "            case_side_6_frac  \n",
       "1001003743               NaN  \n",
       "1020010136               NaN  \n",
       "1203000142               NaN  \n",
       "1302000640               NaN  \n",
       "1411004211               NaN  \n",
       "1429006530               NaN  \n",
       "1435087440               NaN  \n",
       "1508000122               NaN  \n",
       "1514013426               NaN  \n",
       "1609004518               NaN  "
      ]
     },
     "metadata": {},
     "output_type": "display_data"
    }
   ],
   "source": [
    "# Amount of the court cases\n",
    "df_court_agg.loc[:, 'court_count'] = df_court['inn'].value_counts().sort_index()\n",
    "\n",
    "# Result type\n",
    "for d in [0, 1, 2]:\n",
    "    df_court_agg.loc[:, f'resultType_{d}_frac'] = df_court[\n",
    "        df_court['resultType'] == d\n",
    "    ].groupby('inn').count().sort_index()['resultType'] / df_court_agg['court_count']\n",
    "\n",
    "# Court duration - timedelta between caseDate and instanceDate\n",
    "df_court_agg.loc[:, 'duration_median'] = (\n",
    "    df_court['instanceDate'] - df_court['caseDate']\n",
    ").groupby(df_court['inn']).median().dt.days.sort_index()\n",
    "\n",
    "# Case type\n",
    "for d in [1, 5, 6]:\n",
    "    df_court_agg.loc[:, f'caseType_{d}_frac'] = df_court[\n",
    "        df_court['caseType'] == d\n",
    "    ].groupby('inn').count().sort_index()['caseType'] / df_court_agg['court_count']\n",
    "df_court_agg.loc[:, 'caseType_other_frac'] = df_court[\n",
    "    (df_court['caseType'] != 1) & (df_court['caseType'] != 5) & (df_court['caseType'] != 6)\n",
    "].groupby('inn').count().sort_index()['caseType'] / df_court_agg['court_count']\n",
    "\n",
    "# Sum aggregation\n",
    "for agg_method in ['median', 'std', 'max', 'min']:\n",
    "    df_court_agg.loc[:, f'sum_{agg_method}'] = df_court['sum'].groupby(df_court['inn']).agg(agg_method).sort_index()\n",
    "\n",
    "# Amount of the unique court instances within a court case\n",
    "df_court_agg.loc[:, 'instances_unique_amount'] = df_court['currentInstance'].groupby(df_court['inn']).agg(\n",
    "    lambda x: np.unique(x).shape[0]\n",
    ").sort_index()\n",
    "\n",
    "# The company case side\n",
    "for d in [1, 5, 6]:\n",
    "    df_court_agg.loc[:, f'case_side_{d}_frac'] = df_court[\n",
    "        df_court['case_sides'] == d\n",
    "    ].groupby('inn').count().sort_index()['case_sides'] / df_court_agg['court_count']\n",
    "\n",
    "disp(df_court_agg.head(10))"
   ]
  },
  {
   "cell_type": "markdown",
   "id": "13be4643",
   "metadata": {},
   "source": [
    "### Заполнение пропусков"
   ]
  },
  {
   "cell_type": "markdown",
   "id": "a1bc7ea5",
   "metadata": {},
   "source": [
    "Рассмотрим пропуски."
   ]
  },
  {
   "cell_type": "code",
   "execution_count": 134,
   "id": "dda1b3d6",
   "metadata": {},
   "outputs": [
    {
     "data": {
      "text/plain": [
       "court_count                False\n",
       "resultType_0_frac           True\n",
       "resultType_1_frac           True\n",
       "resultType_2_frac           True\n",
       "duration_median            False\n",
       "caseType_1_frac             True\n",
       "caseType_5_frac             True\n",
       "caseType_6_frac             True\n",
       "caseType_other_frac         True\n",
       "sum_median                 False\n",
       "sum_std                     True\n",
       "sum_max                    False\n",
       "sum_min                    False\n",
       "instances_unique_amount    False\n",
       "case_side_0_frac            True\n",
       "case_side_1_frac            True\n",
       "case_side_2_frac            True\n",
       "case_side_3_frac            True\n",
       "case_side_5_frac            True\n",
       "case_side_6_frac            True\n",
       "dtype: bool"
      ]
     },
     "execution_count": 134,
     "metadata": {},
     "output_type": "execute_result"
    }
   ],
   "source": [
    "df_court_agg.isna().any(axis=0)"
   ]
  },
  {
   "cell_type": "code",
   "execution_count": 135,
   "id": "514850b8",
   "metadata": {},
   "outputs": [
    {
     "data": {
      "text/plain": [
       "array([1])"
      ]
     },
     "execution_count": 135,
     "metadata": {},
     "output_type": "execute_result"
    }
   ],
   "source": [
    "df_court_agg[df_court_agg['sum_std'].isna()]['court_count'].unique()"
   ]
  },
  {
   "cell_type": "markdown",
   "id": "963d4caf",
   "metadata": {},
   "source": [
    "Столбец со стандартным отклонением суммы содержит пропуски только в тех случаях, когда имеется только одно значение суммы (единственная строка по компании), и стандартное отклонение рассчитать нельзя. Принимаем, что единственное значение суммы имеет нулевое отклонение, т.е. не отклоняется само от себя.\n",
    "\n",
    "Остальные пропуски - в столбцах с долями значений переменных (fraction). Пропуск в этих случаях означает нулевую долю и возник вследствие отсутствия числителя.\n",
    "\n",
    "Таким образом, все пропуски необходимо заполнить нулями."
   ]
  },
  {
   "cell_type": "code",
   "execution_count": 136,
   "id": "19b39642",
   "metadata": {},
   "outputs": [],
   "source": [
    "df_court_agg = df_court_agg.fillna(0)"
   ]
  },
  {
   "cell_type": "markdown",
   "id": "12d702ea",
   "metadata": {},
   "source": [
    "## Объединение таблиц"
   ]
  },
  {
   "cell_type": "markdown",
   "id": "03762292",
   "metadata": {},
   "source": [
    "Посмотрим на агрегированные таблицы в финальном виде. Необходимо их объединить и получить в результате единую таблицу со всеми возможными признаками."
   ]
  },
  {
   "cell_type": "code",
   "execution_count": 137,
   "id": "a5a29145",
   "metadata": {},
   "outputs": [
    {
     "data": {
      "text/html": [
       "<div>\n",
       "<style scoped>\n",
       "    .dataframe tbody tr th:only-of-type {\n",
       "        vertical-align: middle;\n",
       "    }\n",
       "\n",
       "    .dataframe tbody tr th {\n",
       "        vertical-align: top;\n",
       "    }\n",
       "\n",
       "    .dataframe thead th {\n",
       "        text-align: right;\n",
       "    }\n",
       "</style>\n",
       "<table border=\"1\" class=\"dataframe\">\n",
       "  <thead>\n",
       "    <tr style=\"text-align: right;\">\n",
       "      <th></th>\n",
       "      <th>long_count</th>\n",
       "      <th>long_mean</th>\n",
       "      <th>long_std</th>\n",
       "      <th>long_max</th>\n",
       "      <th>long_min</th>\n",
       "      <th>long_incr</th>\n",
       "      <th>long_decr</th>\n",
       "      <th>short_count</th>\n",
       "      <th>short_mean</th>\n",
       "      <th>short_std</th>\n",
       "      <th>short_max</th>\n",
       "      <th>short_min</th>\n",
       "      <th>balance_count</th>\n",
       "      <th>balance_mean</th>\n",
       "      <th>balance_std</th>\n",
       "      <th>balance_max</th>\n",
       "      <th>balance_min</th>\n",
       "      <th>balance_incr</th>\n",
       "      <th>balance_decr</th>\n",
       "      <th>long_diff_count</th>\n",
       "      <th>long_diff_mean</th>\n",
       "      <th>long_diff_std</th>\n",
       "      <th>long_diff_max</th>\n",
       "      <th>long_diff_min</th>\n",
       "      <th>short_diff_count</th>\n",
       "      <th>short_diff_mean</th>\n",
       "      <th>short_diff_std</th>\n",
       "      <th>short_diff_max</th>\n",
       "      <th>short_diff_min</th>\n",
       "      <th>balance_diff_count</th>\n",
       "      <th>balance_diff_mean</th>\n",
       "      <th>balance_diff_std</th>\n",
       "      <th>balance_diff_max</th>\n",
       "      <th>balance_diff_min</th>\n",
       "      <th>yearb</th>\n",
       "    </tr>\n",
       "  </thead>\n",
       "  <tbody>\n",
       "    <tr>\n",
       "      <th>1001003743</th>\n",
       "      <td>8</td>\n",
       "      <td>0.0</td>\n",
       "      <td>0.000000e+00</td>\n",
       "      <td>0.0</td>\n",
       "      <td>0.0</td>\n",
       "      <td>0</td>\n",
       "      <td>0</td>\n",
       "      <td>8</td>\n",
       "      <td>2520875.0</td>\n",
       "      <td>2.838751e+06</td>\n",
       "      <td>8379000.0</td>\n",
       "      <td>260000.0</td>\n",
       "      <td>8</td>\n",
       "      <td>5411625.0</td>\n",
       "      <td>1.868423e+06</td>\n",
       "      <td>9481000.0</td>\n",
       "      <td>3930000.0</td>\n",
       "      <td>0</td>\n",
       "      <td>0</td>\n",
       "      <td>7</td>\n",
       "      <td>0.000000e+00</td>\n",
       "      <td>0.000000e+00</td>\n",
       "      <td>0.0</td>\n",
       "      <td>0.0</td>\n",
       "      <td>7</td>\n",
       "      <td>4.642857e+05</td>\n",
       "      <td>3.568897e+06</td>\n",
       "      <td>7518000.0</td>\n",
       "      <td>-4498000.0</td>\n",
       "      <td>7</td>\n",
       "      <td>-6.700000e+04</td>\n",
       "      <td>3.106260e+06</td>\n",
       "      <td>4746000.0</td>\n",
       "      <td>-5478000.0</td>\n",
       "      <td>0</td>\n",
       "    </tr>\n",
       "    <tr>\n",
       "      <th>1020010136</th>\n",
       "      <td>4</td>\n",
       "      <td>0.0</td>\n",
       "      <td>0.000000e+00</td>\n",
       "      <td>0.0</td>\n",
       "      <td>0.0</td>\n",
       "      <td>0</td>\n",
       "      <td>0</td>\n",
       "      <td>4</td>\n",
       "      <td>28033500.0</td>\n",
       "      <td>2.267187e+07</td>\n",
       "      <td>55297000.0</td>\n",
       "      <td>3900000.0</td>\n",
       "      <td>4</td>\n",
       "      <td>11333750.0</td>\n",
       "      <td>5.352781e+06</td>\n",
       "      <td>14769000.0</td>\n",
       "      <td>3451000.0</td>\n",
       "      <td>0</td>\n",
       "      <td>0</td>\n",
       "      <td>3</td>\n",
       "      <td>0.000000e+00</td>\n",
       "      <td>0.000000e+00</td>\n",
       "      <td>0.0</td>\n",
       "      <td>0.0</td>\n",
       "      <td>3</td>\n",
       "      <td>1.713233e+07</td>\n",
       "      <td>4.315554e+06</td>\n",
       "      <td>20563000.0</td>\n",
       "      <td>12287000.0</td>\n",
       "      <td>3</td>\n",
       "      <td>3.712667e+06</td>\n",
       "      <td>4.799343e+06</td>\n",
       "      <td>9075000.0</td>\n",
       "      <td>-180000.0</td>\n",
       "      <td>2018</td>\n",
       "    </tr>\n",
       "    <tr>\n",
       "      <th>1203000142</th>\n",
       "      <td>4</td>\n",
       "      <td>142806000.0</td>\n",
       "      <td>1.052859e+08</td>\n",
       "      <td>252652000.0</td>\n",
       "      <td>52005000.0</td>\n",
       "      <td>0</td>\n",
       "      <td>0</td>\n",
       "      <td>4</td>\n",
       "      <td>264435250.0</td>\n",
       "      <td>1.101900e+08</td>\n",
       "      <td>395315000.0</td>\n",
       "      <td>165670000.0</td>\n",
       "      <td>4</td>\n",
       "      <td>482090500.0</td>\n",
       "      <td>3.486389e+07</td>\n",
       "      <td>523849000.0</td>\n",
       "      <td>442374000.0</td>\n",
       "      <td>0</td>\n",
       "      <td>0</td>\n",
       "      <td>3</td>\n",
       "      <td>-6.688233e+07</td>\n",
       "      <td>8.266596e+07</td>\n",
       "      <td>-1394000.0</td>\n",
       "      <td>-159769000.0</td>\n",
       "      <td>3</td>\n",
       "      <td>4.996200e+07</td>\n",
       "      <td>1.499322e+08</td>\n",
       "      <td>214115000.0</td>\n",
       "      <td>-79759000.0</td>\n",
       "      <td>3</td>\n",
       "      <td>-1.713600e+07</td>\n",
       "      <td>6.885870e+07</td>\n",
       "      <td>55492000.0</td>\n",
       "      <td>-81475000.0</td>\n",
       "      <td>2020</td>\n",
       "    </tr>\n",
       "  </tbody>\n",
       "</table>\n",
       "</div>"
      ],
      "text/plain": [
       "            long_count    long_mean      long_std     long_max    long_min  \\\n",
       "1001003743           8          0.0  0.000000e+00          0.0         0.0   \n",
       "1020010136           4          0.0  0.000000e+00          0.0         0.0   \n",
       "1203000142           4  142806000.0  1.052859e+08  252652000.0  52005000.0   \n",
       "\n",
       "           long_incr long_decr  short_count   short_mean     short_std  \\\n",
       "1001003743         0         0            8    2520875.0  2.838751e+06   \n",
       "1020010136         0         0            4   28033500.0  2.267187e+07   \n",
       "1203000142         0         0            4  264435250.0  1.101900e+08   \n",
       "\n",
       "              short_max    short_min  balance_count  balance_mean  \\\n",
       "1001003743    8379000.0     260000.0              8     5411625.0   \n",
       "1020010136   55297000.0    3900000.0              4    11333750.0   \n",
       "1203000142  395315000.0  165670000.0              4   482090500.0   \n",
       "\n",
       "             balance_std  balance_max  balance_min balance_incr balance_decr  \\\n",
       "1001003743  1.868423e+06    9481000.0    3930000.0            0            0   \n",
       "1020010136  5.352781e+06   14769000.0    3451000.0            0            0   \n",
       "1203000142  3.486389e+07  523849000.0  442374000.0            0            0   \n",
       "\n",
       "            long_diff_count  long_diff_mean  long_diff_std  long_diff_max  \\\n",
       "1001003743                7    0.000000e+00   0.000000e+00            0.0   \n",
       "1020010136                3    0.000000e+00   0.000000e+00            0.0   \n",
       "1203000142                3   -6.688233e+07   8.266596e+07     -1394000.0   \n",
       "\n",
       "            long_diff_min  short_diff_count  short_diff_mean  short_diff_std  \\\n",
       "1001003743            0.0                 7     4.642857e+05    3.568897e+06   \n",
       "1020010136            0.0                 3     1.713233e+07    4.315554e+06   \n",
       "1203000142   -159769000.0                 3     4.996200e+07    1.499322e+08   \n",
       "\n",
       "            short_diff_max  short_diff_min  balance_diff_count  \\\n",
       "1001003743       7518000.0      -4498000.0                   7   \n",
       "1020010136      20563000.0      12287000.0                   3   \n",
       "1203000142     214115000.0     -79759000.0                   3   \n",
       "\n",
       "            balance_diff_mean  balance_diff_std  balance_diff_max  \\\n",
       "1001003743      -6.700000e+04      3.106260e+06         4746000.0   \n",
       "1020010136       3.712667e+06      4.799343e+06         9075000.0   \n",
       "1203000142      -1.713600e+07      6.885870e+07        55492000.0   \n",
       "\n",
       "            balance_diff_min  yearb  \n",
       "1001003743        -5478000.0      0  \n",
       "1020010136         -180000.0   2018  \n",
       "1203000142       -81475000.0   2020  "
      ]
     },
     "metadata": {},
     "output_type": "display_data"
    },
    {
     "data": {
      "text/plain": [
       "(154, 35)"
      ]
     },
     "metadata": {},
     "output_type": "display_data"
    },
    {
     "data": {
      "text/html": [
       "<div>\n",
       "<style scoped>\n",
       "    .dataframe tbody tr th:only-of-type {\n",
       "        vertical-align: middle;\n",
       "    }\n",
       "\n",
       "    .dataframe tbody tr th {\n",
       "        vertical-align: top;\n",
       "    }\n",
       "\n",
       "    .dataframe thead th {\n",
       "        text-align: right;\n",
       "    }\n",
       "</style>\n",
       "<table border=\"1\" class=\"dataframe\">\n",
       "  <thead>\n",
       "    <tr style=\"text-align: right;\">\n",
       "      <th></th>\n",
       "      <th>court_count</th>\n",
       "      <th>resultType_0_frac</th>\n",
       "      <th>resultType_1_frac</th>\n",
       "      <th>resultType_2_frac</th>\n",
       "      <th>duration_median</th>\n",
       "      <th>caseType_1_frac</th>\n",
       "      <th>caseType_5_frac</th>\n",
       "      <th>caseType_6_frac</th>\n",
       "      <th>caseType_other_frac</th>\n",
       "      <th>sum_median</th>\n",
       "      <th>sum_std</th>\n",
       "      <th>sum_max</th>\n",
       "      <th>sum_min</th>\n",
       "      <th>instances_unique_amount</th>\n",
       "      <th>case_side_0_frac</th>\n",
       "      <th>case_side_1_frac</th>\n",
       "      <th>case_side_2_frac</th>\n",
       "      <th>case_side_3_frac</th>\n",
       "      <th>case_side_5_frac</th>\n",
       "      <th>case_side_6_frac</th>\n",
       "    </tr>\n",
       "  </thead>\n",
       "  <tbody>\n",
       "    <tr>\n",
       "      <th>1001003743</th>\n",
       "      <td>4</td>\n",
       "      <td>0.000000</td>\n",
       "      <td>0.500000</td>\n",
       "      <td>0.500000</td>\n",
       "      <td>318</td>\n",
       "      <td>0.000000</td>\n",
       "      <td>0.500000</td>\n",
       "      <td>0.500000</td>\n",
       "      <td>0.000000</td>\n",
       "      <td>39600.00</td>\n",
       "      <td>7.173637e+05</td>\n",
       "      <td>1.459183e+06</td>\n",
       "      <td>0.0</td>\n",
       "      <td>2</td>\n",
       "      <td>0</td>\n",
       "      <td>0.000000</td>\n",
       "      <td>0</td>\n",
       "      <td>0</td>\n",
       "      <td>0.0</td>\n",
       "      <td>0.0</td>\n",
       "    </tr>\n",
       "    <tr>\n",
       "      <th>1020010136</th>\n",
       "      <td>71</td>\n",
       "      <td>0.309859</td>\n",
       "      <td>0.084507</td>\n",
       "      <td>0.605634</td>\n",
       "      <td>104</td>\n",
       "      <td>0.042254</td>\n",
       "      <td>0.056338</td>\n",
       "      <td>0.901408</td>\n",
       "      <td>0.000000</td>\n",
       "      <td>262911.65</td>\n",
       "      <td>3.896738e+06</td>\n",
       "      <td>3.265126e+07</td>\n",
       "      <td>0.0</td>\n",
       "      <td>3</td>\n",
       "      <td>0</td>\n",
       "      <td>0.802817</td>\n",
       "      <td>0</td>\n",
       "      <td>0</td>\n",
       "      <td>0.0</td>\n",
       "      <td>0.0</td>\n",
       "    </tr>\n",
       "    <tr>\n",
       "      <th>1203000142</th>\n",
       "      <td>403</td>\n",
       "      <td>0.186104</td>\n",
       "      <td>0.119107</td>\n",
       "      <td>0.694789</td>\n",
       "      <td>82</td>\n",
       "      <td>0.062035</td>\n",
       "      <td>0.245658</td>\n",
       "      <td>0.637717</td>\n",
       "      <td>0.054591</td>\n",
       "      <td>72000.00</td>\n",
       "      <td>5.032573e+07</td>\n",
       "      <td>6.828251e+08</td>\n",
       "      <td>0.0</td>\n",
       "      <td>19</td>\n",
       "      <td>0</td>\n",
       "      <td>0.493797</td>\n",
       "      <td>0</td>\n",
       "      <td>0</td>\n",
       "      <td>0.0</td>\n",
       "      <td>0.0</td>\n",
       "    </tr>\n",
       "  </tbody>\n",
       "</table>\n",
       "</div>"
      ],
      "text/plain": [
       "            court_count  resultType_0_frac  resultType_1_frac  \\\n",
       "1001003743            4           0.000000           0.500000   \n",
       "1020010136           71           0.309859           0.084507   \n",
       "1203000142          403           0.186104           0.119107   \n",
       "\n",
       "            resultType_2_frac  duration_median  caseType_1_frac  \\\n",
       "1001003743           0.500000              318         0.000000   \n",
       "1020010136           0.605634              104         0.042254   \n",
       "1203000142           0.694789               82         0.062035   \n",
       "\n",
       "            caseType_5_frac  caseType_6_frac  caseType_other_frac  sum_median  \\\n",
       "1001003743         0.500000         0.500000             0.000000    39600.00   \n",
       "1020010136         0.056338         0.901408             0.000000   262911.65   \n",
       "1203000142         0.245658         0.637717             0.054591    72000.00   \n",
       "\n",
       "                 sum_std       sum_max  sum_min  instances_unique_amount  \\\n",
       "1001003743  7.173637e+05  1.459183e+06      0.0                        2   \n",
       "1020010136  3.896738e+06  3.265126e+07      0.0                        3   \n",
       "1203000142  5.032573e+07  6.828251e+08      0.0                       19   \n",
       "\n",
       "            case_side_0_frac  case_side_1_frac  case_side_2_frac  \\\n",
       "1001003743                 0          0.000000                 0   \n",
       "1020010136                 0          0.802817                 0   \n",
       "1203000142                 0          0.493797                 0   \n",
       "\n",
       "            case_side_3_frac  case_side_5_frac  case_side_6_frac  \n",
       "1001003743                 0               0.0               0.0  \n",
       "1020010136                 0               0.0               0.0  \n",
       "1203000142                 0               0.0               0.0  "
      ]
     },
     "metadata": {},
     "output_type": "display_data"
    },
    {
     "data": {
      "text/plain": [
       "(154, 20)"
      ]
     },
     "metadata": {},
     "output_type": "display_data"
    }
   ],
   "source": [
    "disp(df_acc_stat.head(3))\n",
    "disp(df_acc_stat.shape)\n",
    "disp(df_court_agg.head(3))\n",
    "disp(df_court_agg.shape)"
   ]
  },
  {
   "cell_type": "markdown",
   "id": "3e5f15a2",
   "metadata": {},
   "source": [
    "Объединим таблицы."
   ]
  },
  {
   "cell_type": "code",
   "execution_count": 138,
   "id": "ca78461d",
   "metadata": {},
   "outputs": [
    {
     "data": {
      "text/plain": [
       "True"
      ]
     },
     "execution_count": 138,
     "metadata": {},
     "output_type": "execute_result"
    }
   ],
   "source": [
    "np.all(df_acc_stat.index.values == df_court_agg.index.values)"
   ]
  },
  {
   "cell_type": "code",
   "execution_count": 139,
   "id": "faedafdc",
   "metadata": {},
   "outputs": [
    {
     "data": {
      "text/html": [
       "<div>\n",
       "<style scoped>\n",
       "    .dataframe tbody tr th:only-of-type {\n",
       "        vertical-align: middle;\n",
       "    }\n",
       "\n",
       "    .dataframe tbody tr th {\n",
       "        vertical-align: top;\n",
       "    }\n",
       "\n",
       "    .dataframe thead th {\n",
       "        text-align: right;\n",
       "    }\n",
       "</style>\n",
       "<table border=\"1\" class=\"dataframe\">\n",
       "  <thead>\n",
       "    <tr style=\"text-align: right;\">\n",
       "      <th></th>\n",
       "      <th>long_count</th>\n",
       "      <th>long_mean</th>\n",
       "      <th>long_std</th>\n",
       "      <th>long_max</th>\n",
       "      <th>long_min</th>\n",
       "      <th>long_incr</th>\n",
       "      <th>long_decr</th>\n",
       "      <th>short_count</th>\n",
       "      <th>short_mean</th>\n",
       "      <th>short_std</th>\n",
       "      <th>short_max</th>\n",
       "      <th>short_min</th>\n",
       "      <th>balance_count</th>\n",
       "      <th>balance_mean</th>\n",
       "      <th>balance_std</th>\n",
       "      <th>balance_max</th>\n",
       "      <th>balance_min</th>\n",
       "      <th>balance_incr</th>\n",
       "      <th>balance_decr</th>\n",
       "      <th>long_diff_count</th>\n",
       "      <th>long_diff_mean</th>\n",
       "      <th>long_diff_std</th>\n",
       "      <th>long_diff_max</th>\n",
       "      <th>long_diff_min</th>\n",
       "      <th>short_diff_count</th>\n",
       "      <th>short_diff_mean</th>\n",
       "      <th>short_diff_std</th>\n",
       "      <th>short_diff_max</th>\n",
       "      <th>short_diff_min</th>\n",
       "      <th>balance_diff_count</th>\n",
       "      <th>balance_diff_mean</th>\n",
       "      <th>balance_diff_std</th>\n",
       "      <th>balance_diff_max</th>\n",
       "      <th>balance_diff_min</th>\n",
       "      <th>yearb</th>\n",
       "      <th>court_count</th>\n",
       "      <th>resultType_0_frac</th>\n",
       "      <th>resultType_1_frac</th>\n",
       "      <th>resultType_2_frac</th>\n",
       "      <th>duration_median</th>\n",
       "      <th>caseType_1_frac</th>\n",
       "      <th>caseType_5_frac</th>\n",
       "      <th>caseType_6_frac</th>\n",
       "      <th>caseType_other_frac</th>\n",
       "      <th>sum_median</th>\n",
       "      <th>sum_std</th>\n",
       "      <th>sum_max</th>\n",
       "      <th>sum_min</th>\n",
       "      <th>instances_unique_amount</th>\n",
       "      <th>case_side_0_frac</th>\n",
       "      <th>case_side_1_frac</th>\n",
       "      <th>case_side_2_frac</th>\n",
       "      <th>case_side_3_frac</th>\n",
       "      <th>case_side_5_frac</th>\n",
       "      <th>case_side_6_frac</th>\n",
       "    </tr>\n",
       "  </thead>\n",
       "  <tbody>\n",
       "    <tr>\n",
       "      <th>1001003743</th>\n",
       "      <td>8</td>\n",
       "      <td>0.0</td>\n",
       "      <td>0.000000e+00</td>\n",
       "      <td>0.0</td>\n",
       "      <td>0.0</td>\n",
       "      <td>0</td>\n",
       "      <td>0</td>\n",
       "      <td>8</td>\n",
       "      <td>2520875.0</td>\n",
       "      <td>2.838751e+06</td>\n",
       "      <td>8379000.0</td>\n",
       "      <td>260000.0</td>\n",
       "      <td>8</td>\n",
       "      <td>5411625.0</td>\n",
       "      <td>1.868423e+06</td>\n",
       "      <td>9481000.0</td>\n",
       "      <td>3930000.0</td>\n",
       "      <td>0</td>\n",
       "      <td>0</td>\n",
       "      <td>7</td>\n",
       "      <td>0.000000e+00</td>\n",
       "      <td>0.000000e+00</td>\n",
       "      <td>0.0</td>\n",
       "      <td>0.0</td>\n",
       "      <td>7</td>\n",
       "      <td>4.642857e+05</td>\n",
       "      <td>3.568897e+06</td>\n",
       "      <td>7518000.0</td>\n",
       "      <td>-4498000.0</td>\n",
       "      <td>7</td>\n",
       "      <td>-6.700000e+04</td>\n",
       "      <td>3.106260e+06</td>\n",
       "      <td>4746000.0</td>\n",
       "      <td>-5478000.0</td>\n",
       "      <td>0</td>\n",
       "      <td>4</td>\n",
       "      <td>0.000000</td>\n",
       "      <td>0.500000</td>\n",
       "      <td>0.500000</td>\n",
       "      <td>318</td>\n",
       "      <td>0.000000</td>\n",
       "      <td>0.500000</td>\n",
       "      <td>0.500000</td>\n",
       "      <td>0.000000</td>\n",
       "      <td>39600.00</td>\n",
       "      <td>7.173637e+05</td>\n",
       "      <td>1.459183e+06</td>\n",
       "      <td>0.0</td>\n",
       "      <td>2</td>\n",
       "      <td>0</td>\n",
       "      <td>0.000000</td>\n",
       "      <td>0</td>\n",
       "      <td>0</td>\n",
       "      <td>0.0</td>\n",
       "      <td>0.0</td>\n",
       "    </tr>\n",
       "    <tr>\n",
       "      <th>1020010136</th>\n",
       "      <td>4</td>\n",
       "      <td>0.0</td>\n",
       "      <td>0.000000e+00</td>\n",
       "      <td>0.0</td>\n",
       "      <td>0.0</td>\n",
       "      <td>0</td>\n",
       "      <td>0</td>\n",
       "      <td>4</td>\n",
       "      <td>28033500.0</td>\n",
       "      <td>2.267187e+07</td>\n",
       "      <td>55297000.0</td>\n",
       "      <td>3900000.0</td>\n",
       "      <td>4</td>\n",
       "      <td>11333750.0</td>\n",
       "      <td>5.352781e+06</td>\n",
       "      <td>14769000.0</td>\n",
       "      <td>3451000.0</td>\n",
       "      <td>0</td>\n",
       "      <td>0</td>\n",
       "      <td>3</td>\n",
       "      <td>0.000000e+00</td>\n",
       "      <td>0.000000e+00</td>\n",
       "      <td>0.0</td>\n",
       "      <td>0.0</td>\n",
       "      <td>3</td>\n",
       "      <td>1.713233e+07</td>\n",
       "      <td>4.315554e+06</td>\n",
       "      <td>20563000.0</td>\n",
       "      <td>12287000.0</td>\n",
       "      <td>3</td>\n",
       "      <td>3.712667e+06</td>\n",
       "      <td>4.799343e+06</td>\n",
       "      <td>9075000.0</td>\n",
       "      <td>-180000.0</td>\n",
       "      <td>2018</td>\n",
       "      <td>71</td>\n",
       "      <td>0.309859</td>\n",
       "      <td>0.084507</td>\n",
       "      <td>0.605634</td>\n",
       "      <td>104</td>\n",
       "      <td>0.042254</td>\n",
       "      <td>0.056338</td>\n",
       "      <td>0.901408</td>\n",
       "      <td>0.000000</td>\n",
       "      <td>262911.65</td>\n",
       "      <td>3.896738e+06</td>\n",
       "      <td>3.265126e+07</td>\n",
       "      <td>0.0</td>\n",
       "      <td>3</td>\n",
       "      <td>0</td>\n",
       "      <td>0.802817</td>\n",
       "      <td>0</td>\n",
       "      <td>0</td>\n",
       "      <td>0.0</td>\n",
       "      <td>0.0</td>\n",
       "    </tr>\n",
       "    <tr>\n",
       "      <th>1203000142</th>\n",
       "      <td>4</td>\n",
       "      <td>142806000.0</td>\n",
       "      <td>1.052859e+08</td>\n",
       "      <td>252652000.0</td>\n",
       "      <td>52005000.0</td>\n",
       "      <td>0</td>\n",
       "      <td>0</td>\n",
       "      <td>4</td>\n",
       "      <td>264435250.0</td>\n",
       "      <td>1.101900e+08</td>\n",
       "      <td>395315000.0</td>\n",
       "      <td>165670000.0</td>\n",
       "      <td>4</td>\n",
       "      <td>482090500.0</td>\n",
       "      <td>3.486389e+07</td>\n",
       "      <td>523849000.0</td>\n",
       "      <td>442374000.0</td>\n",
       "      <td>0</td>\n",
       "      <td>0</td>\n",
       "      <td>3</td>\n",
       "      <td>-6.688233e+07</td>\n",
       "      <td>8.266596e+07</td>\n",
       "      <td>-1394000.0</td>\n",
       "      <td>-159769000.0</td>\n",
       "      <td>3</td>\n",
       "      <td>4.996200e+07</td>\n",
       "      <td>1.499322e+08</td>\n",
       "      <td>214115000.0</td>\n",
       "      <td>-79759000.0</td>\n",
       "      <td>3</td>\n",
       "      <td>-1.713600e+07</td>\n",
       "      <td>6.885870e+07</td>\n",
       "      <td>55492000.0</td>\n",
       "      <td>-81475000.0</td>\n",
       "      <td>2020</td>\n",
       "      <td>403</td>\n",
       "      <td>0.186104</td>\n",
       "      <td>0.119107</td>\n",
       "      <td>0.694789</td>\n",
       "      <td>82</td>\n",
       "      <td>0.062035</td>\n",
       "      <td>0.245658</td>\n",
       "      <td>0.637717</td>\n",
       "      <td>0.054591</td>\n",
       "      <td>72000.00</td>\n",
       "      <td>5.032573e+07</td>\n",
       "      <td>6.828251e+08</td>\n",
       "      <td>0.0</td>\n",
       "      <td>19</td>\n",
       "      <td>0</td>\n",
       "      <td>0.493797</td>\n",
       "      <td>0</td>\n",
       "      <td>0</td>\n",
       "      <td>0.0</td>\n",
       "      <td>0.0</td>\n",
       "    </tr>\n",
       "  </tbody>\n",
       "</table>\n",
       "</div>"
      ],
      "text/plain": [
       "            long_count    long_mean      long_std     long_max    long_min  \\\n",
       "1001003743           8          0.0  0.000000e+00          0.0         0.0   \n",
       "1020010136           4          0.0  0.000000e+00          0.0         0.0   \n",
       "1203000142           4  142806000.0  1.052859e+08  252652000.0  52005000.0   \n",
       "\n",
       "           long_incr long_decr  short_count   short_mean     short_std  \\\n",
       "1001003743         0         0            8    2520875.0  2.838751e+06   \n",
       "1020010136         0         0            4   28033500.0  2.267187e+07   \n",
       "1203000142         0         0            4  264435250.0  1.101900e+08   \n",
       "\n",
       "              short_max    short_min  balance_count  balance_mean  \\\n",
       "1001003743    8379000.0     260000.0              8     5411625.0   \n",
       "1020010136   55297000.0    3900000.0              4    11333750.0   \n",
       "1203000142  395315000.0  165670000.0              4   482090500.0   \n",
       "\n",
       "             balance_std  balance_max  balance_min balance_incr balance_decr  \\\n",
       "1001003743  1.868423e+06    9481000.0    3930000.0            0            0   \n",
       "1020010136  5.352781e+06   14769000.0    3451000.0            0            0   \n",
       "1203000142  3.486389e+07  523849000.0  442374000.0            0            0   \n",
       "\n",
       "            long_diff_count  long_diff_mean  long_diff_std  long_diff_max  \\\n",
       "1001003743                7    0.000000e+00   0.000000e+00            0.0   \n",
       "1020010136                3    0.000000e+00   0.000000e+00            0.0   \n",
       "1203000142                3   -6.688233e+07   8.266596e+07     -1394000.0   \n",
       "\n",
       "            long_diff_min  short_diff_count  short_diff_mean  short_diff_std  \\\n",
       "1001003743            0.0                 7     4.642857e+05    3.568897e+06   \n",
       "1020010136            0.0                 3     1.713233e+07    4.315554e+06   \n",
       "1203000142   -159769000.0                 3     4.996200e+07    1.499322e+08   \n",
       "\n",
       "            short_diff_max  short_diff_min  balance_diff_count  \\\n",
       "1001003743       7518000.0      -4498000.0                   7   \n",
       "1020010136      20563000.0      12287000.0                   3   \n",
       "1203000142     214115000.0     -79759000.0                   3   \n",
       "\n",
       "            balance_diff_mean  balance_diff_std  balance_diff_max  \\\n",
       "1001003743      -6.700000e+04      3.106260e+06         4746000.0   \n",
       "1020010136       3.712667e+06      4.799343e+06         9075000.0   \n",
       "1203000142      -1.713600e+07      6.885870e+07        55492000.0   \n",
       "\n",
       "            balance_diff_min  yearb  court_count  resultType_0_frac  \\\n",
       "1001003743        -5478000.0      0            4           0.000000   \n",
       "1020010136         -180000.0   2018           71           0.309859   \n",
       "1203000142       -81475000.0   2020          403           0.186104   \n",
       "\n",
       "            resultType_1_frac  resultType_2_frac  duration_median  \\\n",
       "1001003743           0.500000           0.500000              318   \n",
       "1020010136           0.084507           0.605634              104   \n",
       "1203000142           0.119107           0.694789               82   \n",
       "\n",
       "            caseType_1_frac  caseType_5_frac  caseType_6_frac  \\\n",
       "1001003743         0.000000         0.500000         0.500000   \n",
       "1020010136         0.042254         0.056338         0.901408   \n",
       "1203000142         0.062035         0.245658         0.637717   \n",
       "\n",
       "            caseType_other_frac  sum_median       sum_std       sum_max  \\\n",
       "1001003743             0.000000    39600.00  7.173637e+05  1.459183e+06   \n",
       "1020010136             0.000000   262911.65  3.896738e+06  3.265126e+07   \n",
       "1203000142             0.054591    72000.00  5.032573e+07  6.828251e+08   \n",
       "\n",
       "            sum_min  instances_unique_amount  case_side_0_frac  \\\n",
       "1001003743      0.0                        2                 0   \n",
       "1020010136      0.0                        3                 0   \n",
       "1203000142      0.0                       19                 0   \n",
       "\n",
       "            case_side_1_frac  case_side_2_frac  case_side_3_frac  \\\n",
       "1001003743          0.000000                 0                 0   \n",
       "1020010136          0.802817                 0                 0   \n",
       "1203000142          0.493797                 0                 0   \n",
       "\n",
       "            case_side_5_frac  case_side_6_frac  \n",
       "1001003743               0.0               0.0  \n",
       "1020010136               0.0               0.0  \n",
       "1203000142               0.0               0.0  "
      ]
     },
     "metadata": {},
     "output_type": "display_data"
    },
    {
     "data": {
      "text/plain": [
       "(154, 55)"
      ]
     },
     "metadata": {},
     "output_type": "display_data"
    }
   ],
   "source": [
    "df_feat = df_acc_stat.merge(\n",
    "    df_court_agg, left_index=True, right_index=True, how='left'\n",
    ").fillna(0)\n",
    "\n",
    "disp(df_feat.head(3))\n",
    "disp(df_feat.shape)"
   ]
  },
  {
   "cell_type": "markdown",
   "id": "bec969e5",
   "metadata": {},
   "source": [
    "# Modelling"
   ]
  },
  {
   "cell_type": "markdown",
   "id": "0443fac1",
   "metadata": {},
   "source": [
    "## Выбор метрик"
   ]
  },
  {
   "cell_type": "markdown",
   "id": "6c120945",
   "metadata": {},
   "source": [
    "Для оценки качества модели будем использовать следующие метрики:\n",
    "* ROC-AUC;\n",
    "* accuracy;\n",
    "* confusion matrix.\n",
    "\n",
    "ROC-AUC позволяет оценить, насколько точно при различных порогах определяется положительный класс (т.е. сколько из всех истинно положительных элементов модель смогла верно определить) и насколько много отрицательного класса при этом ошибочно определено как положительный (т.е. сколько из всех истинно отрицательных элементов модель ошибочно определила как положительные). Это даёт косвенное представление о степени уверенности модели. Если модель хорошо работает только в узком диапазоне порогов, то классы разделены не \"уверенно\": вероятности лежат по \"правильные\" стороны от порога (чаще всего 0.5), но слишком близко к нему. Смещаем порог - классы \"поплыли\". Точность такой модели будет нестабильной, но понять мы это сможем итерационно, пробуя смещать порог или обучая несколько моделей. А по ROC-AUC проблема проявится сразу.\n",
    "\n",
    "Accuracy - точность - позволяет оценить долю правильно предсказанных классов. Хорошо работает только на сбалансированных выборках. Наша выборка (забегая вперёд) - сбалансированная, поэтому мы применим эту метрику. Также мы её применим для проверки адекватности модели: рассчитаем точность для константных моделей (все предсказания равны нулю; единице).\n",
    "\n",
    "Confusion matrix позволяет явно оценить долю ложноположительных и долю ложноотрицательных ответов. Доли верных ответов эта метрика тоже позволяет оценить, но в нашей задаче важны первые две из перечисленных. Поскольку речь идёт о предсказании банкротства компании (а с будущим банкротом дел лучше не иметь), нам предпочтительнее снижать долю ложноотрицательных ответов ценой увеличения доли ложноположительных, чем наоборот. Если мы выдадим кредит компании, которая затем обанкротится, мы потеряем деньги, и это необратимо. А если ошибочно откажем здоровой компании, то потеряем только будущую прибыль и останемся при своих. И это в некотором смысле обратимо, так как можно эти деньги позже выдать другой компании или, например, эту же компанию рассмотреть повнимательнее ещё раз."
   ]
  },
  {
   "cell_type": "markdown",
   "id": "43f618ba",
   "metadata": {},
   "source": [
    "## Выделение целевого признака"
   ]
  },
  {
   "cell_type": "markdown",
   "id": "b82adfb0",
   "metadata": {},
   "source": [
    "Необходимо спрогнозировать вероятность банкротства компании. Это - задача бинарной классификации, где требуется предсказать вероятность положительного класса.\n",
    "\n",
    "Целевой признак - факт банкротства. Создадим его из столбца yearb (год наступления банкротства), заменив в нём все ненулевые значения на единицы."
   ]
  },
  {
   "cell_type": "code",
   "execution_count": 140,
   "id": "14459e77",
   "metadata": {},
   "outputs": [
    {
     "data": {
      "text/html": [
       "<div>\n",
       "<style scoped>\n",
       "    .dataframe tbody tr th:only-of-type {\n",
       "        vertical-align: middle;\n",
       "    }\n",
       "\n",
       "    .dataframe tbody tr th {\n",
       "        vertical-align: top;\n",
       "    }\n",
       "\n",
       "    .dataframe thead th {\n",
       "        text-align: right;\n",
       "    }\n",
       "</style>\n",
       "<table border=\"1\" class=\"dataframe\">\n",
       "  <thead>\n",
       "    <tr style=\"text-align: right;\">\n",
       "      <th></th>\n",
       "      <th>long_count</th>\n",
       "      <th>long_mean</th>\n",
       "      <th>long_std</th>\n",
       "      <th>long_max</th>\n",
       "      <th>long_min</th>\n",
       "      <th>long_incr</th>\n",
       "      <th>long_decr</th>\n",
       "      <th>short_count</th>\n",
       "      <th>short_mean</th>\n",
       "      <th>short_std</th>\n",
       "      <th>short_max</th>\n",
       "      <th>short_min</th>\n",
       "      <th>balance_count</th>\n",
       "      <th>balance_mean</th>\n",
       "      <th>balance_std</th>\n",
       "      <th>balance_max</th>\n",
       "      <th>balance_min</th>\n",
       "      <th>balance_incr</th>\n",
       "      <th>balance_decr</th>\n",
       "      <th>long_diff_count</th>\n",
       "      <th>long_diff_mean</th>\n",
       "      <th>long_diff_std</th>\n",
       "      <th>long_diff_max</th>\n",
       "      <th>long_diff_min</th>\n",
       "      <th>short_diff_count</th>\n",
       "      <th>short_diff_mean</th>\n",
       "      <th>short_diff_std</th>\n",
       "      <th>short_diff_max</th>\n",
       "      <th>short_diff_min</th>\n",
       "      <th>balance_diff_count</th>\n",
       "      <th>balance_diff_mean</th>\n",
       "      <th>balance_diff_std</th>\n",
       "      <th>balance_diff_max</th>\n",
       "      <th>balance_diff_min</th>\n",
       "      <th>court_count</th>\n",
       "      <th>resultType_0_frac</th>\n",
       "      <th>resultType_1_frac</th>\n",
       "      <th>resultType_2_frac</th>\n",
       "      <th>duration_median</th>\n",
       "      <th>caseType_1_frac</th>\n",
       "      <th>caseType_5_frac</th>\n",
       "      <th>caseType_6_frac</th>\n",
       "      <th>caseType_other_frac</th>\n",
       "      <th>sum_median</th>\n",
       "      <th>sum_std</th>\n",
       "      <th>sum_max</th>\n",
       "      <th>sum_min</th>\n",
       "      <th>instances_unique_amount</th>\n",
       "      <th>case_side_0_frac</th>\n",
       "      <th>case_side_1_frac</th>\n",
       "      <th>case_side_2_frac</th>\n",
       "      <th>case_side_3_frac</th>\n",
       "      <th>case_side_5_frac</th>\n",
       "      <th>case_side_6_frac</th>\n",
       "      <th>Y</th>\n",
       "    </tr>\n",
       "  </thead>\n",
       "  <tbody>\n",
       "    <tr>\n",
       "      <th>0</th>\n",
       "      <td>8</td>\n",
       "      <td>0.0</td>\n",
       "      <td>0.000000e+00</td>\n",
       "      <td>0.0</td>\n",
       "      <td>0.0</td>\n",
       "      <td>0</td>\n",
       "      <td>0</td>\n",
       "      <td>8</td>\n",
       "      <td>2520875.0</td>\n",
       "      <td>2.838751e+06</td>\n",
       "      <td>8379000.0</td>\n",
       "      <td>260000.0</td>\n",
       "      <td>8</td>\n",
       "      <td>5411625.0</td>\n",
       "      <td>1.868423e+06</td>\n",
       "      <td>9481000.0</td>\n",
       "      <td>3930000.0</td>\n",
       "      <td>0</td>\n",
       "      <td>0</td>\n",
       "      <td>7</td>\n",
       "      <td>0.000000e+00</td>\n",
       "      <td>0.000000e+00</td>\n",
       "      <td>0.0</td>\n",
       "      <td>0.0</td>\n",
       "      <td>7</td>\n",
       "      <td>4.642857e+05</td>\n",
       "      <td>3.568897e+06</td>\n",
       "      <td>7518000.0</td>\n",
       "      <td>-4498000.0</td>\n",
       "      <td>7</td>\n",
       "      <td>-6.700000e+04</td>\n",
       "      <td>3.106260e+06</td>\n",
       "      <td>4746000.0</td>\n",
       "      <td>-5478000.0</td>\n",
       "      <td>4</td>\n",
       "      <td>0.000000</td>\n",
       "      <td>0.500000</td>\n",
       "      <td>0.500000</td>\n",
       "      <td>318</td>\n",
       "      <td>0.000000</td>\n",
       "      <td>0.500000</td>\n",
       "      <td>0.500000</td>\n",
       "      <td>0.000000</td>\n",
       "      <td>39600.00</td>\n",
       "      <td>7.173637e+05</td>\n",
       "      <td>1.459183e+06</td>\n",
       "      <td>0.0</td>\n",
       "      <td>2</td>\n",
       "      <td>0</td>\n",
       "      <td>0.000000</td>\n",
       "      <td>0</td>\n",
       "      <td>0</td>\n",
       "      <td>0.0</td>\n",
       "      <td>0.0</td>\n",
       "      <td>0</td>\n",
       "    </tr>\n",
       "    <tr>\n",
       "      <th>1</th>\n",
       "      <td>4</td>\n",
       "      <td>0.0</td>\n",
       "      <td>0.000000e+00</td>\n",
       "      <td>0.0</td>\n",
       "      <td>0.0</td>\n",
       "      <td>0</td>\n",
       "      <td>0</td>\n",
       "      <td>4</td>\n",
       "      <td>28033500.0</td>\n",
       "      <td>2.267187e+07</td>\n",
       "      <td>55297000.0</td>\n",
       "      <td>3900000.0</td>\n",
       "      <td>4</td>\n",
       "      <td>11333750.0</td>\n",
       "      <td>5.352781e+06</td>\n",
       "      <td>14769000.0</td>\n",
       "      <td>3451000.0</td>\n",
       "      <td>0</td>\n",
       "      <td>0</td>\n",
       "      <td>3</td>\n",
       "      <td>0.000000e+00</td>\n",
       "      <td>0.000000e+00</td>\n",
       "      <td>0.0</td>\n",
       "      <td>0.0</td>\n",
       "      <td>3</td>\n",
       "      <td>1.713233e+07</td>\n",
       "      <td>4.315554e+06</td>\n",
       "      <td>20563000.0</td>\n",
       "      <td>12287000.0</td>\n",
       "      <td>3</td>\n",
       "      <td>3.712667e+06</td>\n",
       "      <td>4.799343e+06</td>\n",
       "      <td>9075000.0</td>\n",
       "      <td>-180000.0</td>\n",
       "      <td>71</td>\n",
       "      <td>0.309859</td>\n",
       "      <td>0.084507</td>\n",
       "      <td>0.605634</td>\n",
       "      <td>104</td>\n",
       "      <td>0.042254</td>\n",
       "      <td>0.056338</td>\n",
       "      <td>0.901408</td>\n",
       "      <td>0.000000</td>\n",
       "      <td>262911.65</td>\n",
       "      <td>3.896738e+06</td>\n",
       "      <td>3.265126e+07</td>\n",
       "      <td>0.0</td>\n",
       "      <td>3</td>\n",
       "      <td>0</td>\n",
       "      <td>0.802817</td>\n",
       "      <td>0</td>\n",
       "      <td>0</td>\n",
       "      <td>0.0</td>\n",
       "      <td>0.0</td>\n",
       "      <td>1</td>\n",
       "    </tr>\n",
       "    <tr>\n",
       "      <th>2</th>\n",
       "      <td>4</td>\n",
       "      <td>142806000.0</td>\n",
       "      <td>1.052859e+08</td>\n",
       "      <td>252652000.0</td>\n",
       "      <td>52005000.0</td>\n",
       "      <td>0</td>\n",
       "      <td>0</td>\n",
       "      <td>4</td>\n",
       "      <td>264435250.0</td>\n",
       "      <td>1.101900e+08</td>\n",
       "      <td>395315000.0</td>\n",
       "      <td>165670000.0</td>\n",
       "      <td>4</td>\n",
       "      <td>482090500.0</td>\n",
       "      <td>3.486389e+07</td>\n",
       "      <td>523849000.0</td>\n",
       "      <td>442374000.0</td>\n",
       "      <td>0</td>\n",
       "      <td>0</td>\n",
       "      <td>3</td>\n",
       "      <td>-6.688233e+07</td>\n",
       "      <td>8.266596e+07</td>\n",
       "      <td>-1394000.0</td>\n",
       "      <td>-159769000.0</td>\n",
       "      <td>3</td>\n",
       "      <td>4.996200e+07</td>\n",
       "      <td>1.499322e+08</td>\n",
       "      <td>214115000.0</td>\n",
       "      <td>-79759000.0</td>\n",
       "      <td>3</td>\n",
       "      <td>-1.713600e+07</td>\n",
       "      <td>6.885870e+07</td>\n",
       "      <td>55492000.0</td>\n",
       "      <td>-81475000.0</td>\n",
       "      <td>403</td>\n",
       "      <td>0.186104</td>\n",
       "      <td>0.119107</td>\n",
       "      <td>0.694789</td>\n",
       "      <td>82</td>\n",
       "      <td>0.062035</td>\n",
       "      <td>0.245658</td>\n",
       "      <td>0.637717</td>\n",
       "      <td>0.054591</td>\n",
       "      <td>72000.00</td>\n",
       "      <td>5.032573e+07</td>\n",
       "      <td>6.828251e+08</td>\n",
       "      <td>0.0</td>\n",
       "      <td>19</td>\n",
       "      <td>0</td>\n",
       "      <td>0.493797</td>\n",
       "      <td>0</td>\n",
       "      <td>0</td>\n",
       "      <td>0.0</td>\n",
       "      <td>0.0</td>\n",
       "      <td>1</td>\n",
       "    </tr>\n",
       "  </tbody>\n",
       "</table>\n",
       "</div>"
      ],
      "text/plain": [
       "   long_count    long_mean      long_std     long_max    long_min long_incr  \\\n",
       "0           8          0.0  0.000000e+00          0.0         0.0         0   \n",
       "1           4          0.0  0.000000e+00          0.0         0.0         0   \n",
       "2           4  142806000.0  1.052859e+08  252652000.0  52005000.0         0   \n",
       "\n",
       "  long_decr  short_count   short_mean     short_std    short_max    short_min  \\\n",
       "0         0            8    2520875.0  2.838751e+06    8379000.0     260000.0   \n",
       "1         0            4   28033500.0  2.267187e+07   55297000.0    3900000.0   \n",
       "2         0            4  264435250.0  1.101900e+08  395315000.0  165670000.0   \n",
       "\n",
       "   balance_count  balance_mean   balance_std  balance_max  balance_min  \\\n",
       "0              8     5411625.0  1.868423e+06    9481000.0    3930000.0   \n",
       "1              4    11333750.0  5.352781e+06   14769000.0    3451000.0   \n",
       "2              4   482090500.0  3.486389e+07  523849000.0  442374000.0   \n",
       "\n",
       "  balance_incr balance_decr  long_diff_count  long_diff_mean  long_diff_std  \\\n",
       "0            0            0                7    0.000000e+00   0.000000e+00   \n",
       "1            0            0                3    0.000000e+00   0.000000e+00   \n",
       "2            0            0                3   -6.688233e+07   8.266596e+07   \n",
       "\n",
       "   long_diff_max  long_diff_min  short_diff_count  short_diff_mean  \\\n",
       "0            0.0            0.0                 7     4.642857e+05   \n",
       "1            0.0            0.0                 3     1.713233e+07   \n",
       "2     -1394000.0   -159769000.0                 3     4.996200e+07   \n",
       "\n",
       "   short_diff_std  short_diff_max  short_diff_min  balance_diff_count  \\\n",
       "0    3.568897e+06       7518000.0      -4498000.0                   7   \n",
       "1    4.315554e+06      20563000.0      12287000.0                   3   \n",
       "2    1.499322e+08     214115000.0     -79759000.0                   3   \n",
       "\n",
       "   balance_diff_mean  balance_diff_std  balance_diff_max  balance_diff_min  \\\n",
       "0      -6.700000e+04      3.106260e+06         4746000.0        -5478000.0   \n",
       "1       3.712667e+06      4.799343e+06         9075000.0         -180000.0   \n",
       "2      -1.713600e+07      6.885870e+07        55492000.0       -81475000.0   \n",
       "\n",
       "   court_count  resultType_0_frac  resultType_1_frac  resultType_2_frac  \\\n",
       "0            4           0.000000           0.500000           0.500000   \n",
       "1           71           0.309859           0.084507           0.605634   \n",
       "2          403           0.186104           0.119107           0.694789   \n",
       "\n",
       "   duration_median  caseType_1_frac  caseType_5_frac  caseType_6_frac  \\\n",
       "0              318         0.000000         0.500000         0.500000   \n",
       "1              104         0.042254         0.056338         0.901408   \n",
       "2               82         0.062035         0.245658         0.637717   \n",
       "\n",
       "   caseType_other_frac  sum_median       sum_std       sum_max  sum_min  \\\n",
       "0             0.000000    39600.00  7.173637e+05  1.459183e+06      0.0   \n",
       "1             0.000000   262911.65  3.896738e+06  3.265126e+07      0.0   \n",
       "2             0.054591    72000.00  5.032573e+07  6.828251e+08      0.0   \n",
       "\n",
       "   instances_unique_amount  case_side_0_frac  case_side_1_frac  \\\n",
       "0                        2                 0          0.000000   \n",
       "1                        3                 0          0.802817   \n",
       "2                       19                 0          0.493797   \n",
       "\n",
       "   case_side_2_frac  case_side_3_frac  case_side_5_frac  case_side_6_frac  Y  \n",
       "0                 0                 0               0.0               0.0  0  \n",
       "1                 0                 0               0.0               0.0  1  \n",
       "2                 0                 0               0.0               0.0  1  "
      ]
     },
     "execution_count": 140,
     "metadata": {},
     "output_type": "execute_result"
    }
   ],
   "source": [
    "df_feat['Y'] = df_feat['yearb'].where(df_feat['yearb'] == 0, 1)\n",
    "df_feat = df_feat.drop(columns='yearb').reset_index(drop=True)\n",
    "df_feat.head(3)"
   ]
  },
  {
   "cell_type": "markdown",
   "id": "e98cc7a7",
   "metadata": {},
   "source": [
    "Посмотрим соотношение классов в выборке."
   ]
  },
  {
   "cell_type": "code",
   "execution_count": 141,
   "id": "4eebefd4",
   "metadata": {},
   "outputs": [
    {
     "data": {
      "text/plain": [
       "1    0.61039\n",
       "0    0.38961\n",
       "Name: Y, dtype: float64"
      ]
     },
     "execution_count": 141,
     "metadata": {},
     "output_type": "execute_result"
    }
   ],
   "source": [
    "df_feat['Y'].value_counts(normalize=True)"
   ]
  },
  {
   "cell_type": "markdown",
   "id": "ab285757",
   "metadata": {},
   "source": [
    "Имеется перевес положительного класса. Перевес - небольшой, выборку можно считать сбалансированной: такой дисбаланс любая модель \"переварит\" нормально без каких-либо дополнительных мероприятий."
   ]
  },
  {
   "cell_type": "markdown",
   "id": "2dc82dba",
   "metadata": {},
   "source": [
    "## Разделение на выборки"
   ]
  },
  {
   "cell_type": "markdown",
   "id": "a9d3e5c3",
   "metadata": {},
   "source": [
    "Разделим датасет на две выборки: обучающую и тестовую. Размеры выборок - 0.85 и 0.15 соответственно. Во время обучения будем применять 5-fold кросс-валидацию. Разделять будем стратифицированно по целевому признаку."
   ]
  },
  {
   "cell_type": "code",
   "execution_count": 142,
   "id": "4d43f3a3",
   "metadata": {},
   "outputs": [
    {
     "data": {
      "text/plain": [
       "130"
      ]
     },
     "metadata": {},
     "output_type": "display_data"
    },
    {
     "data": {
      "text/plain": [
       "24"
      ]
     },
     "metadata": {},
     "output_type": "display_data"
    }
   ],
   "source": [
    "seed = 42\n",
    "\n",
    "df_train, df_test = train_test_split(\n",
    "    df_feat, test_size=0.15, stratify=df_feat['Y'], random_state=seed\n",
    ")\n",
    "\n",
    "disp(df_train.shape[0])\n",
    "disp(df_test.shape[0])"
   ]
  },
  {
   "cell_type": "markdown",
   "id": "f06ca1bc",
   "metadata": {},
   "source": [
    "На примере кода, в котором выполняется разделение на обучающую и тестовую выборки, необходимо пояснить подход к memory-менеджменту. В данной задаче потребление памяти в абсолютном выражении невелико: датасет занимает в ней менее 1 Мб. Это позволяет подходить к memory-менеджменту упрощённо и тем самым упростить код.\n",
    "\n",
    "В данном примере мы создали в памяти копию датасета, присвоив его части новым переменным. Дополнительными затратами памяти можно пренебречь. Однако, в общем случае так делать недопустимо, и следует работать с индексами: разделять массив индексов на части, кэшировать их и затем с их помощью брать различные срезы от датасета, который хранится в памяти в единственном экземпляре. Если датасет не помещается в памяти целиком, то подход ещё немного усложняется. А когда мы работаем с легковесными датасетами, как в нашей задаче, то, наоборот, всё можно упростить."
   ]
  },
  {
   "cell_type": "markdown",
   "id": "014182ae",
   "metadata": {},
   "source": [
    "## Baseline"
   ]
  },
  {
   "cell_type": "markdown",
   "id": "9c927fc3",
   "metadata": {},
   "source": [
    "Для создания модели будет использоваться алгоритм LightGBM. Как и любой другой алгоритм, основанный на деревьях, он хорошо работает с категориальными переменными, а в нашем датасете они будут. При этом LightGBM, в отличие, например, от Случайного леса, значительно быстрее обучается и показывает более высокие результаты.\n",
    "\n",
    "Сделаем бейзлайн - обучим и протестируем модель."
   ]
  },
  {
   "cell_type": "markdown",
   "id": "86a2512a",
   "metadata": {},
   "source": [
    "### Гиперпараметры"
   ]
  },
  {
   "cell_type": "markdown",
   "id": "f35933a8",
   "metadata": {},
   "source": [
    "Набор гиперпараметров разделим на две части. Параметры из первой части будем перебирать. Параметры из второй части (с суффиксом common) - условно постоянные."
   ]
  },
  {
   "cell_type": "code",
   "execution_count": 143,
   "id": "5f07d92d",
   "metadata": {},
   "outputs": [],
   "source": [
    "params_lgbm_basic = {\n",
    "    \"max_depth\": 8,\n",
    "    \"num_leaves\": 2 ** 8,\n",
    "    \"max_bin\": 2 ** 6 - 1,\n",
    "    \"min_child_samples\": 16,\n",
    "    \n",
    "    \"num_iterations\": 100,\n",
    "    \"learning_rate\": 0.02,\n",
    "}"
   ]
  },
  {
   "cell_type": "code",
   "execution_count": 144,
   "id": "d73329a6",
   "metadata": {},
   "outputs": [],
   "source": [
    "params_lgbm_common = {\n",
    "    \"objective\": 'binary',\n",
    "    \"boost_from_average\": False,\n",
    "    \"seed\": 42,\n",
    "    \"verbosity\": -1,\n",
    "    \"num_threads\": 4,\n",
    "    \"feature_fraction\": 0.75,\n",
    "    \"drop_rate\": 0.5,\n",
    "    \"skip_drop\": 0.2,\n",
    "}"
   ]
  },
  {
   "cell_type": "code",
   "execution_count": 145,
   "id": "ad7460b3",
   "metadata": {},
   "outputs": [],
   "source": [
    "params_lgbm_basic.update(params_lgbm_common)"
   ]
  },
  {
   "cell_type": "markdown",
   "id": "a01bcb58",
   "metadata": {},
   "source": [
    "### Признаки"
   ]
  },
  {
   "cell_type": "markdown",
   "id": "1a896848",
   "metadata": {},
   "source": [
    "Создадим списки признаков (имён столбцов), которые будем непосредственно подавать в модель.\n",
    "\n",
    "В бейзлайн подадим все имеющиеся признаки."
   ]
  },
  {
   "cell_type": "code",
   "execution_count": 146,
   "id": "b58cfbb2",
   "metadata": {},
   "outputs": [],
   "source": [
    "feature_names_all = df_train.columns[df_train.columns.isin(['Y']) != True]"
   ]
  },
  {
   "cell_type": "code",
   "execution_count": 147,
   "id": "e6d39c0a",
   "metadata": {},
   "outputs": [
    {
     "data": {
      "text/plain": [
       "Index(['long_count', 'long_mean', 'long_std', 'long_max', 'long_min',\n",
       "       'long_incr', 'long_decr', 'short_count', 'short_mean', 'short_std',\n",
       "       'short_max', 'short_min', 'balance_count', 'balance_mean',\n",
       "       'balance_std', 'balance_max', 'balance_min', 'balance_incr',\n",
       "       'balance_decr', 'long_diff_count', 'long_diff_mean', 'long_diff_std',\n",
       "       'long_diff_max', 'long_diff_min', 'short_diff_count', 'short_diff_mean',\n",
       "       'short_diff_std', 'short_diff_max', 'short_diff_min',\n",
       "       'balance_diff_count', 'balance_diff_mean', 'balance_diff_std',\n",
       "       'balance_diff_max', 'balance_diff_min', 'court_count',\n",
       "       'resultType_0_frac', 'resultType_1_frac', 'resultType_2_frac',\n",
       "       'duration_median', 'caseType_1_frac', 'caseType_5_frac',\n",
       "       'caseType_6_frac', 'caseType_other_frac', 'sum_median', 'sum_std',\n",
       "       'sum_max', 'sum_min', 'instances_unique_amount', 'case_side_0_frac',\n",
       "       'case_side_1_frac', 'case_side_2_frac', 'case_side_3_frac',\n",
       "       'case_side_5_frac', 'case_side_6_frac'],\n",
       "      dtype='object')"
      ]
     },
     "execution_count": 147,
     "metadata": {},
     "output_type": "execute_result"
    }
   ],
   "source": [
    "feature_names_base_allfeatures = feature_names_all.copy()\n",
    "feature_names_base_allfeatures"
   ]
  },
  {
   "cell_type": "code",
   "execution_count": 148,
   "id": "8409225a",
   "metadata": {},
   "outputs": [],
   "source": [
    "target_name = 'Y'"
   ]
  },
  {
   "cell_type": "markdown",
   "id": "defbe440",
   "metadata": {},
   "source": [
    "### Обучение"
   ]
  },
  {
   "cell_type": "markdown",
   "id": "ca2df10b",
   "metadata": {},
   "source": [
    "Обучение будет выполняться следующим образом:\n",
    "* 5-fold кросс-валидация;\n",
    "* 3 повтора, т.е разделение на фолды будет выполнено тремя разными (случайными) способами;\n",
    "* 3 сида модели, т.е. каждая из 15 вышеописанных итераций будет выполнена трёхкратно при разном (случайном) начальном состоянии модели (инициализации).\n",
    "\n",
    "Это - общий подход. Не всегда есть возможность сделать столько повторов, но при столь малом размере обучающей выборки, как у нас, такое количество повторов - необходимость. Иначе модель может оказаться сильно зависимой от способа разделения выборки и от инициализации, что приведёт к нестабильным результатам, а при проведении оптимизации гиперпараметров - ещё и к переобучению (подгонка под конкретный сид). Вместе с тем, малый размер выборки позволяет всё сделать как надо, поскольку обучение происходит очень быстро в абсолютном выражении (~ 1...2 с), и можно сделать столько повторов, сколько потребуется. В нашем случае указанного количества повторов оказалось достаточно, дальнейшее увеличение улучшает результат только на валидации, а на тесте (когда работает совокупность моделей) - нет.\n",
    "\n",
    "Все модели сохраняются в массив и затем используются при тестировании. Итоговый результат получается простым усреднением по всем моделям.\n",
    "\n",
    "Значение метрики при валидации (ROC-AUC) - среднее значение метрик по каждой отдельной модели."
   ]
  },
  {
   "cell_type": "code",
   "execution_count": 149,
   "id": "6533c702",
   "metadata": {},
   "outputs": [
    {
     "name": "stdout",
     "output_type": "stream",
     "text": [
      "Computing... done\n",
      "roc_auc: 0.93981\n"
     ]
    }
   ],
   "source": [
    "models_base_allfeatures, score = ml_trainer_cv(\n",
    "    df_train,\n",
    "    feature_names_base_allfeatures,\n",
    "    target_name,\n",
    "    lgbm_algorithm,\n",
    "    params_lgbm_basic,\n",
    ")\n",
    "print('roc_auc: {:.5f}'.format(score))"
   ]
  },
  {
   "cell_type": "markdown",
   "id": "472ac9ec",
   "metadata": {},
   "source": [
    "Сохраним модели на диск (заглушено)."
   ]
  },
  {
   "cell_type": "code",
   "execution_count": 150,
   "id": "d0889283",
   "metadata": {},
   "outputs": [],
   "source": [
    "# save_models_list(models_base_allfeatures, 'models_base_allfeatures', path_root)"
   ]
  },
  {
   "cell_type": "markdown",
   "id": "b2afb762",
   "metadata": {},
   "source": [
    "### Тестирование"
   ]
  },
  {
   "cell_type": "code",
   "execution_count": 151,
   "id": "efc773de",
   "metadata": {},
   "outputs": [
    {
     "name": "stdout",
     "output_type": "stream",
     "text": [
      "Computing... done\n"
     ]
    }
   ],
   "source": [
    "pred_proba = ml_test(\n",
    "    df_test,\n",
    "    df_test.index,\n",
    "    feature_names_base_allfeatures,\n",
    "    models_base_allfeatures,\n",
    ")"
   ]
  },
  {
   "cell_type": "code",
   "execution_count": 152,
   "id": "cb46bcd5",
   "metadata": {},
   "outputs": [
    {
     "name": "stdout",
     "output_type": "stream",
     "text": [
      "roc auc:  0.97778\n",
      "accuracy: 0.87500\n",
      "ac.const: 0.62500\n",
      "\n",
      "confusion matrix:\n",
      "[[0.25  0.125]\n",
      " [0.    0.625]]\n"
     ]
    }
   ],
   "source": [
    "print_metrics(df_test['Y'].values, pred_proba)"
   ]
  },
  {
   "cell_type": "markdown",
   "id": "3a7e19e3",
   "metadata": {},
   "source": [
    "Ложноотрицательных - нет, ложноположительных - немного. Неплохой результат.\n",
    "\n",
    "Посмотрим, насколько хорошо модель разделяет классы."
   ]
  },
  {
   "cell_type": "code",
   "execution_count": 153,
   "id": "4c6a5143",
   "metadata": {},
   "outputs": [
    {
     "data": {
      "image/png": "[encoded data removed]",
      "text/plain": [
       "<Figure size 432x288 with 1 Axes>"
      ]
     },
     "metadata": {},
     "output_type": "display_data"
    }
   ],
   "source": [
    "sns.histplot(pred_proba, bins=20)\n",
    "plt.show()"
   ]
  },
  {
   "cell_type": "markdown",
   "id": "4edc53b0",
   "metadata": {},
   "source": [
    "Большая часть ответов модели - с высокой уверенностью (по краям диаграммы).\n",
    "\n",
    "Посмотрим, какова минимальная уверенность в этом случае."
   ]
  },
  {
   "cell_type": "code",
   "execution_count": 154,
   "id": "af0827d8",
   "metadata": {},
   "outputs": [
    {
     "data": {
      "text/plain": [
       "0.11383336354681362"
      ]
     },
     "execution_count": 154,
     "metadata": {},
     "output_type": "execute_result"
    }
   ],
   "source": [
    "np.min(np.abs(pred_proba - 0.5))"
   ]
  },
  {
   "cell_type": "markdown",
   "id": "1874d43e",
   "metadata": {},
   "source": [
    "### Feature importances"
   ]
  },
  {
   "cell_type": "markdown",
   "id": "b8401464",
   "metadata": {},
   "source": [
    "Рассмотрим важность признаков, - на какие признаки модель при разделении классов опирается больше всего, а на какие - меньше."
   ]
  },
  {
   "cell_type": "code",
   "execution_count": 155,
   "id": "3376f3a8",
   "metadata": {},
   "outputs": [
    {
     "data": {
      "text/html": [
       "<div>\n",
       "<style scoped>\n",
       "    .dataframe tbody tr th:only-of-type {\n",
       "        vertical-align: middle;\n",
       "    }\n",
       "\n",
       "    .dataframe tbody tr th {\n",
       "        vertical-align: top;\n",
       "    }\n",
       "\n",
       "    .dataframe thead th {\n",
       "        text-align: right;\n",
       "    }\n",
       "</style>\n",
       "<table border=\"1\" class=\"dataframe\">\n",
       "  <thead>\n",
       "    <tr style=\"text-align: right;\">\n",
       "      <th></th>\n",
       "      <th>feature_names</th>\n",
       "      <th>split</th>\n",
       "      <th>gain</th>\n",
       "    </tr>\n",
       "  </thead>\n",
       "  <tbody>\n",
       "    <tr>\n",
       "      <th>39</th>\n",
       "      <td>caseType_1_frac</td>\n",
       "      <td>90</td>\n",
       "      <td>1466</td>\n",
       "    </tr>\n",
       "    <tr>\n",
       "      <th>49</th>\n",
       "      <td>case_side_1_frac</td>\n",
       "      <td>56</td>\n",
       "      <td>213</td>\n",
       "    </tr>\n",
       "    <tr>\n",
       "      <th>9</th>\n",
       "      <td>short_std</td>\n",
       "      <td>23</td>\n",
       "      <td>154</td>\n",
       "    </tr>\n",
       "    <tr>\n",
       "      <th>36</th>\n",
       "      <td>resultType_1_frac</td>\n",
       "      <td>22</td>\n",
       "      <td>80</td>\n",
       "    </tr>\n",
       "    <tr>\n",
       "      <th>34</th>\n",
       "      <td>court_count</td>\n",
       "      <td>19</td>\n",
       "      <td>104</td>\n",
       "    </tr>\n",
       "    <tr>\n",
       "      <th>44</th>\n",
       "      <td>sum_std</td>\n",
       "      <td>17</td>\n",
       "      <td>51</td>\n",
       "    </tr>\n",
       "    <tr>\n",
       "      <th>33</th>\n",
       "      <td>balance_diff_min</td>\n",
       "      <td>17</td>\n",
       "      <td>47</td>\n",
       "    </tr>\n",
       "    <tr>\n",
       "      <th>43</th>\n",
       "      <td>sum_median</td>\n",
       "      <td>16</td>\n",
       "      <td>18</td>\n",
       "    </tr>\n",
       "    <tr>\n",
       "      <th>45</th>\n",
       "      <td>sum_max</td>\n",
       "      <td>13</td>\n",
       "      <td>39</td>\n",
       "    </tr>\n",
       "    <tr>\n",
       "      <th>38</th>\n",
       "      <td>duration_median</td>\n",
       "      <td>12</td>\n",
       "      <td>6</td>\n",
       "    </tr>\n",
       "    <tr>\n",
       "      <th>30</th>\n",
       "      <td>balance_diff_mean</td>\n",
       "      <td>11</td>\n",
       "      <td>29</td>\n",
       "    </tr>\n",
       "    <tr>\n",
       "      <th>28</th>\n",
       "      <td>short_diff_min</td>\n",
       "      <td>11</td>\n",
       "      <td>27</td>\n",
       "    </tr>\n",
       "    <tr>\n",
       "      <th>16</th>\n",
       "      <td>balance_min</td>\n",
       "      <td>11</td>\n",
       "      <td>20</td>\n",
       "    </tr>\n",
       "    <tr>\n",
       "      <th>10</th>\n",
       "      <td>short_max</td>\n",
       "      <td>9</td>\n",
       "      <td>50</td>\n",
       "    </tr>\n",
       "    <tr>\n",
       "      <th>0</th>\n",
       "      <td>long_count</td>\n",
       "      <td>8</td>\n",
       "      <td>22</td>\n",
       "    </tr>\n",
       "    <tr>\n",
       "      <th>8</th>\n",
       "      <td>short_mean</td>\n",
       "      <td>8</td>\n",
       "      <td>19</td>\n",
       "    </tr>\n",
       "    <tr>\n",
       "      <th>35</th>\n",
       "      <td>resultType_0_frac</td>\n",
       "      <td>8</td>\n",
       "      <td>16</td>\n",
       "    </tr>\n",
       "    <tr>\n",
       "      <th>40</th>\n",
       "      <td>caseType_5_frac</td>\n",
       "      <td>8</td>\n",
       "      <td>11</td>\n",
       "    </tr>\n",
       "    <tr>\n",
       "      <th>25</th>\n",
       "      <td>short_diff_mean</td>\n",
       "      <td>7</td>\n",
       "      <td>3</td>\n",
       "    </tr>\n",
       "    <tr>\n",
       "      <th>31</th>\n",
       "      <td>balance_diff_std</td>\n",
       "      <td>6</td>\n",
       "      <td>3</td>\n",
       "    </tr>\n",
       "    <tr>\n",
       "      <th>23</th>\n",
       "      <td>long_diff_min</td>\n",
       "      <td>5</td>\n",
       "      <td>8</td>\n",
       "    </tr>\n",
       "    <tr>\n",
       "      <th>14</th>\n",
       "      <td>balance_std</td>\n",
       "      <td>4</td>\n",
       "      <td>13</td>\n",
       "    </tr>\n",
       "    <tr>\n",
       "      <th>26</th>\n",
       "      <td>short_diff_std</td>\n",
       "      <td>4</td>\n",
       "      <td>4</td>\n",
       "    </tr>\n",
       "    <tr>\n",
       "      <th>27</th>\n",
       "      <td>short_diff_max</td>\n",
       "      <td>4</td>\n",
       "      <td>3</td>\n",
       "    </tr>\n",
       "    <tr>\n",
       "      <th>7</th>\n",
       "      <td>short_count</td>\n",
       "      <td>3</td>\n",
       "      <td>7</td>\n",
       "    </tr>\n",
       "    <tr>\n",
       "      <th>19</th>\n",
       "      <td>long_diff_count</td>\n",
       "      <td>3</td>\n",
       "      <td>4</td>\n",
       "    </tr>\n",
       "    <tr>\n",
       "      <th>15</th>\n",
       "      <td>balance_max</td>\n",
       "      <td>3</td>\n",
       "      <td>3</td>\n",
       "    </tr>\n",
       "    <tr>\n",
       "      <th>41</th>\n",
       "      <td>caseType_6_frac</td>\n",
       "      <td>3</td>\n",
       "      <td>3</td>\n",
       "    </tr>\n",
       "    <tr>\n",
       "      <th>37</th>\n",
       "      <td>resultType_2_frac</td>\n",
       "      <td>3</td>\n",
       "      <td>2</td>\n",
       "    </tr>\n",
       "    <tr>\n",
       "      <th>47</th>\n",
       "      <td>instances_unique_amount</td>\n",
       "      <td>2</td>\n",
       "      <td>4</td>\n",
       "    </tr>\n",
       "    <tr>\n",
       "      <th>1</th>\n",
       "      <td>long_mean</td>\n",
       "      <td>2</td>\n",
       "      <td>3</td>\n",
       "    </tr>\n",
       "    <tr>\n",
       "      <th>13</th>\n",
       "      <td>balance_mean</td>\n",
       "      <td>2</td>\n",
       "      <td>2</td>\n",
       "    </tr>\n",
       "    <tr>\n",
       "      <th>32</th>\n",
       "      <td>balance_diff_max</td>\n",
       "      <td>2</td>\n",
       "      <td>2</td>\n",
       "    </tr>\n",
       "    <tr>\n",
       "      <th>11</th>\n",
       "      <td>short_min</td>\n",
       "      <td>2</td>\n",
       "      <td>1</td>\n",
       "    </tr>\n",
       "    <tr>\n",
       "      <th>42</th>\n",
       "      <td>caseType_other_frac</td>\n",
       "      <td>1</td>\n",
       "      <td>2</td>\n",
       "    </tr>\n",
       "    <tr>\n",
       "      <th>2</th>\n",
       "      <td>long_std</td>\n",
       "      <td>1</td>\n",
       "      <td>1</td>\n",
       "    </tr>\n",
       "    <tr>\n",
       "      <th>22</th>\n",
       "      <td>long_diff_max</td>\n",
       "      <td>1</td>\n",
       "      <td>1</td>\n",
       "    </tr>\n",
       "    <tr>\n",
       "      <th>24</th>\n",
       "      <td>short_diff_count</td>\n",
       "      <td>1</td>\n",
       "      <td>1</td>\n",
       "    </tr>\n",
       "    <tr>\n",
       "      <th>12</th>\n",
       "      <td>balance_count</td>\n",
       "      <td>0</td>\n",
       "      <td>1</td>\n",
       "    </tr>\n",
       "    <tr>\n",
       "      <th>3</th>\n",
       "      <td>long_max</td>\n",
       "      <td>0</td>\n",
       "      <td>0</td>\n",
       "    </tr>\n",
       "    <tr>\n",
       "      <th>4</th>\n",
       "      <td>long_min</td>\n",
       "      <td>0</td>\n",
       "      <td>0</td>\n",
       "    </tr>\n",
       "    <tr>\n",
       "      <th>5</th>\n",
       "      <td>long_incr</td>\n",
       "      <td>0</td>\n",
       "      <td>0</td>\n",
       "    </tr>\n",
       "    <tr>\n",
       "      <th>6</th>\n",
       "      <td>long_decr</td>\n",
       "      <td>0</td>\n",
       "      <td>0</td>\n",
       "    </tr>\n",
       "    <tr>\n",
       "      <th>17</th>\n",
       "      <td>balance_incr</td>\n",
       "      <td>0</td>\n",
       "      <td>0</td>\n",
       "    </tr>\n",
       "    <tr>\n",
       "      <th>18</th>\n",
       "      <td>balance_decr</td>\n",
       "      <td>0</td>\n",
       "      <td>0</td>\n",
       "    </tr>\n",
       "    <tr>\n",
       "      <th>20</th>\n",
       "      <td>long_diff_mean</td>\n",
       "      <td>0</td>\n",
       "      <td>0</td>\n",
       "    </tr>\n",
       "    <tr>\n",
       "      <th>21</th>\n",
       "      <td>long_diff_std</td>\n",
       "      <td>0</td>\n",
       "      <td>0</td>\n",
       "    </tr>\n",
       "    <tr>\n",
       "      <th>29</th>\n",
       "      <td>balance_diff_count</td>\n",
       "      <td>0</td>\n",
       "      <td>0</td>\n",
       "    </tr>\n",
       "    <tr>\n",
       "      <th>46</th>\n",
       "      <td>sum_min</td>\n",
       "      <td>0</td>\n",
       "      <td>0</td>\n",
       "    </tr>\n",
       "    <tr>\n",
       "      <th>48</th>\n",
       "      <td>case_side_0_frac</td>\n",
       "      <td>0</td>\n",
       "      <td>0</td>\n",
       "    </tr>\n",
       "    <tr>\n",
       "      <th>50</th>\n",
       "      <td>case_side_2_frac</td>\n",
       "      <td>0</td>\n",
       "      <td>0</td>\n",
       "    </tr>\n",
       "    <tr>\n",
       "      <th>51</th>\n",
       "      <td>case_side_3_frac</td>\n",
       "      <td>0</td>\n",
       "      <td>0</td>\n",
       "    </tr>\n",
       "    <tr>\n",
       "      <th>52</th>\n",
       "      <td>case_side_5_frac</td>\n",
       "      <td>0</td>\n",
       "      <td>0</td>\n",
       "    </tr>\n",
       "    <tr>\n",
       "      <th>53</th>\n",
       "      <td>case_side_6_frac</td>\n",
       "      <td>0</td>\n",
       "      <td>0</td>\n",
       "    </tr>\n",
       "  </tbody>\n",
       "</table>\n",
       "</div>"
      ],
      "text/plain": [
       "              feature_names  split  gain\n",
       "39          caseType_1_frac     90  1466\n",
       "49         case_side_1_frac     56   213\n",
       "9                 short_std     23   154\n",
       "36        resultType_1_frac     22    80\n",
       "34              court_count     19   104\n",
       "44                  sum_std     17    51\n",
       "33         balance_diff_min     17    47\n",
       "43               sum_median     16    18\n",
       "45                  sum_max     13    39\n",
       "38          duration_median     12     6\n",
       "30        balance_diff_mean     11    29\n",
       "28           short_diff_min     11    27\n",
       "16              balance_min     11    20\n",
       "10                short_max      9    50\n",
       "0                long_count      8    22\n",
       "8                short_mean      8    19\n",
       "35        resultType_0_frac      8    16\n",
       "40          caseType_5_frac      8    11\n",
       "25          short_diff_mean      7     3\n",
       "31         balance_diff_std      6     3\n",
       "23            long_diff_min      5     8\n",
       "14              balance_std      4    13\n",
       "26           short_diff_std      4     4\n",
       "27           short_diff_max      4     3\n",
       "7               short_count      3     7\n",
       "19          long_diff_count      3     4\n",
       "15              balance_max      3     3\n",
       "41          caseType_6_frac      3     3\n",
       "37        resultType_2_frac      3     2\n",
       "47  instances_unique_amount      2     4\n",
       "1                 long_mean      2     3\n",
       "13             balance_mean      2     2\n",
       "32         balance_diff_max      2     2\n",
       "11                short_min      2     1\n",
       "42      caseType_other_frac      1     2\n",
       "2                  long_std      1     1\n",
       "22            long_diff_max      1     1\n",
       "24         short_diff_count      1     1\n",
       "12            balance_count      0     1\n",
       "3                  long_max      0     0\n",
       "4                  long_min      0     0\n",
       "5                 long_incr      0     0\n",
       "6                 long_decr      0     0\n",
       "17             balance_incr      0     0\n",
       "18             balance_decr      0     0\n",
       "20           long_diff_mean      0     0\n",
       "21            long_diff_std      0     0\n",
       "29       balance_diff_count      0     0\n",
       "46                  sum_min      0     0\n",
       "48         case_side_0_frac      0     0\n",
       "50         case_side_2_frac      0     0\n",
       "51         case_side_3_frac      0     0\n",
       "52         case_side_5_frac      0     0\n",
       "53         case_side_6_frac      0     0"
      ]
     },
     "execution_count": 155,
     "metadata": {},
     "output_type": "execute_result"
    }
   ],
   "source": [
    "feat_imp_allfeat = lgbm_feature_importances(models_base_allfeatures)\n",
    "feat_imp_allfeat"
   ]
  },
  {
   "cell_type": "markdown",
   "id": "0a3460ee",
   "metadata": {},
   "source": [
    "Наибольший прирост информации, на порядок больший по сравнению с другими, даёт признак caseType_1_frac. Этот признак показывает долю судебных дел категории \"о несостоятельности (банкротстве) организаций и граждан\". Это не утечка в прямом смысле, однако, ненулевое значение этого признака однозначно свидетельствует о том, что речь о банкротстве компании уже идёт (причём в суде), и, даже если компанию пока не признали банкротом, это тревожный звонок: финансово здоровая компания не судится по поводу банкротства. Это подтверждается данными: банкроты по признаку caseType_1_frac выявляются вполне точно.\n",
    "\n",
    "А что будет, если мы не будем знать о таких делах? Представим, что положение компании - точно такое же, но суд о банкротстве ещё не состоялся."
   ]
  },
  {
   "cell_type": "markdown",
   "id": "962c6002",
   "metadata": {},
   "source": [
    "## Baseline без caseType_1_frac"
   ]
  },
  {
   "cell_type": "markdown",
   "id": "b42d38d6",
   "metadata": {},
   "source": [
    "### Гиперпараметры"
   ]
  },
  {
   "cell_type": "markdown",
   "id": "cfbbb04b",
   "metadata": {},
   "source": [
    "Запустим обучение с теми же гиперпараметрами, что и первый бейзлайн."
   ]
  },
  {
   "cell_type": "markdown",
   "id": "c68c42f3",
   "metadata": {},
   "source": [
    "### Признаки"
   ]
  },
  {
   "cell_type": "markdown",
   "id": "438ea469",
   "metadata": {},
   "source": [
    "Уберём признак caseType_1_frac и отберём некоторое количество наиболее важных признаков."
   ]
  },
  {
   "cell_type": "code",
   "execution_count": 156,
   "id": "aca28de6",
   "metadata": {},
   "outputs": [
    {
     "data": {
      "text/plain": [
       "Index(['case_side_1_frac', 'short_std', 'resultType_1_frac', 'court_count',\n",
       "       'sum_std', 'balance_diff_min', 'sum_median', 'sum_max',\n",
       "       'duration_median', 'balance_diff_mean', 'short_diff_min', 'balance_min',\n",
       "       'short_max', 'long_count', 'short_mean', 'resultType_0_frac',\n",
       "       'caseType_5_frac', 'short_diff_mean', 'balance_diff_std',\n",
       "       'long_diff_min', 'balance_std', 'short_diff_std', 'short_diff_max',\n",
       "       'short_count', 'long_diff_count', 'balance_max', 'caseType_6_frac',\n",
       "       'resultType_2_frac', 'instances_unique_amount'],\n",
       "      dtype='object', name='feature_names')"
      ]
     },
     "execution_count": 156,
     "metadata": {},
     "output_type": "execute_result"
    }
   ],
   "source": [
    "amount = 30\n",
    "\n",
    "feature_names_base_wocasetype1frac = pd.Index(\n",
    "    feat_imp_allfeat.loc[feat_imp_allfeat.index[:amount], 'feature_names']\n",
    ")\n",
    "feature_names_base_wocasetype1frac = feature_names_base_wocasetype1frac[\n",
    "    feature_names_base_wocasetype1frac.isin(['caseType_1_frac']) != True\n",
    "]\n",
    "feature_names_base_wocasetype1frac"
   ]
  },
  {
   "cell_type": "markdown",
   "id": "cf692cdb",
   "metadata": {},
   "source": [
    "### Обучение"
   ]
  },
  {
   "cell_type": "code",
   "execution_count": 157,
   "id": "3c676b03",
   "metadata": {},
   "outputs": [
    {
     "name": "stdout",
     "output_type": "stream",
     "text": [
      "Computing... done\n",
      "roc_auc: 0.82056\n"
     ]
    }
   ],
   "source": [
    "models_base_wocasetype1frac, score = ml_trainer_cv(\n",
    "    df_train,\n",
    "    feature_names_base_wocasetype1frac,\n",
    "    target_name,\n",
    "    lgbm_algorithm,\n",
    "    params_lgbm_basic,\n",
    ")\n",
    "print('roc_auc: {:.5f}'.format(score))"
   ]
  },
  {
   "cell_type": "markdown",
   "id": "4abe9e04",
   "metadata": {},
   "source": [
    "Сохраним модели на диск (заглушено)."
   ]
  },
  {
   "cell_type": "code",
   "execution_count": 158,
   "id": "41a71c09",
   "metadata": {},
   "outputs": [],
   "source": [
    "# save_models_list(models_base_wocasetype1frac, 'models_base_wocasetype1frac', path_root)"
   ]
  },
  {
   "cell_type": "markdown",
   "id": "3cd855ef",
   "metadata": {},
   "source": [
    "### Тестирование"
   ]
  },
  {
   "cell_type": "code",
   "execution_count": 159,
   "id": "f57ee148",
   "metadata": {},
   "outputs": [
    {
     "name": "stdout",
     "output_type": "stream",
     "text": [
      "roc auc:  0.97037\n",
      "accuracy: 0.87500\n",
      "ac.const: 0.62500\n",
      "\n",
      "confusion matrix:\n",
      "[[0.25  0.125]\n",
      " [0.    0.625]]\n"
     ]
    }
   ],
   "source": [
    "pred_proba = ml_test(\n",
    "    df_test,\n",
    "    df_test.index,\n",
    "    feature_names_base_wocasetype1frac,\n",
    "    models_base_wocasetype1frac,\n",
    "    silent=True,\n",
    ")\n",
    "\n",
    "print_metrics(df_test['Y'].values, pred_proba)"
   ]
  },
  {
   "cell_type": "markdown",
   "id": "74f97e44",
   "metadata": {},
   "source": [
    "Точность модели не изменилась. Ложноотрицательных ответов по-прежнему нет.\n",
    "\n",
    "Разница между средним значением ROC-AUC (на валидации) и значением ROC-AUC, рассчитанным по усреднённым результатам моделей (на тестировании), - больше, чем в бейзлайне. Результат на тесте приближается к бейзлайну, несмотря на отсутствие признака caseType_1_frac. Информации, содержащейся в остальных признаках, оказалось достаточно, чтобы сделать правильные выводы, даже не зная о существовании дела о банкротстве.\n",
    "\n",
    "Посмотрим, насколько хорошо модель разделяет классы."
   ]
  },
  {
   "cell_type": "code",
   "execution_count": 160,
   "id": "e406270b",
   "metadata": {},
   "outputs": [
    {
     "data": {
      "image/png": "[encoded data removed]",
      "text/plain": [
       "<Figure size 432x288 with 1 Axes>"
      ]
     },
     "metadata": {},
     "output_type": "display_data"
    }
   ],
   "source": [
    "sns.histplot(pred_proba, bins=20)\n",
    "plt.show()"
   ]
  },
  {
   "cell_type": "markdown",
   "id": "d6643e0e",
   "metadata": {},
   "source": [
    "Уверенность снизилась. Вероятности расположены ближе к порогу 0.5 по сравнению с первым бейзлайном, но не вплотную (минимальный модуль разности между порогом и ближайшей к нему вероятностью - более 0.05)."
   ]
  },
  {
   "cell_type": "code",
   "execution_count": 161,
   "id": "d76491c5",
   "metadata": {},
   "outputs": [
    {
     "data": {
      "text/plain": [
       "0.08894236832828739"
      ]
     },
     "execution_count": 161,
     "metadata": {},
     "output_type": "execute_result"
    }
   ],
   "source": [
    "np.min(np.abs(pred_proba - 0.5))"
   ]
  },
  {
   "cell_type": "markdown",
   "id": "e3b4afe5",
   "metadata": {},
   "source": [
    "### Feature importances"
   ]
  },
  {
   "cell_type": "code",
   "execution_count": 162,
   "id": "30c633e6",
   "metadata": {},
   "outputs": [
    {
     "data": {
      "text/html": [
       "<div>\n",
       "<style scoped>\n",
       "    .dataframe tbody tr th:only-of-type {\n",
       "        vertical-align: middle;\n",
       "    }\n",
       "\n",
       "    .dataframe tbody tr th {\n",
       "        vertical-align: top;\n",
       "    }\n",
       "\n",
       "    .dataframe thead th {\n",
       "        text-align: right;\n",
       "    }\n",
       "</style>\n",
       "<table border=\"1\" class=\"dataframe\">\n",
       "  <thead>\n",
       "    <tr style=\"text-align: right;\">\n",
       "      <th></th>\n",
       "      <th>feature_names</th>\n",
       "      <th>split</th>\n",
       "      <th>gain</th>\n",
       "    </tr>\n",
       "  </thead>\n",
       "  <tbody>\n",
       "    <tr>\n",
       "      <th>3</th>\n",
       "      <td>court_count</td>\n",
       "      <td>50</td>\n",
       "      <td>441</td>\n",
       "    </tr>\n",
       "    <tr>\n",
       "      <th>0</th>\n",
       "      <td>case_side_1_frac</td>\n",
       "      <td>42</td>\n",
       "      <td>233</td>\n",
       "    </tr>\n",
       "    <tr>\n",
       "      <th>4</th>\n",
       "      <td>sum_std</td>\n",
       "      <td>32</td>\n",
       "      <td>181</td>\n",
       "    </tr>\n",
       "    <tr>\n",
       "      <th>10</th>\n",
       "      <td>short_diff_min</td>\n",
       "      <td>28</td>\n",
       "      <td>94</td>\n",
       "    </tr>\n",
       "    <tr>\n",
       "      <th>1</th>\n",
       "      <td>short_std</td>\n",
       "      <td>26</td>\n",
       "      <td>252</td>\n",
       "    </tr>\n",
       "    <tr>\n",
       "      <th>9</th>\n",
       "      <td>balance_diff_mean</td>\n",
       "      <td>22</td>\n",
       "      <td>72</td>\n",
       "    </tr>\n",
       "    <tr>\n",
       "      <th>16</th>\n",
       "      <td>caseType_5_frac</td>\n",
       "      <td>21</td>\n",
       "      <td>66</td>\n",
       "    </tr>\n",
       "    <tr>\n",
       "      <th>7</th>\n",
       "      <td>sum_max</td>\n",
       "      <td>19</td>\n",
       "      <td>175</td>\n",
       "    </tr>\n",
       "    <tr>\n",
       "      <th>5</th>\n",
       "      <td>balance_diff_min</td>\n",
       "      <td>15</td>\n",
       "      <td>55</td>\n",
       "    </tr>\n",
       "    <tr>\n",
       "      <th>13</th>\n",
       "      <td>long_count</td>\n",
       "      <td>15</td>\n",
       "      <td>42</td>\n",
       "    </tr>\n",
       "    <tr>\n",
       "      <th>2</th>\n",
       "      <td>resultType_1_frac</td>\n",
       "      <td>14</td>\n",
       "      <td>53</td>\n",
       "    </tr>\n",
       "    <tr>\n",
       "      <th>20</th>\n",
       "      <td>balance_std</td>\n",
       "      <td>12</td>\n",
       "      <td>51</td>\n",
       "    </tr>\n",
       "    <tr>\n",
       "      <th>11</th>\n",
       "      <td>balance_min</td>\n",
       "      <td>12</td>\n",
       "      <td>33</td>\n",
       "    </tr>\n",
       "    <tr>\n",
       "      <th>25</th>\n",
       "      <td>balance_max</td>\n",
       "      <td>10</td>\n",
       "      <td>27</td>\n",
       "    </tr>\n",
       "    <tr>\n",
       "      <th>14</th>\n",
       "      <td>short_mean</td>\n",
       "      <td>8</td>\n",
       "      <td>48</td>\n",
       "    </tr>\n",
       "    <tr>\n",
       "      <th>28</th>\n",
       "      <td>instances_unique_amount</td>\n",
       "      <td>8</td>\n",
       "      <td>25</td>\n",
       "    </tr>\n",
       "    <tr>\n",
       "      <th>6</th>\n",
       "      <td>sum_median</td>\n",
       "      <td>8</td>\n",
       "      <td>24</td>\n",
       "    </tr>\n",
       "    <tr>\n",
       "      <th>27</th>\n",
       "      <td>resultType_2_frac</td>\n",
       "      <td>8</td>\n",
       "      <td>16</td>\n",
       "    </tr>\n",
       "    <tr>\n",
       "      <th>26</th>\n",
       "      <td>caseType_6_frac</td>\n",
       "      <td>7</td>\n",
       "      <td>16</td>\n",
       "    </tr>\n",
       "    <tr>\n",
       "      <th>17</th>\n",
       "      <td>short_diff_mean</td>\n",
       "      <td>7</td>\n",
       "      <td>14</td>\n",
       "    </tr>\n",
       "    <tr>\n",
       "      <th>24</th>\n",
       "      <td>long_diff_count</td>\n",
       "      <td>5</td>\n",
       "      <td>15</td>\n",
       "    </tr>\n",
       "    <tr>\n",
       "      <th>22</th>\n",
       "      <td>short_diff_max</td>\n",
       "      <td>5</td>\n",
       "      <td>12</td>\n",
       "    </tr>\n",
       "    <tr>\n",
       "      <th>18</th>\n",
       "      <td>balance_diff_std</td>\n",
       "      <td>5</td>\n",
       "      <td>8</td>\n",
       "    </tr>\n",
       "    <tr>\n",
       "      <th>12</th>\n",
       "      <td>short_max</td>\n",
       "      <td>4</td>\n",
       "      <td>30</td>\n",
       "    </tr>\n",
       "    <tr>\n",
       "      <th>23</th>\n",
       "      <td>short_count</td>\n",
       "      <td>4</td>\n",
       "      <td>11</td>\n",
       "    </tr>\n",
       "    <tr>\n",
       "      <th>15</th>\n",
       "      <td>resultType_0_frac</td>\n",
       "      <td>4</td>\n",
       "      <td>9</td>\n",
       "    </tr>\n",
       "    <tr>\n",
       "      <th>8</th>\n",
       "      <td>duration_median</td>\n",
       "      <td>4</td>\n",
       "      <td>5</td>\n",
       "    </tr>\n",
       "    <tr>\n",
       "      <th>21</th>\n",
       "      <td>short_diff_std</td>\n",
       "      <td>3</td>\n",
       "      <td>5</td>\n",
       "    </tr>\n",
       "    <tr>\n",
       "      <th>19</th>\n",
       "      <td>long_diff_min</td>\n",
       "      <td>3</td>\n",
       "      <td>4</td>\n",
       "    </tr>\n",
       "  </tbody>\n",
       "</table>\n",
       "</div>"
      ],
      "text/plain": [
       "              feature_names  split  gain\n",
       "3               court_count     50   441\n",
       "0          case_side_1_frac     42   233\n",
       "4                   sum_std     32   181\n",
       "10           short_diff_min     28    94\n",
       "1                 short_std     26   252\n",
       "9         balance_diff_mean     22    72\n",
       "16          caseType_5_frac     21    66\n",
       "7                   sum_max     19   175\n",
       "5          balance_diff_min     15    55\n",
       "13               long_count     15    42\n",
       "2         resultType_1_frac     14    53\n",
       "20              balance_std     12    51\n",
       "11              balance_min     12    33\n",
       "25              balance_max     10    27\n",
       "14               short_mean      8    48\n",
       "28  instances_unique_amount      8    25\n",
       "6                sum_median      8    24\n",
       "27        resultType_2_frac      8    16\n",
       "26          caseType_6_frac      7    16\n",
       "17          short_diff_mean      7    14\n",
       "24          long_diff_count      5    15\n",
       "22           short_diff_max      5    12\n",
       "18         balance_diff_std      5     8\n",
       "12                short_max      4    30\n",
       "23              short_count      4    11\n",
       "15        resultType_0_frac      4     9\n",
       "8           duration_median      4     5\n",
       "21           short_diff_std      3     5\n",
       "19            long_diff_min      3     4"
      ]
     },
     "execution_count": 162,
     "metadata": {},
     "output_type": "execute_result"
    }
   ],
   "source": [
    "feat_imp_wotype1frac = lgbm_feature_importances(models_base_wocasetype1frac)\n",
    "feat_imp_wotype1frac"
   ]
  },
  {
   "cell_type": "markdown",
   "id": "affd48d0",
   "metadata": {},
   "source": [
    "На первых местах - количество тяжб и доля дел, где компания является ответчиком. В целом, выглядит логично: с компании всё время хотят что-то взыскать, всё ли у неё хорошо?"
   ]
  },
  {
   "cell_type": "markdown",
   "id": "5573233f",
   "metadata": {},
   "source": [
    "## Оптимизация"
   ]
  },
  {
   "cell_type": "markdown",
   "id": "1277750a",
   "metadata": {},
   "source": [
    "### Гиперпараметры"
   ]
  },
  {
   "cell_type": "markdown",
   "id": "ffc76a66",
   "metadata": {},
   "source": [
    "Сформируем сетку гиперпараметров, из которой затем случайным образом выберем некоторое количество наборов."
   ]
  },
  {
   "cell_type": "code",
   "execution_count": 163,
   "id": "01be3850",
   "metadata": {},
   "outputs": [],
   "source": [
    "params_grid = {\n",
    "    \"max_depth\": np.arange(4, 11, dtype='int'),\n",
    "    \"num_leaves\": np.geomspace(2**4, 2**10, 7, dtype='int'),\n",
    "    \"max_bin\": np.geomspace(2**4, 2**8, 5, dtype='int') - 1,\n",
    "    \"num_iterations\": np.arange(50, 251, 50, dtype='int'),\n",
    "    \"learning_rate\": np.arange(5e-3, 2.5e-2, 5e-3),\n",
    "    \"feature_pre_filter\": [True, False],\n",
    "    \"min_data_in_leaf\": np.arange(4, 9, dtype='int'),\n",
    "    \"min_sum_hessian_in_leaf\": np.geomspace(1e-3, 1.0, 4),\n",
    "    \"min_data_in_bin\": np.arange(4, 9, dtype='int'),\n",
    "    \"lambda_l1\": np.arange(0, 3e-1, 5e-2),\n",
    "    \"lambda_l2\": np.arange(0, 3e-1, 5e-2),\n",
    "}"
   ]
  },
  {
   "cell_type": "code",
   "execution_count": 164,
   "id": "1d93a1fc",
   "metadata": {},
   "outputs": [
    {
     "data": {
      "text/plain": [
       "35280000"
      ]
     },
     "execution_count": 164,
     "metadata": {},
     "output_type": "execute_result"
    }
   ],
   "source": [
    "grid = ParameterGrid(params_grid)\n",
    "len(grid)"
   ]
  },
  {
   "cell_type": "markdown",
   "id": "831c07f1",
   "metadata": {},
   "source": [
    "Число возможных вариантов весьма внушительно, но нам будет достаточно пройти несколько сотен из них."
   ]
  },
  {
   "cell_type": "markdown",
   "id": "94346de2",
   "metadata": {},
   "source": [
    "### Признаки"
   ]
  },
  {
   "cell_type": "markdown",
   "id": "4d87fb35",
   "metadata": {},
   "source": [
    "Попробуем сначала прогнать на полном наборе признаков."
   ]
  },
  {
   "cell_type": "code",
   "execution_count": 165,
   "id": "702f7cd6",
   "metadata": {},
   "outputs": [
    {
     "data": {
      "text/plain": [
       "Index(['long_count', 'long_mean', 'long_std', 'long_max', 'long_min',\n",
       "       'long_incr', 'long_decr', 'short_count', 'short_mean', 'short_std',\n",
       "       'short_max', 'short_min', 'balance_count', 'balance_mean',\n",
       "       'balance_std', 'balance_max', 'balance_min', 'balance_incr',\n",
       "       'balance_decr', 'long_diff_count', 'long_diff_mean', 'long_diff_std',\n",
       "       'long_diff_max', 'long_diff_min', 'short_diff_count', 'short_diff_mean',\n",
       "       'short_diff_std', 'short_diff_max', 'short_diff_min',\n",
       "       'balance_diff_count', 'balance_diff_mean', 'balance_diff_std',\n",
       "       'balance_diff_max', 'balance_diff_min', 'court_count',\n",
       "       'resultType_0_frac', 'resultType_1_frac', 'resultType_2_frac',\n",
       "       'duration_median', 'caseType_1_frac', 'caseType_5_frac',\n",
       "       'caseType_6_frac', 'caseType_other_frac', 'sum_median', 'sum_std',\n",
       "       'sum_max', 'sum_min', 'instances_unique_amount', 'case_side_0_frac',\n",
       "       'case_side_1_frac', 'case_side_2_frac', 'case_side_3_frac',\n",
       "       'case_side_5_frac', 'case_side_6_frac'],\n",
       "      dtype='object')"
      ]
     },
     "execution_count": 165,
     "metadata": {},
     "output_type": "execute_result"
    }
   ],
   "source": [
    "feature_names_ensemble_allfeatures = feature_names_all.copy()\n",
    "feature_names_ensemble_allfeatures"
   ]
  },
  {
   "cell_type": "markdown",
   "id": "92330a27",
   "metadata": {},
   "source": [
    "### Обучение по сетке"
   ]
  },
  {
   "cell_type": "markdown",
   "id": "23bddd8c",
   "metadata": {},
   "source": [
    "Выполним перебор 200 случайно выбранных наборов гиперпараметров.\n",
    "\n",
    "Объекты моделей кэшировать не будем во избежание переполнения памяти."
   ]
  },
  {
   "cell_type": "code",
   "execution_count": 166,
   "id": "eacb5d57",
   "metadata": {},
   "outputs": [],
   "source": [
    "iterations = 200\n",
    "grid_items = np.empty(iterations, dtype='object')\n",
    "scores_grid = np.zeros(iterations, dtype='float')"
   ]
  },
  {
   "cell_type": "code",
   "execution_count": 167,
   "id": "bede0c51",
   "metadata": {},
   "outputs": [
    {
     "name": "stderr",
     "output_type": "stream",
     "text": [
      "100%|██████████| 200/200 [05:43<00:00,  1.72s/it]\n"
     ]
    }
   ],
   "source": [
    "for i in tqdm(np.arange(iterations)):\n",
    "    grid_item = grid[np.random.randint(len(grid))]\n",
    "    grid_item.update(params_lgbm_common)\n",
    "    models, score = ml_trainer_cv(\n",
    "        df_train,\n",
    "        feature_names_ensemble_allfeatures,\n",
    "        target_name,\n",
    "        lgbm_algorithm,\n",
    "        grid_item,\n",
    "        silent=True,\n",
    "    )\n",
    "    grid_items[i] = grid_item\n",
    "    scores_grid[i] = score"
   ]
  },
  {
   "cell_type": "markdown",
   "id": "1270a56c",
   "metadata": {},
   "source": [
    "### Поиск лучшего решения"
   ]
  },
  {
   "cell_type": "markdown",
   "id": "45df2cff",
   "metadata": {},
   "source": [
    "Найдём индексы 10 лучших результатов и посмотрим значения ROC-AUC на валидации."
   ]
  },
  {
   "cell_type": "code",
   "execution_count": 168,
   "id": "20b5efce",
   "metadata": {},
   "outputs": [
    {
     "data": {
      "text/plain": [
       "array([109, 102,  16, 159, 194,  11,   0,  26, 129, 103])"
      ]
     },
     "metadata": {},
     "output_type": "display_data"
    },
    {
     "name": "stdout",
     "output_type": "stream",
     "text": [
      "roc_auc: 0.95902\n",
      "roc_auc: 0.95862\n",
      "roc_auc: 0.95860\n",
      "roc_auc: 0.95828\n",
      "roc_auc: 0.95788\n",
      "roc_auc: 0.95788\n",
      "roc_auc: 0.95782\n",
      "roc_auc: 0.95782\n",
      "roc_auc: 0.95735\n",
      "roc_auc: 0.95665\n"
     ]
    }
   ],
   "source": [
    "indices_best = np.flip(np.argsort(scores_grid)[-10:])\n",
    "disp(indices_best)\n",
    "for idx in indices_best:\n",
    "    print('roc_auc: {:.5f}'.format(scores_grid[idx]))"
   ]
  },
  {
   "cell_type": "markdown",
   "id": "fb6390c3",
   "metadata": {},
   "source": [
    "Рассмотрим гиперпараметры."
   ]
  },
  {
   "cell_type": "code",
   "execution_count": 169,
   "id": "3c9ea9c8",
   "metadata": {},
   "outputs": [
    {
     "data": {
      "text/html": [
       "<div>\n",
       "<style scoped>\n",
       "    .dataframe tbody tr th:only-of-type {\n",
       "        vertical-align: middle;\n",
       "    }\n",
       "\n",
       "    .dataframe tbody tr th {\n",
       "        vertical-align: top;\n",
       "    }\n",
       "\n",
       "    .dataframe thead th {\n",
       "        text-align: right;\n",
       "    }\n",
       "</style>\n",
       "<table border=\"1\" class=\"dataframe\">\n",
       "  <thead>\n",
       "    <tr style=\"text-align: right;\">\n",
       "      <th></th>\n",
       "      <th>idx_109</th>\n",
       "      <th>idx_102</th>\n",
       "      <th>idx_16</th>\n",
       "      <th>idx_159</th>\n",
       "      <th>idx_194</th>\n",
       "      <th>idx_11</th>\n",
       "      <th>idx_0</th>\n",
       "      <th>idx_26</th>\n",
       "      <th>idx_129</th>\n",
       "      <th>idx_103</th>\n",
       "    </tr>\n",
       "  </thead>\n",
       "  <tbody>\n",
       "    <tr>\n",
       "      <th>num_leaves</th>\n",
       "      <td>512</td>\n",
       "      <td>512</td>\n",
       "      <td>63</td>\n",
       "      <td>127</td>\n",
       "      <td>256</td>\n",
       "      <td>256</td>\n",
       "      <td>512</td>\n",
       "      <td>127</td>\n",
       "      <td>127</td>\n",
       "      <td>1024</td>\n",
       "    </tr>\n",
       "    <tr>\n",
       "      <th>num_iterations</th>\n",
       "      <td>250</td>\n",
       "      <td>150</td>\n",
       "      <td>250</td>\n",
       "      <td>200</td>\n",
       "      <td>200</td>\n",
       "      <td>250</td>\n",
       "      <td>250</td>\n",
       "      <td>250</td>\n",
       "      <td>150</td>\n",
       "      <td>200</td>\n",
       "    </tr>\n",
       "    <tr>\n",
       "      <th>min_sum_hessian_in_leaf</th>\n",
       "      <td>0.01</td>\n",
       "      <td>0.1</td>\n",
       "      <td>0.001</td>\n",
       "      <td>0.01</td>\n",
       "      <td>0.001</td>\n",
       "      <td>1.0</td>\n",
       "      <td>0.001</td>\n",
       "      <td>0.1</td>\n",
       "      <td>0.01</td>\n",
       "      <td>0.001</td>\n",
       "    </tr>\n",
       "    <tr>\n",
       "      <th>min_data_in_leaf</th>\n",
       "      <td>7</td>\n",
       "      <td>7</td>\n",
       "      <td>8</td>\n",
       "      <td>8</td>\n",
       "      <td>8</td>\n",
       "      <td>8</td>\n",
       "      <td>8</td>\n",
       "      <td>7</td>\n",
       "      <td>5</td>\n",
       "      <td>8</td>\n",
       "    </tr>\n",
       "    <tr>\n",
       "      <th>min_data_in_bin</th>\n",
       "      <td>7</td>\n",
       "      <td>8</td>\n",
       "      <td>7</td>\n",
       "      <td>8</td>\n",
       "      <td>8</td>\n",
       "      <td>8</td>\n",
       "      <td>4</td>\n",
       "      <td>4</td>\n",
       "      <td>4</td>\n",
       "      <td>8</td>\n",
       "    </tr>\n",
       "    <tr>\n",
       "      <th>max_depth</th>\n",
       "      <td>6</td>\n",
       "      <td>5</td>\n",
       "      <td>4</td>\n",
       "      <td>5</td>\n",
       "      <td>4</td>\n",
       "      <td>7</td>\n",
       "      <td>4</td>\n",
       "      <td>9</td>\n",
       "      <td>6</td>\n",
       "      <td>4</td>\n",
       "    </tr>\n",
       "    <tr>\n",
       "      <th>max_bin</th>\n",
       "      <td>31</td>\n",
       "      <td>31</td>\n",
       "      <td>15</td>\n",
       "      <td>15</td>\n",
       "      <td>15</td>\n",
       "      <td>15</td>\n",
       "      <td>255</td>\n",
       "      <td>255</td>\n",
       "      <td>126</td>\n",
       "      <td>126</td>\n",
       "    </tr>\n",
       "    <tr>\n",
       "      <th>learning_rate</th>\n",
       "      <td>0.015</td>\n",
       "      <td>0.01</td>\n",
       "      <td>0.02</td>\n",
       "      <td>0.02</td>\n",
       "      <td>0.02</td>\n",
       "      <td>0.01</td>\n",
       "      <td>0.02</td>\n",
       "      <td>0.02</td>\n",
       "      <td>0.02</td>\n",
       "      <td>0.02</td>\n",
       "    </tr>\n",
       "    <tr>\n",
       "      <th>lambda_l2</th>\n",
       "      <td>0.05</td>\n",
       "      <td>0.0</td>\n",
       "      <td>0.25</td>\n",
       "      <td>0.1</td>\n",
       "      <td>0.2</td>\n",
       "      <td>0.0</td>\n",
       "      <td>0.0</td>\n",
       "      <td>0.2</td>\n",
       "      <td>0.1</td>\n",
       "      <td>0.25</td>\n",
       "    </tr>\n",
       "    <tr>\n",
       "      <th>lambda_l1</th>\n",
       "      <td>0.05</td>\n",
       "      <td>0.05</td>\n",
       "      <td>0.15</td>\n",
       "      <td>0.2</td>\n",
       "      <td>0.15</td>\n",
       "      <td>0.0</td>\n",
       "      <td>0.15</td>\n",
       "      <td>0.15</td>\n",
       "      <td>0.0</td>\n",
       "      <td>0.05</td>\n",
       "    </tr>\n",
       "    <tr>\n",
       "      <th>feature_pre_filter</th>\n",
       "      <td>False</td>\n",
       "      <td>True</td>\n",
       "      <td>False</td>\n",
       "      <td>True</td>\n",
       "      <td>False</td>\n",
       "      <td>False</td>\n",
       "      <td>False</td>\n",
       "      <td>True</td>\n",
       "      <td>True</td>\n",
       "      <td>False</td>\n",
       "    </tr>\n",
       "    <tr>\n",
       "      <th>objective</th>\n",
       "      <td>binary</td>\n",
       "      <td>binary</td>\n",
       "      <td>binary</td>\n",
       "      <td>binary</td>\n",
       "      <td>binary</td>\n",
       "      <td>binary</td>\n",
       "      <td>binary</td>\n",
       "      <td>binary</td>\n",
       "      <td>binary</td>\n",
       "      <td>binary</td>\n",
       "    </tr>\n",
       "    <tr>\n",
       "      <th>boost_from_average</th>\n",
       "      <td>False</td>\n",
       "      <td>False</td>\n",
       "      <td>False</td>\n",
       "      <td>False</td>\n",
       "      <td>False</td>\n",
       "      <td>False</td>\n",
       "      <td>False</td>\n",
       "      <td>False</td>\n",
       "      <td>False</td>\n",
       "      <td>False</td>\n",
       "    </tr>\n",
       "    <tr>\n",
       "      <th>seed</th>\n",
       "      <td>42</td>\n",
       "      <td>42</td>\n",
       "      <td>42</td>\n",
       "      <td>42</td>\n",
       "      <td>42</td>\n",
       "      <td>42</td>\n",
       "      <td>42</td>\n",
       "      <td>42</td>\n",
       "      <td>42</td>\n",
       "      <td>42</td>\n",
       "    </tr>\n",
       "    <tr>\n",
       "      <th>verbosity</th>\n",
       "      <td>-1</td>\n",
       "      <td>-1</td>\n",
       "      <td>-1</td>\n",
       "      <td>-1</td>\n",
       "      <td>-1</td>\n",
       "      <td>-1</td>\n",
       "      <td>-1</td>\n",
       "      <td>-1</td>\n",
       "      <td>-1</td>\n",
       "      <td>-1</td>\n",
       "    </tr>\n",
       "    <tr>\n",
       "      <th>num_threads</th>\n",
       "      <td>4</td>\n",
       "      <td>4</td>\n",
       "      <td>4</td>\n",
       "      <td>4</td>\n",
       "      <td>4</td>\n",
       "      <td>4</td>\n",
       "      <td>4</td>\n",
       "      <td>4</td>\n",
       "      <td>4</td>\n",
       "      <td>4</td>\n",
       "    </tr>\n",
       "    <tr>\n",
       "      <th>feature_fraction</th>\n",
       "      <td>0.75</td>\n",
       "      <td>0.75</td>\n",
       "      <td>0.75</td>\n",
       "      <td>0.75</td>\n",
       "      <td>0.75</td>\n",
       "      <td>0.75</td>\n",
       "      <td>0.75</td>\n",
       "      <td>0.75</td>\n",
       "      <td>0.75</td>\n",
       "      <td>0.75</td>\n",
       "    </tr>\n",
       "    <tr>\n",
       "      <th>drop_rate</th>\n",
       "      <td>0.5</td>\n",
       "      <td>0.5</td>\n",
       "      <td>0.5</td>\n",
       "      <td>0.5</td>\n",
       "      <td>0.5</td>\n",
       "      <td>0.5</td>\n",
       "      <td>0.5</td>\n",
       "      <td>0.5</td>\n",
       "      <td>0.5</td>\n",
       "      <td>0.5</td>\n",
       "    </tr>\n",
       "    <tr>\n",
       "      <th>skip_drop</th>\n",
       "      <td>0.2</td>\n",
       "      <td>0.2</td>\n",
       "      <td>0.2</td>\n",
       "      <td>0.2</td>\n",
       "      <td>0.2</td>\n",
       "      <td>0.2</td>\n",
       "      <td>0.2</td>\n",
       "      <td>0.2</td>\n",
       "      <td>0.2</td>\n",
       "      <td>0.2</td>\n",
       "    </tr>\n",
       "  </tbody>\n",
       "</table>\n",
       "</div>"
      ],
      "text/plain": [
       "                        idx_109 idx_102  idx_16 idx_159 idx_194  idx_11  \\\n",
       "num_leaves                  512     512      63     127     256     256   \n",
       "num_iterations              250     150     250     200     200     250   \n",
       "min_sum_hessian_in_leaf    0.01     0.1   0.001    0.01   0.001     1.0   \n",
       "min_data_in_leaf              7       7       8       8       8       8   \n",
       "min_data_in_bin               7       8       7       8       8       8   \n",
       "max_depth                     6       5       4       5       4       7   \n",
       "max_bin                      31      31      15      15      15      15   \n",
       "learning_rate             0.015    0.01    0.02    0.02    0.02    0.01   \n",
       "lambda_l2                  0.05     0.0    0.25     0.1     0.2     0.0   \n",
       "lambda_l1                  0.05    0.05    0.15     0.2    0.15     0.0   \n",
       "feature_pre_filter        False    True   False    True   False   False   \n",
       "objective                binary  binary  binary  binary  binary  binary   \n",
       "boost_from_average        False   False   False   False   False   False   \n",
       "seed                         42      42      42      42      42      42   \n",
       "verbosity                    -1      -1      -1      -1      -1      -1   \n",
       "num_threads                   4       4       4       4       4       4   \n",
       "feature_fraction           0.75    0.75    0.75    0.75    0.75    0.75   \n",
       "drop_rate                   0.5     0.5     0.5     0.5     0.5     0.5   \n",
       "skip_drop                   0.2     0.2     0.2     0.2     0.2     0.2   \n",
       "\n",
       "                          idx_0  idx_26 idx_129 idx_103  \n",
       "num_leaves                  512     127     127    1024  \n",
       "num_iterations              250     250     150     200  \n",
       "min_sum_hessian_in_leaf   0.001     0.1    0.01   0.001  \n",
       "min_data_in_leaf              8       7       5       8  \n",
       "min_data_in_bin               4       4       4       8  \n",
       "max_depth                     4       9       6       4  \n",
       "max_bin                     255     255     126     126  \n",
       "learning_rate              0.02    0.02    0.02    0.02  \n",
       "lambda_l2                   0.0     0.2     0.1    0.25  \n",
       "lambda_l1                  0.15    0.15     0.0    0.05  \n",
       "feature_pre_filter        False    True    True   False  \n",
       "objective                binary  binary  binary  binary  \n",
       "boost_from_average        False   False   False   False  \n",
       "seed                         42      42      42      42  \n",
       "verbosity                    -1      -1      -1      -1  \n",
       "num_threads                   4       4       4       4  \n",
       "feature_fraction           0.75    0.75    0.75    0.75  \n",
       "drop_rate                   0.5     0.5     0.5     0.5  \n",
       "skip_drop                   0.2     0.2     0.2     0.2  "
      ]
     },
     "execution_count": 169,
     "metadata": {},
     "output_type": "execute_result"
    }
   ],
   "source": [
    "best_params_df(grid_items, indices_best)"
   ]
  },
  {
   "cell_type": "markdown",
   "id": "ecb15a03",
   "metadata": {},
   "source": [
    "### Обучение лучших моделей"
   ]
  },
  {
   "cell_type": "markdown",
   "id": "76b26848",
   "metadata": {},
   "source": [
    "Обучим модели с наборами гиперпараметров, которые мы отобрали на предыдущем шаге."
   ]
  },
  {
   "cell_type": "code",
   "execution_count": 170,
   "id": "6a2c0e3f",
   "metadata": {},
   "outputs": [],
   "source": [
    "model_arrays_best = np.empty(indices_best.shape[0], dtype='object')"
   ]
  },
  {
   "cell_type": "code",
   "execution_count": 171,
   "id": "5825bc76",
   "metadata": {},
   "outputs": [
    {
     "name": "stderr",
     "output_type": "stream",
     "text": [
      "100%|██████████| 10/10 [00:17<00:00,  1.76s/it]\n"
     ]
    }
   ],
   "source": [
    "for i in tqdm(np.arange(indices_best.shape[0])):\n",
    "    grid_item = grid[indices_best[i]]\n",
    "    grid_item.update(params_lgbm_common)\n",
    "    models, score = ml_trainer_cv(\n",
    "        df_train,\n",
    "        feature_names_ensemble_allfeatures,\n",
    "        target_name,\n",
    "        lgbm_algorithm,\n",
    "        grid_item,\n",
    "        silent=True,\n",
    "    )\n",
    "    model_arrays_best[i] = models\n",
    "\n",
    "models_ensemble_allfeatures = form_models_list(model_arrays_best)"
   ]
  },
  {
   "cell_type": "markdown",
   "id": "ecd2a31a",
   "metadata": {},
   "source": [
    "Сохраним модели на диск (заглушено)."
   ]
  },
  {
   "cell_type": "code",
   "execution_count": 172,
   "id": "6d3afe1d",
   "metadata": {},
   "outputs": [],
   "source": [
    "# save_models_list(models_ensemble_allfeatures, 'models_ensemble_allfeatures', path_root)"
   ]
  },
  {
   "cell_type": "markdown",
   "id": "8b2530d2",
   "metadata": {},
   "source": [
    "### Тестирование"
   ]
  },
  {
   "cell_type": "markdown",
   "id": "0809cca9",
   "metadata": {},
   "source": [
    "Протестируем все десять наборов моделей в совокупности."
   ]
  },
  {
   "cell_type": "code",
   "execution_count": 173,
   "id": "5d2bac1e",
   "metadata": {},
   "outputs": [
    {
     "name": "stdout",
     "output_type": "stream",
     "text": [
      "Computing... done\n"
     ]
    }
   ],
   "source": [
    "pred_proba = ml_test(\n",
    "    df_test,\n",
    "    df_test.index,\n",
    "    feature_names_ensemble_allfeatures,\n",
    "    models_ensemble_allfeatures,\n",
    ")"
   ]
  },
  {
   "cell_type": "code",
   "execution_count": 174,
   "id": "c6ae7a54",
   "metadata": {},
   "outputs": [
    {
     "name": "stdout",
     "output_type": "stream",
     "text": [
      "roc auc:  0.94074\n",
      "accuracy: 0.87500\n",
      "ac.const: 0.62500\n",
      "\n",
      "confusion matrix:\n",
      "[[0.25  0.125]\n",
      " [0.    0.625]]\n"
     ]
    }
   ],
   "source": [
    "print_metrics(df_test['Y'].values, pred_proba)"
   ]
  },
  {
   "cell_type": "code",
   "execution_count": 175,
   "id": "e0e83618",
   "metadata": {},
   "outputs": [
    {
     "data": {
      "image/png": "[encoded data removed]",
      "text/plain": [
       "<Figure size 432x288 with 1 Axes>"
      ]
     },
     "metadata": {},
     "output_type": "display_data"
    }
   ],
   "source": [
    "sns.histplot(pred_proba, bins=20)\n",
    "plt.show()"
   ]
  },
  {
   "cell_type": "markdown",
   "id": "eac432de",
   "metadata": {},
   "source": [
    "По метрике ROC-AUC данные модели показали себя на валидации лучше, чем бейзлайн, а на тестировании - хуже. Возможно, этот результат окажется стабильнее на новых данных по сравнению с бейзлайном. Но также не исключено, что бейзлайн оказался очень удачным и действительно работает лучше, чем найденные по сетке модели.\n",
    "\n",
    "Точность при тестировании не изменилась по сравнению с бейзлайном.\n",
    "\n",
    "Характер изменений в гистограмме указывает на то, что стабильность модели повысилась. Классы разделены увереннее: вероятности лежат дальше от порога 0.5 по сравнению с бейзлайном."
   ]
  },
  {
   "cell_type": "code",
   "execution_count": 176,
   "id": "e45a2aee",
   "metadata": {},
   "outputs": [
    {
     "data": {
      "text/plain": [
       "0.09051167666499704"
      ]
     },
     "execution_count": 176,
     "metadata": {},
     "output_type": "execute_result"
    }
   ],
   "source": [
    "np.min(np.abs(pred_proba - 0.5))"
   ]
  },
  {
   "cell_type": "markdown",
   "id": "682a583a",
   "metadata": {},
   "source": [
    "### Feature importances"
   ]
  },
  {
   "cell_type": "code",
   "execution_count": 177,
   "id": "37a4a1c7",
   "metadata": {},
   "outputs": [
    {
     "data": {
      "text/html": [
       "<div>\n",
       "<style scoped>\n",
       "    .dataframe tbody tr th:only-of-type {\n",
       "        vertical-align: middle;\n",
       "    }\n",
       "\n",
       "    .dataframe tbody tr th {\n",
       "        vertical-align: top;\n",
       "    }\n",
       "\n",
       "    .dataframe thead th {\n",
       "        text-align: right;\n",
       "    }\n",
       "</style>\n",
       "<table border=\"1\" class=\"dataframe\">\n",
       "  <thead>\n",
       "    <tr style=\"text-align: right;\">\n",
       "      <th></th>\n",
       "      <th>feature_names</th>\n",
       "      <th>split</th>\n",
       "      <th>gain</th>\n",
       "    </tr>\n",
       "  </thead>\n",
       "  <tbody>\n",
       "    <tr>\n",
       "      <th>39</th>\n",
       "      <td>caseType_1_frac</td>\n",
       "      <td>254</td>\n",
       "      <td>5083</td>\n",
       "    </tr>\n",
       "    <tr>\n",
       "      <th>49</th>\n",
       "      <td>case_side_1_frac</td>\n",
       "      <td>192</td>\n",
       "      <td>606</td>\n",
       "    </tr>\n",
       "    <tr>\n",
       "      <th>33</th>\n",
       "      <td>balance_diff_min</td>\n",
       "      <td>122</td>\n",
       "      <td>349</td>\n",
       "    </tr>\n",
       "    <tr>\n",
       "      <th>16</th>\n",
       "      <td>balance_min</td>\n",
       "      <td>115</td>\n",
       "      <td>169</td>\n",
       "    </tr>\n",
       "    <tr>\n",
       "      <th>36</th>\n",
       "      <td>resultType_1_frac</td>\n",
       "      <td>114</td>\n",
       "      <td>344</td>\n",
       "    </tr>\n",
       "    <tr>\n",
       "      <th>43</th>\n",
       "      <td>sum_median</td>\n",
       "      <td>113</td>\n",
       "      <td>104</td>\n",
       "    </tr>\n",
       "    <tr>\n",
       "      <th>9</th>\n",
       "      <td>short_std</td>\n",
       "      <td>99</td>\n",
       "      <td>438</td>\n",
       "    </tr>\n",
       "    <tr>\n",
       "      <th>34</th>\n",
       "      <td>court_count</td>\n",
       "      <td>97</td>\n",
       "      <td>368</td>\n",
       "    </tr>\n",
       "    <tr>\n",
       "      <th>27</th>\n",
       "      <td>short_diff_max</td>\n",
       "      <td>80</td>\n",
       "      <td>94</td>\n",
       "    </tr>\n",
       "    <tr>\n",
       "      <th>44</th>\n",
       "      <td>sum_std</td>\n",
       "      <td>79</td>\n",
       "      <td>220</td>\n",
       "    </tr>\n",
       "    <tr>\n",
       "      <th>45</th>\n",
       "      <td>sum_max</td>\n",
       "      <td>77</td>\n",
       "      <td>179</td>\n",
       "    </tr>\n",
       "    <tr>\n",
       "      <th>8</th>\n",
       "      <td>short_mean</td>\n",
       "      <td>70</td>\n",
       "      <td>94</td>\n",
       "    </tr>\n",
       "    <tr>\n",
       "      <th>28</th>\n",
       "      <td>short_diff_min</td>\n",
       "      <td>59</td>\n",
       "      <td>97</td>\n",
       "    </tr>\n",
       "    <tr>\n",
       "      <th>25</th>\n",
       "      <td>short_diff_mean</td>\n",
       "      <td>59</td>\n",
       "      <td>49</td>\n",
       "    </tr>\n",
       "    <tr>\n",
       "      <th>10</th>\n",
       "      <td>short_max</td>\n",
       "      <td>55</td>\n",
       "      <td>148</td>\n",
       "    </tr>\n",
       "    <tr>\n",
       "      <th>0</th>\n",
       "      <td>long_count</td>\n",
       "      <td>55</td>\n",
       "      <td>102</td>\n",
       "    </tr>\n",
       "    <tr>\n",
       "      <th>30</th>\n",
       "      <td>balance_diff_mean</td>\n",
       "      <td>52</td>\n",
       "      <td>80</td>\n",
       "    </tr>\n",
       "    <tr>\n",
       "      <th>14</th>\n",
       "      <td>balance_std</td>\n",
       "      <td>51</td>\n",
       "      <td>95</td>\n",
       "    </tr>\n",
       "    <tr>\n",
       "      <th>40</th>\n",
       "      <td>caseType_5_frac</td>\n",
       "      <td>46</td>\n",
       "      <td>90</td>\n",
       "    </tr>\n",
       "    <tr>\n",
       "      <th>38</th>\n",
       "      <td>duration_median</td>\n",
       "      <td>46</td>\n",
       "      <td>26</td>\n",
       "    </tr>\n",
       "    <tr>\n",
       "      <th>32</th>\n",
       "      <td>balance_diff_max</td>\n",
       "      <td>45</td>\n",
       "      <td>85</td>\n",
       "    </tr>\n",
       "    <tr>\n",
       "      <th>31</th>\n",
       "      <td>balance_diff_std</td>\n",
       "      <td>41</td>\n",
       "      <td>26</td>\n",
       "    </tr>\n",
       "    <tr>\n",
       "      <th>47</th>\n",
       "      <td>instances_unique_amount</td>\n",
       "      <td>39</td>\n",
       "      <td>86</td>\n",
       "    </tr>\n",
       "    <tr>\n",
       "      <th>46</th>\n",
       "      <td>sum_min</td>\n",
       "      <td>37</td>\n",
       "      <td>40</td>\n",
       "    </tr>\n",
       "    <tr>\n",
       "      <th>41</th>\n",
       "      <td>caseType_6_frac</td>\n",
       "      <td>36</td>\n",
       "      <td>26</td>\n",
       "    </tr>\n",
       "    <tr>\n",
       "      <th>35</th>\n",
       "      <td>resultType_0_frac</td>\n",
       "      <td>35</td>\n",
       "      <td>64</td>\n",
       "    </tr>\n",
       "    <tr>\n",
       "      <th>13</th>\n",
       "      <td>balance_mean</td>\n",
       "      <td>35</td>\n",
       "      <td>39</td>\n",
       "    </tr>\n",
       "    <tr>\n",
       "      <th>26</th>\n",
       "      <td>short_diff_std</td>\n",
       "      <td>35</td>\n",
       "      <td>13</td>\n",
       "    </tr>\n",
       "    <tr>\n",
       "      <th>37</th>\n",
       "      <td>resultType_2_frac</td>\n",
       "      <td>34</td>\n",
       "      <td>48</td>\n",
       "    </tr>\n",
       "    <tr>\n",
       "      <th>15</th>\n",
       "      <td>balance_max</td>\n",
       "      <td>31</td>\n",
       "      <td>43</td>\n",
       "    </tr>\n",
       "    <tr>\n",
       "      <th>11</th>\n",
       "      <td>short_min</td>\n",
       "      <td>26</td>\n",
       "      <td>25</td>\n",
       "    </tr>\n",
       "    <tr>\n",
       "      <th>42</th>\n",
       "      <td>caseType_other_frac</td>\n",
       "      <td>20</td>\n",
       "      <td>40</td>\n",
       "    </tr>\n",
       "    <tr>\n",
       "      <th>19</th>\n",
       "      <td>long_diff_count</td>\n",
       "      <td>19</td>\n",
       "      <td>39</td>\n",
       "    </tr>\n",
       "    <tr>\n",
       "      <th>1</th>\n",
       "      <td>long_mean</td>\n",
       "      <td>19</td>\n",
       "      <td>26</td>\n",
       "    </tr>\n",
       "    <tr>\n",
       "      <th>20</th>\n",
       "      <td>long_diff_mean</td>\n",
       "      <td>18</td>\n",
       "      <td>12</td>\n",
       "    </tr>\n",
       "    <tr>\n",
       "      <th>7</th>\n",
       "      <td>short_count</td>\n",
       "      <td>13</td>\n",
       "      <td>24</td>\n",
       "    </tr>\n",
       "    <tr>\n",
       "      <th>4</th>\n",
       "      <td>long_min</td>\n",
       "      <td>12</td>\n",
       "      <td>24</td>\n",
       "    </tr>\n",
       "    <tr>\n",
       "      <th>23</th>\n",
       "      <td>long_diff_min</td>\n",
       "      <td>10</td>\n",
       "      <td>14</td>\n",
       "    </tr>\n",
       "    <tr>\n",
       "      <th>2</th>\n",
       "      <td>long_std</td>\n",
       "      <td>7</td>\n",
       "      <td>12</td>\n",
       "    </tr>\n",
       "    <tr>\n",
       "      <th>22</th>\n",
       "      <td>long_diff_max</td>\n",
       "      <td>7</td>\n",
       "      <td>5</td>\n",
       "    </tr>\n",
       "    <tr>\n",
       "      <th>21</th>\n",
       "      <td>long_diff_std</td>\n",
       "      <td>6</td>\n",
       "      <td>12</td>\n",
       "    </tr>\n",
       "    <tr>\n",
       "      <th>24</th>\n",
       "      <td>short_diff_count</td>\n",
       "      <td>5</td>\n",
       "      <td>10</td>\n",
       "    </tr>\n",
       "    <tr>\n",
       "      <th>3</th>\n",
       "      <td>long_max</td>\n",
       "      <td>4</td>\n",
       "      <td>5</td>\n",
       "    </tr>\n",
       "    <tr>\n",
       "      <th>12</th>\n",
       "      <td>balance_count</td>\n",
       "      <td>3</td>\n",
       "      <td>5</td>\n",
       "    </tr>\n",
       "    <tr>\n",
       "      <th>29</th>\n",
       "      <td>balance_diff_count</td>\n",
       "      <td>1</td>\n",
       "      <td>2</td>\n",
       "    </tr>\n",
       "    <tr>\n",
       "      <th>5</th>\n",
       "      <td>long_incr</td>\n",
       "      <td>0</td>\n",
       "      <td>0</td>\n",
       "    </tr>\n",
       "    <tr>\n",
       "      <th>6</th>\n",
       "      <td>long_decr</td>\n",
       "      <td>0</td>\n",
       "      <td>0</td>\n",
       "    </tr>\n",
       "    <tr>\n",
       "      <th>17</th>\n",
       "      <td>balance_incr</td>\n",
       "      <td>0</td>\n",
       "      <td>0</td>\n",
       "    </tr>\n",
       "    <tr>\n",
       "      <th>18</th>\n",
       "      <td>balance_decr</td>\n",
       "      <td>0</td>\n",
       "      <td>0</td>\n",
       "    </tr>\n",
       "    <tr>\n",
       "      <th>48</th>\n",
       "      <td>case_side_0_frac</td>\n",
       "      <td>0</td>\n",
       "      <td>0</td>\n",
       "    </tr>\n",
       "    <tr>\n",
       "      <th>50</th>\n",
       "      <td>case_side_2_frac</td>\n",
       "      <td>0</td>\n",
       "      <td>0</td>\n",
       "    </tr>\n",
       "    <tr>\n",
       "      <th>51</th>\n",
       "      <td>case_side_3_frac</td>\n",
       "      <td>0</td>\n",
       "      <td>0</td>\n",
       "    </tr>\n",
       "    <tr>\n",
       "      <th>52</th>\n",
       "      <td>case_side_5_frac</td>\n",
       "      <td>0</td>\n",
       "      <td>0</td>\n",
       "    </tr>\n",
       "    <tr>\n",
       "      <th>53</th>\n",
       "      <td>case_side_6_frac</td>\n",
       "      <td>0</td>\n",
       "      <td>0</td>\n",
       "    </tr>\n",
       "  </tbody>\n",
       "</table>\n",
       "</div>"
      ],
      "text/plain": [
       "              feature_names  split  gain\n",
       "39          caseType_1_frac    254  5083\n",
       "49         case_side_1_frac    192   606\n",
       "33         balance_diff_min    122   349\n",
       "16              balance_min    115   169\n",
       "36        resultType_1_frac    114   344\n",
       "43               sum_median    113   104\n",
       "9                 short_std     99   438\n",
       "34              court_count     97   368\n",
       "27           short_diff_max     80    94\n",
       "44                  sum_std     79   220\n",
       "45                  sum_max     77   179\n",
       "8                short_mean     70    94\n",
       "28           short_diff_min     59    97\n",
       "25          short_diff_mean     59    49\n",
       "10                short_max     55   148\n",
       "0                long_count     55   102\n",
       "30        balance_diff_mean     52    80\n",
       "14              balance_std     51    95\n",
       "40          caseType_5_frac     46    90\n",
       "38          duration_median     46    26\n",
       "32         balance_diff_max     45    85\n",
       "31         balance_diff_std     41    26\n",
       "47  instances_unique_amount     39    86\n",
       "46                  sum_min     37    40\n",
       "41          caseType_6_frac     36    26\n",
       "35        resultType_0_frac     35    64\n",
       "13             balance_mean     35    39\n",
       "26           short_diff_std     35    13\n",
       "37        resultType_2_frac     34    48\n",
       "15              balance_max     31    43\n",
       "11                short_min     26    25\n",
       "42      caseType_other_frac     20    40\n",
       "19          long_diff_count     19    39\n",
       "1                 long_mean     19    26\n",
       "20           long_diff_mean     18    12\n",
       "7               short_count     13    24\n",
       "4                  long_min     12    24\n",
       "23            long_diff_min     10    14\n",
       "2                  long_std      7    12\n",
       "22            long_diff_max      7     5\n",
       "21            long_diff_std      6    12\n",
       "24         short_diff_count      5    10\n",
       "3                  long_max      4     5\n",
       "12            balance_count      3     5\n",
       "29       balance_diff_count      1     2\n",
       "5                 long_incr      0     0\n",
       "6                 long_decr      0     0\n",
       "17             balance_incr      0     0\n",
       "18             balance_decr      0     0\n",
       "48         case_side_0_frac      0     0\n",
       "50         case_side_2_frac      0     0\n",
       "51         case_side_3_frac      0     0\n",
       "52         case_side_5_frac      0     0\n",
       "53         case_side_6_frac      0     0"
      ]
     },
     "execution_count": 177,
     "metadata": {},
     "output_type": "execute_result"
    }
   ],
   "source": [
    "feat_imp_allfeat = lgbm_feature_importances(models)\n",
    "feat_imp_allfeat"
   ]
  },
  {
   "cell_type": "markdown",
   "id": "eb5d43ac",
   "metadata": {},
   "source": [
    "Здесь всё осталось примерно так же, как в бейзлайне."
   ]
  },
  {
   "cell_type": "markdown",
   "id": "9df37ca6",
   "metadata": {},
   "source": [
    "## Оптимизация без caseType_1_frac"
   ]
  },
  {
   "cell_type": "markdown",
   "id": "241e8a9a",
   "metadata": {},
   "source": [
    "### Гиперпараметры"
   ]
  },
  {
   "cell_type": "markdown",
   "id": "f30eba4c",
   "metadata": {},
   "source": [
    "Выполним перебор по той же сетке."
   ]
  },
  {
   "cell_type": "markdown",
   "id": "46763faa",
   "metadata": {},
   "source": [
    "### Признаки"
   ]
  },
  {
   "cell_type": "markdown",
   "id": "6fb0eb5d",
   "metadata": {},
   "source": [
    "Уберём признак caseType_1_frac и отберём некоторое количество наиболее важных признаков."
   ]
  },
  {
   "cell_type": "code",
   "execution_count": 178,
   "id": "44d5983c",
   "metadata": {},
   "outputs": [
    {
     "data": {
      "text/plain": [
       "Index(['case_side_1_frac', 'balance_diff_min', 'balance_min',\n",
       "       'resultType_1_frac', 'sum_median', 'short_std', 'court_count',\n",
       "       'short_diff_max', 'sum_std', 'sum_max', 'short_mean', 'short_diff_min',\n",
       "       'short_diff_mean', 'short_max', 'long_count', 'balance_diff_mean',\n",
       "       'balance_std', 'caseType_5_frac', 'duration_median', 'balance_diff_max',\n",
       "       'balance_diff_std', 'instances_unique_amount', 'sum_min',\n",
       "       'caseType_6_frac', 'resultType_0_frac', 'balance_mean',\n",
       "       'short_diff_std', 'resultType_2_frac', 'balance_max'],\n",
       "      dtype='object', name='feature_names')"
      ]
     },
     "execution_count": 178,
     "metadata": {},
     "output_type": "execute_result"
    }
   ],
   "source": [
    "amount = 30\n",
    "\n",
    "feature_names_ensemble_wocasetype1frac = pd.Index(\n",
    "    feat_imp_allfeat.loc[feat_imp_allfeat.index[:amount], 'feature_names']\n",
    ")\n",
    "feature_names_ensemble_wocasetype1frac = feature_names_ensemble_wocasetype1frac[\n",
    "    feature_names_ensemble_wocasetype1frac.isin(['caseType_1_frac']) != True\n",
    "]\n",
    "feature_names_ensemble_wocasetype1frac"
   ]
  },
  {
   "cell_type": "markdown",
   "id": "1f0b22a1",
   "metadata": {},
   "source": [
    "### Обучение по сетке"
   ]
  },
  {
   "cell_type": "markdown",
   "id": "29c60cc0",
   "metadata": {},
   "source": [
    "Выполним перебор 200 случайно выбранных наборов гиперпараметров."
   ]
  },
  {
   "cell_type": "code",
   "execution_count": 179,
   "id": "8db852bf",
   "metadata": {},
   "outputs": [],
   "source": [
    "iterations = 200\n",
    "grid_items = np.empty(iterations, dtype='object')\n",
    "scores_grid = np.zeros(iterations, dtype='float')"
   ]
  },
  {
   "cell_type": "code",
   "execution_count": 180,
   "id": "8c1137f4",
   "metadata": {},
   "outputs": [
    {
     "name": "stderr",
     "output_type": "stream",
     "text": [
      "100%|██████████| 200/200 [04:23<00:00,  1.32s/it]\n"
     ]
    }
   ],
   "source": [
    "for i in tqdm(np.arange(iterations)):\n",
    "    grid_item = grid[np.random.randint(len(grid))]\n",
    "    grid_item.update(params_lgbm_common)\n",
    "    models, score = ml_trainer_cv(\n",
    "        df_train,\n",
    "        feature_names_ensemble_wocasetype1frac,\n",
    "        target_name,\n",
    "        lgbm_algorithm,\n",
    "        grid_item,\n",
    "        silent=True,\n",
    "    )\n",
    "    grid_items[i] = grid_item\n",
    "    scores_grid[i] = score"
   ]
  },
  {
   "cell_type": "markdown",
   "id": "1c2b0087",
   "metadata": {},
   "source": [
    "### Поиск лучшего решения"
   ]
  },
  {
   "cell_type": "markdown",
   "id": "f01177ff",
   "metadata": {},
   "source": [
    "Найдём индексы 10 лучших результатов и посмотрим значения ROC-AUC на валидации."
   ]
  },
  {
   "cell_type": "code",
   "execution_count": 181,
   "id": "baba4f61",
   "metadata": {},
   "outputs": [
    {
     "data": {
      "text/plain": [
       "array([120,   7,  62,  48,  68, 183,  73,  71, 171,   0])"
      ]
     },
     "metadata": {},
     "output_type": "display_data"
    },
    {
     "name": "stdout",
     "output_type": "stream",
     "text": [
      "roc_auc: 0.85115\n",
      "roc_auc: 0.85074\n",
      "roc_auc: 0.85073\n",
      "roc_auc: 0.84836\n",
      "roc_auc: 0.84819\n",
      "roc_auc: 0.84728\n",
      "roc_auc: 0.84698\n",
      "roc_auc: 0.84635\n",
      "roc_auc: 0.84614\n",
      "roc_auc: 0.84593\n"
     ]
    }
   ],
   "source": [
    "indices_best = np.flip(np.argsort(scores_grid)[-10:])\n",
    "disp(indices_best)\n",
    "for idx in indices_best:\n",
    "    print('roc_auc: {:.5f}'.format(scores_grid[idx]))"
   ]
  },
  {
   "cell_type": "markdown",
   "id": "a4fc1fc8",
   "metadata": {},
   "source": [
    "Рассмотрим гиперпараметры."
   ]
  },
  {
   "cell_type": "code",
   "execution_count": 182,
   "id": "5cccdcbc",
   "metadata": {},
   "outputs": [
    {
     "data": {
      "text/html": [
       "<div>\n",
       "<style scoped>\n",
       "    .dataframe tbody tr th:only-of-type {\n",
       "        vertical-align: middle;\n",
       "    }\n",
       "\n",
       "    .dataframe tbody tr th {\n",
       "        vertical-align: top;\n",
       "    }\n",
       "\n",
       "    .dataframe thead th {\n",
       "        text-align: right;\n",
       "    }\n",
       "</style>\n",
       "<table border=\"1\" class=\"dataframe\">\n",
       "  <thead>\n",
       "    <tr style=\"text-align: right;\">\n",
       "      <th></th>\n",
       "      <th>idx_120</th>\n",
       "      <th>idx_7</th>\n",
       "      <th>idx_62</th>\n",
       "      <th>idx_48</th>\n",
       "      <th>idx_68</th>\n",
       "      <th>idx_183</th>\n",
       "      <th>idx_73</th>\n",
       "      <th>idx_71</th>\n",
       "      <th>idx_171</th>\n",
       "      <th>idx_0</th>\n",
       "    </tr>\n",
       "  </thead>\n",
       "  <tbody>\n",
       "    <tr>\n",
       "      <th>num_leaves</th>\n",
       "      <td>16</td>\n",
       "      <td>1024</td>\n",
       "      <td>1024</td>\n",
       "      <td>512</td>\n",
       "      <td>63</td>\n",
       "      <td>63</td>\n",
       "      <td>63</td>\n",
       "      <td>63</td>\n",
       "      <td>32</td>\n",
       "      <td>1024</td>\n",
       "    </tr>\n",
       "    <tr>\n",
       "      <th>num_iterations</th>\n",
       "      <td>100</td>\n",
       "      <td>250</td>\n",
       "      <td>100</td>\n",
       "      <td>50</td>\n",
       "      <td>150</td>\n",
       "      <td>100</td>\n",
       "      <td>200</td>\n",
       "      <td>50</td>\n",
       "      <td>250</td>\n",
       "      <td>250</td>\n",
       "    </tr>\n",
       "    <tr>\n",
       "      <th>min_sum_hessian_in_leaf</th>\n",
       "      <td>0.1</td>\n",
       "      <td>0.001</td>\n",
       "      <td>0.1</td>\n",
       "      <td>0.1</td>\n",
       "      <td>1.0</td>\n",
       "      <td>0.1</td>\n",
       "      <td>0.01</td>\n",
       "      <td>0.1</td>\n",
       "      <td>0.01</td>\n",
       "      <td>0.1</td>\n",
       "    </tr>\n",
       "    <tr>\n",
       "      <th>min_data_in_leaf</th>\n",
       "      <td>7</td>\n",
       "      <td>6</td>\n",
       "      <td>6</td>\n",
       "      <td>6</td>\n",
       "      <td>6</td>\n",
       "      <td>5</td>\n",
       "      <td>7</td>\n",
       "      <td>7</td>\n",
       "      <td>5</td>\n",
       "      <td>5</td>\n",
       "    </tr>\n",
       "    <tr>\n",
       "      <th>min_data_in_bin</th>\n",
       "      <td>8</td>\n",
       "      <td>8</td>\n",
       "      <td>8</td>\n",
       "      <td>8</td>\n",
       "      <td>8</td>\n",
       "      <td>8</td>\n",
       "      <td>8</td>\n",
       "      <td>8</td>\n",
       "      <td>4</td>\n",
       "      <td>6</td>\n",
       "    </tr>\n",
       "    <tr>\n",
       "      <th>max_depth</th>\n",
       "      <td>8</td>\n",
       "      <td>9</td>\n",
       "      <td>6</td>\n",
       "      <td>9</td>\n",
       "      <td>7</td>\n",
       "      <td>5</td>\n",
       "      <td>10</td>\n",
       "      <td>6</td>\n",
       "      <td>9</td>\n",
       "      <td>9</td>\n",
       "    </tr>\n",
       "    <tr>\n",
       "      <th>max_bin</th>\n",
       "      <td>15</td>\n",
       "      <td>15</td>\n",
       "      <td>15</td>\n",
       "      <td>15</td>\n",
       "      <td>15</td>\n",
       "      <td>15</td>\n",
       "      <td>15</td>\n",
       "      <td>15</td>\n",
       "      <td>126</td>\n",
       "      <td>255</td>\n",
       "    </tr>\n",
       "    <tr>\n",
       "      <th>learning_rate</th>\n",
       "      <td>0.02</td>\n",
       "      <td>0.005</td>\n",
       "      <td>0.02</td>\n",
       "      <td>0.015</td>\n",
       "      <td>0.015</td>\n",
       "      <td>0.01</td>\n",
       "      <td>0.015</td>\n",
       "      <td>0.01</td>\n",
       "      <td>0.015</td>\n",
       "      <td>0.02</td>\n",
       "    </tr>\n",
       "    <tr>\n",
       "      <th>lambda_l2</th>\n",
       "      <td>0.0</td>\n",
       "      <td>0.05</td>\n",
       "      <td>0.0</td>\n",
       "      <td>0.1</td>\n",
       "      <td>0.0</td>\n",
       "      <td>0.15</td>\n",
       "      <td>0.2</td>\n",
       "      <td>0.05</td>\n",
       "      <td>0.05</td>\n",
       "      <td>0.2</td>\n",
       "    </tr>\n",
       "    <tr>\n",
       "      <th>lambda_l1</th>\n",
       "      <td>0.0</td>\n",
       "      <td>0.2</td>\n",
       "      <td>0.2</td>\n",
       "      <td>0.15</td>\n",
       "      <td>0.1</td>\n",
       "      <td>0.15</td>\n",
       "      <td>0.1</td>\n",
       "      <td>0.2</td>\n",
       "      <td>0.0</td>\n",
       "      <td>0.25</td>\n",
       "    </tr>\n",
       "    <tr>\n",
       "      <th>feature_pre_filter</th>\n",
       "      <td>True</td>\n",
       "      <td>False</td>\n",
       "      <td>False</td>\n",
       "      <td>False</td>\n",
       "      <td>True</td>\n",
       "      <td>True</td>\n",
       "      <td>True</td>\n",
       "      <td>True</td>\n",
       "      <td>True</td>\n",
       "      <td>False</td>\n",
       "    </tr>\n",
       "    <tr>\n",
       "      <th>objective</th>\n",
       "      <td>binary</td>\n",
       "      <td>binary</td>\n",
       "      <td>binary</td>\n",
       "      <td>binary</td>\n",
       "      <td>binary</td>\n",
       "      <td>binary</td>\n",
       "      <td>binary</td>\n",
       "      <td>binary</td>\n",
       "      <td>binary</td>\n",
       "      <td>binary</td>\n",
       "    </tr>\n",
       "    <tr>\n",
       "      <th>boost_from_average</th>\n",
       "      <td>False</td>\n",
       "      <td>False</td>\n",
       "      <td>False</td>\n",
       "      <td>False</td>\n",
       "      <td>False</td>\n",
       "      <td>False</td>\n",
       "      <td>False</td>\n",
       "      <td>False</td>\n",
       "      <td>False</td>\n",
       "      <td>False</td>\n",
       "    </tr>\n",
       "    <tr>\n",
       "      <th>seed</th>\n",
       "      <td>42</td>\n",
       "      <td>42</td>\n",
       "      <td>42</td>\n",
       "      <td>42</td>\n",
       "      <td>42</td>\n",
       "      <td>42</td>\n",
       "      <td>42</td>\n",
       "      <td>42</td>\n",
       "      <td>42</td>\n",
       "      <td>42</td>\n",
       "    </tr>\n",
       "    <tr>\n",
       "      <th>verbosity</th>\n",
       "      <td>-1</td>\n",
       "      <td>-1</td>\n",
       "      <td>-1</td>\n",
       "      <td>-1</td>\n",
       "      <td>-1</td>\n",
       "      <td>-1</td>\n",
       "      <td>-1</td>\n",
       "      <td>-1</td>\n",
       "      <td>-1</td>\n",
       "      <td>-1</td>\n",
       "    </tr>\n",
       "    <tr>\n",
       "      <th>num_threads</th>\n",
       "      <td>4</td>\n",
       "      <td>4</td>\n",
       "      <td>4</td>\n",
       "      <td>4</td>\n",
       "      <td>4</td>\n",
       "      <td>4</td>\n",
       "      <td>4</td>\n",
       "      <td>4</td>\n",
       "      <td>4</td>\n",
       "      <td>4</td>\n",
       "    </tr>\n",
       "    <tr>\n",
       "      <th>feature_fraction</th>\n",
       "      <td>0.75</td>\n",
       "      <td>0.75</td>\n",
       "      <td>0.75</td>\n",
       "      <td>0.75</td>\n",
       "      <td>0.75</td>\n",
       "      <td>0.75</td>\n",
       "      <td>0.75</td>\n",
       "      <td>0.75</td>\n",
       "      <td>0.75</td>\n",
       "      <td>0.75</td>\n",
       "    </tr>\n",
       "    <tr>\n",
       "      <th>drop_rate</th>\n",
       "      <td>0.5</td>\n",
       "      <td>0.5</td>\n",
       "      <td>0.5</td>\n",
       "      <td>0.5</td>\n",
       "      <td>0.5</td>\n",
       "      <td>0.5</td>\n",
       "      <td>0.5</td>\n",
       "      <td>0.5</td>\n",
       "      <td>0.5</td>\n",
       "      <td>0.5</td>\n",
       "    </tr>\n",
       "    <tr>\n",
       "      <th>skip_drop</th>\n",
       "      <td>0.2</td>\n",
       "      <td>0.2</td>\n",
       "      <td>0.2</td>\n",
       "      <td>0.2</td>\n",
       "      <td>0.2</td>\n",
       "      <td>0.2</td>\n",
       "      <td>0.2</td>\n",
       "      <td>0.2</td>\n",
       "      <td>0.2</td>\n",
       "      <td>0.2</td>\n",
       "    </tr>\n",
       "  </tbody>\n",
       "</table>\n",
       "</div>"
      ],
      "text/plain": [
       "                        idx_120   idx_7  idx_62  idx_48  idx_68 idx_183  \\\n",
       "num_leaves                   16    1024    1024     512      63      63   \n",
       "num_iterations              100     250     100      50     150     100   \n",
       "min_sum_hessian_in_leaf     0.1   0.001     0.1     0.1     1.0     0.1   \n",
       "min_data_in_leaf              7       6       6       6       6       5   \n",
       "min_data_in_bin               8       8       8       8       8       8   \n",
       "max_depth                     8       9       6       9       7       5   \n",
       "max_bin                      15      15      15      15      15      15   \n",
       "learning_rate              0.02   0.005    0.02   0.015   0.015    0.01   \n",
       "lambda_l2                   0.0    0.05     0.0     0.1     0.0    0.15   \n",
       "lambda_l1                   0.0     0.2     0.2    0.15     0.1    0.15   \n",
       "feature_pre_filter         True   False   False   False    True    True   \n",
       "objective                binary  binary  binary  binary  binary  binary   \n",
       "boost_from_average        False   False   False   False   False   False   \n",
       "seed                         42      42      42      42      42      42   \n",
       "verbosity                    -1      -1      -1      -1      -1      -1   \n",
       "num_threads                   4       4       4       4       4       4   \n",
       "feature_fraction           0.75    0.75    0.75    0.75    0.75    0.75   \n",
       "drop_rate                   0.5     0.5     0.5     0.5     0.5     0.5   \n",
       "skip_drop                   0.2     0.2     0.2     0.2     0.2     0.2   \n",
       "\n",
       "                         idx_73  idx_71 idx_171   idx_0  \n",
       "num_leaves                   63      63      32    1024  \n",
       "num_iterations              200      50     250     250  \n",
       "min_sum_hessian_in_leaf    0.01     0.1    0.01     0.1  \n",
       "min_data_in_leaf              7       7       5       5  \n",
       "min_data_in_bin               8       8       4       6  \n",
       "max_depth                    10       6       9       9  \n",
       "max_bin                      15      15     126     255  \n",
       "learning_rate             0.015    0.01   0.015    0.02  \n",
       "lambda_l2                   0.2    0.05    0.05     0.2  \n",
       "lambda_l1                   0.1     0.2     0.0    0.25  \n",
       "feature_pre_filter         True    True    True   False  \n",
       "objective                binary  binary  binary  binary  \n",
       "boost_from_average        False   False   False   False  \n",
       "seed                         42      42      42      42  \n",
       "verbosity                    -1      -1      -1      -1  \n",
       "num_threads                   4       4       4       4  \n",
       "feature_fraction           0.75    0.75    0.75    0.75  \n",
       "drop_rate                   0.5     0.5     0.5     0.5  \n",
       "skip_drop                   0.2     0.2     0.2     0.2  "
      ]
     },
     "execution_count": 182,
     "metadata": {},
     "output_type": "execute_result"
    }
   ],
   "source": [
    "best_params_df(grid_items, indices_best)"
   ]
  },
  {
   "cell_type": "markdown",
   "id": "87736626",
   "metadata": {},
   "source": [
    "### Обучение лучших моделей"
   ]
  },
  {
   "cell_type": "markdown",
   "id": "4bac479c",
   "metadata": {},
   "source": [
    "Обучим модели с наборами гиперпараметров, которые мы отобрали на предыдущем шаге."
   ]
  },
  {
   "cell_type": "code",
   "execution_count": 183,
   "id": "897343f9",
   "metadata": {},
   "outputs": [],
   "source": [
    "model_arrays_best = np.empty(indices_best.shape[0], dtype='object')"
   ]
  },
  {
   "cell_type": "code",
   "execution_count": 184,
   "id": "3d2912e8",
   "metadata": {},
   "outputs": [
    {
     "name": "stderr",
     "output_type": "stream",
     "text": [
      "100%|██████████| 10/10 [00:10<00:00,  1.06s/it]\n"
     ]
    }
   ],
   "source": [
    "for i in tqdm(np.arange(indices_best.shape[0])):\n",
    "    grid_item = grid[indices_best[i]]\n",
    "    grid_item.update(params_lgbm_common)\n",
    "    models, score = ml_trainer_cv(\n",
    "        df_train,\n",
    "        feature_names_ensemble_wocasetype1frac,\n",
    "        target_name,\n",
    "        lgbm_algorithm,\n",
    "        grid_item,\n",
    "        silent=True,\n",
    "    )\n",
    "    model_arrays_best[i] = models\n",
    "\n",
    "models_ensemble_wocasetype1frac = form_models_list(model_arrays_best)"
   ]
  },
  {
   "cell_type": "markdown",
   "id": "4cd4d500",
   "metadata": {},
   "source": [
    "Сохраним модели на диск (заглушено)."
   ]
  },
  {
   "cell_type": "code",
   "execution_count": 185,
   "id": "f7ee606e",
   "metadata": {},
   "outputs": [],
   "source": [
    "# save_models_list(models_ensemble_wocasetype1frac, 'models_ensemble_wocasetype1frac', path_root)"
   ]
  },
  {
   "cell_type": "markdown",
   "id": "652b6e54",
   "metadata": {},
   "source": [
    "### Тестирование"
   ]
  },
  {
   "cell_type": "markdown",
   "id": "272a1ee8",
   "metadata": {},
   "source": [
    "Протестируем все десять наборов моделей в совокупности."
   ]
  },
  {
   "cell_type": "code",
   "execution_count": 186,
   "id": "59fa71d4",
   "metadata": {},
   "outputs": [
    {
     "name": "stdout",
     "output_type": "stream",
     "text": [
      "Computing... done\n"
     ]
    }
   ],
   "source": [
    "pred_proba = ml_test(\n",
    "    df_test,\n",
    "    df_test.index,\n",
    "    feature_names_ensemble_wocasetype1frac,\n",
    "    models_ensemble_wocasetype1frac,\n",
    ")"
   ]
  },
  {
   "cell_type": "code",
   "execution_count": 187,
   "id": "7b652b62",
   "metadata": {},
   "outputs": [
    {
     "name": "stdout",
     "output_type": "stream",
     "text": [
      "roc auc:  0.94074\n",
      "accuracy: 0.87500\n",
      "ac.const: 0.62500\n",
      "\n",
      "confusion matrix:\n",
      "[[0.25  0.125]\n",
      " [0.    0.625]]\n"
     ]
    }
   ],
   "source": [
    "print_metrics(df_test['Y'].values, pred_proba)"
   ]
  },
  {
   "cell_type": "code",
   "execution_count": 188,
   "id": "3310c6c5",
   "metadata": {},
   "outputs": [
    {
     "data": {
      "image/png": "[encoded data removed]",
      "text/plain": [
       "<Figure size 432x288 with 1 Axes>"
      ]
     },
     "metadata": {},
     "output_type": "display_data"
    }
   ],
   "source": [
    "sns.histplot(pred_proba, bins=20)\n",
    "plt.show()"
   ]
  },
  {
   "cell_type": "markdown",
   "id": "8122e7be",
   "metadata": {},
   "source": [
    "По метрике ROC-AUC данные модели показали себя на валидации лучше, чем бейзлайн, а на тестировании - хуже.\n",
    "\n",
    "Точность при тестировании не изменилась по сравнению с бейзлайном.\n",
    "\n",
    "Гистограмма по сравнению с бейзлайном изменилась. Некоторые ответы стали увереннее (вероятности отдалились от порога 0.5), но появились и те, что стали ближе к порогу: минимальная разность уменьшилась."
   ]
  },
  {
   "cell_type": "code",
   "execution_count": 189,
   "id": "a4f3de8b",
   "metadata": {},
   "outputs": [
    {
     "data": {
      "text/plain": [
       "0.02101693921891573"
      ]
     },
     "execution_count": 189,
     "metadata": {},
     "output_type": "execute_result"
    }
   ],
   "source": [
    "np.min(np.abs(pred_proba - 0.5))"
   ]
  },
  {
   "cell_type": "markdown",
   "id": "141269fe",
   "metadata": {},
   "source": [
    "### Feature importances"
   ]
  },
  {
   "cell_type": "code",
   "execution_count": 190,
   "id": "7c5768e7",
   "metadata": {},
   "outputs": [
    {
     "data": {
      "text/html": [
       "<div>\n",
       "<style scoped>\n",
       "    .dataframe tbody tr th:only-of-type {\n",
       "        vertical-align: middle;\n",
       "    }\n",
       "\n",
       "    .dataframe tbody tr th {\n",
       "        vertical-align: top;\n",
       "    }\n",
       "\n",
       "    .dataframe thead th {\n",
       "        text-align: right;\n",
       "    }\n",
       "</style>\n",
       "<table border=\"1\" class=\"dataframe\">\n",
       "  <thead>\n",
       "    <tr style=\"text-align: right;\">\n",
       "      <th></th>\n",
       "      <th>feature_names</th>\n",
       "      <th>split</th>\n",
       "      <th>gain</th>\n",
       "    </tr>\n",
       "  </thead>\n",
       "  <tbody>\n",
       "    <tr>\n",
       "      <th>6</th>\n",
       "      <td>court_count</td>\n",
       "      <td>44</td>\n",
       "      <td>541</td>\n",
       "    </tr>\n",
       "    <tr>\n",
       "      <th>0</th>\n",
       "      <td>case_side_1_frac</td>\n",
       "      <td>42</td>\n",
       "      <td>283</td>\n",
       "    </tr>\n",
       "    <tr>\n",
       "      <th>5</th>\n",
       "      <td>short_std</td>\n",
       "      <td>33</td>\n",
       "      <td>352</td>\n",
       "    </tr>\n",
       "    <tr>\n",
       "      <th>19</th>\n",
       "      <td>balance_diff_max</td>\n",
       "      <td>32</td>\n",
       "      <td>128</td>\n",
       "    </tr>\n",
       "    <tr>\n",
       "      <th>2</th>\n",
       "      <td>balance_min</td>\n",
       "      <td>29</td>\n",
       "      <td>110</td>\n",
       "    </tr>\n",
       "    <tr>\n",
       "      <th>8</th>\n",
       "      <td>sum_std</td>\n",
       "      <td>26</td>\n",
       "      <td>213</td>\n",
       "    </tr>\n",
       "    <tr>\n",
       "      <th>9</th>\n",
       "      <td>sum_max</td>\n",
       "      <td>25</td>\n",
       "      <td>363</td>\n",
       "    </tr>\n",
       "    <tr>\n",
       "      <th>11</th>\n",
       "      <td>short_diff_min</td>\n",
       "      <td>25</td>\n",
       "      <td>82</td>\n",
       "    </tr>\n",
       "    <tr>\n",
       "      <th>1</th>\n",
       "      <td>balance_diff_min</td>\n",
       "      <td>24</td>\n",
       "      <td>91</td>\n",
       "    </tr>\n",
       "    <tr>\n",
       "      <th>4</th>\n",
       "      <td>sum_median</td>\n",
       "      <td>22</td>\n",
       "      <td>45</td>\n",
       "    </tr>\n",
       "    <tr>\n",
       "      <th>14</th>\n",
       "      <td>long_count</td>\n",
       "      <td>19</td>\n",
       "      <td>60</td>\n",
       "    </tr>\n",
       "    <tr>\n",
       "      <th>3</th>\n",
       "      <td>resultType_1_frac</td>\n",
       "      <td>18</td>\n",
       "      <td>82</td>\n",
       "    </tr>\n",
       "    <tr>\n",
       "      <th>15</th>\n",
       "      <td>balance_diff_mean</td>\n",
       "      <td>18</td>\n",
       "      <td>54</td>\n",
       "    </tr>\n",
       "    <tr>\n",
       "      <th>12</th>\n",
       "      <td>short_diff_mean</td>\n",
       "      <td>18</td>\n",
       "      <td>28</td>\n",
       "    </tr>\n",
       "    <tr>\n",
       "      <th>17</th>\n",
       "      <td>caseType_5_frac</td>\n",
       "      <td>17</td>\n",
       "      <td>68</td>\n",
       "    </tr>\n",
       "    <tr>\n",
       "      <th>7</th>\n",
       "      <td>short_diff_max</td>\n",
       "      <td>16</td>\n",
       "      <td>36</td>\n",
       "    </tr>\n",
       "    <tr>\n",
       "      <th>23</th>\n",
       "      <td>caseType_6_frac</td>\n",
       "      <td>12</td>\n",
       "      <td>30</td>\n",
       "    </tr>\n",
       "    <tr>\n",
       "      <th>10</th>\n",
       "      <td>short_mean</td>\n",
       "      <td>11</td>\n",
       "      <td>50</td>\n",
       "    </tr>\n",
       "    <tr>\n",
       "      <th>16</th>\n",
       "      <td>balance_std</td>\n",
       "      <td>11</td>\n",
       "      <td>36</td>\n",
       "    </tr>\n",
       "    <tr>\n",
       "      <th>21</th>\n",
       "      <td>instances_unique_amount</td>\n",
       "      <td>10</td>\n",
       "      <td>40</td>\n",
       "    </tr>\n",
       "    <tr>\n",
       "      <th>27</th>\n",
       "      <td>resultType_2_frac</td>\n",
       "      <td>9</td>\n",
       "      <td>29</td>\n",
       "    </tr>\n",
       "    <tr>\n",
       "      <th>25</th>\n",
       "      <td>balance_mean</td>\n",
       "      <td>8</td>\n",
       "      <td>26</td>\n",
       "    </tr>\n",
       "    <tr>\n",
       "      <th>13</th>\n",
       "      <td>short_max</td>\n",
       "      <td>7</td>\n",
       "      <td>38</td>\n",
       "    </tr>\n",
       "    <tr>\n",
       "      <th>24</th>\n",
       "      <td>resultType_0_frac</td>\n",
       "      <td>7</td>\n",
       "      <td>20</td>\n",
       "    </tr>\n",
       "    <tr>\n",
       "      <th>18</th>\n",
       "      <td>duration_median</td>\n",
       "      <td>7</td>\n",
       "      <td>9</td>\n",
       "    </tr>\n",
       "    <tr>\n",
       "      <th>28</th>\n",
       "      <td>balance_max</td>\n",
       "      <td>6</td>\n",
       "      <td>15</td>\n",
       "    </tr>\n",
       "    <tr>\n",
       "      <th>20</th>\n",
       "      <td>balance_diff_std</td>\n",
       "      <td>6</td>\n",
       "      <td>13</td>\n",
       "    </tr>\n",
       "    <tr>\n",
       "      <th>26</th>\n",
       "      <td>short_diff_std</td>\n",
       "      <td>5</td>\n",
       "      <td>7</td>\n",
       "    </tr>\n",
       "    <tr>\n",
       "      <th>22</th>\n",
       "      <td>sum_min</td>\n",
       "      <td>3</td>\n",
       "      <td>7</td>\n",
       "    </tr>\n",
       "  </tbody>\n",
       "</table>\n",
       "</div>"
      ],
      "text/plain": [
       "              feature_names  split  gain\n",
       "6               court_count     44   541\n",
       "0          case_side_1_frac     42   283\n",
       "5                 short_std     33   352\n",
       "19         balance_diff_max     32   128\n",
       "2               balance_min     29   110\n",
       "8                   sum_std     26   213\n",
       "9                   sum_max     25   363\n",
       "11           short_diff_min     25    82\n",
       "1          balance_diff_min     24    91\n",
       "4                sum_median     22    45\n",
       "14               long_count     19    60\n",
       "3         resultType_1_frac     18    82\n",
       "15        balance_diff_mean     18    54\n",
       "12          short_diff_mean     18    28\n",
       "17          caseType_5_frac     17    68\n",
       "7            short_diff_max     16    36\n",
       "23          caseType_6_frac     12    30\n",
       "10               short_mean     11    50\n",
       "16              balance_std     11    36\n",
       "21  instances_unique_amount     10    40\n",
       "27        resultType_2_frac      9    29\n",
       "25             balance_mean      8    26\n",
       "13                short_max      7    38\n",
       "24        resultType_0_frac      7    20\n",
       "18          duration_median      7     9\n",
       "28              balance_max      6    15\n",
       "20         balance_diff_std      6    13\n",
       "26           short_diff_std      5     7\n",
       "22                  sum_min      3     7"
      ]
     },
     "execution_count": 190,
     "metadata": {},
     "output_type": "execute_result"
    }
   ],
   "source": [
    "feat_imp_wotype1frac = lgbm_feature_importances(models)\n",
    "feat_imp_wotype1frac"
   ]
  },
  {
   "cell_type": "markdown",
   "id": "3385fa89",
   "metadata": {},
   "source": [
    "Здесь всё осталось примерно так же, как в бейзлайне."
   ]
  },
  {
   "cell_type": "markdown",
   "id": "99c58955",
   "metadata": {},
   "source": [
    "## Совмещение моделей"
   ]
  },
  {
   "cell_type": "markdown",
   "id": "62aada53",
   "metadata": {},
   "source": [
    "Попробуем совместить обе категории моделей. В случае, когда у нас есть информация о том, что дела о банкротстве имели место, будет работать один ансамбль моделей, а когда такой информации нет - другой."
   ]
  },
  {
   "cell_type": "markdown",
   "id": "5f59cd7f",
   "metadata": {},
   "source": [
    "### Разделение выборки"
   ]
  },
  {
   "cell_type": "markdown",
   "id": "b8c283e6",
   "metadata": {},
   "source": [
    "Разделим тестовую выборку на две части:\n",
    "* признак caseType_1_frac больше нуля: мы знаем, что дела о банкротстве имели место;\n",
    "* признак caseType_1_frac равен нулю: дел о банкротстве не было или мы о них не знаем."
   ]
  },
  {
   "cell_type": "code",
   "execution_count": 191,
   "id": "cd1ef8aa",
   "metadata": {},
   "outputs": [
    {
     "data": {
      "text/plain": [
       "True     19\n",
       "False     5\n",
       "Name: caseType_1_frac, dtype: int64"
      ]
     },
     "execution_count": 191,
     "metadata": {},
     "output_type": "execute_result"
    }
   ],
   "source": [
    "(df_test['caseType_1_frac'] > 0).value_counts()"
   ]
  },
  {
   "cell_type": "markdown",
   "id": "c4b4bf85",
   "metadata": {},
   "source": [
    "Сформируем индексы для каждой из подвыборок."
   ]
  },
  {
   "cell_type": "code",
   "execution_count": 192,
   "id": "39a4e89e",
   "metadata": {},
   "outputs": [
    {
     "data": {
      "text/plain": [
       "19"
      ]
     },
     "metadata": {},
     "output_type": "display_data"
    },
    {
     "data": {
      "text/plain": [
       "5"
      ]
     },
     "metadata": {},
     "output_type": "display_data"
    }
   ],
   "source": [
    "index_casetype1frac_true = df_test[df_test['caseType_1_frac'] > 0].index\n",
    "index_casetype1frac_false = df_test[df_test['caseType_1_frac'] == 0].index\n",
    "\n",
    "disp(index_casetype1frac_true.shape[0])\n",
    "disp(index_casetype1frac_false.shape[0])"
   ]
  },
  {
   "cell_type": "markdown",
   "id": "79a743ac",
   "metadata": {},
   "source": [
    "### Базовые модели"
   ]
  },
  {
   "cell_type": "markdown",
   "id": "e1af7826",
   "metadata": {},
   "source": [
    "Выполним тестирование."
   ]
  },
  {
   "cell_type": "code",
   "execution_count": 193,
   "id": "3f351b64",
   "metadata": {},
   "outputs": [
    {
     "name": "stdout",
     "output_type": "stream",
     "text": [
      "Computing... done\n"
     ]
    }
   ],
   "source": [
    "pred_proba_casetype1frac_true = ml_test(\n",
    "    df_test.loc[index_casetype1frac_true],\n",
    "    index_casetype1frac_true,\n",
    "    feature_names_base_allfeatures,\n",
    "    models_base_allfeatures,\n",
    ")"
   ]
  },
  {
   "cell_type": "code",
   "execution_count": 194,
   "id": "a87dcefa",
   "metadata": {},
   "outputs": [
    {
     "name": "stdout",
     "output_type": "stream",
     "text": [
      "Computing... done\n"
     ]
    }
   ],
   "source": [
    "pred_proba_casetype1frac_false = ml_test(\n",
    "    df_test.loc[index_casetype1frac_false],\n",
    "    index_casetype1frac_false,\n",
    "    feature_names_base_wocasetype1frac,\n",
    "    models_base_wocasetype1frac,\n",
    ")"
   ]
  },
  {
   "cell_type": "markdown",
   "id": "b47afe6c",
   "metadata": {},
   "source": [
    "Сформируем таблицу с результатами, чтобы соотнести индексы аккуратно и без ошибок."
   ]
  },
  {
   "cell_type": "code",
   "execution_count": 195,
   "id": "4c7c7e19",
   "metadata": {},
   "outputs": [
    {
     "data": {
      "text/html": [
       "<div>\n",
       "<style scoped>\n",
       "    .dataframe tbody tr th:only-of-type {\n",
       "        vertical-align: middle;\n",
       "    }\n",
       "\n",
       "    .dataframe tbody tr th {\n",
       "        vertical-align: top;\n",
       "    }\n",
       "\n",
       "    .dataframe thead th {\n",
       "        text-align: right;\n",
       "    }\n",
       "</style>\n",
       "<table border=\"1\" class=\"dataframe\">\n",
       "  <thead>\n",
       "    <tr style=\"text-align: right;\">\n",
       "      <th></th>\n",
       "      <th>true</th>\n",
       "      <th>pred</th>\n",
       "    </tr>\n",
       "  </thead>\n",
       "  <tbody>\n",
       "    <tr>\n",
       "      <th>65</th>\n",
       "      <td>NaN</td>\n",
       "      <td>NaN</td>\n",
       "    </tr>\n",
       "    <tr>\n",
       "      <th>76</th>\n",
       "      <td>NaN</td>\n",
       "      <td>NaN</td>\n",
       "    </tr>\n",
       "    <tr>\n",
       "      <th>80</th>\n",
       "      <td>NaN</td>\n",
       "      <td>NaN</td>\n",
       "    </tr>\n",
       "  </tbody>\n",
       "</table>\n",
       "</div>"
      ],
      "text/plain": [
       "   true pred\n",
       "65  NaN  NaN\n",
       "76  NaN  NaN\n",
       "80  NaN  NaN"
      ]
     },
     "execution_count": 195,
     "metadata": {},
     "output_type": "execute_result"
    }
   ],
   "source": [
    "results = pd.DataFrame(\n",
    "    None,\n",
    "    index = df_test['Y'].index,\n",
    "    columns = ['true', 'pred'],\n",
    ")\n",
    "results.head(3)"
   ]
  },
  {
   "cell_type": "code",
   "execution_count": 196,
   "id": "9baa4c43",
   "metadata": {},
   "outputs": [
    {
     "data": {
      "text/html": [
       "<div>\n",
       "<style scoped>\n",
       "    .dataframe tbody tr th:only-of-type {\n",
       "        vertical-align: middle;\n",
       "    }\n",
       "\n",
       "    .dataframe tbody tr th {\n",
       "        vertical-align: top;\n",
       "    }\n",
       "\n",
       "    .dataframe thead th {\n",
       "        text-align: right;\n",
       "    }\n",
       "</style>\n",
       "<table border=\"1\" class=\"dataframe\">\n",
       "  <thead>\n",
       "    <tr style=\"text-align: right;\">\n",
       "      <th></th>\n",
       "      <th>true</th>\n",
       "      <th>pred</th>\n",
       "    </tr>\n",
       "  </thead>\n",
       "  <tbody>\n",
       "    <tr>\n",
       "      <th>65</th>\n",
       "      <td>0</td>\n",
       "      <td>0.14399</td>\n",
       "    </tr>\n",
       "    <tr>\n",
       "      <th>76</th>\n",
       "      <td>1</td>\n",
       "      <td>0.876179</td>\n",
       "    </tr>\n",
       "    <tr>\n",
       "      <th>80</th>\n",
       "      <td>1</td>\n",
       "      <td>0.903464</td>\n",
       "    </tr>\n",
       "  </tbody>\n",
       "</table>\n",
       "</div>"
      ],
      "text/plain": [
       "    true      pred\n",
       "65     0   0.14399\n",
       "76     1  0.876179\n",
       "80     1  0.903464"
      ]
     },
     "execution_count": 196,
     "metadata": {},
     "output_type": "execute_result"
    }
   ],
   "source": [
    "results['true'] = df_test['Y']\n",
    "results.loc[index_casetype1frac_true, 'pred'] = pd.Series(\n",
    "    pred_proba_casetype1frac_true,\n",
    "    index = index_casetype1frac_true,\n",
    ")\n",
    "results.loc[index_casetype1frac_false, 'pred'] = pd.Series(\n",
    "    pred_proba_casetype1frac_false,\n",
    "    index = index_casetype1frac_false,\n",
    ")\n",
    "\n",
    "results.head(3)"
   ]
  },
  {
   "cell_type": "markdown",
   "id": "6bbe2a33",
   "metadata": {},
   "source": [
    "Рассчитаем метрики и оценим результат."
   ]
  },
  {
   "cell_type": "code",
   "execution_count": 197,
   "id": "a3637996",
   "metadata": {},
   "outputs": [
    {
     "name": "stdout",
     "output_type": "stream",
     "text": [
      "roc auc:  0.97778\n",
      "accuracy: 0.87500\n",
      "ac.const: 0.62500\n",
      "\n",
      "confusion matrix:\n",
      "[[0.25  0.125]\n",
      " [0.    0.625]]\n"
     ]
    }
   ],
   "source": [
    "print_metrics(results['true'].values, results['pred'].values)"
   ]
  },
  {
   "cell_type": "code",
   "execution_count": 198,
   "id": "7c07ba45",
   "metadata": {},
   "outputs": [
    {
     "data": {
      "image/png": "[encoded data removed]",
      "text/plain": [
       "<Figure size 432x288 with 1 Axes>"
      ]
     },
     "metadata": {},
     "output_type": "display_data"
    }
   ],
   "source": [
    "sns.histplot(results['pred'].values, bins=20)\n",
    "plt.show()"
   ]
  },
  {
   "cell_type": "markdown",
   "id": "fd6dbd1d",
   "metadata": {},
   "source": [
    "ROC-AUC сравнялся с результатом первой базовой модели, когда имеются данные о судах о банкротстве. Но стоит ожидать, что она может быть любой из диапазона от минимального значения, когда признак caseType_1_frac отсутствует, до максимального, когда этот признак присутствует. Это зависит от соотношения количества одних и других случаев.\n",
    "\n",
    "Точность не изменилась.\n",
    "\n",
    "Гистограмма выглядит склееной из двух половинок. Половинки - от двух предыдущих случаев, когда мы применяем сначала одни, потом другие модели ко всей тестовой выборке сразу. Это объясняется следующим образом. Если дело о банкротстве имеет место, то в большинстве случаев компания действительно является банкротом или станет им (наблюдаемый факт). Такие строки в датасете обрабатывают модели, учитывающие признак caseType_1_frac. Результат - в правой части гистограммы. Если же дел о банкротстве у компании не было, то - наоборот. Результат - в левой части гистограммы."
   ]
  },
  {
   "cell_type": "code",
   "execution_count": 199,
   "id": "62e427d3",
   "metadata": {},
   "outputs": [
    {
     "data": {
      "text/plain": [
       "0.10067057546687253"
      ]
     },
     "execution_count": 199,
     "metadata": {},
     "output_type": "execute_result"
    }
   ],
   "source": [
    "np.min(np.abs(results['pred'].values - 0.5))"
   ]
  },
  {
   "cell_type": "markdown",
   "id": "2b638c4e",
   "metadata": {},
   "source": [
    "### Ансамбли моделей"
   ]
  },
  {
   "cell_type": "markdown",
   "id": "64657b6e",
   "metadata": {},
   "source": [
    "Выполним тестирование."
   ]
  },
  {
   "cell_type": "code",
   "execution_count": 200,
   "id": "f825d927",
   "metadata": {},
   "outputs": [
    {
     "name": "stdout",
     "output_type": "stream",
     "text": [
      "Computing... done\n"
     ]
    }
   ],
   "source": [
    "pred_proba_casetype1frac_true = ml_test(\n",
    "    df_test.loc[index_casetype1frac_true],\n",
    "    index_casetype1frac_true,\n",
    "    feature_names_ensemble_allfeatures,\n",
    "    models_ensemble_allfeatures,\n",
    ")"
   ]
  },
  {
   "cell_type": "code",
   "execution_count": 201,
   "id": "2daef5a3",
   "metadata": {},
   "outputs": [
    {
     "name": "stdout",
     "output_type": "stream",
     "text": [
      "Computing... done\n"
     ]
    }
   ],
   "source": [
    "pred_proba_casetype1frac_false = ml_test(\n",
    "    df_test.loc[index_casetype1frac_false],\n",
    "    index_casetype1frac_false,\n",
    "    feature_names_ensemble_wocasetype1frac,\n",
    "    models_ensemble_wocasetype1frac,\n",
    ")"
   ]
  },
  {
   "cell_type": "markdown",
   "id": "736fe794",
   "metadata": {},
   "source": [
    "Сформируем таблицу с результатами."
   ]
  },
  {
   "cell_type": "code",
   "execution_count": 202,
   "id": "378f74c9",
   "metadata": {},
   "outputs": [
    {
     "data": {
      "text/html": [
       "<div>\n",
       "<style scoped>\n",
       "    .dataframe tbody tr th:only-of-type {\n",
       "        vertical-align: middle;\n",
       "    }\n",
       "\n",
       "    .dataframe tbody tr th {\n",
       "        vertical-align: top;\n",
       "    }\n",
       "\n",
       "    .dataframe thead th {\n",
       "        text-align: right;\n",
       "    }\n",
       "</style>\n",
       "<table border=\"1\" class=\"dataframe\">\n",
       "  <thead>\n",
       "    <tr style=\"text-align: right;\">\n",
       "      <th></th>\n",
       "      <th>true</th>\n",
       "      <th>pred</th>\n",
       "    </tr>\n",
       "  </thead>\n",
       "  <tbody>\n",
       "    <tr>\n",
       "      <th>65</th>\n",
       "      <td>NaN</td>\n",
       "      <td>NaN</td>\n",
       "    </tr>\n",
       "    <tr>\n",
       "      <th>76</th>\n",
       "      <td>NaN</td>\n",
       "      <td>NaN</td>\n",
       "    </tr>\n",
       "    <tr>\n",
       "      <th>80</th>\n",
       "      <td>NaN</td>\n",
       "      <td>NaN</td>\n",
       "    </tr>\n",
       "  </tbody>\n",
       "</table>\n",
       "</div>"
      ],
      "text/plain": [
       "   true pred\n",
       "65  NaN  NaN\n",
       "76  NaN  NaN\n",
       "80  NaN  NaN"
      ]
     },
     "execution_count": 202,
     "metadata": {},
     "output_type": "execute_result"
    }
   ],
   "source": [
    "results = pd.DataFrame(\n",
    "    None,\n",
    "    index = df_test['Y'].index,\n",
    "    columns = ['true', 'pred'],\n",
    ")\n",
    "results.head(3)"
   ]
  },
  {
   "cell_type": "code",
   "execution_count": 203,
   "id": "24f1445c",
   "metadata": {},
   "outputs": [
    {
     "data": {
      "text/html": [
       "<div>\n",
       "<style scoped>\n",
       "    .dataframe tbody tr th:only-of-type {\n",
       "        vertical-align: middle;\n",
       "    }\n",
       "\n",
       "    .dataframe tbody tr th {\n",
       "        vertical-align: top;\n",
       "    }\n",
       "\n",
       "    .dataframe thead th {\n",
       "        text-align: right;\n",
       "    }\n",
       "</style>\n",
       "<table border=\"1\" class=\"dataframe\">\n",
       "  <thead>\n",
       "    <tr style=\"text-align: right;\">\n",
       "      <th></th>\n",
       "      <th>true</th>\n",
       "      <th>pred</th>\n",
       "    </tr>\n",
       "  </thead>\n",
       "  <tbody>\n",
       "    <tr>\n",
       "      <th>65</th>\n",
       "      <td>0</td>\n",
       "      <td>0.28295</td>\n",
       "    </tr>\n",
       "    <tr>\n",
       "      <th>76</th>\n",
       "      <td>1</td>\n",
       "      <td>0.684565</td>\n",
       "    </tr>\n",
       "    <tr>\n",
       "      <th>80</th>\n",
       "      <td>1</td>\n",
       "      <td>0.743156</td>\n",
       "    </tr>\n",
       "  </tbody>\n",
       "</table>\n",
       "</div>"
      ],
      "text/plain": [
       "    true      pred\n",
       "65     0   0.28295\n",
       "76     1  0.684565\n",
       "80     1  0.743156"
      ]
     },
     "execution_count": 203,
     "metadata": {},
     "output_type": "execute_result"
    }
   ],
   "source": [
    "results['true'] = df_test['Y']\n",
    "results.loc[index_casetype1frac_true, 'pred'] = pd.Series(\n",
    "    pred_proba_casetype1frac_true,\n",
    "    index = index_casetype1frac_true,\n",
    ")\n",
    "results.loc[index_casetype1frac_false, 'pred'] = pd.Series(\n",
    "    pred_proba_casetype1frac_false,\n",
    "    index = index_casetype1frac_false,\n",
    ")\n",
    "\n",
    "results.head(3)"
   ]
  },
  {
   "cell_type": "markdown",
   "id": "2f8ff38d",
   "metadata": {},
   "source": [
    "Рассчитаем метрики и оценим результат."
   ]
  },
  {
   "cell_type": "code",
   "execution_count": 204,
   "id": "43428326",
   "metadata": {},
   "outputs": [
    {
     "name": "stdout",
     "output_type": "stream",
     "text": [
      "roc auc:  0.94074\n",
      "accuracy: 0.87500\n",
      "ac.const: 0.62500\n",
      "\n",
      "confusion matrix:\n",
      "[[0.25  0.125]\n",
      " [0.    0.625]]\n"
     ]
    }
   ],
   "source": [
    "print_metrics(results['true'].values, results['pred'].values)"
   ]
  },
  {
   "cell_type": "code",
   "execution_count": 205,
   "id": "3187266d",
   "metadata": {},
   "outputs": [
    {
     "data": {
      "image/png": "[encoded data removed]",
      "text/plain": [
       "<Figure size 432x288 with 1 Axes>"
      ]
     },
     "metadata": {},
     "output_type": "display_data"
    }
   ],
   "source": [
    "sns.histplot(results['pred'].values, bins=20)\n",
    "plt.show()"
   ]
  },
  {
   "cell_type": "markdown",
   "id": "de8c4aa9",
   "metadata": {},
   "source": [
    "ROC-AUC не изменился по сравнению с исходными ансамблями (значения ROC-AUC ансамблей равны между собой).\n",
    "\n",
    "Точность - также без изменений.\n",
    "\n",
    "Гистограмма, как и в предыдущем случае, состоит из двух половинок от двух соответствующих гистограмм исходных ансамблей."
   ]
  },
  {
   "cell_type": "code",
   "execution_count": 206,
   "id": "58dd7995",
   "metadata": {},
   "outputs": [
    {
     "data": {
      "text/plain": [
       "0.02101693921891573"
      ]
     },
     "execution_count": 206,
     "metadata": {},
     "output_type": "execute_result"
    }
   ],
   "source": [
    "np.min(np.abs(results['pred'].values - 0.5))"
   ]
  },
  {
   "cell_type": "markdown",
   "id": "4f893cdb",
   "metadata": {},
   "source": [
    "## Вывод по обучению моделей"
   ]
  },
  {
   "cell_type": "markdown",
   "id": "9356a364",
   "metadata": {},
   "source": [
    "Обучено 6 различных моделей (ансамблей):\n",
    "1. Базовая одиночная* модель, обученная на всех имеющихся признаках, гиперпараметры (далее - ГП) заданы произвольно.\n",
    "\n",
    "Самая первая модель. Отправная точка для дальнейших идей и экспериментов. ROC-AUC = 0.97778; accuracy = 0.87500.\n",
    "\n",
    "\\* *под одиночной моделью здесь и далее понимается ансамбль из 45 моделей (5 folds * 3 repeats * 3 seeds), обученных в один проход.*\n",
    "\n",
    "2. Базовая одиночная модель, обученная на части признаков, ГП - те же, что в п.1.\n",
    "\n",
    "Отброшены малозначимые (по итогам обучения модели из п.1) признаки, а также признак caseType_1_frac (подробнее о нём - в разделе). Присутствие признака caseType_1_frac не является утечкой формально (целевой признак от него не зависит), но фактически приносит схожий эффект. Цель эксперимента - научить модель обходиться без признака caseType_1_frac. ROC-AUC = 0.97037; accuracy = 0.87500.\n",
    "\n",
    "3. Ансамбль из 10 отобранных моделей, обученных на всех имеющихся признаках, диапазоны ГП заданы произвольно.\n",
    "\n",
    "Сформирована сетка ГП, построено 200 моделей со случайно выбранными наборами ГП, отобраны 10 моделей с самым высоким средним ROC-AUC на валидации. Результат по ROC-AUC - ниже, чем у базовой модели (п.1), однако, есть основания полагать, что ансамбль будет работать стабильнее на новых данных. Желательно это проверить в дальнейшем. ROC-AUC = 0.94074; accuracy = 0.87500.\n",
    "\n",
    "4. Ансамбль из 10 отобранных моделей, обученных на части признаков, диапазоны ГП - те же, что в п.3.\n",
    "\n",
    "Отброшены малозначимые (по итогам обучения моделей из п.3) признаки, а также признак caseType_1_frac. Цель - создать ансамбль моделей, устойчивых к отсутствию признака caseType_1_frac. ROC-AUC = 0.94074; accuracy = 0.87500.\n",
    "\n",
    "5. Является комбинацией п.п. 1 и 2.\n",
    "\n",
    "Тестовая выборка разделена на две части: в первой части признак caseType_1_frac не равен нулю, во второй - равен. Модель из п.1 работает с первой частью выборки, модель из п.2 - со второй. Идея такова. Если есть данные о судах о банкротстве, то мы их используем. Если нет таких данных - в дело вступает модель, которой эти данные не нужны. ROC-AUC = 0.97778; accuracy = 0.87500.\n",
    "\n",
    "6. Является комбинацией п.п. 3 и 4.\n",
    "\n",
    "Идея аналогична п.5, только вместо базовых моделей используются ансамбли отобранных моделей. ROC-AUC = 0.94074; accuracy = 0.87500.\n",
    "\n",
    "Точность любой из моделей - выше, чем точность константной модели (acc.const = 0.625), т.е. все модели являются адекватными. Ни одна из моделей не даёт ложноотрицательных ответов.\n",
    "\n",
    "Лучший результат продемонстрировал ансамбль, описанный в п.5: совмещение базовых моделей, одна из которых обучена на полном наборе признаков, а другая - на сокращённом. Ещё раз покажем результат: ROC-AUC = 0.97778; accuracy = 0.87500."
   ]
  },
  {
   "cell_type": "markdown",
   "id": "ec53f5cc",
   "metadata": {},
   "source": [
    "# Общий вывод по работе"
   ]
  },
  {
   "cell_type": "markdown",
   "id": "2aac87a2",
   "metadata": {},
   "source": [
    "**Предобработка данных**\n",
    "\n",
    "Данные собраны из разных источников и в исходном состоянии имеют разный вид: часть данных - в двух таблицах, другая часть - в отдельных файлах.\n",
    "\n",
    "Заполнены пропуски, удалены дубликаты, выявлены и обработаны аномалии. Проверена полнота данных в разрезе компаний: удалены те компании, по которым часть данных отсутствовала.\n",
    "\n",
    "Состояние исходных данных можно оценить как хорошее: на этапе предобработки удалено только 6,2% данных, а заполнение пропусков не привело к искажениям.\n",
    "\n",
    "**Исследовательский анализ данных (EDA)**\n",
    "\n",
    "Проанализированы факторы, влияющие на вероятность банкротства. Выявлены некоторые закономерности, подробно описанные в выводах внутри раздела. Обобщая, можно отметить, что в большинстве случаев банкротство не случается внезапно, и существует много признаков, указывающих на его скорое приближение. Некоторые признаки видны \"невооружённым глазом\", другие - выявляются моделью.\n",
    "\n",
    "**Извлечение признаков**\n",
    "\n",
    "Датасет построен относительно компаний (одна компания - одна строка).\n",
    "\n",
    "Табличные данные рассмотрены как временные ряды, поскольку они содержат информацию по годам. Признаки сформированы на основе агрегированного представления ряда. Признаки в виде временных рядов (лаги, диффы и т.п.) не создавались, поскольку исходные временные ряды имеют разную длину и определены на разных отрезках временной оси. Некоторые признаки, а именно - булевы признаки, отражающие факт монотонности ряда, - оказались избыточными (не востребованы моделью).\n",
    "\n",
    "Данные о судах, собранные из файлов, представлены тоже в агрегированном виде, поскольку количество судебных дел различается по компаниям. Категориальные переменные выражены через относительную частоту категорий, вещественные - через статистики.\n",
    "\n",
    "Размер датасета: 154 строки; 55 столбцов.\n",
    "\n",
    "**Построение моделей**\n",
    "\n",
    "Выбранные метрики для оценки моделей: ROC-AUC, accuracy, confusion matrix. Эти метрики позволяют оценить точность модели, её стабильность, а также проанализировать характер ошибок. Ложноположительные ответы - это менее критичные ошибки, чем ответы ложноотрицательные. Поэтому важно понимать, какая именно ошибка повлияла на снижение точности (подробнее - в разделе).\n",
    "\n",
    "Выделен целевой признак - факт банкротства.\n",
    "\n",
    "Датасет разделён на обучающую и тестовую выборки в соотношении 0.85/0.15.\n",
    "\n",
    "Обучение выполнено с применением 5-fold кросс-валидации, тремя вариантами разделения выборки на фолды (repeats), тремя вариантами инициализации модели перед обучением (lgbm seeds).\n",
    "\n",
    "Обучено 6 различных моделей (ансамблей), подробно описанных в выводах по разделу. Лучший результат продемонстрировал ансамбль, где одна модель* обрабатывает строки, в которых есть информация о делах о банкротстве (признак caseType_1_frac не равен нулю), а другая модель - остальные строки. Результат: ROC-AUC = 0.97778; accuracy = 0.87500. Ложноотрицательных ответов нет, а по гистограмме видно, что модель в случае ошибки более склонна к ложноположительным ответам. Это - хорошо, так как ложноположительные ответы менее опасны (подробнее - в подразделе \"Выбор метрик\" в абзаце о Confusion matrix).\n",
    "\n",
    "\\* *под одиночной моделью здесь понимается ансамбль из 45 моделей (5 folds * 3 repeats * 3 seeds), обученных в один проход.*\n",
    "\n",
    "**Заключение**\n",
    "\n",
    "Исследование проводилось, главным образом, в разрезе компаний. Несмотря на весьма малый размер выборки (~150 компаний), удалось получить чёткие незашумлённые результаты исследования и сделать вполне определённые выводы. Также удалось построить модель (фактически - ансамбль из 90 моделей), которая предсказывает банкротство с высокой точностью. Ошибки модели - не фатальные: модель склонна \"перестраховываться\" и иногда предсказывает банкротство, когда его нет, но не наоборот."
   ]
  }
 ],
 "metadata": {
  "kernelspec": {
   "display_name": "Python 3",
   "language": "python",
   "name": "python3"
  },
  "language_info": {
   "codemirror_mode": {
    "name": "ipython",
    "version": 3
   },
   "file_extension": ".py",
   "mimetype": "text/x-python",
   "name": "python",
   "nbconvert_exporter": "python",
   "pygments_lexer": "ipython3",
   "version": "3.8.5"
  }
 },
 "nbformat": 4,
 "nbformat_minor": 5
}
