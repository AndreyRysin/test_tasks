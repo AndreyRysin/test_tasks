{
 "cells": [
  {
   "cell_type": "markdown",
   "id": "21cec676",
   "metadata": {},
   "source": [
    "# Description"
   ]
  },
  {
   "cell_type": "markdown",
   "id": "f45be34d",
   "metadata": {},
   "source": [
    "This is the transfer learning pipeline.\n",
    "\n",
    "The backbone pretrained model is ResNet50. On the top two linear layers with activations were added.\n",
    "\n",
    "All the desctiptions of the following classes and functions are given in \\#002 and \\#003 notebooks. Here the final versions of them are used."
   ]
  },
  {
   "cell_type": "markdown",
   "id": "9feab550",
   "metadata": {},
   "source": [
    "## Result metrics"
   ]
  },
  {
   "cell_type": "markdown",
   "id": "2a8cbe62",
   "metadata": {},
   "source": [
    "mIoU 73%, classification accuracy 97%, 3.55ms, 13535 train, 271 valid, 407 test"
   ]
  },
  {
   "cell_type": "markdown",
   "id": "0f76890f",
   "metadata": {},
   "source": [
    "# Imports and environment"
   ]
  },
  {
   "cell_type": "code",
   "execution_count": 1,
   "id": "10b23e78",
   "metadata": {},
   "outputs": [],
   "source": [
    "import numpy as np\n",
    "from matplotlib import pyplot as plt\n",
    "import datetime\n",
    "import pickle\n",
    "import os\n",
    "from copy import deepcopy\n",
    "\n",
    "import torch\n",
    "import torch.nn as nn\n",
    "from torchvision import models\n",
    "from torch.utils.data import TensorDataset, DataLoader\n",
    "import torch.optim as optim\n",
    "\n",
    "from IPython.display import display as disp\n",
    "from IPython.display import clear_output"
   ]
  },
  {
   "cell_type": "markdown",
   "id": "96ca12dd",
   "metadata": {},
   "source": [
    "# Loading the dataset"
   ]
  },
  {
   "cell_type": "markdown",
   "id": "b4f92e47",
   "metadata": {},
   "source": [
    "The preprocessing class code is here for compatibility with pickle that loads an instance of this class (the dataset).\n",
    "\n",
    "It is the same as in the preprocessing pipeline and it is no sense to skim it again."
   ]
  },
  {
   "cell_type": "code",
   "execution_count": 2,
   "id": "7845684f",
   "metadata": {
    "jupyter": {
     "source_hidden": true
    }
   },
   "outputs": [],
   "source": [
    "class image_objects():\n",
    "    \"\"\"\n",
    "    Image loading and preprocessing.\n",
    "    \"\"\"\n",
    "    \n",
    "    def __init__(self, path, filenames,):\n",
    "        \"\"\"\n",
    "        Initialization.\n",
    "        Loads the metadata from a local disk.\n",
    "        path : files directory\n",
    "        filenames : array of the arrays of the two items (jpg and txt) for each image\n",
    "        \"\"\"\n",
    "        self.path = path\n",
    "        self.filenames = filenames\n",
    "        self.augmentation_is_done = False\n",
    "        \n",
    "        self.meta_raw = []\n",
    "        for i in np.arange(self.filenames.shape[0]):\n",
    "            with open(f'{self.path}{self.filenames[i, 1]}', 'r') as f:\n",
    "                string = f.read()\n",
    "            self.meta_raw.append(np.array(string.split(' '), dtype='int'))\n",
    "        \n",
    "        self.meta_raw = np.array(self.meta_raw)\n",
    "    \n",
    "    \n",
    "    def split_indices(self, valid_frac, test_frac,):\n",
    "        \"\"\"\n",
    "        Splits the indices to the train, validation and test samples.\n",
    "        \"\"\"\n",
    "        index = np.arange(self.meta_raw.shape[0])\n",
    "        labels = self.meta_raw[:, 0].copy()\n",
    "        classes = np.unique(self.meta_raw[:, 0])\n",
    "\n",
    "        index_by_class = []\n",
    "\n",
    "        for i in np.arange(classes.shape[0]):\n",
    "            index_by_class.append(index[labels == classes[i]])\n",
    "            np.random.shuffle(index_by_class[i])\n",
    "\n",
    "            bounds = np.array(\n",
    "                [\n",
    "                    index_by_class[i].shape[0] * (1 - (valid_frac + test_frac)),\n",
    "                    index_by_class[i].shape[0] * (1 - test_frac),\n",
    "                ],\n",
    "                dtype = 'int'\n",
    "            )\n",
    "\n",
    "            index_by_class[i] = [\n",
    "                index_by_class[i][:bounds[0]],\n",
    "                index_by_class[i][bounds[0]:bounds[1]],\n",
    "                index_by_class[i][bounds[1]:],\n",
    "            ]\n",
    "\n",
    "        self.index_tr_basic = np.array([], dtype='int')\n",
    "        self.index_va = np.array([], dtype='int')\n",
    "        self.index_te = np.array([], dtype='int')\n",
    "\n",
    "        for i in np.arange(classes.shape[0]):\n",
    "            self.index_tr_basic = np.append(self.index_tr_basic, index_by_class[i][0])\n",
    "            self.index_va = np.append(self.index_va, index_by_class[i][1])\n",
    "            self.index_te = np.append(self.index_te, index_by_class[i][2])\n",
    "\n",
    "        np.random.shuffle(self.index_tr_basic)\n",
    "        np.random.shuffle(self.index_va)\n",
    "        np.random.shuffle(self.index_te)\n",
    "\n",
    "        print(self.index_tr_basic.shape)\n",
    "        print(self.index_va.shape)\n",
    "        print(self.index_te.shape)\n",
    "\n",
    "\n",
    "    def transform(self, size=256, subtract_mean=False,):\n",
    "        \"\"\"\n",
    "        Transforms the images from raw to input-ready format.\n",
    "        size : size of the final square image\n",
    "        \"\"\"\n",
    "        self.size = size\n",
    "        self.meta_bw = self.meta_raw.copy()\n",
    "        self.meta_padded = self.meta_raw.copy()\n",
    "        self.meta_resized = self.meta_padded.copy()\n",
    "        self.pads = np.zeros((self.filenames.shape[0], 4), dtype='int')\n",
    "        self.size_raw = []\n",
    "        self.imgs = []\n",
    "        \n",
    "        for i in np.arange(self.filenames.shape[0]):\n",
    "            img = np.array(Image.open(f'{self.path}{self.filenames[i, 0]}'))\n",
    "            if img.ndim == 2:\n",
    "                img = np.expand_dims(img, 2)\n",
    "            self.size_raw.append(img.shape[:2])\n",
    "        \n",
    "            # Black and white\n",
    "            img = np.mean(img, axis=2, dtype='int')\n",
    "            \n",
    "            # Padding\n",
    "            self.pads[i, 0] = (np.max(img.shape[:2]) - img.shape[0]) // 2                     # top\n",
    "            self.pads[i, 1] = (np.max(img.shape[:2]) - img.shape[0]) // 2 + img.shape[0] % 2  # bottom\n",
    "            self.pads[i, 2] = (np.max(img.shape[:2]) - img.shape[1]) // 2                     # left\n",
    "            self.pads[i, 3] = (np.max(img.shape[:2]) - img.shape[1]) // 2 + img.shape[1] % 2  # right\n",
    "            \n",
    "            img = cv2.copyMakeBorder(img, *self.pads[i], cv2.BORDER_REPLICATE)\n",
    "            self.meta_padded[i, 1] += self.pads[i, 2]\n",
    "            self.meta_padded[i, 2] += self.pads[i, 0]\n",
    "            self.meta_padded[i, 3] += self.pads[i, 3]\n",
    "            self.meta_padded[i, 4] += self.pads[i, 1]\n",
    "            \n",
    "            # Resizing\n",
    "            img = cv2.resize(img.astype('float64'), (self.size, self.size), interpolation=cv2.INTER_CUBIC)\n",
    "            self.meta_resized[i] = self.meta_padded[i]\n",
    "            self.meta_resized[i, 1:5] = np.round(self.meta_resized[i, 1:5] * (self.size / np.max(self.size_raw[i])), 0).astype('int')\n",
    "            \n",
    "            # Adding an image to the list\n",
    "            self.imgs.append(np.array(img, dtype='uint8'))\n",
    "        \n",
    "        # Forming the array of images\n",
    "        self.imgs = np.array(self.imgs, dtype='uint8')\n",
    "        \n",
    "        # Subtracting the mean\n",
    "        if subtract_mean:\n",
    "            mean = np.round(np.mean(self.imgs[self.index_tr_basic]), 0).astype('uint8')\n",
    "            self.imgs -= mean\n",
    "\n",
    "        self.size_raw = np.array(self.size_raw)\n",
    "        \n",
    "        self.print_imgs_array_details()\n",
    "    \n",
    "    \n",
    "    def show(self, i=None, mode='resized', roi=True,):\n",
    "        \"\"\"\n",
    "        Displays the image.\n",
    "        mode : \"raw\", \"bw\", \"padded\", \"resized\"\n",
    "        roi : bool\n",
    "        \"\"\"\n",
    "        # Choosing the item\n",
    "        i = i if i != None else np.random.randint(0, self.filenames.shape[0])\n",
    "        print(i)\n",
    "\n",
    "        # Loading the raw image if necessary\n",
    "        if mode != 'mask':\n",
    "            img_raw = np.array(Image.open(f'{self.path}{self.filenames[i, 0]}'))\n",
    "        \n",
    "        # Computing the image\n",
    "        if mode == 'raw':\n",
    "            img = img_raw\n",
    "            ax_img = plt.imshow(img)\n",
    "            meta = self.meta_raw[i]\n",
    "        elif mode == 'bw':\n",
    "            img = np.mean(img_raw, axis=2, dtype='int')\n",
    "            ax_img = plt.imshow(img, cmap='gray', vmin=0, vmax=255)\n",
    "            meta = self.meta_bw[i]\n",
    "        elif mode == 'padded':\n",
    "            img = cv2.copyMakeBorder(np.mean(img_raw, axis=2, dtype='int'), *self.pads[i], cv2.BORDER_REPLICATE)\n",
    "            ax_img = plt.imshow(img, cmap='gray', vmin=0, vmax=255)\n",
    "            meta = self.meta_padded[i]\n",
    "        if mode == 'resized':\n",
    "            img = cv2.resize(\n",
    "                cv2.copyMakeBorder(np.mean(img_raw, axis=2, dtype='int'), *self.pads[i], cv2.BORDER_REPLICATE).astype('float64'), \n",
    "                (self.size, self.size),\n",
    "                interpolation=cv2.INTER_CUBIC\n",
    "            )\n",
    "            ax_img = plt.imshow(img, cmap='gray', vmin=0, vmax=255)\n",
    "            try:\n",
    "                meta = self.meta_resized[i]\n",
    "            except:\n",
    "                meta = self.meta_augment[i]\n",
    "        if mode == 'mask':\n",
    "            img = self.imgs[i, 1]\n",
    "            ax_img = plt.imshow(img, cmap='gray', vmin=0, vmax=255)\n",
    "            try:\n",
    "                meta = self.meta_resized[i]\n",
    "            except:\n",
    "                meta = self.meta_augment[i]\n",
    "        \n",
    "        # Plotting the image\n",
    "        disp(meta)\n",
    "        ax = []\n",
    "        ax.append(ax_img)\n",
    "        if roi:\n",
    "            ax.append(plt.vlines((meta[1], meta[3],), meta[2], meta[4], colors='red'))\n",
    "            ax.append(plt.hlines((meta[2], meta[4],), meta[1], meta[3], colors='red'))\n",
    "        plt.show(ax)\n",
    "    \n",
    "    \n",
    "    def augmentation(self,):\n",
    "        \"\"\"\n",
    "        Implementation of the augmentation.\n",
    "        \"\"\"\n",
    "        if self.augmentation_is_done is not True:\n",
    "            self.imgs = np.append(self.imgs, np.flip(self.imgs[self.index_tr_basic], axis=2), axis=0)\n",
    "            self.imgs = np.append(self.imgs, np.transpose(self.imgs[self.index_tr_basic], axes=(0, 2, 1)), axis=0)\n",
    "            self.imgs = np.append(self.imgs, np.flip(np.transpose(self.imgs[self.index_tr_basic], axes=(0, 2, 1)), axis=2), axis=0)\n",
    "            self.imgs = np.append(self.imgs, np.flip(self.imgs[self.index_tr_basic], axis=1), axis=0)\n",
    "\n",
    "            meta_1 = self.meta_resized[self.index_tr_basic].copy()\n",
    "            meta_2 = self.meta_resized[self.index_tr_basic].copy()\n",
    "            meta_3 = self.meta_resized[self.index_tr_basic].copy()\n",
    "            meta_4 = self.meta_resized[self.index_tr_basic].copy()\n",
    "\n",
    "            meta_1[:, 1] = self.size - self.meta_resized[self.index_tr_basic][:, 3]\n",
    "            meta_1[:, 3] = self.size - self.meta_resized[self.index_tr_basic][:, 1]\n",
    "\n",
    "            meta_2[:, 1] = meta_1[:, 2]\n",
    "            meta_2[:, 2] = self.size - meta_1[:, 3]\n",
    "            meta_2[:, 3] = meta_1[:, 4]\n",
    "            meta_2[:, 4] = self.size - meta_1[:, 1]\n",
    "\n",
    "            meta_3[:, 1] = self.size - meta_2[:, 3]\n",
    "            meta_3[:, 2] = meta_2[:, 2]\n",
    "            meta_3[:, 3] = self.size - meta_2[:, 1]\n",
    "            meta_3[:, 4] = meta_2[:, 4]\n",
    "\n",
    "            meta_4[:, 2] = self.size - self.meta_resized[self.index_tr_basic][:, 4]\n",
    "            meta_4[:, 4] = self.size - self.meta_resized[self.index_tr_basic][:, 2]\n",
    "\n",
    "            self.meta_augment = self.meta_resized.copy()\n",
    "            self.meta_augment = np.append(self.meta_augment, meta_1, axis=0)\n",
    "            self.meta_augment = np.append(self.meta_augment, meta_2, axis=0)\n",
    "            self.meta_augment = np.append(self.meta_augment, meta_3, axis=0)\n",
    "            self.meta_augment = np.append(self.meta_augment, meta_4, axis=0)\n",
    "        \n",
    "        self.index_tr = self.index_tr_basic.copy()\n",
    "        self.index_tr = np.append(self.index_tr, np.arange(self.filenames.shape[0], self.imgs.shape[0]))\n",
    "        \n",
    "        self.meta_ready = self.meta_augment.copy().astype('float64')\n",
    "        self.meta_ready[:, 0][self.meta_ready[:, 0] == 2] = 0\n",
    "        self.meta_ready[:, 1:] = self.meta_ready[:, 1:] * 1. / self.size\n",
    "        \n",
    "        self.augmentation_is_done = True\n",
    "        self.print_imgs_array_details()\n",
    "        \n",
    "\n",
    "    def print_imgs_array_details(self,):\n",
    "        \"\"\"\n",
    "        Displays imgs array shape, memory usage and dtype.\n",
    "        \"\"\"\n",
    "        print(self.imgs.shape)\n",
    "        print(images.imgs.nbytes // 1024**2, 'Mb')\n",
    "        print(self.imgs.dtype)\n",
    "    \n",
    "    \n",
    "    def unsqueeze_imgs(self,):\n",
    "        \"\"\"\n",
    "        Inserts additional dimention in the second position (dim 1).\n",
    "        \n",
    "        For example:\n",
    "        Shape: (1000, 192, 192) ---> (1000, 1, 192, 192)\n",
    "        \"\"\"\n",
    "        self.imgs = self.imgs.reshape(self.imgs.shape[0], 1, self.imgs.shape[1], self.imgs.shape[2])\n",
    "        self.print_imgs_array_details()\n",
    "    \n",
    "    \n",
    "    def create_roi_masks(self,):\n",
    "        \"\"\"\n",
    "        Creates the binary layer where pixels of ROI are ones and others are zeros.\n",
    "        USING THIS FOR TRAINING IS A LEAK!!!\n",
    "        \"\"\"\n",
    "        self.imgs = self.imgs.reshape(self.imgs.shape[0], 1, self.imgs.shape[1], self.imgs.shape[2])\n",
    "        self.imgs = np.concatenate((self.imgs, np.full(self.imgs.shape, 255, dtype='uint8')), axis=1)\n",
    "        \n",
    "        for i in np.arange(self.imgs.shape[0]):\n",
    "            self.imgs[\n",
    "                i,\n",
    "                1,\n",
    "                self.meta_augment[i, 2] : self.meta_augment[i, 4],\n",
    "                self.meta_augment[i, 1] : self.meta_augment[i, 3],\n",
    "            ] = 0\n",
    "        \n",
    "        self.print_imgs_array_details()\n",
    "    \n",
    "    \n",
    "    def augmentation_show(self, i=None, mask=False,):\n",
    "        \"\"\"\n",
    "        Displays the set of images after augmentation.\n",
    "        \"\"\"\n",
    "        i = i if i != None else np.random.randint(0, self.index_tr_basic.shape[0])\n",
    "        print(i)\n",
    "        print(self.index_tr_basic[i])\n",
    "        \n",
    "        AUGS = 5\n",
    "        fig, ax = plt.subplots(1, AUGS, figsize=(20, 5))\n",
    "        \n",
    "        for aug in np.arange(AUGS):\n",
    "            if aug == 0:\n",
    "                j = self.index_tr_basic[i]\n",
    "            else:\n",
    "                j = self.filenames.shape[0] + i + (aug - 1) * self.index_tr_basic.shape[0]\n",
    "            disp(self.meta_augment[j])\n",
    "            if self.imgs.ndim == 3:\n",
    "                ax[aug].imshow(self.imgs[j], cmap='gray',)\n",
    "            elif self.imgs.ndim == 4:\n",
    "                layer = 1 if mask else 0\n",
    "                ax[aug].imshow(self.imgs[j, layer], cmap='gray',)\n",
    "            ax[aug].vlines((self.meta_augment[j, 1], self.meta_augment[j, 3],), self.meta_augment[j, 2], self.meta_augment[j, 4], colors='red')\n",
    "            ax[aug].hlines((self.meta_augment[j, 2], self.meta_augment[j, 4],), self.meta_augment[j, 1], self.meta_augment[j, 3], colors='red')\n",
    "\n",
    "        plt.show(fig)"
   ]
  },
  {
   "cell_type": "markdown",
   "id": "fc2b8dc4",
   "metadata": {},
   "source": [
    "## Loading with pickle"
   ]
  },
  {
   "cell_type": "code",
   "execution_count": 3,
   "id": "bad10f82",
   "metadata": {},
   "outputs": [],
   "source": [
    "with open('./data/images256.pkl', 'rb') as f:\n",
    "    images = pickle.load(f)"
   ]
  },
  {
   "cell_type": "markdown",
   "id": "3065268a",
   "metadata": {},
   "source": [
    "# Modelling"
   ]
  },
  {
   "cell_type": "markdown",
   "id": "1d9cdaf4",
   "metadata": {},
   "source": [
    "## Classes and functions"
   ]
  },
  {
   "cell_type": "markdown",
   "id": "987903e3",
   "metadata": {},
   "source": [
    "### Trainer"
   ]
  },
  {
   "cell_type": "code",
   "execution_count": 4,
   "id": "f2abb686",
   "metadata": {},
   "outputs": [],
   "source": [
    "class Trainer():\n",
    "    \"\"\"\n",
    "    Implementation of the neural network training process.\n",
    "    \"\"\"\n",
    "\n",
    "    def __init__(\n",
    "        self,\n",
    "        model,\n",
    "        criterion,\n",
    "        cuda_number = torch.cuda.current_device(),\n",
    "    ):\n",
    "        self.cuda_number = cuda_number\n",
    "        self.model = model.cuda(self.cuda_number)\n",
    "        self.criterion = criterion\n",
    "    \n",
    "    \n",
    "    def epoch_func(self, epoch, mode, loader, y,):\n",
    "        '''\n",
    "        Implementation of the training and the validation during one epoch.\n",
    "        '''\n",
    "        # Time of the beginning\n",
    "        time_begin = datetime.datetime.now()\n",
    "        \n",
    "        # Model mode: train or eval ('eval' is the mode for prediction)\n",
    "        if mode == 'train':\n",
    "            self.model.train()\n",
    "        elif ((mode == 'valid') | (mode == 'test')):\n",
    "            self.model.eval()\n",
    "        \n",
    "        # Initializing global vars\n",
    "        y_pred = torch.cuda.FloatTensor([])\n",
    "        epoch_loss = 0\n",
    "        epoch_loss_mciou = 0\n",
    "        epoch_loss_bce = 0\n",
    "        batches = 0\n",
    "        PIXEL_VALUES_RANGE = 255\n",
    "        \n",
    "        # Batch loop\n",
    "        for batch in loader:\n",
    "            X_batch = batch[0].cuda(self.cuda_number) * 1. / PIXEL_VALUES_RANGE\n",
    "            y_batch = batch[1].cuda(self.cuda_number)\n",
    "        \n",
    "            # Computing\n",
    "            try:\n",
    "                y_pred_batch = self.model(X_batch)\n",
    "            except:\n",
    "                y_pred_batch = self.model(torch.cat((X_batch, X_batch, X_batch,), 1))\n",
    "            batch_loss, batch_loss_bce, batch_loss_mciou = self.criterion(y_pred_batch, y_batch)\n",
    "            \n",
    "            if mode == 'train':\n",
    "                self.optimizer.zero_grad()\n",
    "                batch_loss.backward()\n",
    "                self.optimizer.step()\n",
    "            elif ((mode == 'valid') | (mode == 'test')):\n",
    "                batch_loss.backward()\n",
    "        \n",
    "            # Collecting batch results\n",
    "            epoch_loss += batch_loss.item()\n",
    "            epoch_loss_bce += batch_loss_bce.item()\n",
    "            epoch_loss_mciou += batch_loss_mciou.item()\n",
    "            batches += 1\n",
    "            y_pred = torch.cat((y_pred, y_pred_batch))\n",
    "        \n",
    "        # Loss and metrics\n",
    "        epoch_loss /= batches\n",
    "        epoch_loss_bce /= batches\n",
    "        epoch_loss_mciou /= batches\n",
    "        \n",
    "        accuracy = torch_accuracy_score(\n",
    "            y_pred[:, 0],\n",
    "            y[:, 0],\n",
    "            cuda_number=self.cuda_number\n",
    "        )\n",
    "        \n",
    "        iou_metric = torch_iou(y_pred[:, 1:], y[:, 1:])\n",
    "        miou = iou_metric.mean_iou_score()\n",
    "\n",
    "        if mode == 'train':\n",
    "            self.epoch_loss_tr = epoch_loss\n",
    "            self.epoch_loss_bce_tr = epoch_loss_bce\n",
    "            self.epoch_loss_mciou_tr = epoch_loss_mciou\n",
    "            self.accuracy_tr = accuracy\n",
    "            self.miou_tr = miou\n",
    "            self.walltime_tr = (datetime.datetime.now() - time_begin).total_seconds()\n",
    "        elif mode == 'valid':\n",
    "            self.epoch_loss_va = epoch_loss\n",
    "            self.epoch_loss_bce_va = epoch_loss_bce\n",
    "            self.epoch_loss_mciou_va = epoch_loss_mciou\n",
    "            self.accuracy_va = accuracy\n",
    "            self.miou_va = miou\n",
    "            self.walltime_va = (datetime.datetime.now() - time_begin).total_seconds()\n",
    "        elif mode == 'test':\n",
    "            epoch_loss_te = epoch_loss\n",
    "            accuracy_te = accuracy\n",
    "            miou_te = miou\n",
    "            walltime_te = (datetime.datetime.now() - time_begin) / datetime.timedelta(microseconds=1)\n",
    "        \n",
    "        # Saving state dicts\n",
    "        if mode == 'valid':\n",
    "            self.state_dicts.append(\n",
    "                [\n",
    "                    deepcopy(self.model.state_dict()),\n",
    "                    deepcopy(self.optimizer.state_dict()),\n",
    "                    {\n",
    "                        'epoch': epoch,\n",
    "                        'loss_tr': self.epoch_loss_tr,\n",
    "                        'loss_va': self.epoch_loss_va,\n",
    "                        'acc_tr': self.accuracy_tr,\n",
    "                        'acc_va': self.accuracy_va,\n",
    "                        'loss_bce_tr': self.epoch_loss_bce_tr,\n",
    "                        'loss_bce_va': self.epoch_loss_bce_va,\n",
    "                        'loss_mciou_tr': self.epoch_loss_mciou_tr,\n",
    "                        'loss_mciou_va': self.epoch_loss_mciou_va,\n",
    "                        'miou_tr': self.miou_tr,\n",
    "                        'miou_va': self.miou_va,\n",
    "                    },\n",
    "                ]\n",
    "            )\n",
    "        \n",
    "        # Verbosing\n",
    "        if mode == 'valid':\n",
    "            walltime = self.walltime_tr + self.walltime_va\n",
    "            verbose_string = ('[{:03d}] wall: {:3d}:{:02d},  loss: {:.3f} / {:.3f},  acc.: {:.3f} / {:.3f},  bce_loss: {:.3f} / {:.3f},  mciou_loss: {:.3f} / {:.3f},  miou: {:.3f} / {:.3f}  [{:03d}]'\n",
    "                  .format(\n",
    "                      epoch,\n",
    "                      int(walltime // 60),\n",
    "                      int(walltime % 60),\n",
    "                      self.epoch_loss_tr,\n",
    "                      self.epoch_loss_va,\n",
    "                      self.accuracy_tr,\n",
    "                      self.accuracy_va,\n",
    "                      self.epoch_loss_bce_tr,\n",
    "                      self.epoch_loss_bce_va,\n",
    "                      self.epoch_loss_mciou_tr,\n",
    "                      self.epoch_loss_mciou_va,\n",
    "                      self.miou_tr,\n",
    "                      self.miou_va,\n",
    "                      epoch,\n",
    "                  )\n",
    "                 )\n",
    "            self.verbose_strings.append(verbose_string)\n",
    "            if epoch % self.graph_refreshing_interval == 0:\n",
    "                clear_output(wait=True)\n",
    "                print(f'The training graph is refreshed every {self.graph_refreshing_interval} epochs.')\n",
    "                self.training_graph()\n",
    "                for i in np.arange(len(self.verbose_strings)):\n",
    "                    print(self.verbose_strings[i])\n",
    "            else:\n",
    "                print(verbose_string)\n",
    "        elif mode == 'test':\n",
    "            walltime = np.round((walltime_te / 1e6), 3)  # seconds\n",
    "            inference_time = np.round(((walltime_te / y.shape[0]) / 1e3), 3)  # milliseconds\n",
    "            print('[test] wall: {:.3f}s,  inference: {:.3f}ms,  loss: {:.3f},  acc.: {:.3f},  miou: {:.3f}  [test]'\n",
    "                  .format(\n",
    "                      walltime,\n",
    "                      inference_time,\n",
    "                      epoch_loss_te,\n",
    "                      accuracy_te,\n",
    "                      miou_te,\n",
    "                  )\n",
    "                 )\n",
    "        \n",
    "\n",
    "    def training_graph(self,):\n",
    "        \"\"\"\n",
    "        Plots the training graph.\n",
    "        \"\"\"\n",
    "        # Data array init\n",
    "        training_results = np.empty((len(self.state_dicts), len(self.state_dicts[0][2])), dtype='float64')\n",
    "        \n",
    "        # Collecting the data\n",
    "        for i in np.arange(len(self.state_dicts)):\n",
    "            for j, key in enumerate(self.state_dicts[i][2].keys()):\n",
    "                training_results[i, j] = self.state_dicts[i][2][key]\n",
    "        legend = []\n",
    "        for key in self.state_dicts[0][2].keys():\n",
    "            legend.append(key)\n",
    "        \n",
    "        # Plotting\n",
    "        plt.figure(figsize=(20, 8))\n",
    "        plt.subplot(121)\n",
    "        plt.plot(training_results[:, 0], training_results[:, 5:9])\n",
    "        plt.plot(training_results[:, 0], training_results[:, 1:3])\n",
    "        plt.legend((*legend[5:9], *legend[1:3],))\n",
    "#         plt.xlim((0, (training_results[-1, 0] // 100 + 1) * 100))\n",
    "#         plt.ylim(top=1.)\n",
    "        plt.subplot(122)\n",
    "        plt.plot(training_results[:, 0], training_results[:, 3:5])\n",
    "        plt.plot(training_results[:, 0], training_results[:, 9:11])\n",
    "        plt.legend((*legend[3:5], *legend[9:11],))\n",
    "#         plt.xlim((0, (training_results[-1, 0] // 100 + 1) * 100))\n",
    "        plt.show()\n",
    "\n",
    "    \n",
    "    def fit(\n",
    "        self,\n",
    "        X_tr,\n",
    "        X_va,\n",
    "        y_tr,\n",
    "        y_va,\n",
    "        batch_size,\n",
    "        learning_rate,\n",
    "        optimizer_weight_decay = 0,\n",
    "        optim_scheduler_step_size = 50,\n",
    "        optim_scheduler_gamma = 0.9,\n",
    "        epochs = 1000,\n",
    "        early_stopping_increasing_serie_length = 5,\n",
    "        early_stopping_constant_serie_length = 20,\n",
    "        graph_refreshing_interval = 10,\n",
    "    ):\n",
    "        '''\n",
    "        Implementation of the model training.\n",
    "        '''\n",
    "        # Output vars init\n",
    "        self.state_dicts = []\n",
    "        self.verbose_strings = []\n",
    "        self.graph_refreshing_interval = graph_refreshing_interval\n",
    "        \n",
    "        # Early stopping, walltime init\n",
    "        self.last_epoch_losses_va_increasing = torch.full((early_stopping_increasing_serie_length + 1,), 1e10, dtype=torch.float,).cuda(self.cuda_number)\n",
    "        self.last_epoch_losses_va_constant = torch.arange(0, early_stopping_constant_serie_length + 1, 1, dtype=torch.float,).cuda(self.cuda_number)\n",
    "        self.last_epoch_loss_ratios = torch.full((early_stopping_increasing_serie_length + 1,), 1., dtype=torch.float,).cuda(self.cuda_number)\n",
    "        time_begin = datetime.datetime.now()\n",
    "        \n",
    "        # Optimizer init\n",
    "        self.optimizer = optim.Adam(\n",
    "            self.model.parameters(),\n",
    "            lr = learning_rate,\n",
    "            weight_decay = optimizer_weight_decay,\n",
    "        )\n",
    "        optim_scheduler = optim.lr_scheduler.StepLR(\n",
    "            self.optimizer,\n",
    "            step_size = optim_scheduler_step_size,\n",
    "            gamma = optim_scheduler_gamma,\n",
    "        )\n",
    "        \n",
    "        try:\n",
    "            # Tensors\n",
    "            self.X_tr = torch.FloatTensor(X_tr)\n",
    "            self.X_va = torch.FloatTensor(X_va)\n",
    "            self.y_tr = torch.cuda.FloatTensor(y_tr)\n",
    "            self.y_va = torch.cuda.FloatTensor(y_va)\n",
    "\n",
    "            # Datasets\n",
    "            self.dataset_tr = TensorDataset(self.X_tr, self.y_tr)\n",
    "            self.dataset_va = TensorDataset(self.X_va, self.y_va)\n",
    "\n",
    "            # Loaders\n",
    "            self.loader_tr = DataLoader(self.dataset_tr, batch_size=batch_size,)\n",
    "            self.loader_va = DataLoader(self.dataset_va, batch_size=batch_size,)\n",
    "\n",
    "            # Valid baseline accuracy\n",
    "            try:\n",
    "                baseline_accuracy = y_va[y_va[:, 0] == 0].shape[0] / y_va.shape[0]\n",
    "            except:\n",
    "                baseline_accuracy = y_va[y_va == 0].shape[0] / y_va.shape[0]\n",
    "            print('baseline valid accuracy: {:.5f}\\n'.format(baseline_accuracy))\n",
    "\n",
    "            # Training loop\n",
    "            for epoch in np.arange(epochs):\n",
    "                self.epoch_func(epoch, 'train', self.loader_tr, self.y_tr,)\n",
    "                self.epoch_func(epoch, 'valid', self.loader_va, self.y_va,)\n",
    "                optim_scheduler.step()\n",
    "                if self.early_stopping(epoch):\n",
    "                    break\n",
    "        \n",
    "        except KeyboardInterrupt:\n",
    "            None\n",
    "        \n",
    "        # Clearing the memory\n",
    "        self.clear_cuda_memory()\n",
    "        \n",
    "        # Total walltime\n",
    "        walltime = (datetime.datetime.now() - time_begin).total_seconds()\n",
    "        print('========= Training is finished! =========\\nwall total: {:3d}:{:02d}'.format(int(walltime // 60), int(walltime % 60),))\n",
    "    \n",
    "    \n",
    "    def clear_cuda_memory(self,):\n",
    "        \"\"\"\n",
    "        Clears CUDA memory.\n",
    "        \"\"\"\n",
    "        try:\n",
    "            del self.loader_tr, self.loader_va\n",
    "            del self.dataset_tr, self.dataset_va\n",
    "            del self.X_tr, self.X_va, self.y_tr, self.y_va\n",
    "        except:\n",
    "            None\n",
    "        torch.cuda.empty_cache()\n",
    "    \n",
    "    \n",
    "    def load_state_dicts(\n",
    "        self,\n",
    "        number,\n",
    "        path = './data/models/',\n",
    "    ):\n",
    "        \"\"\"\n",
    "        Loads state dicts.\n",
    "        \"\"\"\n",
    "        # Init\n",
    "        path = path if path[-1] != '/' else path[:-1]\n",
    "        number = '{:03d}'.format(number)\n",
    "        \n",
    "        # Loading\n",
    "        try:\n",
    "            self.model_state_dict_loaded = torch.load(f'{path}/{number}/{number}_MODEL.pt')\n",
    "        except:\n",
    "            self.model_state_dict_loaded = None\n",
    "            print('No MODEL')\n",
    "        \n",
    "        try:\n",
    "            self.optim_state_dict_loaded = torch.load(f'{path}/{number}/{number}_OPTIM.pt')\n",
    "        except:\n",
    "            self.optim_state_dict_loaded = None\n",
    "            print('No OPTIM')\n",
    "        \n",
    "        try:\n",
    "            with open(f'{path}/{number}/{number}_MTRCS.pkl', 'rb') as f:\n",
    "                self.metrics_state_dict_loaded = pickle.load(f)\n",
    "        except:\n",
    "            self.metrics_state_dict_loaded = {}\n",
    "            print('No MTRCS')\n",
    "        \n",
    "        try:\n",
    "            with open(f'{path}/{number}/{number}_DICTS.pkl', 'rb') as f:\n",
    "                self.state_dicts_loaded = pickle.load(f)\n",
    "        except:\n",
    "            print('No list of dicts')\n",
    "    \n",
    "    \n",
    "    def assign_state_dicts(\n",
    "        self,\n",
    "        epoch_from_last_training = None,\n",
    "        epoch_from_loaded_list = None,\n",
    "    ):\n",
    "        \"\"\"\n",
    "        Assigns state dicts to the model and the optimizer.\n",
    "        \"\"\"\n",
    "        # Init\n",
    "        model_dict = None\n",
    "        optim_dict = None\n",
    "        metrics = None\n",
    "        fail_message = 'failed'\n",
    "        \n",
    "        # Defining state dicts for assignment\n",
    "        if epoch_from_last_training != None:\n",
    "            try:\n",
    "                model_dict = self.state_dicts[epoch_from_last_training][0]\n",
    "                optim_dict = self.state_dicts[epoch_from_last_training][1]\n",
    "                metrics = self.state_dicts[epoch_from_last_training][2]\n",
    "            except:\n",
    "                print(fail_message)\n",
    "        elif epoch_from_loaded_list != None:\n",
    "            try:\n",
    "                model_dict = self.state_dicts_loaded[epoch_from_loaded_list][0]\n",
    "                optim_dict = self.state_dicts_loaded[epoch_from_loaded_list][1]\n",
    "                metrics = self.state_dicts_loaded[epoch_from_loaded_list][2]\n",
    "            except:\n",
    "                print(fail_message)\n",
    "        else:\n",
    "            try:\n",
    "                model_dict = self.model_state_dict_loaded\n",
    "                optim_dict = self.optim_state_dict_loaded\n",
    "                metrics = self.metrics_state_dict_loaded\n",
    "            except:\n",
    "                print(fail_message)\n",
    "        \n",
    "        # Assigning\n",
    "        self.model.load_state_dict(model_dict)\n",
    "        self.model.eval()\n",
    "        \n",
    "        try:\n",
    "            self.optimizer.load_state_dict(optim_dict)\n",
    "        except:\n",
    "            print('Optimizer is not initialized\\n')\n",
    "        \n",
    "        print(metrics)\n",
    "    \n",
    "    \n",
    "    def find_best_epoch(\n",
    "        self,\n",
    "        state_dicts_list = None,\n",
    "        win=10,\n",
    "    ):\n",
    "        \"\"\"\n",
    "        Recognizing the epoch with the lowest loss values.\n",
    "        \n",
    "        The algorithm consists of two steps:\n",
    "        1. recognizing the best group of epochs (rolling window);\n",
    "        2. recognizing he best epoch in the best group.\n",
    "        \n",
    "        Definition of the lowest loss: min(train_loss^2 + valid_loss^2)\n",
    "        \"\"\"\n",
    "        # Init\n",
    "        if state_dicts_list == None:\n",
    "            state_dicts_list = self.state_dicts\n",
    "        \n",
    "        # Loss arrays\n",
    "        losses = np.zeros((len(state_dicts_list), 2), dtype='float64')\n",
    "        for i in np.arange(losses.shape[0]):\n",
    "            losses[i, 0] = state_dicts_list[i][2]['loss_tr']\n",
    "            losses[i, 1] = state_dicts_list[i][2]['loss_va']\n",
    "        \n",
    "        # Loss rolling mean arrays\n",
    "        win = win if losses.shape[0] > win else 1\n",
    "        losses_rolling_mean = np.zeros(((losses.shape[0] - win + 1), 2), dtype='float64')\n",
    "        for i in np.arange(losses_rolling_mean.shape[0]):\n",
    "            losses_rolling_mean[i] = np.mean(losses[i : (i + win)], axis=0)\n",
    "        \n",
    "        # Best epoch in two steps\n",
    "        best_win = np.argmin(np.sum(np.square(losses_rolling_mean), axis=1))\n",
    "        best_epoch_number = best_win + np.argmin(np.sum(np.square(losses[best_win : (best_win + win)]), axis=1))\n",
    "        \n",
    "        return best_epoch_number\n",
    "    \n",
    "    \n",
    "    def save_state_dicts(\n",
    "        self,\n",
    "        number,\n",
    "        name = 'test',\n",
    "        path = './data/models/',\n",
    "        only_best_epoch = False,\n",
    "        particular_epoch_number = None,\n",
    "        rolling_window = 10\n",
    "    ):\n",
    "        \"\"\"\n",
    "        Saves state dicts of the model and the optimizer.\n",
    "        \"\"\"\n",
    "        # Init\n",
    "        path = path if path[-1] != '/' else path[:-1]\n",
    "        epoch_number_to_save = -1\n",
    "        number = '{:03d}'.format(number)\n",
    "        \n",
    "        # Defining the epoch number to save\n",
    "        if particular_epoch_number != None:\n",
    "            epoch_number_to_save = particular_epoch_number\n",
    "        elif only_best_epoch:\n",
    "            try:\n",
    "                epoch_number_to_save = self.find_best_epoch(self.state_dicts, win=rolling_window)\n",
    "            except:\n",
    "                print('No state dicts')\n",
    "        else:\n",
    "            None\n",
    "        \n",
    "        # Saving on a disk\n",
    "        try:\n",
    "            os.mkdir(f'{path}/{number}')\n",
    "        except:\n",
    "            None\n",
    "        \n",
    "        if not os.path.exists(f'{path}/{number}/{number}_{name}.txt'):\n",
    "            with open(f'{path}/{number}/{number}_{name}.txt', 'w') as f:\n",
    "                f.write(str(name))\n",
    "        if epoch_number_to_save > -1:\n",
    "            # The particular epoch number\n",
    "            if not (\n",
    "                os.path.exists(f'{path}/{number}/{number}_MODEL.pt')\n",
    "                | os.path.exists(f'{path}/{number}/{number}_OPTIM.pt')\n",
    "                | os.path.exists(f'{path}/{number}/{number}_MTRCS.txt')\n",
    "                | os.path.exists(f'{path}/{number}/{number}_MTRCS.pkl')\n",
    "            ):\n",
    "                torch.save(self.state_dicts[epoch_number_to_save][0], f'{path}/{number}/{number}_MODEL.pt')\n",
    "                torch.save(self.state_dicts[epoch_number_to_save][1], f'{path}/{number}/{number}_OPTIM.pt')\n",
    "                with open(f'{path}/{number}/{number}_MTRCS.txt', 'w') as f:\n",
    "                    f.write(str(self.state_dicts[epoch_number_to_save][2]))\n",
    "                with open(f'{path}/{number}/{number}_MTRCS.pkl', 'wb') as f:\n",
    "                    pickle.dump(self.state_dicts[epoch_number_to_save][2], f)\n",
    "            else:\n",
    "                print('The files already exist')\n",
    "        else:\n",
    "            # The entire list of the state dicts\n",
    "            if not os.path.exists(f'{path}/{number}/{number}_DICTS.pkl'):\n",
    "                with open(f'{path}/{number}/{number}_DICTS.pkl', 'wb') as f:\n",
    "                    pickle.dump(self.state_dicts, f)\n",
    "            else:\n",
    "                print('The file already exists')\n",
    "    \n",
    "    \n",
    "    def predict(\n",
    "        self,\n",
    "        X_te,\n",
    "        y_te,\n",
    "        batch_size,\n",
    "    ):\n",
    "        \"\"\"\n",
    "        Implementation of prediction with the trained model.\n",
    "        \"\"\"\n",
    "        # Tensors\n",
    "        X_te = torch.cuda.FloatTensor(X_te)\n",
    "        y_te = torch.cuda.FloatTensor(y_te)\n",
    "\n",
    "        # Dataset\n",
    "        dataset_te = TensorDataset(X_te, y_te)\n",
    "        \n",
    "        # Loader\n",
    "        loader_te = DataLoader(dataset_te, batch_size=batch_size,)\n",
    "        \n",
    "        # Single epoch\n",
    "        self.epoch_func(0, 'test', loader_te, y_te,)\n",
    "    \n",
    "    \n",
    "    def early_stopping(\n",
    "        self,\n",
    "        epoch,\n",
    "        ratio_treshold_basic = 1.15,\n",
    "        ratio_treshold_first_epochs = 1.50,\n",
    "        first_epochs_number = 50,\n",
    "        constant_tolerance = 5e-4,\n",
    "    ):\n",
    "        \"\"\"\n",
    "        Implementation of the early stopping of the training process.\n",
    "        If loss increases during the serie of iterations of \"serie_length\",\n",
    "        the process halts.\n",
    "        \"\"\"\n",
    "        # Shifting and assigning the last values\n",
    "        self.last_epoch_losses_va_increasing = torch.roll(self.last_epoch_losses_va_increasing, -1, 0)\n",
    "        self.last_epoch_losses_va_constant = torch.roll(self.last_epoch_losses_va_constant, -1, 0)\n",
    "        self.last_epoch_loss_ratios = torch.roll(self.last_epoch_loss_ratios, -1, 0)\n",
    "        \n",
    "        self.last_epoch_losses_va_increasing[-1] = self.epoch_loss_va\n",
    "        self.last_epoch_losses_va_constant[-1] = self.epoch_loss_va\n",
    "        self.last_epoch_loss_ratios[-1] = self.epoch_loss_va / self.epoch_loss_tr\n",
    "        \n",
    "        # Computing the difference array\n",
    "        diff_va = torch.tensor(\n",
    "            [\n",
    "                (\n",
    "                    self.last_epoch_losses_va_increasing[i+1]\n",
    "                    - self.last_epoch_losses_va_increasing[i]\n",
    "                ) for i in np.arange(self.last_epoch_losses_va_increasing.shape[0] - 1)\n",
    "            ]\n",
    "        ).cuda(self.cuda_number)\n",
    "        \n",
    "        # Checking for a zero trend of validation loss\n",
    "        middle = self.last_epoch_losses_va_constant.shape[0] // 2\n",
    "        diff_va_mean = torch.abs(\n",
    "            torch.max(self.last_epoch_losses_va_constant[:middle])\n",
    "            - torch.min(self.last_epoch_losses_va_constant[middle:])\n",
    "        ).cuda(self.cuda_number)\n",
    "        \n",
    "        # Defining the training vs. validation losses ratio threshold\n",
    "        ratio_treshold = ratio_treshold_first_epochs if epoch < first_epochs_number else ratio_treshold_basic\n",
    "        \n",
    "        # Checking the conditions and returning the answer\n",
    "        if (\n",
    "            (\n",
    "                (torch.all(diff_va > 0)) \n",
    "                & (self.epoch_loss_va > self.epoch_loss_tr)\n",
    "            )\n",
    "            | (diff_va_mean < constant_tolerance)\n",
    "            | (torch.all(self.last_epoch_loss_ratios > ratio_treshold))\n",
    "        ):\n",
    "            return True\n",
    "        else:\n",
    "            return False"
   ]
  },
  {
   "cell_type": "markdown",
   "id": "793a61d4",
   "metadata": {},
   "source": [
    "### Metrics and losses"
   ]
  },
  {
   "cell_type": "code",
   "execution_count": 5,
   "id": "29347e22",
   "metadata": {},
   "outputs": [],
   "source": [
    "def torch_accuracy_score(y_pred, y_true, threshold=0.5, cuda_number=0,):\n",
    "    \"\"\"\n",
    "    Accuracy score based on the PyTorch framework.\n",
    "    \"\"\"\n",
    "    y_pred_class = torch.zeros(size=(y_pred.shape[0],), dtype=torch.uint8).cuda(cuda_number)\n",
    "    y_pred_class[y_pred > threshold] = 1\n",
    "    accuracy = torch.eq(y_true.byte(), y_pred_class).sum().item() / y_true.shape[0]\n",
    "    return accuracy"
   ]
  },
  {
   "cell_type": "code",
   "execution_count": 6,
   "id": "1b0620e3",
   "metadata": {},
   "outputs": [],
   "source": [
    "class torch_iou():\n",
    "    \"\"\"\n",
    "    Metric and loss function based on the intersection-of-union (IoU) principle.\n",
    "    \"\"\"\n",
    "    \n",
    "    def __init__(self, y_pred, y_true,):\n",
    "        \"\"\"\n",
    "        Initialization and pre-computation.\n",
    "        \n",
    "        Column order of the input tensors:\n",
    "        xmin ymin xmax ymax\n",
    "        \"\"\"\n",
    "        # Init\n",
    "        self.xmin_pred = y_pred[:, 0]\n",
    "        self.ymin_pred = y_pred[:, 1]\n",
    "        self.xmax_pred = y_pred[:, 2]\n",
    "        self.ymax_pred = y_pred[:, 3]\n",
    "        self.xmin_true = y_true[:, 0]\n",
    "        self.ymin_true = y_true[:, 1]\n",
    "        self.xmax_true = y_true[:, 2]\n",
    "        self.ymax_true = y_true[:, 3]\n",
    "        \n",
    "        self.w_true = self.xmax_true - self.xmin_true\n",
    "        self.h_true = self.ymax_true - self.ymin_true\n",
    "        self.w_pred = self.xmax_pred - self.xmin_pred\n",
    "        self.h_pred = self.ymax_pred - self.ymin_pred\n",
    "        \n",
    "        a_true = self.w_true * self.h_true\n",
    "        a_pred = self.w_pred * self.h_pred\n",
    "        \n",
    "        self.eps = 1e-10\n",
    "        \n",
    "        # Area of overlap (aoo)\n",
    "        aoo = (\n",
    "            (torch.minimum(self.xmax_true, self.xmax_pred) - torch.maximum(self.xmin_true, self.xmin_pred))\n",
    "            * (torch.minimum(self.ymax_true, self.ymax_pred) - torch.maximum(self.ymin_true, self.ymin_pred))\n",
    "        )\n",
    "        \n",
    "        # Area of overlap limitation\n",
    "        aoo_limit = torch.minimum(a_true, a_pred)\n",
    "        aoo[aoo > aoo_limit] = aoo_limit[aoo > aoo_limit]\n",
    "        \n",
    "        # Area of union (aou)\n",
    "        aou = a_true + a_pred - aoo\n",
    "\n",
    "        # Intersection of union\n",
    "        self.iou = torch.clamp(\n",
    "            aoo / (aou + self.eps),\n",
    "            0.,\n",
    "            100.\n",
    "        )\n",
    "    \n",
    "    \n",
    "    def mean_iou_score(self,):\n",
    "        \"\"\"\n",
    "        Mean IoU score function.\n",
    "        Returns scalar, not tensor.\n",
    "        \"\"\"\n",
    "        miou = torch.mean(self.iou, dim=0).item()\n",
    "        return miou\n",
    "    \n",
    "    \n",
    "    def mean_ciou_loss(self,):\n",
    "        \"\"\"\n",
    "        Mean Complete IoU.\n",
    "        The idea had been got from the article on \"arXiv.org\".\n",
    "        \n",
    "        Formula:\n",
    "        \n",
    "        ciou_loss = 1 - iou + diou_term + aspratio_term = \n",
    "        = 1 - iou + (centre_distance / enclosing_box_diag)^2 +\n",
    "        + v^2 / ((1 - iou) + v)\n",
    "        \n",
    "        \"diou_term\" - distance IoU term\n",
    "        \"aspratio_term\" - aspect ratio term\n",
    "        \n",
    "        Computation of these terms is implemented in the final step\n",
    "        to avoid an exceed operation of assignment. This is crucial while\n",
    "        using GPU.\n",
    "        \"\"\"\n",
    "        # distance IoU term\n",
    "        centre_distance = torch.hypot(\n",
    "            ((self.xmin_pred + self.xmax_pred) / 2) - ((self.xmin_true + self.xmax_true) / 2),\n",
    "            ((self.ymin_pred + self.ymax_pred) / 2) - ((self.ymin_true + self.ymax_true) / 2),\n",
    "        )\n",
    "        \n",
    "        enclosing_box_diag = torch.sqrt(\n",
    "            torch.square(\n",
    "                torch.maximum(self.xmax_true, self.xmax_pred) - torch.minimum(self.xmin_true, self.xmin_pred)\n",
    "            )\n",
    "            + torch.square(\n",
    "                torch.maximum(self.ymax_true, self.ymax_pred) - torch.minimum(self.ymin_true, self.ymin_pred)\n",
    "            )\n",
    "        )\n",
    "        \n",
    "        # aspect ratio term\n",
    "        # 4/(pi^2) ~ 0.40528\n",
    "        v = 0.40528 * torch.square(\n",
    "            (\n",
    "                torch.arctan(self.w_true / (self.h_true + self.eps))\n",
    "                - torch.arctan(self.w_pred / (self.h_pred + self.eps))\n",
    "            )\n",
    "        )\n",
    "        \n",
    "        # mean ciou loss\n",
    "        ciou = (\n",
    "            1.0\n",
    "            - self.iou \n",
    "            + torch.clamp(  # diou_term\n",
    "                torch.square(centre_distance / (enclosing_box_diag + self.eps)),\n",
    "                -100.,\n",
    "                100.,\n",
    "            )\n",
    "            + torch.clamp(  # aspratio_term\n",
    "                torch.square(v) / ((1 - self.iou) + v + self.eps),\n",
    "                -100.,\n",
    "                100.,\n",
    "            )\n",
    "        )\n",
    "        \n",
    "        return torch.mean(ciou, dim=0)"
   ]
  },
  {
   "cell_type": "code",
   "execution_count": 7,
   "id": "f7b96240",
   "metadata": {},
   "outputs": [],
   "source": [
    "class BCE_MCIOU_Loss(nn.Module):\n",
    "    \"\"\"\n",
    "    Custom loss function.\n",
    "    \"\"\"\n",
    "    \n",
    "    def __init__(self, class_weights=(1.0, 1.0)):\n",
    "        \"\"\"\n",
    "        Initialization.\n",
    "        \"\"\"\n",
    "        super(BCE_MCIOU_Loss, self,).__init__()\n",
    "        self.class_weights = torch.cuda.FloatTensor(class_weights)\n",
    "        \n",
    "        \n",
    "    def forward(self, y_pred, y_true,):\n",
    "        \"\"\"\n",
    "        Computing the loss.\n",
    "        \"\"\"\n",
    "        # Class weights\n",
    "        # weights = torch.full_like(y_true[:, 0], 0.5, dtype=torch.float)\n",
    "        # weights[y_true[:, 0] == 0] = class_weights[0]\n",
    "        # weights[y_true[:, 0] == 1] = class_weights[1]\n",
    "        \n",
    "        # Dummy for the class weights\n",
    "        weights = 1.\n",
    "        \n",
    "        # BCE loss\n",
    "        bce = -1. * torch.mean(\n",
    "            weights * (\n",
    "                y_true[:, 0] * torch.clamp(torch.log(y_pred[:, 0]), -100., 100.)\n",
    "                + (1 - y_true[:, 0]) * torch.clamp(torch.log(1 - y_pred[:, 0]), -100., 100.)\n",
    "            )\n",
    "        )\n",
    "        \n",
    "        # mCIoU loss\n",
    "        iou = torch_iou(y_pred[:, 1:], y_true[:, 1:])\n",
    "        mciou = iou.mean_ciou_loss()\n",
    "        \n",
    "        # BCE_mCIoU loss\n",
    "        bce_mciou = (bce ** 2 + mciou ** 2) ** 0.5\n",
    "        \n",
    "        return bce_mciou, bce, mciou"
   ]
  },
  {
   "cell_type": "code",
   "execution_count": 8,
   "id": "ae6ae854",
   "metadata": {},
   "outputs": [],
   "source": [
    "def class_weights_func(arr, return_dict=False):\n",
    "    \"\"\"\n",
    "    Computes weights of each class of the array.\n",
    "    Number of classes is the number of unique values.\n",
    "    \"\"\"\n",
    "    classes = np.unique(arr)\n",
    "    weights = np.zeros(classes.shape[0], dtype='float64')\n",
    "    for i in np.arange(classes.shape[0]):\n",
    "        weights[i] = arr[arr == classes[i]].shape[0] / arr.shape[0]\n",
    "    \n",
    "    if return_dict:\n",
    "        weights_dict = {}\n",
    "        for i in np.arange(classes.shape[0]):\n",
    "            weights_dict[classes[i]] = weights[i]\n",
    "        return weights_dict\n",
    "    \n",
    "    return weights"
   ]
  },
  {
   "cell_type": "markdown",
   "id": "1bee8189",
   "metadata": {},
   "source": [
    "## Applying"
   ]
  },
  {
   "cell_type": "markdown",
   "id": "28e3f32a",
   "metadata": {},
   "source": [
    "### Checking up the arrays"
   ]
  },
  {
   "cell_type": "code",
   "execution_count": 9,
   "id": "91ecceed",
   "metadata": {},
   "outputs": [
    {
     "name": "stdout",
     "output_type": "stream",
     "text": [
      "class weights:\n"
     ]
    },
    {
     "data": {
      "text/plain": [
       "array([0.69373109, 0.30626891])"
      ]
     },
     "metadata": {},
     "output_type": "display_data"
    },
    {
     "data": {
      "text/plain": [
       "array([0.69375693, 0.30624307])"
      ]
     },
     "metadata": {},
     "output_type": "display_data"
    },
    {
     "data": {
      "text/plain": [
       "array([0.69372694, 0.30627306])"
      ]
     },
     "metadata": {},
     "output_type": "display_data"
    },
    {
     "data": {
      "text/plain": [
       "array([0.69287469, 0.30712531])"
      ]
     },
     "metadata": {},
     "output_type": "display_data"
    },
    {
     "name": "stdout",
     "output_type": "stream",
     "text": [
      "\n",
      "entire dataset:\n"
     ]
    },
    {
     "data": {
      "text/plain": [
       "(14213, 1, 256, 256)"
      ]
     },
     "metadata": {},
     "output_type": "display_data"
    },
    {
     "data": {
      "text/plain": [
       "(14213, 5)"
      ]
     },
     "metadata": {},
     "output_type": "display_data"
    },
    {
     "name": "stdout",
     "output_type": "stream",
     "text": [
      "\n",
      "train sample:\n"
     ]
    },
    {
     "data": {
      "text/plain": [
       "(13535, 1, 256, 256)"
      ]
     },
     "metadata": {},
     "output_type": "display_data"
    },
    {
     "data": {
      "text/plain": [
       "(13535, 5)"
      ]
     },
     "metadata": {},
     "output_type": "display_data"
    },
    {
     "name": "stdout",
     "output_type": "stream",
     "text": [
      "\n",
      "validation sample:\n"
     ]
    },
    {
     "data": {
      "text/plain": [
       "(271, 1, 256, 256)"
      ]
     },
     "metadata": {},
     "output_type": "display_data"
    },
    {
     "data": {
      "text/plain": [
       "(271, 5)"
      ]
     },
     "metadata": {},
     "output_type": "display_data"
    },
    {
     "name": "stdout",
     "output_type": "stream",
     "text": [
      "\n",
      "test sample:\n"
     ]
    },
    {
     "data": {
      "text/plain": [
       "(407, 1, 256, 256)"
      ]
     },
     "metadata": {},
     "output_type": "display_data"
    },
    {
     "data": {
      "text/plain": [
       "(407, 5)"
      ]
     },
     "metadata": {},
     "output_type": "display_data"
    }
   ],
   "source": [
    "print('class weights:')\n",
    "disp(class_weights_func(images.meta_ready[:, 0]))\n",
    "disp(class_weights_func(images.meta_ready[images.index_tr, 0]))\n",
    "disp(class_weights_func(images.meta_ready[images.index_va, 0]))\n",
    "disp(class_weights_func(images.meta_ready[images.index_te, 0]))\n",
    "print('\\nentire dataset:')\n",
    "disp(images.imgs.shape)\n",
    "disp(images.meta_augment.shape)\n",
    "print('\\ntrain sample:')\n",
    "disp(images.imgs[images.index_tr].shape)\n",
    "disp(images.meta_ready[images.index_tr].shape)\n",
    "print('\\nvalidation sample:')\n",
    "disp(images.imgs[images.index_va].shape)\n",
    "disp(images.meta_ready[images.index_va].shape)\n",
    "print('\\ntest sample:')\n",
    "disp(images.imgs[images.index_te].shape)\n",
    "disp(images.meta_ready[images.index_te].shape)"
   ]
  },
  {
   "cell_type": "code",
   "execution_count": 10,
   "id": "00821ca5",
   "metadata": {},
   "outputs": [
    {
     "data": {
      "text/plain": [
       "array([[1.        , 0.5546875 , 0.28515625, 0.70703125, 0.4296875 ],\n",
       "       [1.        , 0.26953125, 0.2109375 , 0.703125  , 0.58203125],\n",
       "       [1.        , 0.40625   , 0.140625  , 0.77734375, 0.53515625]])"
      ]
     },
     "metadata": {},
     "output_type": "display_data"
    }
   ],
   "source": [
    "disp(images.meta_ready[:3])"
   ]
  },
  {
   "cell_type": "markdown",
   "id": "6a580792",
   "metadata": {},
   "source": [
    "### Initialization"
   ]
  },
  {
   "cell_type": "code",
   "execution_count": 11,
   "id": "4232f430",
   "metadata": {},
   "outputs": [
    {
     "data": {
      "text/plain": [
       "True"
      ]
     },
     "metadata": {},
     "output_type": "display_data"
    },
    {
     "data": {
      "text/plain": [
       "0"
      ]
     },
     "metadata": {},
     "output_type": "display_data"
    }
   ],
   "source": [
    "disp(torch.cuda.is_available())\n",
    "disp(torch.cuda.current_device())"
   ]
  },
  {
   "cell_type": "code",
   "execution_count": 12,
   "id": "886d919d",
   "metadata": {},
   "outputs": [],
   "source": [
    "model = models.resnet50(pretrained=True, progress=False).cuda(torch.cuda.current_device())\n",
    "    \n",
    "for param in model.parameters():\n",
    "    param.requires_grad = False   "
   ]
  },
  {
   "cell_type": "code",
   "execution_count": 13,
   "id": "e0e0ee86",
   "metadata": {},
   "outputs": [],
   "source": [
    "model.fc = nn.Sequential(\n",
    "    nn.Linear(2048, 128),\n",
    "    nn.ReLU(),\n",
    "    nn.Linear(128, 5),\n",
    "    nn.Sigmoid()\n",
    ")"
   ]
  },
  {
   "cell_type": "code",
   "execution_count": 14,
   "id": "b4bfc2e0",
   "metadata": {},
   "outputs": [],
   "source": [
    "trainer = Trainer(\n",
    "    model,\n",
    "    BCE_MCIOU_Loss(class_weights = class_weights_func(images.meta_ready[images.index_tr, 0])),\n",
    ")"
   ]
  },
  {
   "cell_type": "markdown",
   "id": "ba70f583",
   "metadata": {},
   "source": [
    "### Training"
   ]
  },
  {
   "cell_type": "code",
   "execution_count": 15,
   "id": "722cc388",
   "metadata": {},
   "outputs": [
    {
     "name": "stdout",
     "output_type": "stream",
     "text": [
      "The training graph is refreshed every 1 epochs.\n"
     ]
    },
    {
     "data": {
      "image/png": "[encoded data removed]",
      "text/plain": [
       "<Figure size 1440x576 with 2 Axes>"
      ]
     },
     "metadata": {
      "needs_background": "light"
     },
     "output_type": "display_data"
    },
    {
     "name": "stdout",
     "output_type": "stream",
     "text": [
      "[000] wall:   0:51,  loss: 0.618 / 0.695,  acc.: 0.876 / 0.978,  bce_loss: 0.305 / 0.132,  mciou_loss: 0.520 / 0.679,  miou: 0.638 / 0.691  [000]\n",
      "[001] wall:   0:50,  loss: 0.539 / 0.625,  acc.: 0.907 / 0.985,  bce_loss: 0.233 / 0.104,  mciou_loss: 0.467 / 0.612,  miou: 0.684 / 0.714  [001]\n",
      "[002] wall:   0:51,  loss: 0.512 / 0.642,  acc.: 0.913 / 0.985,  bce_loss: 0.215 / 0.104,  mciou_loss: 0.447 / 0.629,  miou: 0.699 / 0.724  [002]\n",
      "[003] wall:   0:51,  loss: 0.496 / 0.609,  acc.: 0.918 / 0.982,  bce_loss: 0.204 / 0.093,  mciou_loss: 0.435 / 0.598,  miou: 0.709 / 0.731  [003]\n",
      "[004] wall:   0:51,  loss: 0.485 / 0.601,  acc.: 0.921 / 0.974,  bce_loss: 0.195 / 0.088,  mciou_loss: 0.428 / 0.590,  miou: 0.714 / 0.728  [004]\n",
      "[005] wall:   0:51,  loss: 0.473 / 0.599,  acc.: 0.925 / 0.982,  bce_loss: 0.187 / 0.092,  mciou_loss: 0.419 / 0.586,  miou: 0.721 / 0.732  [005]\n",
      "[006] wall:   0:51,  loss: 0.464 / 0.590,  acc.: 0.927 / 0.982,  bce_loss: 0.182 / 0.088,  mciou_loss: 0.412 / 0.579,  miou: 0.726 / 0.741  [006]\n",
      "[007] wall:   0:51,  loss: 0.459 / 0.578,  acc.: 0.928 / 0.982,  bce_loss: 0.179 / 0.082,  mciou_loss: 0.408 / 0.567,  miou: 0.728 / 0.738  [007]\n",
      "[008] wall:   0:51,  loss: 0.448 / 0.581,  acc.: 0.931 / 0.974,  bce_loss: 0.171 / 0.085,  mciou_loss: 0.400 / 0.570,  miou: 0.735 / 0.735  [008]\n",
      "[009] wall:   0:51,  loss: 0.442 / 0.602,  acc.: 0.931 / 0.970,  bce_loss: 0.168 / 0.085,  mciou_loss: 0.396 / 0.591,  miou: 0.738 / 0.729  [009]\n",
      "[010] wall:   0:51,  loss: 0.435 / 0.590,  acc.: 0.934 / 0.970,  bce_loss: 0.164 / 0.081,  mciou_loss: 0.390 / 0.579,  miou: 0.743 / 0.734  [010]\n",
      "[011] wall:   0:51,  loss: 0.429 / 0.590,  acc.: 0.935 / 0.974,  bce_loss: 0.160 / 0.081,  mciou_loss: 0.385 / 0.578,  miou: 0.748 / 0.738  [011]\n",
      "========= Training is finished! =========\n",
      "wall total:  10:53\n"
     ]
    }
   ],
   "source": [
    "trainer.fit(\n",
    "    X_tr = images.imgs[images.index_tr],\n",
    "    X_va = images.imgs[images.index_va],\n",
    "    y_tr = images.meta_ready[images.index_tr],\n",
    "    y_va = images.meta_ready[images.index_va],\n",
    "    batch_size = 16,\n",
    "    learning_rate = 1e-3,\n",
    "    optimizer_weight_decay = 0.0,\n",
    "    optim_scheduler_step_size = 25, #50\n",
    "    optim_scheduler_gamma = 0.75, #0.75\n",
    "    epochs = 500,\n",
    "    graph_refreshing_interval = 1,\n",
    ")"
   ]
  },
  {
   "cell_type": "markdown",
   "id": "e6d18252",
   "metadata": {},
   "source": [
    "### Testing"
   ]
  },
  {
   "cell_type": "code",
   "execution_count": 22,
   "id": "846b7387",
   "metadata": {},
   "outputs": [
    {
     "data": {
      "text/plain": [
       "11"
      ]
     },
     "execution_count": 22,
     "metadata": {},
     "output_type": "execute_result"
    }
   ],
   "source": [
    "trainer.find_best_epoch()"
   ]
  },
  {
   "cell_type": "code",
   "execution_count": 23,
   "id": "03c7ff37",
   "metadata": {},
   "outputs": [
    {
     "name": "stdout",
     "output_type": "stream",
     "text": [
      "{'epoch': 11, 'loss_tr': 0.42880655694796965, 'loss_va': 0.5895718073143679, 'acc_tr': 0.934983376431474, 'acc_va': 0.974169741697417, 'loss_bce_tr': 0.15985328963534998, 'loss_bce_va': 0.08120956107535783, 'loss_mciou_tr': 0.385456100335217, 'loss_mciou_va': 0.5777179563746733, 'miou_tr': 0.7476351857185364, 'miou_va': 0.7379422783851624}\n"
     ]
    }
   ],
   "source": [
    "trainer.assign_state_dicts(epoch_from_last_training = trainer.find_best_epoch())"
   ]
  },
  {
   "cell_type": "code",
   "execution_count": 25,
   "id": "e4fbb9b1",
   "metadata": {},
   "outputs": [
    {
     "name": "stdout",
     "output_type": "stream",
     "text": [
      "[test] wall: 1.445s,  inference: 3.549ms,  loss: 0.591,  acc.: 0.973,  miou: 0.726  [test]\n"
     ]
    }
   ],
   "source": [
    "trainer.predict(\n",
    "    X_te = images.imgs[images.index_te],\n",
    "    y_te = images.meta_ready[images.index_te],\n",
    "    batch_size = 16,\n",
    ")"
   ]
  },
  {
   "cell_type": "markdown",
   "id": "b0b35da2",
   "metadata": {},
   "source": [
    "### Saving the results"
   ]
  },
  {
   "cell_type": "code",
   "execution_count": 18,
   "id": "50eaa908",
   "metadata": {},
   "outputs": [],
   "source": [
    "trainer.save_state_dicts(8, name='transfer')"
   ]
  },
  {
   "cell_type": "code",
   "execution_count": 19,
   "id": "950567ba",
   "metadata": {},
   "outputs": [],
   "source": [
    "trainer.save_state_dicts(8, only_best_epoch=True)"
   ]
  },
  {
   "cell_type": "markdown",
   "id": "de649cdc",
   "metadata": {},
   "source": [
    "### Loading the results"
   ]
  },
  {
   "cell_type": "code",
   "execution_count": 30,
   "id": "9d932803",
   "metadata": {},
   "outputs": [],
   "source": [
    "trainer.load_state_dicts(8)"
   ]
  },
  {
   "cell_type": "code",
   "execution_count": 31,
   "id": "326526ab",
   "metadata": {},
   "outputs": [
    {
     "data": {
      "text/plain": [
       "11"
      ]
     },
     "execution_count": 31,
     "metadata": {},
     "output_type": "execute_result"
    }
   ],
   "source": [
    "trainer.find_best_epoch(state_dicts_list=trainer.state_dicts_loaded)"
   ]
  },
  {
   "cell_type": "code",
   "execution_count": 32,
   "id": "5fb87929",
   "metadata": {},
   "outputs": [
    {
     "name": "stdout",
     "output_type": "stream",
     "text": [
      "{'epoch': 11, 'loss_tr': 0.42880655694796965, 'loss_va': 0.5895718073143679, 'acc_tr': 0.934983376431474, 'acc_va': 0.974169741697417, 'loss_bce_tr': 0.15985328963534998, 'loss_bce_va': 0.08120956107535783, 'loss_mciou_tr': 0.385456100335217, 'loss_mciou_va': 0.5777179563746733, 'miou_tr': 0.7476351857185364, 'miou_va': 0.7379422783851624}\n"
     ]
    }
   ],
   "source": [
    "trainer.assign_state_dicts(epoch_from_last_training = 11)"
   ]
  },
  {
   "cell_type": "code",
   "execution_count": 33,
   "id": "01fea71a",
   "metadata": {},
   "outputs": [
    {
     "name": "stdout",
     "output_type": "stream",
     "text": [
      "[test] wall: 1.156s,  inference: 2.840ms,  loss: 0.586,  acc.: 0.973,  miou: 0.726  [test]\n"
     ]
    }
   ],
   "source": [
    "trainer.predict(\n",
    "    X_te = images.imgs[images.index_te],\n",
    "    y_te = images.meta_ready[images.index_te],\n",
    "    batch_size = 50,\n",
    ")"
   ]
  }
 ],
 "metadata": {
  "kernelspec": {
   "display_name": "Python 3",
   "language": "python",
   "name": "python3"
  },
  "language_info": {
   "codemirror_mode": {
    "name": "ipython",
    "version": 3
   },
   "file_extension": ".py",
   "mimetype": "text/x-python",
   "name": "python",
   "nbconvert_exporter": "python",
   "pygments_lexer": "ipython3",
   "version": "3.8.5"
  }
 },
 "nbformat": 4,
 "nbformat_minor": 5
}
